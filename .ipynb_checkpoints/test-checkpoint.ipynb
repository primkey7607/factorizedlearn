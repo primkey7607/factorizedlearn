{
 "cells": [
  {
   "cell_type": "code",
   "execution_count": 1,
   "id": "04d00bcc",
   "metadata": {},
   "outputs": [],
   "source": [
    "from datamarket import *"
   ]
  },
  {
   "cell_type": "code",
   "execution_count": 2,
   "id": "be9e4a2c",
   "metadata": {},
   "outputs": [],
   "source": [
    "# star schema\n",
    "# number of dimensions\n",
    "dimensions = 4\n",
    "# size of each dimension\n",
    "# assume each dimension has one attribute\n",
    "dimensions_size = 20\n",
    "# sparsity of fact table\n",
    "# sparse = 0.3"
   ]
  },
  {
   "cell_type": "code",
   "execution_count": 3,
   "id": "42bb5a38",
   "metadata": {},
   "outputs": [],
   "source": [
    "# 1st dimension is A, 2nd dimension is B, ...\n",
    "def get_dimension_name(d):\n",
    "    return chr(ord('A') + d)\n",
    "\n",
    "def generate_dimension_table(d):\n",
    "    name = get_dimension_name(d)\n",
    "    df = pd.DataFrame()\n",
    "    df[name] = range(dimensions_size)\n",
    "    df[name + \"_att\"] = choices(range(50), k=dimensions_size)\n",
    "    return df"
   ]
  },
  {
   "cell_type": "code",
   "execution_count": 4,
   "id": "c66ad067",
   "metadata": {},
   "outputs": [],
   "source": [
    "dimention_tables = []\n",
    "for i in range(dimensions):\n",
    "    dimention_tables.append(generate_dimension_table(i))\n",
    "\n",
    "fact_table = pd.DataFrame()\n",
    "for d in range(dimensions):\n",
    "    name = get_dimension_name(d)\n",
    "    fact_table[name] = [item for item in range(dimensions_size) for i in range(pow(dimensions_size,d))] * pow(dimensions_size,dimensions - 1 - d)\n",
    "# fact_table = fact_table.sample(frac=sparse, replace=True, random_state=1)\n",
    "\n",
    "# join fact table with dimension tables\n",
    "join_result = None\n",
    "for i in range(dimensions):\n",
    "    if i == 0:\n",
    "        join_result = pd.merge(fact_table, dimention_tables[0])\n",
    "    else:\n",
    "        join_result = pd.merge(join_result, dimention_tables[i])"
   ]
  },
  {
   "cell_type": "code",
   "execution_count": 5,
   "id": "3144f8c0",
   "metadata": {},
   "outputs": [
    {
     "data": {
      "text/html": [
       "<div>\n",
       "<style scoped>\n",
       "    .dataframe tbody tr th:only-of-type {\n",
       "        vertical-align: middle;\n",
       "    }\n",
       "\n",
       "    .dataframe tbody tr th {\n",
       "        vertical-align: top;\n",
       "    }\n",
       "\n",
       "    .dataframe thead th {\n",
       "        text-align: right;\n",
       "    }\n",
       "</style>\n",
       "<table border=\"1\" class=\"dataframe\">\n",
       "  <thead>\n",
       "    <tr style=\"text-align: right;\">\n",
       "      <th></th>\n",
       "      <th>A</th>\n",
       "      <th>B</th>\n",
       "      <th>C</th>\n",
       "      <th>D</th>\n",
       "      <th>A_att</th>\n",
       "      <th>B_att</th>\n",
       "      <th>C_att</th>\n",
       "      <th>D_att</th>\n",
       "    </tr>\n",
       "  </thead>\n",
       "  <tbody>\n",
       "    <tr>\n",
       "      <th>0</th>\n",
       "      <td>0</td>\n",
       "      <td>0</td>\n",
       "      <td>0</td>\n",
       "      <td>0</td>\n",
       "      <td>26</td>\n",
       "      <td>18</td>\n",
       "      <td>29</td>\n",
       "      <td>9</td>\n",
       "    </tr>\n",
       "    <tr>\n",
       "      <th>1</th>\n",
       "      <td>1</td>\n",
       "      <td>0</td>\n",
       "      <td>0</td>\n",
       "      <td>0</td>\n",
       "      <td>28</td>\n",
       "      <td>18</td>\n",
       "      <td>29</td>\n",
       "      <td>9</td>\n",
       "    </tr>\n",
       "    <tr>\n",
       "      <th>2</th>\n",
       "      <td>2</td>\n",
       "      <td>0</td>\n",
       "      <td>0</td>\n",
       "      <td>0</td>\n",
       "      <td>10</td>\n",
       "      <td>18</td>\n",
       "      <td>29</td>\n",
       "      <td>9</td>\n",
       "    </tr>\n",
       "    <tr>\n",
       "      <th>3</th>\n",
       "      <td>3</td>\n",
       "      <td>0</td>\n",
       "      <td>0</td>\n",
       "      <td>0</td>\n",
       "      <td>20</td>\n",
       "      <td>18</td>\n",
       "      <td>29</td>\n",
       "      <td>9</td>\n",
       "    </tr>\n",
       "    <tr>\n",
       "      <th>4</th>\n",
       "      <td>4</td>\n",
       "      <td>0</td>\n",
       "      <td>0</td>\n",
       "      <td>0</td>\n",
       "      <td>26</td>\n",
       "      <td>18</td>\n",
       "      <td>29</td>\n",
       "      <td>9</td>\n",
       "    </tr>\n",
       "    <tr>\n",
       "      <th>...</th>\n",
       "      <td>...</td>\n",
       "      <td>...</td>\n",
       "      <td>...</td>\n",
       "      <td>...</td>\n",
       "      <td>...</td>\n",
       "      <td>...</td>\n",
       "      <td>...</td>\n",
       "      <td>...</td>\n",
       "    </tr>\n",
       "    <tr>\n",
       "      <th>159995</th>\n",
       "      <td>15</td>\n",
       "      <td>19</td>\n",
       "      <td>19</td>\n",
       "      <td>19</td>\n",
       "      <td>21</td>\n",
       "      <td>48</td>\n",
       "      <td>49</td>\n",
       "      <td>9</td>\n",
       "    </tr>\n",
       "    <tr>\n",
       "      <th>159996</th>\n",
       "      <td>16</td>\n",
       "      <td>19</td>\n",
       "      <td>19</td>\n",
       "      <td>19</td>\n",
       "      <td>1</td>\n",
       "      <td>48</td>\n",
       "      <td>49</td>\n",
       "      <td>9</td>\n",
       "    </tr>\n",
       "    <tr>\n",
       "      <th>159997</th>\n",
       "      <td>17</td>\n",
       "      <td>19</td>\n",
       "      <td>19</td>\n",
       "      <td>19</td>\n",
       "      <td>47</td>\n",
       "      <td>48</td>\n",
       "      <td>49</td>\n",
       "      <td>9</td>\n",
       "    </tr>\n",
       "    <tr>\n",
       "      <th>159998</th>\n",
       "      <td>18</td>\n",
       "      <td>19</td>\n",
       "      <td>19</td>\n",
       "      <td>19</td>\n",
       "      <td>12</td>\n",
       "      <td>48</td>\n",
       "      <td>49</td>\n",
       "      <td>9</td>\n",
       "    </tr>\n",
       "    <tr>\n",
       "      <th>159999</th>\n",
       "      <td>19</td>\n",
       "      <td>19</td>\n",
       "      <td>19</td>\n",
       "      <td>19</td>\n",
       "      <td>44</td>\n",
       "      <td>48</td>\n",
       "      <td>49</td>\n",
       "      <td>9</td>\n",
       "    </tr>\n",
       "  </tbody>\n",
       "</table>\n",
       "<p>160000 rows × 8 columns</p>\n",
       "</div>"
      ],
      "text/plain": [
       "         A   B   C   D  A_att  B_att  C_att  D_att\n",
       "0        0   0   0   0     26     18     29      9\n",
       "1        1   0   0   0     28     18     29      9\n",
       "2        2   0   0   0     10     18     29      9\n",
       "3        3   0   0   0     20     18     29      9\n",
       "4        4   0   0   0     26     18     29      9\n",
       "...     ..  ..  ..  ..    ...    ...    ...    ...\n",
       "159995  15  19  19  19     21     48     49      9\n",
       "159996  16  19  19  19      1     48     49      9\n",
       "159997  17  19  19  19     47     48     49      9\n",
       "159998  18  19  19  19     12     48     49      9\n",
       "159999  19  19  19  19     44     48     49      9\n",
       "\n",
       "[160000 rows x 8 columns]"
      ]
     },
     "execution_count": 5,
     "metadata": {},
     "output_type": "execute_result"
    }
   ],
   "source": [
    "join_result"
   ]
  },
  {
   "cell_type": "code",
   "execution_count": 9,
   "id": "49318071",
   "metadata": {},
   "outputs": [
    {
     "data": {
      "text/html": [
       "<div>\n",
       "<style scoped>\n",
       "    .dataframe tbody tr th:only-of-type {\n",
       "        vertical-align: middle;\n",
       "    }\n",
       "\n",
       "    .dataframe tbody tr th {\n",
       "        vertical-align: top;\n",
       "    }\n",
       "\n",
       "    .dataframe thead th {\n",
       "        text-align: right;\n",
       "    }\n",
       "</style>\n",
       "<table border=\"1\" class=\"dataframe\">\n",
       "  <thead>\n",
       "    <tr style=\"text-align: right;\">\n",
       "      <th></th>\n",
       "      <th>A</th>\n",
       "      <th>B</th>\n",
       "      <th>C</th>\n",
       "      <th>D</th>\n",
       "      <th>A_att</th>\n",
       "      <th>B_att</th>\n",
       "      <th>C_att</th>\n",
       "      <th>D_att</th>\n",
       "      <th>result</th>\n",
       "    </tr>\n",
       "  </thead>\n",
       "  <tbody>\n",
       "    <tr>\n",
       "      <th>0</th>\n",
       "      <td>0</td>\n",
       "      <td>0</td>\n",
       "      <td>0</td>\n",
       "      <td>0</td>\n",
       "      <td>26</td>\n",
       "      <td>18</td>\n",
       "      <td>29</td>\n",
       "      <td>9</td>\n",
       "      <td>1922</td>\n",
       "    </tr>\n",
       "    <tr>\n",
       "      <th>1</th>\n",
       "      <td>1</td>\n",
       "      <td>0</td>\n",
       "      <td>0</td>\n",
       "      <td>0</td>\n",
       "      <td>28</td>\n",
       "      <td>18</td>\n",
       "      <td>29</td>\n",
       "      <td>9</td>\n",
       "      <td>2030</td>\n",
       "    </tr>\n",
       "    <tr>\n",
       "      <th>2</th>\n",
       "      <td>2</td>\n",
       "      <td>0</td>\n",
       "      <td>0</td>\n",
       "      <td>0</td>\n",
       "      <td>10</td>\n",
       "      <td>18</td>\n",
       "      <td>29</td>\n",
       "      <td>9</td>\n",
       "      <td>1346</td>\n",
       "    </tr>\n",
       "    <tr>\n",
       "      <th>3</th>\n",
       "      <td>3</td>\n",
       "      <td>0</td>\n",
       "      <td>0</td>\n",
       "      <td>0</td>\n",
       "      <td>20</td>\n",
       "      <td>18</td>\n",
       "      <td>29</td>\n",
       "      <td>9</td>\n",
       "      <td>1646</td>\n",
       "    </tr>\n",
       "    <tr>\n",
       "      <th>4</th>\n",
       "      <td>4</td>\n",
       "      <td>0</td>\n",
       "      <td>0</td>\n",
       "      <td>0</td>\n",
       "      <td>26</td>\n",
       "      <td>18</td>\n",
       "      <td>29</td>\n",
       "      <td>9</td>\n",
       "      <td>1922</td>\n",
       "    </tr>\n",
       "    <tr>\n",
       "      <th>...</th>\n",
       "      <td>...</td>\n",
       "      <td>...</td>\n",
       "      <td>...</td>\n",
       "      <td>...</td>\n",
       "      <td>...</td>\n",
       "      <td>...</td>\n",
       "      <td>...</td>\n",
       "      <td>...</td>\n",
       "      <td>...</td>\n",
       "    </tr>\n",
       "    <tr>\n",
       "      <th>159995</th>\n",
       "      <td>15</td>\n",
       "      <td>19</td>\n",
       "      <td>19</td>\n",
       "      <td>19</td>\n",
       "      <td>21</td>\n",
       "      <td>48</td>\n",
       "      <td>49</td>\n",
       "      <td>9</td>\n",
       "      <td>5227</td>\n",
       "    </tr>\n",
       "    <tr>\n",
       "      <th>159996</th>\n",
       "      <td>16</td>\n",
       "      <td>19</td>\n",
       "      <td>19</td>\n",
       "      <td>19</td>\n",
       "      <td>1</td>\n",
       "      <td>48</td>\n",
       "      <td>49</td>\n",
       "      <td>9</td>\n",
       "      <td>4787</td>\n",
       "    </tr>\n",
       "    <tr>\n",
       "      <th>159997</th>\n",
       "      <td>17</td>\n",
       "      <td>19</td>\n",
       "      <td>19</td>\n",
       "      <td>19</td>\n",
       "      <td>47</td>\n",
       "      <td>48</td>\n",
       "      <td>49</td>\n",
       "      <td>9</td>\n",
       "      <td>6995</td>\n",
       "    </tr>\n",
       "    <tr>\n",
       "      <th>159998</th>\n",
       "      <td>18</td>\n",
       "      <td>19</td>\n",
       "      <td>19</td>\n",
       "      <td>19</td>\n",
       "      <td>12</td>\n",
       "      <td>48</td>\n",
       "      <td>49</td>\n",
       "      <td>9</td>\n",
       "      <td>4930</td>\n",
       "    </tr>\n",
       "    <tr>\n",
       "      <th>159999</th>\n",
       "      <td>19</td>\n",
       "      <td>19</td>\n",
       "      <td>19</td>\n",
       "      <td>19</td>\n",
       "      <td>44</td>\n",
       "      <td>48</td>\n",
       "      <td>49</td>\n",
       "      <td>9</td>\n",
       "      <td>6722</td>\n",
       "    </tr>\n",
       "  </tbody>\n",
       "</table>\n",
       "<p>160000 rows × 9 columns</p>\n",
       "</div>"
      ],
      "text/plain": [
       "         A   B   C   D  A_att  B_att  C_att  D_att  result\n",
       "0        0   0   0   0     26     18     29      9    1922\n",
       "1        1   0   0   0     28     18     29      9    2030\n",
       "2        2   0   0   0     10     18     29      9    1346\n",
       "3        3   0   0   0     20     18     29      9    1646\n",
       "4        4   0   0   0     26     18     29      9    1922\n",
       "...     ..  ..  ..  ..    ...    ...    ...    ...     ...\n",
       "159995  15  19  19  19     21     48     49      9    5227\n",
       "159996  16  19  19  19      1     48     49      9    4787\n",
       "159997  17  19  19  19     47     48     49      9    6995\n",
       "159998  18  19  19  19     12     48     49      9    4930\n",
       "159999  19  19  19  19     44     48     49      9    6722\n",
       "\n",
       "[160000 rows x 9 columns]"
      ]
     },
     "execution_count": 9,
     "metadata": {},
     "output_type": "execute_result"
    }
   ],
   "source": [
    "join_result[\"result\"] = 0\n",
    "for i in range(dimensions):\n",
    "    name = get_dimension_name(i)\n",
    "    join_result[\"result\"] += join_result[name + \"_att\"] * join_result[name + \"_att\"]\n",
    "join_result"
   ]
  },
  {
   "cell_type": "code",
   "execution_count": null,
   "id": "e2c344b7",
   "metadata": {},
   "outputs": [],
   "source": []
  },
  {
   "cell_type": "code",
   "execution_count": 5,
   "id": "5bdae39a",
   "metadata": {},
   "outputs": [
    {
     "name": "stdout",
     "output_type": "stream",
     "text": [
      "[31, 23, 43, 27] [38]\n"
     ]
    },
    {
     "data": {
      "text/html": [
       "<div>\n",
       "<style scoped>\n",
       "    .dataframe tbody tr th:only-of-type {\n",
       "        vertical-align: middle;\n",
       "    }\n",
       "\n",
       "    .dataframe tbody tr th {\n",
       "        vertical-align: top;\n",
       "    }\n",
       "\n",
       "    .dataframe thead th {\n",
       "        text-align: right;\n",
       "    }\n",
       "</style>\n",
       "<table border=\"1\" class=\"dataframe\">\n",
       "  <thead>\n",
       "    <tr style=\"text-align: right;\">\n",
       "      <th></th>\n",
       "      <th>A</th>\n",
       "      <th>B</th>\n",
       "      <th>C</th>\n",
       "      <th>D</th>\n",
       "      <th>A_att</th>\n",
       "      <th>B_att</th>\n",
       "      <th>C_att</th>\n",
       "      <th>D_att</th>\n",
       "      <th>result</th>\n",
       "    </tr>\n",
       "  </thead>\n",
       "  <tbody>\n",
       "    <tr>\n",
       "      <th>0</th>\n",
       "      <td>0</td>\n",
       "      <td>0</td>\n",
       "      <td>0</td>\n",
       "      <td>0</td>\n",
       "      <td>9</td>\n",
       "      <td>45</td>\n",
       "      <td>22</td>\n",
       "      <td>47</td>\n",
       "      <td>3567</td>\n",
       "    </tr>\n",
       "    <tr>\n",
       "      <th>1</th>\n",
       "      <td>1</td>\n",
       "      <td>0</td>\n",
       "      <td>0</td>\n",
       "      <td>0</td>\n",
       "      <td>28</td>\n",
       "      <td>45</td>\n",
       "      <td>22</td>\n",
       "      <td>47</td>\n",
       "      <td>4156</td>\n",
       "    </tr>\n",
       "    <tr>\n",
       "      <th>2</th>\n",
       "      <td>2</td>\n",
       "      <td>0</td>\n",
       "      <td>0</td>\n",
       "      <td>0</td>\n",
       "      <td>36</td>\n",
       "      <td>45</td>\n",
       "      <td>22</td>\n",
       "      <td>47</td>\n",
       "      <td>4404</td>\n",
       "    </tr>\n",
       "    <tr>\n",
       "      <th>3</th>\n",
       "      <td>3</td>\n",
       "      <td>0</td>\n",
       "      <td>0</td>\n",
       "      <td>0</td>\n",
       "      <td>43</td>\n",
       "      <td>45</td>\n",
       "      <td>22</td>\n",
       "      <td>47</td>\n",
       "      <td>4621</td>\n",
       "    </tr>\n",
       "    <tr>\n",
       "      <th>4</th>\n",
       "      <td>4</td>\n",
       "      <td>0</td>\n",
       "      <td>0</td>\n",
       "      <td>0</td>\n",
       "      <td>25</td>\n",
       "      <td>45</td>\n",
       "      <td>22</td>\n",
       "      <td>47</td>\n",
       "      <td>4063</td>\n",
       "    </tr>\n",
       "    <tr>\n",
       "      <th>...</th>\n",
       "      <td>...</td>\n",
       "      <td>...</td>\n",
       "      <td>...</td>\n",
       "      <td>...</td>\n",
       "      <td>...</td>\n",
       "      <td>...</td>\n",
       "      <td>...</td>\n",
       "      <td>...</td>\n",
       "      <td>...</td>\n",
       "    </tr>\n",
       "    <tr>\n",
       "      <th>159995</th>\n",
       "      <td>15</td>\n",
       "      <td>19</td>\n",
       "      <td>19</td>\n",
       "      <td>19</td>\n",
       "      <td>13</td>\n",
       "      <td>32</td>\n",
       "      <td>24</td>\n",
       "      <td>46</td>\n",
       "      <td>3451</td>\n",
       "    </tr>\n",
       "    <tr>\n",
       "      <th>159996</th>\n",
       "      <td>16</td>\n",
       "      <td>19</td>\n",
       "      <td>19</td>\n",
       "      <td>19</td>\n",
       "      <td>10</td>\n",
       "      <td>32</td>\n",
       "      <td>24</td>\n",
       "      <td>46</td>\n",
       "      <td>3358</td>\n",
       "    </tr>\n",
       "    <tr>\n",
       "      <th>159997</th>\n",
       "      <td>17</td>\n",
       "      <td>19</td>\n",
       "      <td>19</td>\n",
       "      <td>19</td>\n",
       "      <td>15</td>\n",
       "      <td>32</td>\n",
       "      <td>24</td>\n",
       "      <td>46</td>\n",
       "      <td>3513</td>\n",
       "    </tr>\n",
       "    <tr>\n",
       "      <th>159998</th>\n",
       "      <td>18</td>\n",
       "      <td>19</td>\n",
       "      <td>19</td>\n",
       "      <td>19</td>\n",
       "      <td>14</td>\n",
       "      <td>32</td>\n",
       "      <td>24</td>\n",
       "      <td>46</td>\n",
       "      <td>3482</td>\n",
       "    </tr>\n",
       "    <tr>\n",
       "      <th>159999</th>\n",
       "      <td>19</td>\n",
       "      <td>19</td>\n",
       "      <td>19</td>\n",
       "      <td>19</td>\n",
       "      <td>37</td>\n",
       "      <td>32</td>\n",
       "      <td>24</td>\n",
       "      <td>46</td>\n",
       "      <td>4195</td>\n",
       "    </tr>\n",
       "  </tbody>\n",
       "</table>\n",
       "<p>160000 rows × 9 columns</p>\n",
       "</div>"
      ],
      "text/plain": [
       "         A   B   C   D  A_att  B_att  C_att  D_att  result\n",
       "0        0   0   0   0      9     45     22     47    3567\n",
       "1        1   0   0   0     28     45     22     47    4156\n",
       "2        2   0   0   0     36     45     22     47    4404\n",
       "3        3   0   0   0     43     45     22     47    4621\n",
       "4        4   0   0   0     25     45     22     47    4063\n",
       "...     ..  ..  ..  ..    ...    ...    ...    ...     ...\n",
       "159995  15  19  19  19     13     32     24     46    3451\n",
       "159996  16  19  19  19     10     32     24     46    3358\n",
       "159997  17  19  19  19     15     32     24     46    3513\n",
       "159998  18  19  19  19     14     32     24     46    3482\n",
       "159999  19  19  19  19     37     32     24     46    4195\n",
       "\n",
       "[160000 rows x 9 columns]"
      ]
     },
     "execution_count": 5,
     "metadata": {},
     "output_type": "execute_result"
    }
   ],
   "source": [
    "# randomly generated coefficients as ground truth\n",
    "coefficients = choices(range(50), k=dimensions)\n",
    "constant = choices(range(50), k=1)\n",
    "print(coefficients, constant)\n",
    "\n",
    "join_result[\"result\"] = constant[0]\n",
    "for i in range(dimensions):\n",
    "    name = get_dimension_name(i)\n",
    "    join_result[\"result\"] += coefficients[i] * join_result[name + \"_att\"]\n",
    "join_result"
   ]
  },
  {
   "cell_type": "code",
   "execution_count": 62,
   "id": "a0f953cf",
   "metadata": {},
   "outputs": [
    {
     "data": {
      "text/html": [
       "<div>\n",
       "<style scoped>\n",
       "    .dataframe tbody tr th:only-of-type {\n",
       "        vertical-align: middle;\n",
       "    }\n",
       "\n",
       "    .dataframe tbody tr th {\n",
       "        vertical-align: top;\n",
       "    }\n",
       "\n",
       "    .dataframe thead th {\n",
       "        text-align: right;\n",
       "    }\n",
       "</style>\n",
       "<table border=\"1\" class=\"dataframe\">\n",
       "  <thead>\n",
       "    <tr style=\"text-align: right;\">\n",
       "      <th></th>\n",
       "      <th>A</th>\n",
       "      <th>B</th>\n",
       "      <th>C</th>\n",
       "      <th>D</th>\n",
       "      <th>B_att</th>\n",
       "      <th>C_att</th>\n",
       "      <th>D_att</th>\n",
       "      <th>result</th>\n",
       "    </tr>\n",
       "  </thead>\n",
       "  <tbody>\n",
       "    <tr>\n",
       "      <th>0</th>\n",
       "      <td>0</td>\n",
       "      <td>0</td>\n",
       "      <td>0</td>\n",
       "      <td>0</td>\n",
       "      <td>3</td>\n",
       "      <td>14</td>\n",
       "      <td>16</td>\n",
       "      <td>1840</td>\n",
       "    </tr>\n",
       "    <tr>\n",
       "      <th>1</th>\n",
       "      <td>1</td>\n",
       "      <td>0</td>\n",
       "      <td>0</td>\n",
       "      <td>0</td>\n",
       "      <td>3</td>\n",
       "      <td>14</td>\n",
       "      <td>16</td>\n",
       "      <td>2764</td>\n",
       "    </tr>\n",
       "    <tr>\n",
       "      <th>2</th>\n",
       "      <td>2</td>\n",
       "      <td>0</td>\n",
       "      <td>0</td>\n",
       "      <td>0</td>\n",
       "      <td>3</td>\n",
       "      <td>14</td>\n",
       "      <td>16</td>\n",
       "      <td>2512</td>\n",
       "    </tr>\n",
       "    <tr>\n",
       "      <th>3</th>\n",
       "      <td>3</td>\n",
       "      <td>0</td>\n",
       "      <td>0</td>\n",
       "      <td>0</td>\n",
       "      <td>3</td>\n",
       "      <td>14</td>\n",
       "      <td>16</td>\n",
       "      <td>1504</td>\n",
       "    </tr>\n",
       "    <tr>\n",
       "      <th>4</th>\n",
       "      <td>4</td>\n",
       "      <td>0</td>\n",
       "      <td>0</td>\n",
       "      <td>0</td>\n",
       "      <td>3</td>\n",
       "      <td>14</td>\n",
       "      <td>16</td>\n",
       "      <td>2680</td>\n",
       "    </tr>\n",
       "    <tr>\n",
       "      <th>...</th>\n",
       "      <td>...</td>\n",
       "      <td>...</td>\n",
       "      <td>...</td>\n",
       "      <td>...</td>\n",
       "      <td>...</td>\n",
       "      <td>...</td>\n",
       "      <td>...</td>\n",
       "      <td>...</td>\n",
       "    </tr>\n",
       "    <tr>\n",
       "      <th>159995</th>\n",
       "      <td>15</td>\n",
       "      <td>19</td>\n",
       "      <td>19</td>\n",
       "      <td>19</td>\n",
       "      <td>22</td>\n",
       "      <td>43</td>\n",
       "      <td>8</td>\n",
       "      <td>4941</td>\n",
       "    </tr>\n",
       "    <tr>\n",
       "      <th>159996</th>\n",
       "      <td>16</td>\n",
       "      <td>19</td>\n",
       "      <td>19</td>\n",
       "      <td>19</td>\n",
       "      <td>22</td>\n",
       "      <td>43</td>\n",
       "      <td>8</td>\n",
       "      <td>4227</td>\n",
       "    </tr>\n",
       "    <tr>\n",
       "      <th>159997</th>\n",
       "      <td>17</td>\n",
       "      <td>19</td>\n",
       "      <td>19</td>\n",
       "      <td>19</td>\n",
       "      <td>22</td>\n",
       "      <td>43</td>\n",
       "      <td>8</td>\n",
       "      <td>4983</td>\n",
       "    </tr>\n",
       "    <tr>\n",
       "      <th>159998</th>\n",
       "      <td>18</td>\n",
       "      <td>19</td>\n",
       "      <td>19</td>\n",
       "      <td>19</td>\n",
       "      <td>22</td>\n",
       "      <td>43</td>\n",
       "      <td>8</td>\n",
       "      <td>5025</td>\n",
       "    </tr>\n",
       "    <tr>\n",
       "      <th>159999</th>\n",
       "      <td>19</td>\n",
       "      <td>19</td>\n",
       "      <td>19</td>\n",
       "      <td>19</td>\n",
       "      <td>22</td>\n",
       "      <td>43</td>\n",
       "      <td>8</td>\n",
       "      <td>3093</td>\n",
       "    </tr>\n",
       "  </tbody>\n",
       "</table>\n",
       "<p>160000 rows × 8 columns</p>\n",
       "</div>"
      ],
      "text/plain": [
       "         A   B   C   D  B_att  C_att  D_att  result\n",
       "0        0   0   0   0      3     14     16    1840\n",
       "1        1   0   0   0      3     14     16    2764\n",
       "2        2   0   0   0      3     14     16    2512\n",
       "3        3   0   0   0      3     14     16    1504\n",
       "4        4   0   0   0      3     14     16    2680\n",
       "...     ..  ..  ..  ..    ...    ...    ...     ...\n",
       "159995  15  19  19  19     22     43      8    4941\n",
       "159996  16  19  19  19     22     43      8    4227\n",
       "159997  17  19  19  19     22     43      8    4983\n",
       "159998  18  19  19  19     22     43      8    5025\n",
       "159999  19  19  19  19     22     43      8    3093\n",
       "\n",
       "[160000 rows x 8 columns]"
      ]
     },
     "execution_count": 62,
     "metadata": {},
     "output_type": "execute_result"
    }
   ],
   "source": [
    "join_result = join_result.loc[:, join_result.columns != 'A_att']\n",
    "join_result"
   ]
  },
  {
   "cell_type": "code",
   "execution_count": 92,
   "id": "38c70439",
   "metadata": {},
   "outputs": [],
   "source": [
    "# repeat dimensional table multiple times\n",
    "dup = 4\n",
    "aug = dimention_tables[0].append([dimention_tables[0]]*dup,ignore_index=True)"
   ]
  },
  {
   "cell_type": "code",
   "execution_count": null,
   "id": "61502e96",
   "metadata": {},
   "outputs": [],
   "source": []
  },
  {
   "cell_type": "code",
   "execution_count": 71,
   "id": "17ac63ca",
   "metadata": {},
   "outputs": [
    {
     "name": "stderr",
     "output_type": "stream",
     "text": [
      "/home/jupyter/arda/arda-datasets/school/datamarket.py:140: SettingWithCopyWarning: \n",
      "A value is trying to be set on a copy of a slice from a DataFrame.\n",
      "Try using .loc[row_indexer,col_indexer] = value instead\n",
      "\n",
      "See the caveats in the documentation: https://pandas.pydata.org/pandas-docs/stable/user_guide/indexing.html#returning-a-view-versus-a-copy\n",
      "  self.data[att] = pd.to_numeric(self.data[att],errors=\"coerce\")\n"
     ]
    }
   ],
   "source": [
    "test = agg_dataset()\n",
    "test.load_buyer(join_result, [get_dimension_name(i) + \"_att\" for i in range(1,dimensions-1)], \"result\", [get_dimension_name(i) for i in range(dimensions-1)], \"test\")\n",
    "test.compute_agg()"
   ]
  },
  {
   "cell_type": "code",
   "execution_count": 93,
   "id": "c5cb4931",
   "metadata": {},
   "outputs": [
    {
     "name": "stderr",
     "output_type": "stream",
     "text": [
      "/home/jupyter/arda/arda-datasets/school/datamarket.py:157: SettingWithCopyWarning: \n",
      "A value is trying to be set on a copy of a slice from a DataFrame.\n",
      "Try using .loc[row_indexer,col_indexer] = value instead\n",
      "\n",
      "See the caveats in the documentation: https://pandas.pydata.org/pandas-docs/stable/user_guide/indexing.html#returning-a-view-versus-a-copy\n",
      "  self.data['cov:c'] = 1\n",
      "/home/jupyter/arda/arda-datasets/school/datamarket.py:161: SettingWithCopyWarning: \n",
      "A value is trying to be set on a copy of a slice from a DataFrame.\n",
      "Try using .loc[row_indexer,col_indexer] = value instead\n",
      "\n",
      "See the caveats in the documentation: https://pandas.pydata.org/pandas-docs/stable/user_guide/indexing.html#returning-a-view-versus-a-copy\n",
      "  self.data['cov:Q:' + tablename + \":\" + attributes[i] + \",\"+ tablename + \":\" + attributes[j]] = self.data[attributes[i]] * self.data[attributes[j]]\n"
     ]
    }
   ],
   "source": [
    "dima = agg_dataset()\n",
    "dima.load_seller(aug, [\"A\"], \"A\",False)\n",
    "dima.compute_agg(True)"
   ]
  },
  {
   "cell_type": "code",
   "execution_count": 66,
   "id": "9e89704d",
   "metadata": {},
   "outputs": [],
   "source": [
    "def connect(aggdata1, aggdata2, dimension, left_inp = False, right_attrs = []):\n",
    "    \n",
    "    if isinstance(dimension, list):\n",
    "        dimension = tuple(dimension)\n",
    "    \n",
    "    if left_inp:\n",
    "        agg1 = aggdata1.data\n",
    "    else:\n",
    "        agg1 = aggdata1.agg_dimensions[dimension]\n",
    "        \n",
    "    agg2 = aggdata2.agg_dimensions[dimension]\n",
    "    \n",
    "    left_attributes = aggdata1.X\n",
    "    left_tablename = aggdata1.name\n",
    "    right_attributes = aggdata2.X\n",
    "    right_tablename = aggdata2.name\n",
    "    \n",
    "    if len(right_attrs) > 0:\n",
    "        kept_cols = []\n",
    "        for col in agg2.columns:\n",
    "            names = col[6:].split(\",\")\n",
    "            match = True\n",
    "            for name in names:\n",
    "                if name not in right_attrs:\n",
    "                    match = False\n",
    "            if match:\n",
    "                kept_cols.append(col)\n",
    "        agg2 = agg2[kept_cols + ['cov:c']]\n",
    "        right_attributes = right_attrs\n",
    "    \n",
    "    \n",
    "    if left_inp:\n",
    "        join = pd.merge(agg1, agg2.loc[:, agg2.columns != 'cov:c'], how='left', left_on=dimension, right_index=True)\n",
    "    else:\n",
    "        join = pd.merge(agg1, agg2.loc[:, agg2.columns != 'cov:c'], how='left', left_index=True, right_index=True)\n",
    "#         join = pd.merge(agg1, agg2, how='inner', left_index=True, right_index=True)\n",
    "#     join = join.drop('cov:c_y', 1)\n",
    "#     join = join.rename(columns = {'cov:c_x':'cov:c'})\n",
    "    \n",
    "    right_cov = aggdata2.covariance\n",
    "\n",
    "    \n",
    "    # fill in nan\n",
    "    for att2 in right_attributes:\n",
    "        join['cov:s:' + att2].fillna(value=right_cov['cov:s:' + att2], inplace=True)\n",
    "        join['cov:s:' + att2] *= join['cov:c']\n",
    "    \n",
    "    for i in range(len(right_attributes)):\n",
    "        for j in range(i, len(right_attributes)):\n",
    "            if 'cov:Q:' + right_attributes[i] + \",\" + right_attributes[j] in join:\n",
    "                join['cov:Q:' + right_attributes[i] + \",\" + right_attributes[j]].fillna(value=right_cov['cov:Q:' + right_attributes[i] + \",\" + right_attributes[j]], inplace=True)\n",
    "                join['cov:Q:' + right_attributes[i] + \",\" + right_attributes[j]] *= join['cov:c']\n",
    "            else:\n",
    "                join['cov:Q:' + right_attributes[j] + \",\" + right_attributes[i]].fillna(value=right_cov['cov:Q:' + right_attributes[j] + \",\" + right_attributes[i]], inplace=True)\n",
    "                join['cov:Q:' + right_attributes[j] + \",\" + right_attributes[i]] *= join['cov:c']\n",
    "            \n",
    "    \n",
    "    \n",
    "    for att1 in left_attributes:\n",
    "        for att2 in right_attributes:\n",
    "            if 'cov:Q:' + att1 + \",\" + att2 in join:\n",
    "                join['cov:Q:' + att1 + \",\" + att2] = join['cov:s:' + att1] * join['cov:s:' + att2]/join['cov:c']\n",
    "            else:\n",
    "                join['cov:Q:' + att2 + \",\" + att1] = join['cov:s:' + att2] * join['cov:s:' + att1]/join['cov:c']\n",
    "    \n",
    "    \n",
    "    return join"
   ]
  },
  {
   "cell_type": "code",
   "execution_count": 95,
   "id": "ef44c364",
   "metadata": {},
   "outputs": [
    {
     "name": "stdout",
     "output_type": "stream",
     "text": [
      "CPU times: user 10.5 ms, sys: 2.85 ms, total: 13.3 ms\n",
      "Wall time: 11 ms\n"
     ]
    },
    {
     "data": {
      "text/plain": [
       "0.9957306245485813"
      ]
     },
     "execution_count": 95,
     "metadata": {},
     "output_type": "execute_result"
    }
   ],
   "source": [
    "%%time\n",
    "join_test = connect(test, dima, \"A\")\n",
    "join_test_cov = join_test.sum()\n",
    "parameter = linear_regression(join_test_cov,[\"A:A_att\"] + [\"test:\" + get_dimension_name(i) + \"_att\" for i in range(1, dimensions-1)], \"test:result\")\n",
    "r2(join_test_cov, [\"A:A_att\"] + [\"test:\" + get_dimension_name(i) + \"_att\" for i in range(1, dimensions-1)],\"test:result\", parameter)"
   ]
  },
  {
   "cell_type": "code",
   "execution_count": null,
   "id": "8949f584",
   "metadata": {},
   "outputs": [],
   "source": []
  },
  {
   "cell_type": "code",
   "execution_count": 98,
   "id": "5e618f90",
   "metadata": {},
   "outputs": [
    {
     "name": "stdout",
     "output_type": "stream",
     "text": [
      "CPU times: user 212 ms, sys: 128 ms, total: 340 ms\n",
      "Wall time: 266 ms\n"
     ]
    },
    {
     "data": {
      "text/plain": [
       "0.9957306245485857"
      ]
     },
     "execution_count": 98,
     "metadata": {},
     "output_type": "execute_result"
    }
   ],
   "source": [
    "%%time\n",
    "join_naive = pd.merge(join_result, aug, how='inner', left_on = 'A', right_on = 'A')\n",
    "reg = LinearRegression().fit(join_naive[[get_dimension_name(i) + \"_att\" for i in range(dimensions-1)]], join_naive[[\"result\"]])\n",
    "r2_score(join_naive[[\"result\"]],reg.predict(join_naive[[get_dimension_name(i) + \"_att\" for i in range(dimensions-1)]]))"
   ]
  },
  {
   "cell_type": "code",
   "execution_count": 38,
   "id": "42add052",
   "metadata": {},
   "outputs": [],
   "source": [
    "# repeat dimensional table multiple times\n",
    "dup = 4\n",
    "aug_join = join_result.append([join_result]*dup,ignore_index=True)"
   ]
  },
  {
   "cell_type": "code",
   "execution_count": 43,
   "id": "dd5ff22e",
   "metadata": {},
   "outputs": [
    {
     "name": "stdout",
     "output_type": "stream",
     "text": [
      "CPU times: user 161 ms, sys: 116 ms, total: 277 ms\n",
      "Wall time: 184 ms\n"
     ]
    },
    {
     "data": {
      "text/plain": [
       "0.8200446120838962"
      ]
     },
     "execution_count": 43,
     "metadata": {},
     "output_type": "execute_result"
    }
   ],
   "source": [
    "%%time\n",
    "reg = LinearRegression().fit(aug_join[[get_dimension_name(i) + \"_att\" for i in range(dimensions-1)]], aug_join[[\"result\"]])\n",
    "r2_score(aug_join[[\"result\"]],reg.predict(aug_join[[get_dimension_name(i) + \"_att\" for i in range(dimensions-1)]]))"
   ]
  },
  {
   "cell_type": "code",
   "execution_count": 23,
   "id": "e2321356",
   "metadata": {},
   "outputs": [
    {
     "data": {
      "text/plain": [
       "320000"
      ]
     },
     "execution_count": 23,
     "metadata": {},
     "output_type": "execute_result"
    }
   ],
   "source": [
    "len(aug_join)"
   ]
  },
  {
   "cell_type": "code",
   "execution_count": 45,
   "id": "40f975de",
   "metadata": {},
   "outputs": [
    {
     "data": {
      "image/png": "[encoded data removed]",
      "text/plain": [
       "<Figure size 432x288 with 1 Axes>"
      ]
     },
     "metadata": {
      "needs_background": "light"
     },
     "output_type": "display_data"
    }
   ],
   "source": [
    "import matplotlib.pyplot as plt\n",
    "import numpy as np\n",
    "\n",
    "x = [2,3,4,5]\n",
    "x = [160000,320000,480000,640000]\n",
    "y1 = [10.6,11.2,12.4,12.9]\n",
    "# y2 = [97.1,123,172,212]\n",
    "y2 = [53.3,95.3,130 ,166]\n",
    "plt.figure()\n",
    "plt.plot(x, y1,'--bo', label='factorised') \n",
    "plt.plot(x, y2,'--go', label='naive') \n",
    "plt.legend()\n",
    "# plt.xlabel(\"number of dimensions\")\n",
    "# plt.xlabel(\"duplications\")\n",
    "plt.xlabel(\"# rows to augment\")\n",
    "plt.ylabel(\"time in miliseconds\")\n",
    "plt.title(\"With Labels\")\n",
    "\n",
    "plt.show()"
   ]
  },
  {
   "cell_type": "code",
   "execution_count": null,
   "id": "bd36c289",
   "metadata": {},
   "outputs": [],
   "source": [
    "Test performae for size of dimension.\n",
    "Test performance for many-to-many join.\n",
    "Test PCA.\n",
    "Maybe backward selection?\n",
    "Decimal?\n",
    "\n",
    "assume each dimension has 20 attributes.\n",
    "2\n",
    "10.6 ms vs 12.6 ms\n",
    "3\n",
    "11.2 ms vs 19.8 ms\n",
    "4\n",
    "12.4 ms vs 52.2 ms\n",
    "5\n",
    "12.9 ms vs 1260 s\n",
    "\n",
    "duplicate\n",
    "1: 11.7 ms vs 97.1 ms\n",
    "2: 12.2 ms vs 123 ms\n",
    "3: 8.33 ms vs 172 ms\n",
    "4: 10.5 ms vs 212 ms\n",
    "\n"
   ]
  },
  {
   "cell_type": "code",
   "execution_count": null,
   "id": "d1ec3205",
   "metadata": {},
   "outputs": [],
   "source": [
    "For PCA standardize them to mean/std (0,1)\n",
    "\n",
    "One problem with PCA: missing join keys."
   ]
  },
  {
   "cell_type": "code",
   "execution_count": null,
   "id": "70ef3991",
   "metadata": {},
   "outputs": [],
   "source": []
  },
  {
   "cell_type": "code",
   "execution_count": 1,
   "id": "253c39ea",
   "metadata": {},
   "outputs": [
    {
     "data": {
      "image/png": "[encoded data removed]",
      "text/plain": [
       "<Figure size 432x288 with 1 Axes>"
      ]
     },
     "metadata": {
      "needs_background": "light"
     },
     "output_type": "display_data"
    }
   ],
   "source": [
    "import matplotlib.pyplot as plt\n",
    "import numpy as np\n",
    "\n",
    "x = [1,2,3,4,5,6]\n",
    "y1 = [0.23732626400078338,0.44174035936524314,0.5148473111081161,0.5148473111081161, 0.5269850638379274, 0.5269850638379274]\n",
    "y2 = [0.38011516079311647,0.4787090065018217,0.518473380251455,0.5444965625559399,0.5455193557294014,0.5455193557294895]\n",
    "plt.figure()\n",
    "plt.plot(x, y1,'--bo', label='PCA') \n",
    "plt.plot(x, y2,'--go', label='Naive') \n",
    "plt.legend()\n",
    "# plt.xlabel(\"number of dimensions\")\n",
    "plt.xlabel(\"iterations\")\n",
    "plt.ylabel(\"R2\")\n",
    "plt.title(\"With Labels\")\n",
    "\n",
    "plt.show()"
   ]
  },
  {
   "cell_type": "code",
   "execution_count": 6,
   "id": "fe939a29",
   "metadata": {},
   "outputs": [
    {
     "data": {
      "image/png": "[encoded data removed]",
      "text/plain": [
       "<Figure size 432x288 with 1 Axes>"
      ]
     },
     "metadata": {
      "needs_background": "light"
     },
     "output_type": "display_data"
    }
   ],
   "source": [
    "import matplotlib.pyplot as plt\n",
    "import numpy as np\n",
    "\n",
    "# 5 iteration 10 best features\n",
    "# each with 5 features?\n",
    "# when 50 seller datasets, there are 200 features and we need to compute 200^2=40000 pairs\n",
    "x = [10, 20, 30, 40]\n",
    "y1 = [1231,7223,17323,41232]\n",
    "y2 = [3294,3021,3283,3160]\n",
    "y3 = [6343,13233,18623, 25931]\n",
    "plt.figure()\n",
    "plt.plot(x, y1,'--bo', label='PCA-preprocess') \n",
    "plt.plot(x, y2,'--go', label='PCA') \n",
    "plt.plot(x, y3,'--ro', label='Naive') \n",
    "plt.legend()\n",
    "# plt.xlabel(\"number of dimensions\")\n",
    "plt.xlabel(\"number of seller datasets\")\n",
    "plt.ylabel(\"run time (miliseconds)\")\n",
    "\n",
    "plt.show()"
   ]
  },
  {
   "cell_type": "code",
   "execution_count": 6,
   "id": "a394179b",
   "metadata": {},
   "outputs": [
    {
     "data": {
      "image/png": "[encoded data removed]",
      "text/plain": [
       "<Figure size 432x288 with 1 Axes>"
      ]
     },
     "metadata": {
      "needs_background": "light"
     },
     "output_type": "display_data"
    }
   ],
   "source": [
    "import matplotlib.pyplot as plt\n",
    "import numpy as np\n",
    "import pandas as pd\n",
    "\n",
    "df1 = pd.read_csv(\"automl_result3.csv\")\n",
    "df2 = pd.read_csv(\"automl_result2.csv\")\n",
    "\n",
    "plt.figure()\n",
    "plt.plot(df2[\"duration\"], df2[\"ensemble_test_score\"],'-bo', label='AutoML') \n",
    "plt.plot(df1[\"duration\"], df1[\"ensemble_test_score\"],'-go', label='Market + AutoML') \n",
    "plt.plot([0,600], [0,0],'-ro', label='Naive Market + AutoML') \n",
    "plt.legend()\n",
    "# plt.xlabel(\"number of dimensions\")\n",
    "plt.xlabel(\"seconds\")\n",
    "plt.ylabel(\"R2\")\n",
    "\n",
    "plt.show()"
   ]
  },
  {
   "cell_type": "code",
   "execution_count": 11,
   "id": "a2fc79f3",
   "metadata": {},
   "outputs": [
    {
     "data": {
      "image/png": "[encoded data removed]",
      "text/plain": [
       "<Figure size 432x288 with 1 Axes>"
      ]
     },
     "metadata": {
      "needs_background": "light"
     },
     "output_type": "display_data"
    }
   ],
   "source": [
    "\n",
    "import matplotlib.pyplot as plt\n",
    "import numpy as np\n",
    "import pandas as pd\n",
    "\n",
    "df1 = pd.read_csv(\"automl_result_market_300_100.csv\")\n",
    "df2 = pd.read_csv(\"automl_naive_300_100.csv\")\n",
    "\n",
    "\n",
    "\n",
    "plt.figure()\n",
    "plt.plot(df2[\"duration\"], df2[\"ensemble_test_score\"],'-bo', label='AutoML') \n",
    "plt.plot(df1[\"duration\"], df1[\"ensemble_test_score\"],'-go', label='Market + AutoML') \n",
    "plt.legend()\n",
    "# plt.xlabel(\"number of dimensions\")\n",
    "plt.xlabel(\"seconds\")\n",
    "plt.ylabel(\"R2\")\n",
    "\n",
    "plt.show()"
   ]
  },
  {
   "cell_type": "code",
   "execution_count": 5,
   "id": "831d7557",
   "metadata": {},
   "outputs": [
    {
     "data": {
      "image/png": "[encoded data removed]",
      "text/plain": [
       "<Figure size 432x288 with 1 Axes>"
      ]
     },
     "metadata": {
      "needs_background": "light"
     },
     "output_type": "display_data"
    }
   ],
   "source": [
    "\n",
    "import matplotlib.pyplot as plt\n",
    "import numpy as np\n",
    "import pandas as pd\n",
    "\n",
    "df1 = pd.read_csv(\"automl_result_market_120_40.csv\")\n",
    "df2 = pd.read_csv(\"automl_naive_120_40.csv\")\n",
    "\n",
    "\n",
    "\n",
    "plt.figure()\n",
    "plt.plot(df2[\"duration\"], df2[\"ensemble_test_score\"],'-bo', label='AutoML') \n",
    "plt.plot(df1[\"duration\"], df1[\"ensemble_test_score\"],'-go', label='Market + AutoML') \n",
    "plt.legend()\n",
    "# plt.xlabel(\"number of dimensions\")\n",
    "plt.xlabel(\"seconds\")\n",
    "plt.ylabel(\"R2\")\n",
    "# plt.title(\"With Labels\")\n",
    "\n",
    "plt.show()"
   ]
  },
  {
   "cell_type": "code",
   "execution_count": 45,
   "id": "14f8d3a5",
   "metadata": {},
   "outputs": [
    {
     "data": {
      "image/png": "[encoded data removed]",
      "text/plain": [
       "<Figure size 432x288 with 1 Axes>"
      ]
     },
     "metadata": {
      "needs_background": "light"
     },
     "output_type": "display_data"
    }
   ],
   "source": [
    "import numpy as np\n",
    "import matplotlib.pyplot as plt\n",
    " \n",
    "courses = ['200000','400000','600000','800000','1000000']\n",
    "values = [361, 684, 951, 1231, 1585]\n",
    "  \n",
    "fig = plt.figure()\n",
    " \n",
    "# creating the bar plot\n",
    "plt.bar(courses, values, width = 0.5)\n",
    " \n",
    "plt.xlabel(\"Number of rows\")\n",
    "plt.ylabel(\"Update Time (miliseconds)\")\n",
    "plt.show()"
   ]
  },
  {
   "cell_type": "code",
   "execution_count": 145,
   "id": "6eb5917c",
   "metadata": {},
   "outputs": [],
   "source": [
    "join_train = join_result[join_result[\"A\"] == 4]"
   ]
  },
  {
   "cell_type": "code",
   "execution_count": 146,
   "id": "7fe55c50",
   "metadata": {},
   "outputs": [
    {
     "data": {
      "text/plain": [
       "0.1985020289937638"
      ]
     },
     "execution_count": 146,
     "metadata": {},
     "output_type": "execute_result"
    }
   ],
   "source": [
    "# buyer\n",
    "reg = LinearRegression().fit(join_train[[\"A_att\",\"B_att\"]], join_train[[\"result\"]])\n",
    "\n",
    "r2_score(join_result[[\"result\"]],reg.predict(join_result[[\"A_att\",\"B_att\"]]))"
   ]
  },
  {
   "cell_type": "code",
   "execution_count": null,
   "id": "6a42a0e8",
   "metadata": {},
   "outputs": [],
   "source": []
  },
  {
   "cell_type": "code",
   "execution_count": 147,
   "id": "eb8dd358",
   "metadata": {},
   "outputs": [
    {
     "data": {
      "text/plain": [
       "0.6286202476976579"
      ]
     },
     "execution_count": 147,
     "metadata": {},
     "output_type": "execute_result"
    }
   ],
   "source": [
    "# only column\n",
    "reg = LinearRegression().fit(join_train[[\"A_att\",\"B_att\", \"C_att\",\"D_att\"]], join_train[[\"result\"]])\n",
    "r2_score(join_result[[\"result\"]],reg.predict(join_result[[\"A_att\",\"B_att\", \"C_att\",\"D_att\"]]))"
   ]
  },
  {
   "cell_type": "code",
   "execution_count": 148,
   "id": "2afb1167",
   "metadata": {},
   "outputs": [],
   "source": [
    "join_train = join_result[(join_result[\"A\"] == 4) | (join_result[\"A\"] == 5)]"
   ]
  },
  {
   "cell_type": "code",
   "execution_count": 149,
   "id": "61dd56bf",
   "metadata": {},
   "outputs": [
    {
     "data": {
      "text/plain": [
       "0.4324131473371916"
      ]
     },
     "execution_count": 149,
     "metadata": {},
     "output_type": "execute_result"
    }
   ],
   "source": [
    "# only row\n",
    "reg = LinearRegression().fit(join_train[[\"A_att\",\"B_att\"]], join_train[[\"result\"]])\n",
    "r2_score(join_result[[\"result\"]],reg.predict(join_result[[\"A_att\",\"B_att\"]]))"
   ]
  },
  {
   "cell_type": "code",
   "execution_count": 150,
   "id": "a9877b00",
   "metadata": {},
   "outputs": [
    {
     "data": {
      "text/plain": [
       "0.8625313660410858"
      ]
     },
     "execution_count": 150,
     "metadata": {},
     "output_type": "execute_result"
    }
   ],
   "source": [
    "# both\n",
    "reg = LinearRegression().fit(join_train[[\"A_att\",\"B_att\", \"C_att\",\"D_att\"]], join_train[[\"result\"]])\n",
    "r2_score(join_result[[\"result\"]],reg.predict(join_result[[\"A_att\",\"B_att\", \"C_att\",\"D_att\"]]))"
   ]
  },
  {
   "cell_type": "code",
   "execution_count": null,
   "id": "c8559b9c",
   "metadata": {},
   "outputs": [],
   "source": []
  },
  {
   "cell_type": "code",
   "execution_count": null,
   "id": "e4130c82",
   "metadata": {},
   "outputs": [],
   "source": []
  },
  {
   "cell_type": "code",
   "execution_count": 38,
   "id": "6a0d0f5e",
   "metadata": {},
   "outputs": [],
   "source": [
    "row = 1000000\n",
    "ran_df =pd.DataFrame()\n",
    "ran_df[\"DBN\"] = range(row)\n",
    "ran_df[\"att1\"] = np.random.randint(1, 100, row)\n",
    "ran_df[\"att2\"] = np.random.randint(1, 100, row)\n",
    "ran_df[\"att3\"] = np.random.randint(1, 100, row)\n",
    "ran_df[\"att4\"] = np.random.randint(1, 100, row)\n",
    "ran_df[\"att5\"] = np.random.randint(1, 100, row)"
   ]
  },
  {
   "cell_type": "code",
   "execution_count": 39,
   "id": "2d0156be",
   "metadata": {},
   "outputs": [
    {
     "name": "stdout",
     "output_type": "stream",
     "text": [
      "CPU times: user 1.52 s, sys: 211 ms, total: 1.73 s\n",
      "Wall time: 1.73 s\n"
     ]
    }
   ],
   "source": [
    "%%time\n",
    "randomdata = agg_dataset()\n",
    "randomdata.load(ran_df, [], [\"DBN\"], \"random\" )\n",
    "randomdata.find_features()\n",
    "randomdata.remove_redundant_columns()\n",
    "randomdata.standardize_all()\n",
    "randomdata.compute_agg(True)"
   ]
  },
  {
   "cell_type": "code",
   "execution_count": null,
   "id": "39413ae6",
   "metadata": {},
   "outputs": [],
   "source": []
  }
 ],
 "metadata": {
  "environment": {
   "name": "common-cpu.m79",
   "type": "gcloud",
   "uri": "gcr.io/deeplearning-platform-release/base-cpu:m79"
  },
  "kernelspec": {
   "display_name": "Python [conda env:root] *",
   "language": "python",
   "name": "conda-root-py"
  },
  "language_info": {
   "codemirror_mode": {
    "name": "ipython",
    "version": 3
   },
   "file_extension": ".py",
   "mimetype": "text/x-python",
   "name": "python",
   "nbconvert_exporter": "python",
   "pygments_lexer": "ipython3",
   "version": "3.7.10"
  }
 },
 "nbformat": 4,
 "nbformat_minor": 5
}

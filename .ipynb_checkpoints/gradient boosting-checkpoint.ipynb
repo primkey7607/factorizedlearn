{
 "cells": [
  {
   "cell_type": "code",
   "execution_count": 6,
   "id": "7f5ee5ba",
   "metadata": {},
   "outputs": [],
   "source": [
    "from sklearn.ensemble import GradientBoostingClassifier\n",
    "import pandas as pd\n",
    "from datamarket import *"
   ]
  },
  {
   "cell_type": "code",
   "execution_count": 10,
   "id": "688dd3e8",
   "metadata": {},
   "outputs": [],
   "source": [
    "from sklearn.datasets import make_hastie_10_2"
   ]
  },
  {
   "cell_type": "code",
   "execution_count": 33,
   "id": "cc925a59",
   "metadata": {},
   "outputs": [],
   "source": [
    "X, y = make_hastie_10_2(n_samples=4000,random_state=0)"
   ]
  },
  {
   "cell_type": "code",
   "execution_count": 47,
   "id": "77f744fc",
   "metadata": {},
   "outputs": [
    {
     "name": "stdout",
     "output_type": "stream",
     "text": [
      "CPU times: user 11.1 s, sys: 0 ns, total: 11.1 s\n",
      "Wall time: 11.1 s\n"
     ]
    }
   ],
   "source": [
    "%%time\n",
    "clf = GradientBoostingClassifier(n_estimators=1000).fit(X[:,:8], y)"
   ]
  },
  {
   "cell_type": "code",
   "execution_count": 43,
   "id": "fb6befe5",
   "metadata": {},
   "outputs": [
    {
     "data": {
      "text/plain": [
       "array([[ 1.76405235e+00,  4.00157208e-01],\n",
       "       [ 1.44043571e-01,  1.45427351e+00],\n",
       "       [-2.55298982e+00,  6.53618595e-01],\n",
       "       ...,\n",
       "       [ 4.45839768e-01,  1.60772865e+00],\n",
       "       [-1.95565166e-01, -6.49192762e-01],\n",
       "       [-2.59534011e-01, -4.23024293e-04]])"
      ]
     },
     "execution_count": 43,
     "metadata": {},
     "output_type": "execute_result"
    }
   ],
   "source": [
    "X[:,:2]"
   ]
  },
  {
   "cell_type": "code",
   "execution_count": null,
   "id": "dfffd481",
   "metadata": {},
   "outputs": [],
   "source": [
    "28s for (8000, 10)\n",
    "20s for (6000, 10)\n",
    "13s for (4000, 10)\n",
    "6.5s for (2000, 10)\n",
    "\n",
    "3.53 s for (4000,2)\n",
    "6 s for (4000,4)\n",
    "8.53 s for (4000,6)\n",
    "11.1 s for (4000,8)"
   ]
  },
  {
   "cell_type": "code",
   "execution_count": null,
   "id": "a830cd67",
   "metadata": {},
   "outputs": [],
   "source": []
  }
 ],
 "metadata": {
  "environment": {
   "name": "common-cpu.m79",
   "type": "gcloud",
   "uri": "gcr.io/deeplearning-platform-release/base-cpu:m79"
  },
  "kernelspec": {
   "display_name": "Python 3",
   "language": "python",
   "name": "python3"
  },
  "language_info": {
   "codemirror_mode": {
    "name": "ipython",
    "version": 3
   },
   "file_extension": ".py",
   "mimetype": "text/x-python",
   "name": "python",
   "nbconvert_exporter": "python",
   "pygments_lexer": "ipython3",
   "version": "3.7.10"
  }
 },
 "nbformat": 4,
 "nbformat_minor": 5
}

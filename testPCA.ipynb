{
 "cells": [
  {
   "cell_type": "code",
   "execution_count": 1,
   "id": "aabb24fe",
   "metadata": {},
   "outputs": [],
   "source": [
    "from datamarket import *"
   ]
  },
  {
   "cell_type": "code",
   "execution_count": 56,
   "id": "f93507bd",
   "metadata": {},
   "outputs": [],
   "source": [
    "df = pd.DataFrame({'A': range(1, 5), 'B': range(11, 15)})"
   ]
  },
  {
   "cell_type": "code",
   "execution_count": 69,
   "id": "4d9ff0fb",
   "metadata": {},
   "outputs": [
    {
     "data": {
      "text/html": [
       "<div>\n",
       "<style scoped>\n",
       "    .dataframe tbody tr th:only-of-type {\n",
       "        vertical-align: middle;\n",
       "    }\n",
       "\n",
       "    .dataframe tbody tr th {\n",
       "        vertical-align: top;\n",
       "    }\n",
       "\n",
       "    .dataframe thead th {\n",
       "        text-align: right;\n",
       "    }\n",
       "</style>\n",
       "<table border=\"1\" class=\"dataframe\">\n",
       "  <thead>\n",
       "    <tr style=\"text-align: right;\">\n",
       "      <th></th>\n",
       "      <th>A</th>\n",
       "      <th>B</th>\n",
       "      <th>c</th>\n",
       "      <th>name</th>\n",
       "    </tr>\n",
       "  </thead>\n",
       "  <tbody>\n",
       "    <tr>\n",
       "      <th>0</th>\n",
       "      <td>1</td>\n",
       "      <td>11</td>\n",
       "      <td>1</td>\n",
       "      <td>11.000000</td>\n",
       "    </tr>\n",
       "    <tr>\n",
       "      <th>1</th>\n",
       "      <td>2</td>\n",
       "      <td>12</td>\n",
       "      <td>2</td>\n",
       "      <td>6.000000</td>\n",
       "    </tr>\n",
       "    <tr>\n",
       "      <th>2</th>\n",
       "      <td>3</td>\n",
       "      <td>13</td>\n",
       "      <td>3</td>\n",
       "      <td>4.333333</td>\n",
       "    </tr>\n",
       "    <tr>\n",
       "      <th>3</th>\n",
       "      <td>4</td>\n",
       "      <td>14</td>\n",
       "      <td>4</td>\n",
       "      <td>3.500000</td>\n",
       "    </tr>\n",
       "  </tbody>\n",
       "</table>\n",
       "</div>"
      ],
      "text/plain": [
       "   A   B  c       name\n",
       "0  1  11  1  11.000000\n",
       "1  2  12  2   6.000000\n",
       "2  3  13  3   4.333333\n",
       "3  4  14  4   3.500000"
      ]
     },
     "execution_count": 69,
     "metadata": {},
     "output_type": "execute_result"
    }
   ],
   "source": [
    "name = \"bad\"\n",
    "df = df.assign(c =df['A'])\n",
    "df = df.assign(name=df['B'] / df['A'] )\n",
    "df"
   ]
  },
  {
   "cell_type": "code",
   "execution_count": 128,
   "id": "ebf42309",
   "metadata": {},
   "outputs": [],
   "source": [
    "# read seller dataset and split into train/test\n",
    "gender = pd.read_csv(\"gender.csv\")\n",
    "gender_train = agg_dataset()\n",
    "gender_train.load_buyer(gender, [\"Number Tested\"], \"Mean Scale Score\", [\"DBN\", [\"DBN\",\"Grade\"], \"School Name\", \"Year\", \"Category\"], \"gender\")\n",
    "gender_train.compute_agg()"
   ]
  },
  {
   "cell_type": "code",
   "execution_count": 3,
   "id": "3f145749",
   "metadata": {},
   "outputs": [
    {
     "name": "stderr",
     "output_type": "stream",
     "text": [
      "/home/jupyter/arda/arda-datasets/school/datamarket.py:160: SettingWithCopyWarning: \n",
      "A value is trying to be set on a copy of a slice from a DataFrame.\n",
      "Try using .loc[row_indexer,col_indexer] = value instead\n",
      "\n",
      "See the caveats in the documentation: https://pandas.pydata.org/pandas-docs/stable/user_guide/indexing.html#returning-a-view-versus-a-copy\n",
      "  self.data['cov:c'] = 1\n",
      "/home/jupyter/arda/arda-datasets/school/datamarket.py:164: SettingWithCopyWarning: \n",
      "A value is trying to be set on a copy of a slice from a DataFrame.\n",
      "Try using .loc[row_indexer,col_indexer] = value instead\n",
      "\n",
      "See the caveats in the documentation: https://pandas.pydata.org/pandas-docs/stable/user_guide/indexing.html#returning-a-view-versus-a-copy\n",
      "  self.data['cov:Q:' + tablename + \":\" + attributes[i] + \",\"+ tablename + \":\" + attributes[j]] = self.data[attributes[i]] * self.data[attributes[j]]\n",
      "/home/jupyter/arda/arda-datasets/school/datamarket.py:160: SettingWithCopyWarning: \n",
      "A value is trying to be set on a copy of a slice from a DataFrame.\n",
      "Try using .loc[row_indexer,col_indexer] = value instead\n",
      "\n",
      "See the caveats in the documentation: https://pandas.pydata.org/pandas-docs/stable/user_guide/indexing.html#returning-a-view-versus-a-copy\n",
      "  self.data['cov:c'] = 1\n",
      "/home/jupyter/arda/arda-datasets/school/datamarket.py:164: SettingWithCopyWarning: \n",
      "A value is trying to be set on a copy of a slice from a DataFrame.\n",
      "Try using .loc[row_indexer,col_indexer] = value instead\n",
      "\n",
      "See the caveats in the documentation: https://pandas.pydata.org/pandas-docs/stable/user_guide/indexing.html#returning-a-view-versus-a-copy\n",
      "  self.data['cov:Q:' + tablename + \":\" + attributes[i] + \",\"+ tablename + \":\" + attributes[j]] = self.data[attributes[i]] * self.data[attributes[j]]\n",
      "/home/jupyter/arda/arda-datasets/school/datamarket.py:164: PerformanceWarning: DataFrame is highly fragmented.  This is usually the result of calling `frame.insert` many times, which has poor performance.  Consider joining all columns at once using pd.concat(axis=1) instead.  To get a de-fragmented frame, use `newframe = frame.copy()`\n",
      "  self.data['cov:Q:' + tablename + \":\" + attributes[i] + \",\"+ tablename + \":\" + attributes[j]] = self.data[attributes[i]] * self.data[attributes[j]]\n"
     ]
    }
   ],
   "source": [
    "# if want transform, need to standardize the transformed\n",
    "\n",
    "crime = pd.read_csv(\"crime.csv\")\n",
    "crimedata = agg_dataset()\n",
    "crimedata.load_seller(crime, [\"DBN\"], \"crime\", feature_transform = False, standardize = True)\n",
    "crimedata.compute_agg(True)\n",
    "\n",
    "ap = pd.read_csv(\"ap.csv\")\n",
    "apdata = agg_dataset()\n",
    "apdata.load_seller(ap, [\"DBN\"], \"ap\", feature_transform = False, standardize = True)\n",
    "apdata.compute_agg(True)\n",
    "\n",
    "survey = pd.read_csv(\"2013_NYC_School_Survey.csv\")\n",
    "surveydata = agg_dataset()\n",
    "surveydata.load_seller(survey, [\"DBN\"], \"survey\", feature_transform = False, standardize = True)\n",
    "surveydata.compute_agg(True)\n",
    "\n",
    "base = pd.read_csv(\"base.csv\")\n",
    "basedata = agg_dataset()\n",
    "basedata.load_seller(base, [\"DBN\"], \"base\", feature_transform = False, standardize = True)\n",
    "basedata.compute_agg(True)\n",
    "\n",
    "disc = pd.read_csv(\"disc.csv\")\n",
    "discdata = agg_dataset()\n",
    "discdata.load_seller(disc, [\"DBN\"], \"disc\", feature_transform = False, standardize = True)\n",
    "discdata.compute_agg(True)\n",
    "\n",
    "oss = pd.read_csv(\"oss.csv\")\n",
    "ossdata = agg_dataset()\n",
    "ossdata.load_seller(oss, [\"DBN\"], \"oss\", feature_transform = False, standardize = True)\n",
    "ossdata.compute_agg(True)\n",
    "\n",
    "pe = pd.read_csv(\"pe.csv\")\n",
    "pedata = agg_dataset()\n",
    "pedata.load_seller(pe, [\"DBN\"], \"pe\", feature_transform = False, standardize = True)\n",
    "pedata.compute_agg(True)\n",
    "\n",
    "s2tr = pd.read_csv(\"s2tr.csv\")\n",
    "s2trdata = agg_dataset()\n",
    "s2trdata.load_seller(s2tr, [\"DBN\"], \"s2tr\", feature_transform = False, standardize = True)\n",
    "s2trdata.compute_agg(True)\n",
    "\n",
    "sat = pd.read_csv(\"sat.csv\")\n",
    "satdata = agg_dataset()\n",
    "satdata.load_seller(sat, [\"DBN\"], \"sat\", feature_transform = False, standardize = True)\n",
    "satdata.compute_agg(True)\n",
    "\n",
    "pro = pd.read_csv(\"Schools_Progress_Report_2012-2013.csv\")\n",
    "prodata = agg_dataset()\n",
    "prodata.load_seller(pro, [\"DBN\"], \"pro\", feature_transform = False, standardize = True)\n",
    "prodata.compute_agg(True)\n",
    "\n",
    "transfer = pd.read_csv(\"transfer.csv\")\n",
    "transferdata = agg_dataset()\n",
    "transferdata.load_seller(transfer, [\"DBN\"], \"transfer\", feature_transform = False, standardize = True)\n",
    "transferdata.compute_agg(True)\n",
    "\n",
    "yabc = pd.read_csv(\"yabc.csv\")\n",
    "yabcdata = agg_dataset()\n",
    "yabcdata.load_seller(yabc, [\"DBN\"], \"yabc\", feature_transform = False, standardize = True)\n",
    "yabcdata.compute_agg(True)\n",
    "\n",
    "dm1 = pd.read_csv(\"other/datamart.socrata.data-cityofnewyork-us.22rr-ujq3\")\n",
    "dm1data = agg_dataset()\n",
    "dm1data.load_seller(dm1, [\"DBN\"], \"dm1\", feature_transform = False, standardize = True)\n",
    "dm1data.compute_agg(True)\n",
    "\n",
    "dm2 = pd.read_csv(\"other/datamart.socrata.data-cityofnewyork-us.25aa-q86c\")\n",
    "dm2data = agg_dataset()\n",
    "dm2data.load_seller(dm2, [\"DBN\"], \"dm2\", feature_transform = False, standardize = True)\n",
    "dm2data.compute_agg(True)\n",
    "\n",
    "dm3 = pd.read_csv(\"other/datamart.socrata.data-cityofnewyork-us.29bv-qqsy\")\n",
    "dm3data = agg_dataset()\n",
    "dm3data.load_seller(dm3, [\"DBN\"], \"dm3\", feature_transform = False, standardize = True)\n",
    "dm3data.compute_agg(True)\n",
    "\n",
    "dm4 = pd.read_csv(\"other/datamart.socrata.data-cityofnewyork-us.29ry-u5bf\")\n",
    "dm4data = agg_dataset()\n",
    "dm4data.load_seller(dm4, [\"DBN\"], \"dm4\", feature_transform = False, standardize = True)\n",
    "dm4data.compute_agg(True)\n"
   ]
  },
  {
   "cell_type": "code",
   "execution_count": 4,
   "id": "13d53ce0",
   "metadata": {},
   "outputs": [],
   "source": [
    "sellers = [(crimedata, \"DBN\"), (apdata, \"DBN\"), (surveydata, \"DBN\"), \n",
    "           (basedata, \"DBN\"), (discdata, \"DBN\"), \n",
    "           (ossdata, \"DBN\"), (pedata, \"DBN\"), (s2trdata, \"DBN\"), \n",
    "           (satdata, \"DBN\"), (prodata, \"DBN\"),\n",
    "           (transferdata, \"DBN\"), (yabcdata, \"DBN\"), (dm1data, \"DBN\"),\n",
    "           (dm2data, \"DBN\"), (dm3data, \"DBN\"), (dm4data, \"DBN\")]\n",
    "\n",
    "sellersdict = dict()\n",
    "\n",
    "for sellerdata, dimension in sellers:\n",
    "    sellersdict[sellerdata.name] = sellerdata"
   ]
  },
  {
   "cell_type": "code",
   "execution_count": 82,
   "id": "334070f4",
   "metadata": {},
   "outputs": [],
   "source": [
    "def connect_outer(aggdata1, aggdata2, dimension, left_inp = False, right_attrs = []):\n",
    "    \n",
    "    if isinstance(dimension, list):\n",
    "        dimension = tuple(dimension)\n",
    "    \n",
    "    if left_inp:\n",
    "        agg1 = aggdata1.data\n",
    "    else:\n",
    "        agg1 = aggdata1.agg_dimensions[dimension]\n",
    "        \n",
    "    agg2 = aggdata2.agg_dimensions[dimension]\n",
    "    \n",
    "    left_attributes = aggdata1.X\n",
    "    left_tablename = aggdata1.name\n",
    "    right_attributes = aggdata2.X\n",
    "    right_tablename = aggdata2.name\n",
    "    \n",
    "    # if you only want to augment part of attributes (that are predictive)\n",
    "    if len(right_attrs) > 0:\n",
    "        kept_cols = []\n",
    "        for col in agg2.columns:\n",
    "            names = col[6:].split(\",\")\n",
    "            match = True\n",
    "            for name in names:\n",
    "                if name not in right_attrs:\n",
    "                    match = False\n",
    "            if match:\n",
    "                kept_cols.append(col)\n",
    "        agg2 = agg2[kept_cols + ['cov:c']]\n",
    "        right_attributes = right_attrs\n",
    "    \n",
    "    # wheter join on index\n",
    "    if left_inp:\n",
    "        join = pd.merge(agg1, agg2, how='outer', left_on=dimension, right_index=True)\n",
    "    else:\n",
    "        join = pd.merge(agg1, agg2, how='outer', left_index=True, right_index=True)\n",
    "#         join = pd.merge(agg1, agg2, how='inner', left_index=True, right_index=True)\n",
    "    join = join.drop('cov:c_y', 1)\n",
    "    join = join.rename(columns = {'cov:c_x':'cov:c'})\n",
    "    join['cov:c'] = 1\n",
    "    \n",
    "    left_cov = aggdata1.covariance\n",
    "    right_cov = aggdata2.covariance\n",
    "\n",
    "    \n",
    "    # fill in nan\n",
    "    for att2 in right_attributes:\n",
    "        join['cov:s:' + att2].fillna(value=right_cov['cov:s:' + att2], inplace=True)\n",
    "        join['cov:s:' + att2] *= join['cov:c']\n",
    "    \n",
    "    for i in range(len(right_attributes)):\n",
    "        for j in range(i, len(right_attributes)):\n",
    "            if 'cov:Q:' + right_attributes[i] + \",\" + right_attributes[j] in join:\n",
    "                join['cov:Q:' + right_attributes[i] + \",\" + right_attributes[j]].fillna(value=right_cov['cov:Q:' + right_attributes[i] + \",\" + right_attributes[j]], inplace=True)\n",
    "                join['cov:Q:' + right_attributes[i] + \",\" + right_attributes[j]] *= join['cov:c']\n",
    "            else:\n",
    "                join['cov:Q:' + right_attributes[j] + \",\" + right_attributes[i]].fillna(value=right_cov['cov:Q:' + right_attributes[j] + \",\" + right_attributes[i]], inplace=True)\n",
    "                join['cov:Q:' + right_attributes[j] + \",\" + right_attributes[i]] *= join['cov:c']\n",
    "            \n",
    "    for att2 in left_attributes:\n",
    "        join['cov:s:' + att2].fillna(value=left_cov['cov:s:' + att2], inplace=True)\n",
    "        join['cov:s:' + att2] *= join['cov:c']\n",
    "    \n",
    "    \n",
    "    for i in range(len(left_attributes)):\n",
    "        for j in range(i, len(left_attributes)):\n",
    "            if 'cov:Q:' + left_attributes[i] + \",\" + left_attributes[j] in join:\n",
    "                join['cov:Q:' + left_attributes[i] + \",\" + left_attributes[j]].fillna(value=left_cov['cov:Q:' + left_attributes[i] + \",\" + left_attributes[j]], inplace=True)\n",
    "                join['cov:Q:' + left_attributes[i] + \",\" + left_attributes[j]] *= join['cov:c']\n",
    "            else:\n",
    "                join['cov:Q:' + left_attributes[j] + \",\" + left_attributes[i]].fillna(value=left_cov['cov:Q:' + left_attributes[j] + \",\" + left_attributes[i]], inplace=True)\n",
    "                join['cov:Q:' + left_attributes[j] + \",\" + left_attributes[i]] *= join['cov:c']\n",
    "    \n",
    "    kwargs = dict()\n",
    "    \n",
    "    for att1 in left_attributes:\n",
    "        for att2 in right_attributes:\n",
    "            if 'cov:Q:' + att1 + \",\" + att2 in join:\n",
    "#                 kwargs['cov:Q:' + att1 + \",\" + att2] = join['cov:s:' + att1] * join['cov:s:' + att2]/join['cov:c']\n",
    "#                 join = join.assign(att_name= join['cov:s:' + att1] * join['cov:s:' + att2]/join['cov:c'])\n",
    "                join['cov:Q:' + att1 + \",\" + att2] = join['cov:s:' + att1] * join['cov:s:' + att2]/join['cov:c']\n",
    "            else:\n",
    "#                 kwargs['cov:Q:' + att2 + \",\" + att1] = join['cov:s:' + att2] * join['cov:s:' + att1]/join['cov:c']\n",
    "                join['cov:Q:' + att2 + \",\" + att1] = join['cov:s:' + att2] * join['cov:s:' + att1]/join['cov:c']\n",
    "    \n",
    "#     join = join.assign(**kwargs)\n",
    "#     print(join.columns)\n",
    "    return join"
   ]
  },
  {
   "cell_type": "code",
   "execution_count": 6,
   "id": "03f6b3c7",
   "metadata": {},
   "outputs": [],
   "source": [
    "# select features, but train kept all the features it currently has\n",
    "def select_features_continue(train, test, seller, dimension, k):\n",
    "    join_test = connect(test, seller, dimension)\n",
    "    join_train = connect(train, seller, dimension)\n",
    "\n",
    "    cur_atts = []\n",
    "    join_train_cov = join_train.sum()\n",
    "    join_test_cov = join_test.sum()\n",
    "    final_r2 = 0\n",
    "    \n",
    "    for i in range(k):\n",
    "        best_r2 = 0\n",
    "        best_att = -1\n",
    "        for att in train.X + seller.X:\n",
    "            if att in cur_atts or att == train.name + \":\" + train.y:\n",
    "                continue\n",
    "            # maybe singular\n",
    "            try:\n",
    "                parameter = linear_regression(join_train_cov, cur_atts + [att], train.name + \":\" + train.y)\n",
    "            except:\n",
    "                continue\n",
    "            cur_r2 = r2(join_test_cov, cur_atts + [att], train.name + \":\" + train.y, parameter)\n",
    "    #         print(cur_r2, att)\n",
    "            if cur_r2 > best_r2:\n",
    "                best_r2 = cur_r2\n",
    "                best_att = att\n",
    "        if best_r2 == 0 or best_r2 < final_r2:\n",
    "            break\n",
    "        cur_atts = cur_atts + [best_att]\n",
    "        \n",
    "        final_r2 = best_r2\n",
    "        \n",
    "        if best_att in seller.X:\n",
    "            return cur_atts, final_r2\n",
    "#         print(i, best_r2, cur_atts)\n",
    "    return cur_atts, final_r2"
   ]
  },
  {
   "cell_type": "code",
   "execution_count": 7,
   "id": "7b0ba7d9",
   "metadata": {},
   "outputs": [],
   "source": [
    "# select features, but train kept all the features it currently has\n",
    "def select_features_self(train, test, seller, dimension, k):\n",
    "    join_test = connect(test, seller, dimension)\n",
    "    join_train = connect(train, seller, dimension)\n",
    "\n",
    "    cur_atts = []\n",
    "    join_train_cov = join_train.sum()\n",
    "    join_test_cov = join_test.sum()\n",
    "    final_r2 = 0\n",
    "    \n",
    "    for i in range(k):\n",
    "        best_r2 = 0\n",
    "        best_att = -1\n",
    "        for att in train.X + seller.X:\n",
    "            if att in cur_atts or att == train.name + \":\" + train.y:\n",
    "                continue\n",
    "            # maybe singular\n",
    "            try:\n",
    "                parameter = linear_regression(join_train_cov, cur_atts + [att], train.name + \":\" + train.y)\n",
    "            except:\n",
    "                continue\n",
    "            cur_r2 = r2(join_test_cov, cur_atts + [att], train.name + \":\" + train.y, parameter)\n",
    "    #         print(cur_r2, att)\n",
    "            if cur_r2 > best_r2:\n",
    "                best_r2 = cur_r2\n",
    "                best_att = att\n",
    "        if best_r2 == 0 or best_r2 < final_r2:\n",
    "            break\n",
    "        cur_atts = cur_atts + [best_att]\n",
    "        \n",
    "        final_r2 = best_r2\n",
    "        \n",
    "        if best_att in seller.X:\n",
    "            return cur_atts, final_r2\n",
    "#         print(i, best_r2, cur_atts)\n",
    "    return cur_atts, final_r2"
   ]
  },
  {
   "cell_type": "code",
   "execution_count": 279,
   "id": "f22c0a1d",
   "metadata": {},
   "outputs": [
    {
     "name": "stderr",
     "output_type": "stream",
     "text": [
      "/home/jupyter/arda/arda-datasets/school/datamarket.py:321: PerformanceWarning: DataFrame is highly fragmented.  This is usually the result of calling `frame.insert` many times, which has poor performance.  Consider joining all columns at once using pd.concat(axis=1) instead.  To get a de-fragmented frame, use `newframe = frame.copy()`\n",
      "  join['cov:Q:' + att2 + \",\" + att1] = join['cov:s:' + att2] * join['cov:s:' + att1]/join['cov:c']\n"
     ]
    },
    {
     "name": "stdout",
     "output_type": "stream",
     "text": [
      "CPU times: user 1.72 s, sys: 11.9 ms, total: 1.73 s\n",
      "Wall time: 1.72 s\n"
     ]
    }
   ],
   "source": [
    "%%time\n",
    "cur_atts, final_r2 = select_features_continue(gender_train, gender_train, dim_idx, \"DBN\",10)"
   ]
  },
  {
   "cell_type": "code",
   "execution_count": 280,
   "id": "ce28759e",
   "metadata": {},
   "outputs": [
    {
     "name": "stdout",
     "output_type": "stream",
     "text": [
      "['s2tr:School Pupil-Teacher Ratio', 'f2'] 0.31812747656902474\n"
     ]
    }
   ],
   "source": [
    "print(cur_atts, final_r2)"
   ]
  },
  {
   "cell_type": "code",
   "execution_count": 302,
   "id": "a135fc69",
   "metadata": {},
   "outputs": [
    {
     "name": "stdout",
     "output_type": "stream",
     "text": [
      "CPU times: user 3.36 s, sys: 1.69 s, total: 5.05 s\n",
      "Wall time: 5.05 s\n"
     ]
    }
   ],
   "source": [
    "%%time\n",
    "gender_train.absorb(s2trdata, \"DBN\", s2trdata.X)"
   ]
  },
  {
   "cell_type": "code",
   "execution_count": 301,
   "id": "191c3d4d",
   "metadata": {},
   "outputs": [
    {
     "name": "stdout",
     "output_type": "stream",
     "text": [
      "CPU times: user 4.31 s, sys: 1.57 s, total: 5.88 s\n",
      "Wall time: 5.88 s\n"
     ]
    }
   ],
   "source": [
    "%%time\n",
    "gender_train.absorb(dim_idx, \"DBN\", dim_idx.X)"
   ]
  },
  {
   "cell_type": "code",
   "execution_count": 129,
   "id": "f55b4666",
   "metadata": {},
   "outputs": [
    {
     "name": "stdout",
     "output_type": "stream",
     "text": [
      "2\n",
      "survey ['survey:Total Safety and Respect Score', 'survey:Total Engagement Score', 'gender:Number Tested', 'survey:Total Academic Expectations Score', 'survey:Total Communication Score', 'survey:Total Teacher Response Rate (%)', 'survey:Total Parent Response Rate (%)'] 0.23732626400078338\n",
      "2\n",
      "pro ['pro:2012-2013 PERFORMANCE CATEGORY SCORE', 'pro:2012-2013 ADDITIONAL CREDIT', 'survey:Total Safety and Respect Score', 'survey:Total Engagement Score', 'pro:DISTRICT', 'survey:Total Communication Score', 'pro:2012-13 OVERALL PERCENTILE', 'survey:Total Parent Response Rate (%)', 'gender:Number Tested', 'pro:2012-2013 OVERALL SCORE'] 0.44174035936524314\n",
      "9\n",
      "dm2 ['pro:2012-2013 PERFORMANCE CATEGORY SCORE', 'dm2:MATH %Level 1', 'pro:2012-2013 ADDITIONAL CREDIT', 'survey:Total Safety and Respect Score', 'dm2:%Hispanic', 'survey:Total Engagement Score', 'dm2:Total Enrollment', 'dm2:ELA #Test Takers', 'dm2:#Male', 'dm2:MATH %Level 2'] 0.5148473111081161\n",
      "9\n",
      "transfer ['pro:2012-2013 PERFORMANCE CATEGORY SCORE', 'dm2:MATH %Level 1', 'pro:2012-2013 ADDITIONAL CREDIT', 'survey:Total Safety and Respect Score', 'dm2:%Hispanic', 'survey:Total Engagement Score', 'dm2:Total Enrollment', 'dm2:ELA #Test Takers', 'dm2:#Male', 'dm2:MATH %Level 2'] 0.5148473111080574\n",
      "9\n",
      "pe ['pro:2012-2013 PERFORMANCE CATEGORY SCORE', 'dm2:MATH %Level 1', 'pro:2012-2013 ADDITIONAL CREDIT', 'survey:Total Safety and Respect Score', 'dm2:%Hispanic', 'survey:Total Engagement Score', 'dm2:Total Enrollment', 'pe:Student Enrollment', 'dm2:ELA #Test Takers', 'dm2:MATH %Level 2'] 0.5269850638379274\n",
      "9\n",
      "sat ['pro:2012-2013 PERFORMANCE CATEGORY SCORE', 'dm2:MATH %Level 1', 'pro:2012-2013 ADDITIONAL CREDIT', 'survey:Total Safety and Respect Score', 'dm2:%Hispanic', 'survey:Total Engagement Score', 'dm2:Total Enrollment', 'pe:Student Enrollment', 'dm2:ELA #Test Takers', 'dm2:MATH %Level 2'] 0.5269850638379274\n",
      "CPU times: user 7.06 s, sys: 1.2 s, total: 8.26 s\n",
      "Wall time: 8.18 s\n"
     ]
    }
   ],
   "source": [
    "%%time\n",
    "for _ in range(6):\n",
    "    cur_atts, final_r2 = select_features_continue(gender_train, gender_train, dim_idx, \"DBN\",10)\n",
    "\n",
    "    if cur_atts[-1].startswith(\"f\") and cur_atts[-1][1:].isnumeric():\n",
    "        idx = int(cur_atts[-1][1:])\n",
    "        print(idx)\n",
    "        for i in np.argsort(dim_idx.datasets_weights[idx])[::-1]:\n",
    "            sellername = dim_idx.datasets[i]\n",
    "            if sellername in gender_train.datasets:\n",
    "                continue\n",
    "\n",
    "            cur_atts2, final_r22 = select_features(gender_train, gender_train, sellersdict[sellername], \"DBN\",10)\n",
    "            if len([x for x in cur_atts2 if x in sellersdict[sellername].X]) == 0:\n",
    "                gender_train.datasets.add(sellername)\n",
    "            else:\n",
    "                gender_train.absorb(sellersdict[sellername], \"DBN\", [x for x in cur_atts2 if x in sellersdict[sellername].X])\n",
    "            print(sellername, cur_atts2, final_r22)\n",
    "            break"
   ]
  },
  {
   "cell_type": "code",
   "execution_count": 123,
   "id": "ad3113ef",
   "metadata": {},
   "outputs": [
    {
     "data": {
      "text/plain": [
       "['pro:2012-2013 PERFORMANCE CATEGORY SCORE',\n",
       " 'dm2:MATH %Level 1',\n",
       " 'pro:2012-2013 ADDITIONAL CREDIT',\n",
       " 'survey:Total Safety and Respect Score',\n",
       " 'dm2:%Hispanic',\n",
       " 'survey:Total Engagement Score',\n",
       " 'dm2:Total Enrollment',\n",
       " 'pe:Student Enrollment',\n",
       " 'dm2:ELA #Test Takers',\n",
       " 'dm4:ELA #Level 1']"
      ]
     },
     "execution_count": 123,
     "metadata": {},
     "output_type": "execute_result"
    }
   ],
   "source": [
    "cur_atts2"
   ]
  },
  {
   "cell_type": "code",
   "execution_count": null,
   "id": "bf351966",
   "metadata": {},
   "outputs": [],
   "source": [
    "connect(self, agg_data, dimension, True, [])"
   ]
  },
  {
   "cell_type": "code",
   "execution_count": null,
   "id": "0ccebc75",
   "metadata": {},
   "outputs": [],
   "source": [
    "# Use PCA for firstly, and naive search last rounds"
   ]
  },
  {
   "cell_type": "code",
   "execution_count": 121,
   "id": "e6cbebd4",
   "metadata": {},
   "outputs": [
    {
     "name": "stdout",
     "output_type": "stream",
     "text": [
      "CPU times: user 596 ms, sys: 0 ns, total: 596 ms\n",
      "Wall time: 593 ms\n"
     ]
    }
   ],
   "source": [
    "%%time\n",
    "cur_atts, final_r2 = select_features_continue(gender_train, gender_train, dim_idx, \"DBN\",10)"
   ]
  },
  {
   "cell_type": "code",
   "execution_count": 101,
   "id": "35d9f6a0",
   "metadata": {},
   "outputs": [],
   "source": [
    "class index:\n",
    "    def __init__(self, dim):\n",
    "        self.dim = dim\n",
    "        self.X = []\n",
    "        self.name = \"index\"\n",
    "        self.agg_dimensions = dict()\n",
    "        self.datasets = []\n",
    "        self.feature_sizes = []\n",
    "        \n",
    "    def absorb(self, agg_data):\n",
    "        if agg_data.name in self.datasets:\n",
    "            print(\"already absorbed this data\")\n",
    "            return\n",
    "        \n",
    "        if self.dim not in self.agg_dimensions:\n",
    "            self.data = agg_data.data\n",
    "            self.agg_dimensions[self.dim] = agg_data.agg_dimensions[self.dim]\n",
    "        else:\n",
    "            self.data = connect_outer(self, agg_data, self.dim, True)\n",
    "            self.agg_dimensions[self.dim] = self.data[list(filter(lambda col: col.startswith(\"cov:\"), self.data.columns)) + [self.dim]].groupby(self.dim).sum()\n",
    "        \n",
    "        self.covariance = normalize(self.agg_dimensions[self.dim][list(filter(lambda col: col.startswith(\"cov:\"), self.data.columns))].sum())\n",
    "        \n",
    "        self.X = self.X + agg_data.X\n",
    "        self.datasets.append(agg_data.name)\n",
    "        self.feature_sizes.append(len(agg_data.X))\n",
    "    \n",
    "    def get_covariance_matrix(self):\n",
    "        # don't need to miuse the mean because all zero during standardization\n",
    "        \n",
    "        a = np.empty([len(self.X), len(self.X)])\n",
    "    \n",
    "        for i in range(len(self.X)):\n",
    "            for j in range(len(self.X)):\n",
    "                if 'cov:Q:' + self.X[i] + \",\"+ self.X[j] in self.covariance:\n",
    "                    a[i][j] = self.covariance['cov:Q:' + self.X[i] + \",\"+ self.X[j]]\n",
    "                else:\n",
    "                    a[i][j] = self.covariance['cov:Q:' + self.X[j] + \",\"+ self.X[i]]\n",
    "        return a"
   ]
  },
  {
   "cell_type": "code",
   "execution_count": 33,
   "id": "ba06c9e7",
   "metadata": {},
   "outputs": [
    {
     "data": {
      "text/plain": [
       "cov:s:ap:AP Test Takers                            2.478637e-16\n",
       "cov:s:ap:Total Exams Taken                         2.616340e-16\n",
       "cov:c                                              1.000000e+00\n",
       "cov:Q:ap:AP Test Takers ,ap:AP Test Takers         9.961240e-01\n",
       "cov:Q:ap:AP Test Takers ,ap:Total Exams Taken      9.883566e-01\n",
       "cov:Q:ap:Total Exams Taken,ap:Total Exams Taken    9.961240e-01\n",
       "dtype: float64"
      ]
     },
     "execution_count": 33,
     "metadata": {},
     "output_type": "execute_result"
    }
   ],
   "source": [
    "apdata.covariance"
   ]
  },
  {
   "cell_type": "code",
   "execution_count": 21,
   "id": "281eff40",
   "metadata": {},
   "outputs": [],
   "source": [
    "dim_idx = index(\"DBN\") \n",
    "dim_idx.absorb(basedata)"
   ]
  },
  {
   "cell_type": "code",
   "execution_count": 74,
   "id": "af2dd448",
   "metadata": {},
   "outputs": [
    {
     "name": "stdout",
     "output_type": "stream",
     "text": [
      "already absorbed this data\n"
     ]
    }
   ],
   "source": [
    "# dim_idx.absorb(apdata)\n",
    "# dim_idx.absorb(surveydata)\n",
    "# dim_idx.absorb(basedata)\n",
    "# dim_idx.absorb(discdata)\n",
    "# dim_idx.absorb(ossdata)\n",
    "# dim_idx.absorb(pedata)\n",
    "# dim_idx.absorb(s2trdata)\n",
    "# dim_idx.absorb(satdata)\n",
    "# dim_idx.absorb(prodata)"
   ]
  },
  {
   "cell_type": "code",
   "execution_count": 75,
   "id": "86fd1084",
   "metadata": {},
   "outputs": [
    {
     "data": {
      "text/html": [
       "<div>\n",
       "<style scoped>\n",
       "    .dataframe tbody tr th:only-of-type {\n",
       "        vertical-align: middle;\n",
       "    }\n",
       "\n",
       "    .dataframe tbody tr th {\n",
       "        vertical-align: top;\n",
       "    }\n",
       "\n",
       "    .dataframe thead th {\n",
       "        text-align: right;\n",
       "    }\n",
       "</style>\n",
       "<table border=\"1\" class=\"dataframe\">\n",
       "  <thead>\n",
       "    <tr style=\"text-align: right;\">\n",
       "      <th></th>\n",
       "      <th>cov:s:crime:ID</th>\n",
       "      <th>cov:s:crime:Geographical District Code</th>\n",
       "      <th>cov:s:crime:Register</th>\n",
       "      <th>cov:s:crime:# Schools</th>\n",
       "      <th>cov:s:crime:Zip Codes</th>\n",
       "      <th>DBN</th>\n",
       "      <th>cov:c</th>\n",
       "      <th>cov:Q:crime:ID,crime:ID</th>\n",
       "      <th>cov:Q:crime:ID,crime:Geographical District Code</th>\n",
       "      <th>cov:Q:crime:ID,crime:Register</th>\n",
       "      <th>...</th>\n",
       "      <th>cov:Q:dm1:ADMINISTRATIVE DISTRICT,yabc:% Students with Disabilities</th>\n",
       "      <th>cov:Q:dm1:SY1617 TOTAL REMOVALS/SUSPENSIONS,yabc:% Students with Disabilities</th>\n",
       "      <th>cov:Q:dm1:ADMINISTRATIVE DISTRICT,yabc:% Self-Contained</th>\n",
       "      <th>cov:Q:dm1:SY1617 TOTAL REMOVALS/SUSPENSIONS,yabc:% Self-Contained</th>\n",
       "      <th>cov:Q:dm1:ADMINISTRATIVE DISTRICT,yabc:% Overage</th>\n",
       "      <th>cov:Q:dm1:SY1617 TOTAL REMOVALS/SUSPENSIONS,yabc:% Overage</th>\n",
       "      <th>cov:Q:dm1:ADMINISTRATIVE DISTRICT,yabc:% Black or Hispanic</th>\n",
       "      <th>cov:Q:dm1:SY1617 TOTAL REMOVALS/SUSPENSIONS,yabc:% Black or Hispanic</th>\n",
       "      <th>cov:Q:dm1:ADMINISTRATIVE DISTRICT,yabc:% ELL</th>\n",
       "      <th>cov:Q:dm1:SY1617 TOTAL REMOVALS/SUSPENSIONS,yabc:% ELL</th>\n",
       "    </tr>\n",
       "    <tr>\n",
       "      <th>DBN</th>\n",
       "      <th></th>\n",
       "      <th></th>\n",
       "      <th></th>\n",
       "      <th></th>\n",
       "      <th></th>\n",
       "      <th></th>\n",
       "      <th></th>\n",
       "      <th></th>\n",
       "      <th></th>\n",
       "      <th></th>\n",
       "      <th></th>\n",
       "      <th></th>\n",
       "      <th></th>\n",
       "      <th></th>\n",
       "      <th></th>\n",
       "      <th></th>\n",
       "      <th></th>\n",
       "      <th></th>\n",
       "      <th></th>\n",
       "      <th></th>\n",
       "      <th></th>\n",
       "    </tr>\n",
       "  </thead>\n",
       "  <tbody>\n",
       "  </tbody>\n",
       "</table>\n",
       "<p>0 rows × 2146 columns</p>\n",
       "</div>"
      ],
      "text/plain": [
       "Empty DataFrame\n",
       "Columns: [cov:s:crime:ID, cov:s:crime:Geographical District Code, cov:s:crime:Register, cov:s:crime:# Schools, cov:s:crime:Zip Codes, DBN, cov:c, cov:Q:crime:ID,crime:ID, cov:Q:crime:ID,crime:Geographical District Code, cov:Q:crime:ID,crime:Register, cov:Q:crime:ID,crime:# Schools, cov:Q:crime:ID,crime:Zip Codes, cov:Q:crime:Geographical District Code,crime:Geographical District Code, cov:Q:crime:Geographical District Code,crime:Register, cov:Q:crime:Geographical District Code,crime:# Schools, cov:Q:crime:Geographical District Code,crime:Zip Codes, cov:Q:crime:Register,crime:Register, cov:Q:crime:Register,crime:# Schools, cov:Q:crime:Register,crime:Zip Codes, cov:Q:crime:# Schools,crime:# Schools, cov:Q:crime:# Schools,crime:Zip Codes, cov:Q:crime:Zip Codes,crime:Zip Codes, cov:s:ap:AP Test Takers , cov:s:ap:Total Exams Taken, cov:Q:ap:AP Test Takers ,ap:AP Test Takers , cov:Q:ap:AP Test Takers ,ap:Total Exams Taken, cov:Q:ap:Total Exams Taken,ap:Total Exams Taken, cov:Q:ap:AP Test Takers ,crime:ID, cov:Q:ap:Total Exams Taken,crime:ID, cov:Q:ap:AP Test Takers ,crime:Geographical District Code, cov:Q:ap:Total Exams Taken,crime:Geographical District Code, cov:Q:ap:AP Test Takers ,crime:Register, cov:Q:ap:Total Exams Taken,crime:Register, cov:Q:ap:AP Test Takers ,crime:# Schools, cov:Q:ap:Total Exams Taken,crime:# Schools, cov:Q:ap:AP Test Takers ,crime:Zip Codes, cov:Q:ap:Total Exams Taken,crime:Zip Codes, cov:s:survey:Total Parent Response Rate (%), cov:s:survey:Total Teacher Response Rate (%), cov:s:survey:Total Academic Expectations Score, cov:s:survey:Total Communication Score, cov:s:survey:Total Engagement Score, cov:s:survey:Total Safety and Respect Score, cov:Q:survey:Total Parent Response Rate (%),survey:Total Parent Response Rate (%), cov:Q:survey:Total Parent Response Rate (%),survey:Total Teacher Response Rate (%), cov:Q:survey:Total Parent Response Rate (%),survey:Total Academic Expectations Score, cov:Q:survey:Total Parent Response Rate (%),survey:Total Communication Score, cov:Q:survey:Total Parent Response Rate (%),survey:Total Engagement Score, cov:Q:survey:Total Parent Response Rate (%),survey:Total Safety and Respect Score, cov:Q:survey:Total Teacher Response Rate (%),survey:Total Teacher Response Rate (%), cov:Q:survey:Total Teacher Response Rate (%),survey:Total Academic Expectations Score, cov:Q:survey:Total Teacher Response Rate (%),survey:Total Communication Score, cov:Q:survey:Total Teacher Response Rate (%),survey:Total Engagement Score, cov:Q:survey:Total Teacher Response Rate (%),survey:Total Safety and Respect Score, cov:Q:survey:Total Academic Expectations Score,survey:Total Academic Expectations Score, cov:Q:survey:Total Academic Expectations Score,survey:Total Communication Score, cov:Q:survey:Total Academic Expectations Score,survey:Total Engagement Score, cov:Q:survey:Total Academic Expectations Score,survey:Total Safety and Respect Score, cov:Q:survey:Total Communication Score,survey:Total Communication Score, cov:Q:survey:Total Communication Score,survey:Total Engagement Score, cov:Q:survey:Total Communication Score,survey:Total Safety and Respect Score, cov:Q:survey:Total Engagement Score,survey:Total Engagement Score, cov:Q:survey:Total Engagement Score,survey:Total Safety and Respect Score, cov:Q:survey:Total Safety and Respect Score,survey:Total Safety and Respect Score, cov:Q:survey:Total Parent Response Rate (%),crime:ID, cov:Q:survey:Total Teacher Response Rate (%),crime:ID, cov:Q:survey:Total Academic Expectations Score,crime:ID, cov:Q:survey:Total Communication Score,crime:ID, cov:Q:survey:Total Engagement Score,crime:ID, cov:Q:survey:Total Safety and Respect Score,crime:ID, cov:Q:survey:Total Parent Response Rate (%),crime:Geographical District Code, cov:Q:survey:Total Teacher Response Rate (%),crime:Geographical District Code, cov:Q:survey:Total Academic Expectations Score,crime:Geographical District Code, cov:Q:survey:Total Communication Score,crime:Geographical District Code, cov:Q:survey:Total Engagement Score,crime:Geographical District Code, cov:Q:survey:Total Safety and Respect Score,crime:Geographical District Code, cov:Q:survey:Total Parent Response Rate (%),crime:Register, cov:Q:survey:Total Teacher Response Rate (%),crime:Register, cov:Q:survey:Total Academic Expectations Score,crime:Register, cov:Q:survey:Total Communication Score,crime:Register, cov:Q:survey:Total Engagement Score,crime:Register, cov:Q:survey:Total Safety and Respect Score,crime:Register, cov:Q:survey:Total Parent Response Rate (%),crime:# Schools, cov:Q:survey:Total Teacher Response Rate (%),crime:# Schools, cov:Q:survey:Total Academic Expectations Score,crime:# Schools, cov:Q:survey:Total Communication Score,crime:# Schools, cov:Q:survey:Total Engagement Score,crime:# Schools, cov:Q:survey:Total Safety and Respect Score,crime:# Schools, cov:Q:survey:Total Parent Response Rate (%),crime:Zip Codes, cov:Q:survey:Total Teacher Response Rate (%),crime:Zip Codes, cov:Q:survey:Total Academic Expectations Score,crime:Zip Codes, cov:Q:survey:Total Communication Score,crime:Zip Codes, cov:Q:survey:Total Engagement Score,crime:Zip Codes, cov:Q:survey:Total Safety and Respect Score,crime:Zip Codes, cov:Q:survey:Total Parent Response Rate (%),ap:AP Test Takers , cov:Q:survey:Total Teacher Response Rate (%),ap:AP Test Takers , cov:Q:survey:Total Academic Expectations Score,ap:AP Test Takers , cov:Q:survey:Total Communication Score,ap:AP Test Takers , cov:Q:survey:Total Engagement Score,ap:AP Test Takers , cov:Q:survey:Total Safety and Respect Score,ap:AP Test Takers , ...]\n",
       "Index: []\n",
       "\n",
       "[0 rows x 2146 columns]"
      ]
     },
     "execution_count": 75,
     "metadata": {},
     "output_type": "execute_result"
    }
   ],
   "source": [
    "dim_idx.data"
   ]
  },
  {
   "cell_type": "code",
   "execution_count": 103,
   "id": "a9ec91f7",
   "metadata": {},
   "outputs": [
    {
     "name": "stdout",
     "output_type": "stream",
     "text": [
      "crime\n",
      "ap\n",
      "survey\n",
      "base\n"
     ]
    },
    {
     "name": "stderr",
     "output_type": "stream",
     "text": [
      "/opt/conda/lib/python3.7/site-packages/ipykernel_launcher.py:38: FutureWarning: In a future version of pandas all arguments of DataFrame.drop except for the argument 'labels' will be keyword-only\n"
     ]
    },
    {
     "name": "stdout",
     "output_type": "stream",
     "text": [
      "disc\n",
      "oss\n",
      "pe\n"
     ]
    },
    {
     "name": "stderr",
     "output_type": "stream",
     "text": [
      "/opt/conda/lib/python3.7/site-packages/ipykernel_launcher.py:84: PerformanceWarning: DataFrame is highly fragmented.  This is usually the result of calling `frame.insert` many times, which has poor performance.  Consider joining all columns at once using pd.concat(axis=1) instead.  To get a de-fragmented frame, use `newframe = frame.copy()`\n"
     ]
    },
    {
     "name": "stdout",
     "output_type": "stream",
     "text": [
      "s2tr\n",
      "sat\n",
      "pro\n",
      "transfer\n",
      "yabc\n",
      "dm1\n",
      "dm2\n",
      "dm3\n",
      "dm4\n",
      "CPU times: user 15.2 s, sys: 1.32 s, total: 16.5 s\n",
      "Wall time: 16.5 s\n"
     ]
    }
   ],
   "source": [
    "%%time\n",
    "# care about left/right ojoin\n",
    "dim_idx = index(\"DBN\")\n",
    "for sellerdata, dimension in sellers:\n",
    "    print(sellerdata.name)\n",
    "    dim_idx.absorb(sellerdata)"
   ]
  },
  {
   "cell_type": "code",
   "execution_count": 157,
   "id": "e8b3127c",
   "metadata": {},
   "outputs": [
    {
     "data": {
      "text/plain": [
       "19"
      ]
     },
     "execution_count": 157,
     "metadata": {},
     "output_type": "execute_result"
    }
   ],
   "source": [
    "# the original data will have sum be 0\n",
    "# the normalized one won't\n",
    "# shall we standardize original data? which sounds straightforard\n",
    "# or standardize the aggregated?\n",
    "\n",
    "dim_idx.covariance"
   ]
  },
  {
   "cell_type": "code",
   "execution_count": null,
   "id": "ee195252",
   "metadata": {},
   "outputs": [],
   "source": []
  },
  {
   "cell_type": "code",
   "execution_count": null,
   "id": "69144b95",
   "metadata": {},
   "outputs": [],
   "source": []
  },
  {
   "cell_type": "code",
   "execution_count": 104,
   "id": "341738c8",
   "metadata": {},
   "outputs": [
    {
     "name": "stdout",
     "output_type": "stream",
     "text": [
      "Eigenvector: \n",
      " [[ 1.06945719e-02  4.81376313e-03  2.96783371e-02 ... -1.72059825e-17\n",
      "   2.06913217e-16  3.19680614e-17]\n",
      " [ 4.00801367e-02  1.70497980e-03 -2.75018419e-02 ...  3.26430126e-16\n",
      "   6.35210821e-16 -3.22909626e-16]\n",
      " [ 9.21711028e-02  9.60571143e-03 -9.79587406e-03 ... -2.72121308e-16\n",
      "  -3.47991772e-15 -4.70836619e-16]\n",
      " ...\n",
      " [ 2.15405409e-01  2.49668272e-01 -1.85939942e-02 ...  3.72908647e-15\n",
      "  -1.82870405e-16 -3.08374353e-16]\n",
      " [ 1.87479655e-01  2.18992920e-01  1.70175871e-02 ... -5.33317066e-17\n",
      "   6.54184539e-17  3.44901978e-16]\n",
      " [ 2.04764332e-01  2.39684435e-01 -1.58271495e-02 ... -4.69481501e-16\n",
      "  -1.93419657e-16  6.19202554e-17]] \n",
      "\n",
      "Eigenvalues: \n",
      " [ 9.93927312e+00  7.37603200e+00  5.80639497e+00  5.20423328e+00\n",
      "  3.91903018e+00  3.51244881e+00  3.14782762e+00  3.09673690e+00\n",
      "  2.64843233e+00  2.65197923e+00  2.59369548e+00  2.39370402e+00\n",
      "  2.31851828e+00  1.98633770e+00  1.96050841e+00  1.92682722e+00\n",
      "  1.81033999e+00  1.71298489e+00  1.57042179e+00  1.78661580e+00\n",
      "  1.39631707e+00  1.27267633e+00  1.17143932e+00  1.06412315e+00\n",
      "  1.02824364e+00  9.76347969e-01  9.01807613e-01  8.93903989e-01\n",
      "  8.62645762e-01  8.42916019e-01  8.10311003e-01  7.43884192e-01\n",
      "  6.95853547e-01  6.66515802e-01  6.36238058e-01  6.25127654e-01\n",
      "  6.16270248e-01  5.55866377e-01  5.28429916e-01  4.76553593e-01\n",
      "  4.55658978e-01  4.23232747e-01  4.39224592e-01  3.85702086e-01\n",
      "  3.62917390e-01  3.72825047e-01  3.77172488e-01  3.14834179e-01\n",
      "  3.08045517e-01  2.42710505e-01  2.28937561e-01  2.29498646e-01\n",
      "  1.87325058e-01  1.88107672e-01  2.12085298e-01  2.07899378e-01\n",
      "  2.08425568e-01  1.70757372e-01  1.52846907e-01  1.45202461e-01\n",
      "  1.35925214e-01  1.19554592e-01  9.63523283e-02  1.04769253e-01\n",
      "  1.12624962e-01  1.14958941e-01  8.82725567e-02  7.46188137e-02\n",
      "  7.19042882e-02  7.55496461e-04  4.39403930e-03  4.17813887e-02\n",
      "  4.27559807e-02  2.80564666e-02  2.50132644e-02  5.99981704e-03\n",
      "  6.34720418e-03  7.70800169e-03  5.67142149e-02  1.39263043e-02\n",
      "  2.12977722e-02  1.25213261e-02  1.26679546e-02  6.46444969e-02\n",
      "  6.51775800e-02  6.54793680e-02  4.63229241e-02  2.11949486e-02\n",
      "  4.64245884e-02  5.57067031e-16  2.44465230e-16 -2.15837069e-17] \n",
      "\n",
      "10 selected out of 92\n"
     ]
    }
   ],
   "source": [
    "# The eigenvalues returned by linalg.eig are columns vectors, so you need to iterate over the transpose of e_vecs (since iteration over a 2D array returns row vectors by default)!!\n",
    "# https://stackoverflow.com/questions/18771486/incorrect-eigenvalues-vectors-with-numpy\n",
    "eigen_values, eigen_vectors = np.linalg.eig(dim_idx.get_covariance_matrix())\n",
    "print(\"Eigenvector: \\n\",eigen_vectors,\"\\n\")\n",
    "print(\"Eigenvalues: \\n\", eigen_values, \"\\n\")\n",
    "eigen_vectors = np.transpose(eigen_vectors)\n",
    "\n",
    "# complex result due to numerical instabilityy\n",
    "eigen_values, eigen_vectors = np.real(eigen_values), np.real(eigen_vectors)\n",
    "\n",
    "# how much to pick depends on how much variance want to explain\n",
    "variance_explained = []\n",
    "for i in eigen_values:\n",
    "     variance_explained.append((i/sum(eigen_values))*100)\n",
    "        \n",
    "# print(variance_explained)\n",
    "# find top n PC explains > 95 % of variance\n",
    "variance_explained.sort(reverse=True)\n",
    "csum = np.cumsum(variance_explained)\n",
    "topn = 0\n",
    "for i in range(len(csum)):\n",
    "    if csum[i] > 95:\n",
    "        topn = i + 1\n",
    "        break\n",
    "\n",
    "# let's just select top 10\n",
    "topn = 10\n",
    "        \n",
    "idx = (-eigen_values).argsort()[:topn]\n",
    "print(len(idx),\"selected out of\", len(eigen_vectors))\n",
    "eigen_vectors = eigen_vectors[idx]\n",
    "eigen_values = eigen_values[idx]\n"
   ]
  },
  {
   "cell_type": "code",
   "execution_count": 106,
   "id": "69e0fd34",
   "metadata": {},
   "outputs": [],
   "source": [
    "# PCA PREPROCESS IS QUITE SLOW\n",
    "kept_attrs = [\"cov:c\"]\n",
    "for i in range(len(eigen_vectors)):\n",
    "    eigen_vector = eigen_vectors[i]\n",
    "    dim_idx.agg_dimensions[\"DBN\"][\"cov:s:f\" + str(i)] = 0\n",
    "    kept_attrs.append(\"cov:s:f\" + str(i))\n",
    "    \n",
    "    for k in range(len(dim_idx.X)):\n",
    "        x2 = dim_idx.X[k]\n",
    "        dim_idx.agg_dimensions[\"DBN\"][\"cov:s:f\" + str(i)] += eigen_vector[k] * dim_idx.agg_dimensions[\"DBN\"]['cov:s:' + x2]\n",
    "    \n",
    "    for j in range(len(dim_idx.X)):\n",
    "        x1 = dim_idx.X[j]\n",
    "        dim_idx.agg_dimensions[\"DBN\"][\"pca:f\" + str(i) + \",\" + x1] = 0\n",
    "        \n",
    "        for k in range(len(dim_idx.X)):\n",
    "            x2 = dim_idx.X[k]\n",
    "            if 'cov:Q:' + x1 + \",\"+ x2 in dim_idx.agg_dimensions[\"DBN\"]:\n",
    "                dim_idx.agg_dimensions[\"DBN\"][\"pca:f\" + str(i) + \",\" + x1] += eigen_vector[k] * dim_idx.agg_dimensions[\"DBN\"]['cov:Q:' + x1 + \",\"+ x2] \n",
    "            else:\n",
    "                dim_idx.agg_dimensions[\"DBN\"][\"pca:f\" + str(i) + \",\" + x1] += eigen_vector[k] * dim_idx.agg_dimensions[\"DBN\"]['cov:Q:' + x2 + \",\"+ x1]\n",
    "                \n",
    "        \n",
    "for i in range(len(eigen_vectors)):\n",
    "    eigen_vector = eigen_vectors[i]\n",
    "    \n",
    "    for j in range(i, len(eigen_vectors)):\n",
    "        dim_idx.agg_dimensions[\"DBN\"][\"cov:Q:f\" + str(i) + \",f\" + str(j)] = 0\n",
    "        kept_attrs.append(\"cov:Q:f\" + str(i) + \",f\" + str(j))\n",
    "        for k in range(len(dim_idx.X)):\n",
    "            x = dim_idx.X[k]\n",
    "            dim_idx.agg_dimensions[\"DBN\"][\"cov:Q:f\" + str(i) + \",f\" + str(j)] += eigen_vector[k] * dim_idx.agg_dimensions[\"DBN\"][\"pca:f\" + str(j) + \",\" + x] "
   ]
  },
  {
   "cell_type": "code",
   "execution_count": 107,
   "id": "6022d8f6",
   "metadata": {},
   "outputs": [],
   "source": [
    "dim_idx.X_back = dim_idx.X\n",
    "dim_idx.X = [\"f\" + str(i) for i in range(len(eigen_vectors))]\n",
    "dim_idx.agg_dimensions[\"DBN\"] = dim_idx.agg_dimensions[\"DBN\"][kept_attrs]\n",
    "\n",
    "dim_idx.covariance = normalize(dim_idx.agg_dimensions[dim_idx.dim][kept_attrs].sum())"
   ]
  },
  {
   "cell_type": "code",
   "execution_count": null,
   "id": "0d44f09c",
   "metadata": {},
   "outputs": [],
   "source": []
  },
  {
   "cell_type": "code",
   "execution_count": null,
   "id": "4a0d62ff",
   "metadata": {},
   "outputs": [],
   "source": []
  },
  {
   "cell_type": "code",
   "execution_count": 108,
   "id": "7ee122ef",
   "metadata": {},
   "outputs": [],
   "source": [
    "dim_idx.datasets_weights = []\n",
    "for i in range(len(eigen_vectors)):\n",
    "    cur_weight = []\n",
    "    cur_sum = 0\n",
    "    for j in range(len(dim_idx.feature_sizes)):\n",
    "        featurs_size = dim_idx.feature_sizes[j]\n",
    "        cur_sum += featurs_size\n",
    "        cur_weight.append(np.square(eigen_vectors[i])[range(cur_sum - featurs_size,cur_sum)].sum())\n",
    "    dim_idx.datasets_weights.append(cur_weight)"
   ]
  },
  {
   "cell_type": "code",
   "execution_count": 109,
   "id": "d9ae8751",
   "metadata": {},
   "outputs": [
    {
     "data": {
      "text/plain": [
       "[[0.010789676635843,\n",
       "  0.00013466750834076346,\n",
       "  0.0004533825710937281,\n",
       "  0.00018061759694290767,\n",
       "  0.0016251367725000835,\n",
       "  0.0015643461226082784,\n",
       "  0.020130623696315783,\n",
       "  0.0026407990651499914,\n",
       "  0.0003829224449095598,\n",
       "  0.0025175002142075876,\n",
       "  4.385598482468755e-07,\n",
       "  1.1733782746041479e-07,\n",
       "  0.0016060332882625432,\n",
       "  0.5463714447110526,\n",
       "  0.001551219329821919,\n",
       "  0.41005107414527553],\n",
       " [0.00011984645593036206,\n",
       "  2.4023056522999378e-06,\n",
       "  0.001988214346972685,\n",
       "  0.0005724696786556588,\n",
       "  6.396414693310937e-06,\n",
       "  2.7485845687733624e-06,\n",
       "  0.0003803576670021061,\n",
       "  1.7374409164320674e-05,\n",
       "  5.036511439772911e-06,\n",
       "  0.0005158567813039317,\n",
       "  3.0430164582523935e-07,\n",
       "  4.950377393891334e-08,\n",
       "  6.3022120983469625e-06,\n",
       "  0.43349366162000397,\n",
       "  2.6998425772614157e-06,\n",
       "  0.5628862793645173],\n",
       " [0.005249843713756412,\n",
       "  7.550250916391651e-05,\n",
       "  0.580438380840354,\n",
       "  0.16317441401447724,\n",
       "  0.00038768900338699325,\n",
       "  0.00043864492373794315,\n",
       "  0.009779014141994018,\n",
       "  0.004141977091727888,\n",
       "  0.002185573530357357,\n",
       "  0.20678817756503345,\n",
       "  0.00021435579890579883,\n",
       "  6.30725857947174e-05,\n",
       "  0.0003794807661770452,\n",
       "  0.022544691461280932,\n",
       "  0.00043371481218614053,\n",
       "  0.003705467241665872],\n",
       " [0.08181340686901759,\n",
       "  0.0036627088091293453,\n",
       "  0.00712700124539969,\n",
       "  0.006967465031381743,\n",
       "  0.1291493615648875,\n",
       "  0.12568935671145115,\n",
       "  0.2931748891567751,\n",
       "  0.007217557637102159,\n",
       "  0.016090986235996557,\n",
       "  0.04531679123157864,\n",
       "  0.0002487728560238445,\n",
       "  2.282428089281785e-05,\n",
       "  0.12715049352896493,\n",
       "  0.01904525860409859,\n",
       "  0.12423958402062937,\n",
       "  0.013083542216670728],\n",
       " [0.045186551281165006,\n",
       "  0.03955189490306465,\n",
       "  0.035599635357780005,\n",
       "  0.020076700910497937,\n",
       "  0.011164117092212536,\n",
       "  0.011113240166842063,\n",
       "  0.23653337316318462,\n",
       "  0.01559372015607841,\n",
       "  0.3348974894599104,\n",
       "  0.2173618211465534,\n",
       "  0.0012080688806953722,\n",
       "  0.0005474360575398085,\n",
       "  0.01108155966339955,\n",
       "  0.004457395616556233,\n",
       "  0.011053570612960553,\n",
       "  0.004573425531559261],\n",
       " [6.882233662193914e-05,\n",
       "  9.648833388165162e-05,\n",
       "  0.00011894092184285449,\n",
       "  5.8362294047740605e-05,\n",
       "  1.5549105460000317e-05,\n",
       "  1.533565575398595e-05,\n",
       "  0.00020190126221075543,\n",
       "  2.5973730161233657e-05,\n",
       "  0.0009887084494145998,\n",
       "  0.000171047650935907,\n",
       "  6.337675993783091e-07,\n",
       "  0.9981970314682944,\n",
       "  1.5632645134470173e-05,\n",
       "  7.587718944753343e-06,\n",
       "  1.535380069706811e-05,\n",
       "  2.630858999156277e-06],\n",
       " [0.003930914204958804,\n",
       "  0.0028129003738122512,\n",
       "  0.010192608101807056,\n",
       "  0.006034097135598613,\n",
       "  0.00106539654048451,\n",
       "  0.0010935794386373549,\n",
       "  0.0028397602235850543,\n",
       "  2.414145898076675e-05,\n",
       "  0.061726946658855114,\n",
       "  0.05803128701122371,\n",
       "  0.8478554233698287,\n",
       "  0.00022496459958143466,\n",
       "  0.0010568822559214178,\n",
       "  0.0018582922676394198,\n",
       "  0.001082223113733684,\n",
       "  0.00017058324535234977],\n",
       " [0.022652600869839865,\n",
       "  0.010008388425230906,\n",
       "  0.05828346660532892,\n",
       "  0.040998547374451216,\n",
       "  0.002979069152600962,\n",
       "  0.0030378336582980187,\n",
       "  0.022838539650620816,\n",
       "  0.00010169550500159407,\n",
       "  0.2982619726374459,\n",
       "  0.36247494260354174,\n",
       "  0.15158350778278695,\n",
       "  0.001197994700635976,\n",
       "  0.0029643319302832347,\n",
       "  0.018499385118999595,\n",
       "  0.0030082549620225464,\n",
       "  0.001109469022911854],\n",
       " [0.0005180435468312239,\n",
       "  0.00019139045274219806,\n",
       "  0.0013228462628008008,\n",
       "  0.00041081487834117205,\n",
       "  9.957675680501238e-06,\n",
       "  9.669137738906298e-06,\n",
       "  0.0008156845419954383,\n",
       "  7.945728707537399e-05,\n",
       "  0.0002175704042431823,\n",
       "  0.000400612953495854,\n",
       "  0.9205442729672693,\n",
       "  8.61387082362667e-07,\n",
       "  1.004609501377813e-05,\n",
       "  0.07476127401911266,\n",
       "  9.71833714703044e-06,\n",
       "  0.0006977800534303715],\n",
       " [0.0049017752856698685,\n",
       "  0.0011008925310391996,\n",
       "  0.010389576156956138,\n",
       "  0.002886673233638778,\n",
       "  0.00025746132317018,\n",
       "  0.0002199614904003784,\n",
       "  0.018765764757702526,\n",
       "  0.0006555897066975644,\n",
       "  0.01767811028725481,\n",
       "  0.015962429958399,\n",
       "  0.0773920427382251,\n",
       "  0.00017060773035185647,\n",
       "  0.00025210200385709675,\n",
       "  0.840940225205471,\n",
       "  0.0002133179331161916,\n",
       "  0.00821346965805046]]"
      ]
     },
     "execution_count": 109,
     "metadata": {},
     "output_type": "execute_result"
    }
   ],
   "source": [
    "dim_idx.datasets_weights"
   ]
  },
  {
   "cell_type": "code",
   "execution_count": 213,
   "id": "b3e5eb98",
   "metadata": {},
   "outputs": [
    {
     "data": {
      "text/plain": [
       "'s2tr'"
      ]
     },
     "execution_count": 213,
     "metadata": {},
     "output_type": "execute_result"
    }
   ],
   "source": [
    "dim_idx.datasets[6]"
   ]
  },
  {
   "cell_type": "code",
   "execution_count": 318,
   "id": "81fd63ea",
   "metadata": {},
   "outputs": [
    {
     "name": "stdout",
     "output_type": "stream",
     "text": [
      "f0 -0.010958208499719829\n",
      "f1 -0.0009979325365419376\n",
      "f2 -0.00010502350868153743\n",
      "f3 0.004026037704193564\n",
      "f4 0.035232621694517956\n",
      "f5 -0.0008108239844113367\n",
      "f6 0.001412319230617955\n",
      "f7 -0.006316715256719216\n",
      "f8 -0.0015993149038797578\n",
      "f9 0.008699608870647238\n"
     ]
    }
   ],
   "source": [
    "for x in dim_idx.X:\n",
    "    print(x, dim_idx.covariance[\"cov:s:\" + x])"
   ]
  },
  {
   "cell_type": "code",
   "execution_count": 109,
   "id": "833d4484",
   "metadata": {},
   "outputs": [
    {
     "data": {
      "text/plain": [
       "range(0, 2)"
      ]
     },
     "execution_count": 109,
     "metadata": {},
     "output_type": "execute_result"
    }
   ],
   "source": []
  },
  {
   "cell_type": "code",
   "execution_count": 101,
   "id": "d1d3a40d",
   "metadata": {},
   "outputs": [
    {
     "data": {
      "text/plain": [
       "array([[ 3.89006788e+00,  2.82759927e-16,  4.02455846e-16,\n",
       "         9.71445147e-17, -5.55111512e-17,  3.33066907e-16,\n",
       "        -9.71445147e-17,  4.02455846e-16, -1.66533454e-16,\n",
       "        -2.22044605e-16, -5.55111512e-17, -3.33066907e-16,\n",
       "        -1.02348685e-16],\n",
       "       [ 2.85362012e-16,  2.05225767e+00, -7.57044167e-16,\n",
       "        -1.40566812e-16, -1.50487262e-16, -5.20417043e-18,\n",
       "         9.75781955e-18,  6.33933010e-16,  5.94142791e-17,\n",
       "         2.41126563e-16, -2.50667542e-16,  2.27248775e-16,\n",
       "        -1.36304542e-16],\n",
       "       [ 3.45209972e-16, -6.92967819e-16,  1.36480071e+00,\n",
       "        -3.56323044e-16, -1.07552856e-16,  2.19876201e-16,\n",
       "         7.32486988e-16,  1.39515136e-15,  5.46221054e-16,\n",
       "        -3.20923843e-16,  1.56125113e-16, -1.04950770e-16,\n",
       "         6.42864126e-17],\n",
       "       [ 1.12757026e-16, -1.67942917e-16, -3.76868675e-16,\n",
       "         1.16391821e+00,  9.43255890e-17,  3.03576608e-17,\n",
       "         1.90602742e-16, -1.18199721e-15, -4.70760583e-16,\n",
       "         3.12250226e-17, -6.93889390e-18,  9.19403442e-17,\n",
       "        -4.16062584e-17],\n",
       "       [-4.16333634e-17, -2.33211887e-16, -1.76291273e-16,\n",
       "         2.42861287e-16,  9.38330716e-01,  1.65492620e-15,\n",
       "        -4.68375339e-16, -3.87710697e-16, -4.93528829e-16,\n",
       "        -1.52655666e-16, -9.88792381e-17,  1.45716772e-16,\n",
       "        -1.18178037e-17],\n",
       "       [ 4.16333634e-16, -8.67361738e-18,  1.20129601e-16,\n",
       "        -3.94649591e-17,  1.64278313e-15,  9.07734682e-01,\n",
       "         1.02782366e-15,  2.02962647e-16, -4.47558657e-16,\n",
       "        -8.32667268e-17, -6.93889390e-18,  9.02056208e-17,\n",
       "         8.80914265e-17],\n",
       "       [-1.82145965e-16, -3.33934269e-17,  7.19042881e-16,\n",
       "         1.19804340e-16, -4.53630189e-16,  9.73179870e-16,\n",
       "         8.15254443e-01,  9.46508497e-16, -5.22585447e-16,\n",
       "         2.15105711e-16, -2.68882139e-17, -1.28369537e-16,\n",
       "        -8.98803601e-17],\n",
       "       [ 3.98986399e-16,  6.65781449e-16,  1.37579835e-15,\n",
       "        -8.82432148e-16, -3.53883589e-16,  1.21430643e-16,\n",
       "         9.53230550e-16,  7.58561757e-01, -2.77555756e-17,\n",
       "         2.63677968e-16, -4.94396191e-17, -1.04083409e-17,\n",
       "         1.03947883e-17],\n",
       "       [-2.22044605e-16,  4.62954328e-17,  4.94721451e-16,\n",
       "        -3.51173084e-16, -4.91794105e-16, -3.53016227e-16,\n",
       "        -5.38414799e-16, -3.25260652e-18,  5.78475121e-01,\n",
       "         9.71445147e-17, -4.33680869e-17,  9.19403442e-17,\n",
       "        -8.87012902e-17],\n",
       "       [-1.52655666e-16,  2.45680212e-16, -2.88831459e-16,\n",
       "         4.94396191e-17, -1.57859836e-16, -6.93889390e-17,\n",
       "         2.44596010e-16,  2.62810607e-16,  5.37764278e-17,\n",
       "         2.00338658e-01,  9.36750677e-17,  1.66533454e-16,\n",
       "         2.78097857e-17],\n",
       "       [-2.34187669e-17, -2.53730413e-16,  1.32896081e-16,\n",
       "        -7.48099499e-18, -1.06685494e-16, -2.68882139e-17,\n",
       "        -2.25514052e-17, -5.45353693e-17, -3.33934269e-17,\n",
       "         1.90819582e-16,  6.50419968e-02, -5.74193471e-16,\n",
       "         4.77624938e-17],\n",
       "       [-4.28476699e-16,  2.29119024e-16, -8.73866951e-17,\n",
       "         8.73053799e-17,  1.41596804e-16,  8.60856525e-17,\n",
       "        -1.35091591e-16, -1.16551734e-17,  7.61109925e-17,\n",
       "         2.25514052e-16, -4.85505733e-16,  4.58408129e-02,\n",
       "         4.43201519e-17],\n",
       "       [-1.02326662e-16, -3.25003577e-16,  2.32346167e-17,\n",
       "        -3.28057978e-17, -1.47157152e-17,  8.58201077e-17,\n",
       "        -9.75014332e-17,  1.66075632e-17, -8.99347820e-17,\n",
       "         2.69339537e-17,  4.93943028e-17,  4.23313186e-17,\n",
       "         7.80305061e-03]])"
      ]
     },
     "execution_count": 101,
     "metadata": {},
     "output_type": "execute_result"
    }
   ],
   "source": [
    "np.matmul(np.matmul(eigen_vectors, dim_idx.get_covariance_matrix()), np.transpose(eigen_vectors))"
   ]
  },
  {
   "cell_type": "code",
   "execution_count": null,
   "id": "47adf447",
   "metadata": {},
   "outputs": [],
   "source": []
  },
  {
   "cell_type": "code",
   "execution_count": 68,
   "id": "fc2e631b",
   "metadata": {},
   "outputs": [
    {
     "data": {
      "text/plain": [
       "(13,)"
      ]
     },
     "execution_count": 68,
     "metadata": {},
     "output_type": "execute_result"
    }
   ],
   "source": [
    "np.matmul(np.matmul(eigen_vectors, dim_idx.get_covariance_matrix()), np.transpose(eigen_vectors))"
   ]
  },
  {
   "cell_type": "code",
   "execution_count": 142,
   "id": "8008b95b",
   "metadata": {},
   "outputs": [
    {
     "name": "stdout",
     "output_type": "stream",
     "text": [
      "Eigenvector: \n",
      " [[ 0.95709203  0.28978415]\n",
      " [-0.28978415  0.95709203]] \n",
      "\n",
      "Eigenvalues: \n",
      " [4.30277564 0.69722436] \n",
      "\n"
     ]
    },
    {
     "data": {
      "text/plain": [
       "array([[ 4.30277564e+00, -2.22044605e-16],\n",
       "       [ 2.22044605e-16,  6.97224362e-01]])"
      ]
     },
     "execution_count": 142,
     "metadata": {},
     "output_type": "execute_result"
    }
   ],
   "source": [
    "matrix = np.array([[4, -1], [-1, 1]])\n",
    "eigen_values, eigen_vectors = np.linalg.eig(matrix)\n",
    "print(\"Eigenvector: \\n\",eigen_vectors,\"\\n\")\n",
    "print(\"Eigenvalues: \\n\", eigen_values, \"\\n\")\n",
    "eigen_vectors = np.transpose(eigen_vectors)\n",
    "\n",
    "m1 = np.array([[2, 1], [1, 0]])\n",
    "m2 = np.array([[2, -2], [-2, 1]])\n",
    "np.matmul(np.matmul(eigen_vectors, m1), np.transpose(eigen_vectors)) + np.matmul(np.matmul(eigen_vectors, m2), np.transpose(eigen_vectors))"
   ]
  },
  {
   "cell_type": "code",
   "execution_count": 8,
   "id": "06bcbc17",
   "metadata": {},
   "outputs": [
    {
     "name": "stdout",
     "output_type": "stream",
     "text": [
      "Eigenvector: \n",
      " [[-3.37080684e-03 -7.06999746e-01 -5.95482750e-03 -1.83758696e-03\n",
      "   6.91089647e-03 -7.07114978e-01  5.42439017e-03 -3.51907383e-03]\n",
      " [-3.50408020e-03 -7.06999882e-01 -7.69333080e-03  5.84580731e-04\n",
      "   8.42847584e-03  7.06963425e-01 -1.38137293e-02 -4.49631624e-03]\n",
      " [-2.66840288e-01  7.93065788e-03 -5.35914921e-01  7.80601852e-01\n",
      "   1.75726381e-01 -2.69777854e-03 -3.55658237e-02 -6.11108891e-03]\n",
      " [-2.03309296e-01  7.60321918e-03 -7.80881289e-01 -5.76402193e-01\n",
      "  -1.25183273e-01  4.94466483e-04  2.66147596e-02 -1.45946334e-02]\n",
      " [-4.79467385e-01 -1.16125475e-03  1.50199945e-01 -9.68170916e-02\n",
      "   1.59997023e-01 -1.24333834e-03 -1.43466703e-01  8.31861056e-01]\n",
      " [-4.66291042e-01  1.18652295e-02  1.68708555e-01 -1.82355091e-01\n",
      "   5.03876962e-01 -6.77221877e-03 -4.67714305e-01 -4.98017467e-01]\n",
      " [-4.83862521e-01 -2.30798020e-03  1.68135309e-01 -3.08731732e-02\n",
      "   7.79729578e-02  1.13583138e-02  8.34643476e-01 -1.83876518e-01]\n",
      " [-4.53870799e-01 -5.86202424e-03  1.53729894e-01  1.21809117e-01\n",
      "  -8.17165690e-01 -2.67974807e-03 -2.48671240e-01 -1.60910726e-01]] \n",
      "\n",
      "Eigenvalues: \n",
      " [3.98362116 1.99105478 0.98178995 0.70014024 0.21003852 0.00778102\n",
      " 0.04925685 0.07038147] \n",
      "\n"
     ]
    }
   ],
   "source": []
  },
  {
   "cell_type": "code",
   "execution_count": 43,
   "id": "ae81f8d6",
   "metadata": {},
   "outputs": [],
   "source": []
  },
  {
   "cell_type": "code",
   "execution_count": 41,
   "id": "b0aec999",
   "metadata": {},
   "outputs": [
    {
     "data": {
      "text/plain": [
       "array([3.98362116, 1.99105478, 0.98178995, 0.70014024, 0.21003852,\n",
       "       0.07038147, 0.04925685])"
      ]
     },
     "execution_count": 41,
     "metadata": {},
     "output_type": "execute_result"
    }
   ],
   "source": [
    "eigen_values[idx]"
   ]
  },
  {
   "cell_type": "code",
   "execution_count": 47,
   "id": "03f5ff78",
   "metadata": {},
   "outputs": [
    {
     "data": {
      "text/plain": [
       "1.0000000000000002"
      ]
     },
     "execution_count": 47,
     "metadata": {},
     "output_type": "execute_result"
    }
   ],
   "source": [
    "s = 0\n",
    "for i in range(len(eigen_vectors[0])):\n",
    "    s += eigen_vectors[0][i] *eigen_vectors[0][i]\n",
    "#     s += eigen_vectors[i][0] *eigen_vectors[i][0]\n",
    "#     s += eigen_vectors[0][i] *eigen_vectors[1][i]\n",
    "s"
   ]
  },
  {
   "cell_type": "code",
   "execution_count": 205,
   "id": "a0321dc6",
   "metadata": {},
   "outputs": [
    {
     "data": {
      "image/png": "[encoded data removed]",
      "text/plain": [
       "<Figure size 432x288 with 2 Axes>"
      ]
     },
     "metadata": {
      "needs_background": "light"
     },
     "output_type": "display_data"
    }
   ],
   "source": [
    "#### import numpy as np\n",
    "import matplotlib.pyplot as plt\n",
    "\n",
    "plt.imshow(eigen_vectors)\n",
    "plt.colorbar()\n",
    "plt.show()"
   ]
  },
  {
   "cell_type": "code",
   "execution_count": 34,
   "id": "dd327509",
   "metadata": {},
   "outputs": [],
   "source": []
  },
  {
   "cell_type": "code",
   "execution_count": 3,
   "id": "a765977d",
   "metadata": {},
   "outputs": [
    {
     "name": "stderr",
     "output_type": "stream",
     "text": [
      "/home/jupyter/arda/arda-datasets/school/datamarket.py:157: SettingWithCopyWarning: \n",
      "A value is trying to be set on a copy of a slice from a DataFrame.\n",
      "Try using .loc[row_indexer,col_indexer] = value instead\n",
      "\n",
      "See the caveats in the documentation: https://pandas.pydata.org/pandas-docs/stable/user_guide/indexing.html#returning-a-view-versus-a-copy\n",
      "  self.data['cov:c'] = 1\n",
      "/home/jupyter/arda/arda-datasets/school/datamarket.py:161: SettingWithCopyWarning: \n",
      "A value is trying to be set on a copy of a slice from a DataFrame.\n",
      "Try using .loc[row_indexer,col_indexer] = value instead\n",
      "\n",
      "See the caveats in the documentation: https://pandas.pydata.org/pandas-docs/stable/user_guide/indexing.html#returning-a-view-versus-a-copy\n",
      "  self.data['cov:Q:' + tablename + \":\" + attributes[i] + \",\"+ tablename + \":\" + attributes[j]] = self.data[attributes[i]] * self.data[attributes[j]]\n",
      "/home/jupyter/arda/arda-datasets/school/datamarket.py:161: PerformanceWarning: DataFrame is highly fragmented.  This is usually the result of calling `frame.insert` many times, which has poor performance.  Consider joining all columns at once using pd.concat(axis=1) instead.  To get a de-fragmented frame, use `newframe = frame.copy()`\n",
      "  self.data['cov:Q:' + tablename + \":\" + attributes[i] + \",\"+ tablename + \":\" + attributes[j]] = self.data[attributes[i]] * self.data[attributes[j]]\n",
      "/opt/conda/lib/python3.7/site-packages/pandas/core/arraylike.py:364: RuntimeWarning: divide by zero encountered in log\n",
      "  result = getattr(ufunc, method)(*inputs, **kwargs)\n"
     ]
    }
   ],
   "source": [
    "# read buyer dataste\n",
    "crime = pd.read_csv(\"crime.csv\")\n",
    "crimedata = agg_dataset()\n",
    "crimedata.load_seller(crime, [\"DBN\"], \"crime\")\n",
    "crimedata.compute_agg(True)\n",
    "\n",
    "esl = pd.read_csv(\"esl.csv\")\n",
    "esldata = agg_dataset()\n",
    "esldata.load_seller(esl, [[\"DBN\",\"Grade\"]], \"esl\")\n",
    "esldata.compute_agg(True)\n",
    "\n",
    "ap = pd.read_csv(\"ap.csv\")\n",
    "apdata = agg_dataset()\n",
    "apdata.load_seller(ap, [\"DBN\"], \"ap\")\n",
    "apdata.compute_agg(True)\n",
    "\n",
    "survey = pd.read_csv(\"2013_NYC_School_Survey.csv\")\n",
    "surveydata = agg_dataset()\n",
    "surveydata.load_seller(survey, [\"DBN\"], \"survey\")\n",
    "surveydata.compute_agg(True)\n",
    "\n",
    "base = pd.read_csv(\"base.csv\")\n",
    "basedata = agg_dataset()\n",
    "basedata.load_seller(base, [\"DBN\"], \"base\")\n",
    "basedata.compute_agg(True)\n",
    "\n",
    "disc = pd.read_csv(\"disc.csv\")\n",
    "discdata = agg_dataset()\n",
    "discdata.load_seller(disc, [\"DBN\"], \"disc\")\n",
    "discdata.compute_agg(True)\n",
    "\n",
    "math = pd.read_csv(\"math.csv\")\n",
    "mathdata = agg_dataset()\n",
    "mathdata.load_seller(math, [[\"DBN\",\"Grade\"]], \"math\")\n",
    "mathdata.compute_agg(True)\n",
    "\n",
    "oss = pd.read_csv(\"oss.csv\")\n",
    "ossdata = agg_dataset()\n",
    "ossdata.load_seller(oss, [\"DBN\"], \"oss\")\n",
    "ossdata.compute_agg(True)\n",
    "\n",
    "pe = pd.read_csv(\"pe.csv\")\n",
    "pedata = agg_dataset()\n",
    "pedata.load_seller(pe, [\"DBN\"], \"pe\")\n",
    "pedata.compute_agg(True)\n",
    "\n",
    "s2tr = pd.read_csv(\"s2tr.csv\")\n",
    "s2trdata = agg_dataset()\n",
    "s2trdata.load_seller(s2tr, [\"DBN\"], \"s2tr\")\n",
    "s2trdata.compute_agg(True)\n",
    "\n",
    "sat = pd.read_csv(\"sat.csv\")\n",
    "satdata = agg_dataset()\n",
    "satdata.load_seller(sat, [\"DBN\"], \"sat\")\n",
    "satdata.compute_agg(True)\n",
    "\n",
    "pro = pd.read_csv(\"Schools_Progress_Report_2012-2013.csv\")\n",
    "prodata = agg_dataset()\n",
    "prodata.load_seller(pro, [\"DBN\"], \"pro\")\n",
    "prodata.compute_agg(True)\n",
    "\n",
    "\n",
    "spy = pd.read_csv(\"spy.csv\")\n",
    "spydata = agg_dataset()\n",
    "spydata.load_seller(spy, [\"Year\"], \"spy\")\n",
    "spydata.compute_agg(True)\n",
    "\n",
    "transfer = pd.read_csv(\"transfer.csv\")\n",
    "transferdata = agg_dataset()\n",
    "transferdata.load_seller(transfer, [\"DBN\"], \"transfer\")\n",
    "transferdata.compute_agg(True)\n",
    "\n",
    "yabc = pd.read_csv(\"yabc.csv\")\n",
    "yabcdata = agg_dataset()\n",
    "yabcdata.load_seller(yabc, [\"DBN\"], \"yabc\")\n",
    "yabcdata.compute_agg(True)\n",
    "\n",
    "dm1 = pd.read_csv(\"other/datamart.socrata.data-cityofnewyork-us.22rr-ujq3\")\n",
    "dm1data = agg_dataset()\n",
    "dm1data.load_seller(dm1, [\"DBN\"], \"dm1\")\n",
    "dm1data.compute_agg(True)\n",
    "\n",
    "dm2 = pd.read_csv(\"other/datamart.socrata.data-cityofnewyork-us.25aa-q86c\")\n",
    "dm2data = agg_dataset()\n",
    "dm2data.load_seller(dm2, [\"DBN\"], \"dm2\")\n",
    "dm2data.compute_agg(True)\n",
    "\n",
    "dm3 = pd.read_csv(\"other/datamart.socrata.data-cityofnewyork-us.29bv-qqsy\")\n",
    "dm3data = agg_dataset()\n",
    "dm3data.load_seller(dm3, [\"DBN\"], \"dm3\")\n",
    "dm3data.compute_agg(True)\n",
    "\n",
    "dm4 = pd.read_csv(\"other/datamart.socrata.data-cityofnewyork-us.29ry-u5bf\")\n",
    "dm4data = agg_dataset()\n",
    "dm4data.load_seller(dm4, [\"DBN\"], \"dm4\")\n",
    "dm4data.compute_agg(True)\n",
    "\n",
    "dm5 = pd.read_csv(\"other/datamart.socrata.data-cityofnewyork-us.43qc-8vv8\")\n",
    "dm5data = agg_dataset()\n",
    "dm5data.load_seller(dm5, [[\"DBN\",\"Grade\"]], \"dm5\")\n",
    "dm5data.compute_agg(True)"
   ]
  },
  {
   "cell_type": "code",
   "execution_count": 5,
   "id": "b7d88617",
   "metadata": {},
   "outputs": [
    {
     "name": "stderr",
     "output_type": "stream",
     "text": [
      "/home/jupyter/arda/arda-datasets/school/datamarket.py:290: FutureWarning: In a future version of pandas all arguments of DataFrame.drop except for the argument 'labels' will be keyword-only\n",
      "  join = join.drop('cov:c_y', 1)\n",
      "/home/jupyter/arda/arda-datasets/school/datamarket.py:317: PerformanceWarning: DataFrame is highly fragmented.  This is usually the result of calling `frame.insert` many times, which has poor performance.  Consider joining all columns at once using pd.concat(axis=1) instead.  To get a de-fragmented frame, use `newframe = frame.copy()`\n",
      "  join['cov:Q:' + att2 + \",\" + att1] = join['cov:s:' + att2] * join['cov:s:' + att1]/join['cov:c']\n"
     ]
    },
    {
     "name": "stdout",
     "output_type": "stream",
     "text": [
      "math ['math:Level 4 %', 'math:cbrLevel 1 %', 'math:logYear', 'math:cbrYear', 'math:cbrNumber Tested'] 0.6217600975927439\n",
      "dm5 ['math:Level 4 %', 'math:cbrLevel 1 %', 'math:logYear', 'math:cbrYear', 'math:cbrNumber Tested', 'dm5:sqNum Level 4', 'dm5:cbrPct Level 3 and 4', 'dm5:Number Tested'] 0.7810190038694833\n",
      "sat ['math:Level 4 %', 'math:cbrLevel 1 %', 'math:logYear', 'math:cbrYear', 'sat:logWriting Mean', 'sat:Mathematics Mean', 'sat:cbrNumber of Test Takers', 'sat:cbrCritical Reading Mean', 'sat:logCritical Reading Mean', 'dm5:cbrPct Level 3 and 4'] 0.7412042773002985\n",
      "ap ['math:Level 4 %', 'math:cbrLevel 1 %', 'math:logYear', 'math:cbrYear', 'ap:sqTotal Exams Taken', 'gender:Number Tested', 'sat:cbrNumber of Test Takers'] 0.7611116405848909\n",
      "yabc ['math:Level 4 %', 'math:cbrLevel 1 %', 'math:logYear', 'math:cbrYear', 'ap:sqTotal Exams Taken', 'gender:Number Tested', 'sat:cbrNumber of Test Takers', 'yabc:sq% Overage', 'yabc:cbrClosing the Achievement Gap Points', 'yabc:Average Math Proficiency'] 0.8805558202924454\n",
      "transfer ['math:Level 4 %', 'math:cbrLevel 1 %', 'math:logYear', 'math:cbrYear', 'ap:sqTotal Exams Taken', 'gender:Number Tested', 'sat:cbrNumber of Test Takers', 'yabc:sq% Overage', 'transfer:logAverage English Proficiency'] 0.8407410937232606\n",
      "CPU times: user 2min 11s, sys: 2.29 s, total: 2min 13s\n",
      "Wall time: 2min 12s\n"
     ]
    }
   ],
   "source": [
    "%%time\n",
    "sellers = [(crimedata, \"DBN\"), (apdata, \"DBN\"), (surveydata, \"DBN\"), \n",
    "           (basedata, \"DBN\"), (discdata, \"DBN\"), (mathdata, (\"DBN\",\"Grade\")), \n",
    "           (ossdata, \"DBN\"), (pedata, \"DBN\"), (s2trdata, \"DBN\"), \n",
    "           (satdata, \"DBN\"), (prodata, \"DBN\"), (spydata, \"Year\"),\n",
    "           (transferdata, \"DBN\"), (yabcdata, \"DBN\"), (dm1data, \"DBN\"),\n",
    "           (dm2data, \"DBN\"), (dm3data, \"DBN\"), (dm4data, \"DBN\"), (dm5data, (\"DBN\",\"Grade\"))]\n",
    "\n",
    "# find m best datasets to augment\n",
    "bought = set()\n",
    "m = 6\n",
    "\n",
    "for i in range(m):\n",
    "    best_seller = None\n",
    "    best_seller_attrs = []\n",
    "    best_dimension = None\n",
    "    best_r2 = 0\n",
    "\n",
    "    for sellerdata, dimension in sellers:\n",
    "        # check if current seller has been bought\n",
    "        if sellerdata.name in bought:\n",
    "            continue\n",
    "\n",
    "        # find the attributes and r2 of augmenting\n",
    "        cur_atts, final_r2 = select_features(gender_train, gender_test, sellerdata, dimension,10)\n",
    "\n",
    "        if final_r2 > best_r2:\n",
    "            best_seller = sellerdata\n",
    "            best_dimension = dimension\n",
    "            best_seller_attrs = cur_atts\n",
    "            best_r2 = final_r2\n",
    "\n",
    "\n",
    "    print(best_seller.name, best_seller_attrs, best_r2)\n",
    "    \n",
    "    # absorb the best seller\n",
    "    gender_train.absorb(best_seller, best_dimension, [x for x in best_seller_attrs if x in best_seller.X])\n",
    "    gender_test.absorb(best_seller, best_dimension, [x for x in best_seller_attrs if x in best_seller.X])\n",
    "    bought.add(best_seller.name)"
   ]
  },
  {
   "cell_type": "code",
   "execution_count": 7,
   "id": "1fbc1608",
   "metadata": {},
   "outputs": [
    {
     "data": {
      "text/plain": [
       "['gender:Mean Scale Score',\n",
       " 'gender:Number Tested',\n",
       " 'math:Level 4 %',\n",
       " 'math:cbrLevel 1 %',\n",
       " 'math:logYear',\n",
       " 'math:cbrYear',\n",
       " 'math:cbrNumber Tested',\n",
       " 'dm5:sqNum Level 4',\n",
       " 'dm5:cbrPct Level 3 and 4',\n",
       " 'dm5:Number Tested',\n",
       " 'sat:logWriting Mean',\n",
       " 'sat:Mathematics Mean',\n",
       " 'sat:cbrNumber of Test Takers',\n",
       " 'sat:cbrCritical Reading Mean',\n",
       " 'sat:logCritical Reading Mean',\n",
       " 'ap:sqTotal Exams Taken',\n",
       " 'yabc:sq% Overage',\n",
       " 'yabc:cbrClosing the Achievement Gap Points',\n",
       " 'yabc:Average Math Proficiency',\n",
       " 'transfer:logAverage English Proficiency']"
      ]
     },
     "execution_count": 7,
     "metadata": {},
     "output_type": "execute_result"
    }
   ],
   "source": [
    "gender_train.X"
   ]
  },
  {
   "cell_type": "code",
   "execution_count": null,
   "id": "0b966d04",
   "metadata": {},
   "outputs": [],
   "source": []
  }
 ],
 "metadata": {
  "environment": {
   "name": "common-cpu.m79",
   "type": "gcloud",
   "uri": "gcr.io/deeplearning-platform-release/base-cpu:m79"
  },
  "kernelspec": {
   "display_name": "Python [conda env:hc36]",
   "language": "python",
   "name": "conda-env-hc36-py"
  },
  "language_info": {
   "codemirror_mode": {
    "name": "ipython",
    "version": 3
   },
   "file_extension": ".py",
   "mimetype": "text/x-python",
   "name": "python",
   "nbconvert_exporter": "python",
   "pygments_lexer": "ipython3",
   "version": "3.6.13"
  }
 },
 "nbformat": 4,
 "nbformat_minor": 5
}

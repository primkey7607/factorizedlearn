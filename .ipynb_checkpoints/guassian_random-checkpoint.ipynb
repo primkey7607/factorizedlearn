{
 "cells": [
  {
   "cell_type": "code",
   "execution_count": 1,
   "id": "3c8646a6",
   "metadata": {},
   "outputs": [],
   "source": [
    "import pandas as pd \n",
    "from datamarket import *\n",
    "import matplotlib.pyplot as plt\n",
    "import numpy as np\n"
   ]
  },
  {
   "cell_type": "code",
   "execution_count": 347,
   "id": "b00ffc3d",
   "metadata": {},
   "outputs": [
    {
     "data": {
      "text/html": [
       "<div>\n",
       "<style scoped>\n",
       "    .dataframe tbody tr th:only-of-type {\n",
       "        vertical-align: middle;\n",
       "    }\n",
       "\n",
       "    .dataframe tbody tr th {\n",
       "        vertical-align: top;\n",
       "    }\n",
       "\n",
       "    .dataframe thead th {\n",
       "        text-align: right;\n",
       "    }\n",
       "</style>\n",
       "<table border=\"1\" class=\"dataframe\">\n",
       "  <thead>\n",
       "    <tr style=\"text-align: right;\">\n",
       "      <th></th>\n",
       "      <th>A</th>\n",
       "      <th>B</th>\n",
       "      <th>C</th>\n",
       "    </tr>\n",
       "  </thead>\n",
       "  <tbody>\n",
       "  </tbody>\n",
       "</table>\n",
       "</div>"
      ],
      "text/plain": [
       "Empty DataFrame\n",
       "Columns: [A, B, C]\n",
       "Index: []"
      ]
     },
     "execution_count": 347,
     "metadata": {},
     "output_type": "execute_result"
    }
   ],
   "source": [
    "df = pd.DataFrame(columns =['A', 'B', 'C'])\n",
    "df"
   ]
  },
  {
   "cell_type": "code",
   "execution_count": 8,
   "id": "9decc5ef",
   "metadata": {},
   "outputs": [
    {
     "data": {
      "text/plain": [
       "4.394684852092264"
      ]
     },
     "execution_count": 8,
     "metadata": {},
     "output_type": "execute_result"
    }
   ],
   "source": [
    "eps = 1\n",
    "delta = 0.05\n",
    "noise = (2*math.log(1.25/delta) * 3)**0.5/eps\n",
    "noise"
   ]
  },
  {
   "cell_type": "code",
   "execution_count": 683,
   "id": "00851fbf",
   "metadata": {},
   "outputs": [
    {
     "data": {
      "text/plain": [
       "[-0.8556053751340718]"
      ]
     },
     "execution_count": 683,
     "metadata": {},
     "output_type": "execute_result"
    }
   ],
   "source": [
    "\n",
    "linear"
   ]
  },
  {
   "cell_type": "code",
   "execution_count": 795,
   "id": "59d7fb03",
   "metadata": {},
   "outputs": [],
   "source": [
    "linear = []\n",
    "ridge = []\n",
    "for i in range(20):\n",
    "    # assume five group by key, each with k tuples.\n",
    "    parameters = []\n",
    "    for att in [\"A\",\"B\",\"C\"]:\n",
    "        column = []\n",
    "        for i in range(100):\n",
    "            column.append(random.uniform(0, math.sqrt(3)/3))\n",
    "        df[att] = column\n",
    "        parameters.append(random.randint(0, 100))\n",
    "\n",
    "    parameters.append(random.randint(0, 100))\n",
    "\n",
    "    # Y is not in the seller, but buyer. So no noise.\n",
    "    df[\"Y\"] = parameters[0] * df[\"A\"] + parameters[1] * df[\"B\"] + parameters[2] * df[\"C\"]+ parameters[3]\n",
    "    df[\"D\"] = range(100)\n",
    "\n",
    "    # consider duplicates, which decrease the noise by k\n",
    "#     print(parameters)\n",
    "\n",
    "    df1 = df[[\"A\",\"B\",\"C\",\"D\"]]\n",
    "    df2 = df[[\"D\",\"Y\"]]\n",
    "\n",
    "    testdata = agg_dataset()\n",
    "    testdata.load_seller(df, [], \"\", False)\n",
    "    testdata.compute_agg()\n",
    "    prodata = agg_dataset()\n",
    "    prodata.load_seller(df1, [\"D\"], \"\", False)\n",
    "    prodata.compute_agg()\n",
    "    res = agg_dataset()\n",
    "    res.load_seller(df2, [\"D\"], \"\", False)\n",
    "    res.compute_agg()\n",
    "\n",
    "    for col in prodata.agg_dimensions[\"D\"].columns:\n",
    "        prodata.agg_dimensions[\"D\"][col] += np.random.normal(0, noise, len(prodata.agg_dimensions[\"D\"]))/150\n",
    "\n",
    "    join_test = connect(prodata, res, \"D\")\n",
    "    join_test_cov = join_test.sum()\n",
    "    parameter = ridge_linear_regression(join_test_cov,[\":A\",\":B\",\":C\"], \":Y\",0)\n",
    "    res1 = r2(testdata.data.sum(),[\":A\",\":B\",\":C\"], \":Y\", parameter)\n",
    "    parameter = ridge_linear_regression(join_test_cov,[\":A\",\":B\",\":C\"], \":Y\",0.1)\n",
    "    res2 = max(res1, r2(testdata.data.sum(),[\":A\",\":B\",\":C\"], \":Y\", parameter))\n",
    "    parameter = ridge_linear_regression(join_test_cov,[\":A\",\":B\",\":C\"], \":Y\",1)\n",
    "    res2 = max(res2, r2(testdata.data.sum(),[\":A\",\":B\",\":C\"], \":Y\", parameter))\n",
    "    parameter = ridge_linear_regression(join_test_cov,[\":A\",\":B\",\":C\"], \":Y\",10)\n",
    "    res2 = max(res2, r2(testdata.data.sum(),[\":A\",\":B\",\":C\"], \":Y\", parameter))\n",
    "    parameter = ridge_linear_regression(join_test_cov,[\":A\",\":B\",\":C\"], \":Y\",100)\n",
    "    res2 = max(res2, r2(testdata.data.sum(),[\":A\",\":B\",\":C\"], \":Y\", parameter))\n",
    "    parameter = ridge_linear_regression(join_test_cov,[\":A\",\":B\",\":C\"], \":Y\",1000)\n",
    "    res2 = max(res2, r2(testdata.data.sum(),[\":A\",\":B\",\":C\"], \":Y\", parameter))\n",
    "#     print(res1, res2)\n",
    "    linear.append(res1)\n",
    "    ridge.append(res2)"
   ]
  },
  {
   "cell_type": "code",
   "execution_count": null,
   "id": "c34391ff",
   "metadata": {},
   "outputs": [],
   "source": []
  },
  {
   "cell_type": "code",
   "execution_count": 796,
   "id": "4b9e4e2a",
   "metadata": {},
   "outputs": [
    {
     "name": "stdout",
     "output_type": "stream",
     "text": [
      "0.04648969168323929\n",
      "0.9469365008011177\n",
      "0.038682474500558936\n",
      "0.9577776495326722\n"
     ]
    }
   ],
   "source": [
    "print(statistics.stdev(linear))\n",
    "print(sum(linear)/len(linear))\n",
    "print(statistics.stdev(ridge))\n",
    "print(sum(ridge)/len(ridge))"
   ]
  },
  {
   "cell_type": "code",
   "execution_count": null,
   "id": "7b84e7b2",
   "metadata": {},
   "outputs": [],
   "source": []
  },
  {
   "cell_type": "code",
   "execution_count": 812,
   "id": "1b91b7b6",
   "metadata": {},
   "outputs": [
    {
     "data": {
      "image/png": "[encoded data removed]",
      "text/plain": [
       "<Figure size 360x288 with 1 Axes>"
      ]
     },
     "metadata": {
      "needs_background": "light"
     },
     "output_type": "display_data"
    }
   ],
   "source": [
    "fig = plt.figure(figsize =(5, 4))\n",
    " \n",
    "# Creating plot\n",
    "# plt.boxplot([linear,ridge])\n",
    "# Creating plot\n",
    "\n",
    "plt.axis((5,155,-1,1))\n",
    "eb1=plt.errorbar([10.1,50,100,150], [-13.024295922081325,-9.473686584299744,0.7703941730075228,0.9469365008011177], yerr=[52.4620460704324,25.871957310841953,0.2774811303314092,0.04648969168323929], fmt='-o',label=\"linear\")\n",
    "eb1[-1][0].set_linestyle('--')\n",
    "eb2=plt.errorbar([10,50,100,150], [-0.7179645222933881,\n",
    "-0.12576045409177944,0.8739104401349085, 0.9577776495326722], yerr=[3.0687311344559536,3.278078620043575,0.1335788193248014,0.038682474500558936], fmt='-go',label=\"ridge\")\n",
    "eb2[-1][0].set_linestyle('-.')\n",
    "plt.legend()\n",
    "plt.show()"
   ]
  },
  {
   "cell_type": "code",
   "execution_count": 806,
   "id": "17d6ac6d",
   "metadata": {},
   "outputs": [
    {
     "data": {
      "text/plain": [
       "0.0"
      ]
     },
     "execution_count": 806,
     "metadata": {},
     "output_type": "execute_result"
    }
   ],
   "source": [
    "y1"
   ]
  },
  {
   "cell_type": "code",
   "execution_count": 799,
   "id": "48ec933c",
   "metadata": {},
   "outputs": [
    {
     "ename": "NameError",
     "evalue": "name 'ylim' is not defined",
     "output_type": "error",
     "traceback": [
      "\u001b[0;31m---------------------------------------------------------------------------\u001b[0m",
      "\u001b[0;31mNameError\u001b[0m                                 Traceback (most recent call last)",
      "\u001b[0;32m/tmp/ipykernel_19018/1270592029.py\u001b[0m in \u001b[0;36m<module>\u001b[0;34m\u001b[0m\n\u001b[1;32m      4\u001b[0m \u001b[0;31m# plt.boxplot([linear,ridge])\u001b[0m\u001b[0;34m\u001b[0m\u001b[0;34m\u001b[0m\u001b[0;34m\u001b[0m\u001b[0m\n\u001b[1;32m      5\u001b[0m \u001b[0;31m# Creating plot\u001b[0m\u001b[0;34m\u001b[0m\u001b[0;34m\u001b[0m\u001b[0;34m\u001b[0m\u001b[0m\n\u001b[0;32m----> 6\u001b[0;31m \u001b[0mylim\u001b[0m\u001b[0;34m(\u001b[0m\u001b[0;34m-\u001b[0m\u001b[0;36m1\u001b[0m\u001b[0;34m,\u001b[0m \u001b[0;36m1\u001b[0m\u001b[0;34m)\u001b[0m\u001b[0;34m\u001b[0m\u001b[0;34m\u001b[0m\u001b[0m\n\u001b[0m\u001b[1;32m      7\u001b[0m \u001b[0meb1\u001b[0m\u001b[0;34m=\u001b[0m\u001b[0mplt\u001b[0m\u001b[0;34m.\u001b[0m\u001b[0merrorbar\u001b[0m\u001b[0;34m(\u001b[0m\u001b[0;34m[\u001b[0m\u001b[0;36m10.1\u001b[0m\u001b[0;34m,\u001b[0m\u001b[0;36m50.1\u001b[0m\u001b[0;34m,\u001b[0m\u001b[0;36m100.1\u001b[0m\u001b[0;34m,\u001b[0m\u001b[0;36m150.1\u001b[0m\u001b[0;34m]\u001b[0m\u001b[0;34m,\u001b[0m \u001b[0;34m[\u001b[0m\u001b[0;34m-\u001b[0m\u001b[0;36m13.024295922081325\u001b[0m\u001b[0;34m,\u001b[0m\u001b[0;34m-\u001b[0m\u001b[0;36m9.473686584299744\u001b[0m\u001b[0;34m,\u001b[0m\u001b[0;36m0.7703941730075228\u001b[0m\u001b[0;34m,\u001b[0m\u001b[0;36m0.9469365008011177\u001b[0m\u001b[0;34m]\u001b[0m\u001b[0;34m,\u001b[0m \u001b[0myerr\u001b[0m\u001b[0;34m=\u001b[0m\u001b[0;34m[\u001b[0m\u001b[0;36m52.4620460704324\u001b[0m\u001b[0;34m,\u001b[0m\u001b[0;36m25.871957310841953\u001b[0m\u001b[0;34m,\u001b[0m\u001b[0;36m0.2774811303314092\u001b[0m\u001b[0;34m,\u001b[0m\u001b[0;36m0.04648969168323929\u001b[0m\u001b[0;34m]\u001b[0m\u001b[0;34m,\u001b[0m \u001b[0mfmt\u001b[0m\u001b[0;34m=\u001b[0m\u001b[0;34m'-o'\u001b[0m\u001b[0;34m,\u001b[0m\u001b[0mlabel\u001b[0m\u001b[0;34m=\u001b[0m\u001b[0;34m\"linear\"\u001b[0m\u001b[0;34m)\u001b[0m\u001b[0;34m\u001b[0m\u001b[0;34m\u001b[0m\u001b[0m\n\u001b[1;32m      8\u001b[0m \u001b[0meb1\u001b[0m\u001b[0;34m[\u001b[0m\u001b[0;34m-\u001b[0m\u001b[0;36m1\u001b[0m\u001b[0;34m]\u001b[0m\u001b[0;34m[\u001b[0m\u001b[0;36m0\u001b[0m\u001b[0;34m]\u001b[0m\u001b[0;34m.\u001b[0m\u001b[0mset_linestyle\u001b[0m\u001b[0;34m(\u001b[0m\u001b[0;34m'--'\u001b[0m\u001b[0;34m)\u001b[0m\u001b[0;34m\u001b[0m\u001b[0;34m\u001b[0m\u001b[0m\n",
      "\u001b[0;31mNameError\u001b[0m: name 'ylim' is not defined"
     ]
    },
    {
     "data": {
      "text/plain": [
       "<Figure size 360x288 with 0 Axes>"
      ]
     },
     "metadata": {},
     "output_type": "display_data"
    }
   ],
   "source": []
  },
  {
   "cell_type": "code",
   "execution_count": null,
   "id": "ddb8304d",
   "metadata": {},
   "outputs": [],
   "source": [
    "import numpy as np\n",
    "import matplotlib.pyplot as plt\n",
    "\n",
    "# example data\n",
    "x = np.arange(0.1, 4, 0.5)\n",
    "y = np.exp(-x)\n",
    "# example error bar values that vary with x-position\n",
    "error = 0.1 + 0.2 * x\n",
    "# error bar values w/ different -/+ errors\n",
    "lower_error = 0.4 * error\n",
    "upper_error = error\n",
    "asymmetric_error = [lower_error, upper_error]\n",
    "\n",
    "fig, (ax0, ax1) = plt.subplots(nrows=2, sharex=True)\n",
    "ax0.errorbar(x, y, yerr=error, fmt='-o')\n",
    "ax0.set_title('variable, symmetric error')\n",
    "plt.show()"
   ]
  },
  {
   "cell_type": "code",
   "execution_count": null,
   "id": "4f66783d",
   "metadata": {},
   "outputs": [],
   "source": [
    "# clean test error doens't make sense\n",
    "# we are likely predicting based on noisy X\n",
    "\n",
    "# mean squared error are likely noisy, as we have noisy co"
   ]
  },
  {
   "cell_type": "code",
   "execution_count": 805,
   "id": "f68020a0",
   "metadata": {},
   "outputs": [
    {
     "data": {
      "text/plain": [
       "0.0"
      ]
     },
     "execution_count": 805,
     "metadata": {},
     "output_type": "execute_result"
    }
   ],
   "source": [
    "x1"
   ]
  },
  {
   "cell_type": "code",
   "execution_count": null,
   "id": "ae24c864",
   "metadata": {},
   "outputs": [],
   "source": []
  },
  {
   "cell_type": "code",
   "execution_count": 172,
   "id": "59e7fe78",
   "metadata": {},
   "outputs": [],
   "source": []
  },
  {
   "cell_type": "code",
   "execution_count": 175,
   "id": "9083d1ba",
   "metadata": {},
   "outputs": [
    {
     "name": "stdout",
     "output_type": "stream",
     "text": [
      "5.4589547887940855\n",
      "10.222398644661439\n",
      "10.420104299557124\n",
      "10.440701635758842\n"
     ]
    }
   ],
   "source": []
  },
  {
   "cell_type": "code",
   "execution_count": 53,
   "id": "45df767a",
   "metadata": {},
   "outputs": [
    {
     "data": {
      "text/plain": [
       "array([-0.12318695, -0.02581328])"
      ]
     },
     "execution_count": 53,
     "metadata": {},
     "output_type": "execute_result"
    }
   ],
   "source": [
    "np.random.normal(0, noise,2)/50"
   ]
  },
  {
   "cell_type": "code",
   "execution_count": 103,
   "id": "3f8193c0",
   "metadata": {},
   "outputs": [
    {
     "data": {
      "text/plain": [
       "array([-11.44396898,   7.42179988,   8.07514441,   4.80798253])"
      ]
     },
     "execution_count": 103,
     "metadata": {},
     "output_type": "execute_result"
    }
   ],
   "source": [
    "linear_regression(join_test_cov,[\":A\",\":B\",\":C\"], \":Y\")"
   ]
  },
  {
   "cell_type": "code",
   "execution_count": 504,
   "id": "8040e287",
   "metadata": {},
   "outputs": [
    {
     "data": {
      "text/plain": [
       "array([ 36.31347252, 112.13848978,   2.30823346,  38.28310018])"
      ]
     },
     "execution_count": 504,
     "metadata": {},
     "output_type": "execute_result"
    }
   ],
   "source": [
    "ridge_linear_regression(join_test_cov,[\":A\",\":B\",\":C\"], \":Y\",50)"
   ]
  },
  {
   "cell_type": "code",
   "execution_count": 496,
   "id": "b90a6905",
   "metadata": {},
   "outputs": [
    {
     "data": {
      "text/plain": [
       "[32, 69, 31, 43]"
      ]
     },
     "execution_count": 496,
     "metadata": {},
     "output_type": "execute_result"
    }
   ],
   "source": [
    "parameters"
   ]
  },
  {
   "cell_type": "code",
   "execution_count": 98,
   "id": "c5eebf62",
   "metadata": {},
   "outputs": [],
   "source": [
    "# return the coefficients of features and a constant \n",
    "def ridge_linear_regression(cov_matrix, features, result, alpha):\n",
    "    a = np.empty([len(features) + 1, len(features) + 1])\n",
    "    b = np.empty(len(features) + 1)\n",
    "    \n",
    "    for i in range(len(features)):\n",
    "        for j in range(len(features)):\n",
    "            if 'cov:Q:' + features[i] + \",\"+ features[j] in cov_matrix:\n",
    "                a[i][j] = cov_matrix['cov:Q:' + features[i] + \",\"+ features[j]]\n",
    "            else:\n",
    "                a[i][j] = cov_matrix['cov:Q:' + features[j] + \",\"+ features[i]]\n",
    "        if i == j:\n",
    "            a[i][i] += alpha\n",
    "    \n",
    "    for i in range(len(features)):\n",
    "        a[i][len(features)] = cov_matrix['cov:s:' + features[i]]\n",
    "        a[len(features)][i] = cov_matrix['cov:s:' + features[i]]\n",
    "        if 'cov:Q:' + result + \",\" + features[i] in cov_matrix:\n",
    "            b[i] = cov_matrix['cov:Q:' + result + \",\" + features[i]]\n",
    "        else:\n",
    "            b[i] = cov_matrix['cov:Q:' + features[i] + \",\" + result]\n",
    "    \n",
    "    b[len(features)] = cov_matrix['cov:s:' + result]\n",
    "    \n",
    "    a[len(features)][len(features)] = cov_matrix['cov:c']\n",
    "#     print(a,b)\n",
    "    return np.linalg.solve(a, b)"
   ]
  },
  {
   "cell_type": "code",
   "execution_count": null,
   "id": "0416b9c8",
   "metadata": {},
   "outputs": [],
   "source": [
    "# return the coefficients of features and a constant \n",
    "def linear_regression(cov_matrix, features, result):\n",
    "    a = np.empty([len(features) + 1, len(features) + 1])\n",
    "    b = np.empty(len(features) + 1)\n",
    "    \n",
    "    for i in range(len(features)):\n",
    "        for j in range(len(features)):\n",
    "            if 'cov:Q:' + features[i] + \",\"+ features[j] in cov_matrix:\n",
    "                a[i][j] = cov_matrix['cov:Q:' + features[i] + \",\"+ features[j]]\n",
    "            else:\n",
    "                a[i][j] = cov_matrix['cov:Q:' + features[j] + \",\"+ features[i]]\n",
    "    \n",
    "    for i in range(len(features)):\n",
    "        a[i][len(features)] = cov_matrix['cov:s:' + features[i]]\n",
    "        a[len(features)][i] = cov_matrix['cov:s:' + features[i]]\n",
    "        if 'cov:Q:' + result + \",\" + features[i] in cov_matrix:\n",
    "            b[i] = cov_matrix['cov:Q:' + result + \",\" + features[i]]\n",
    "        else:\n",
    "            b[i] = cov_matrix['cov:Q:' + features[i] + \",\" + result]\n",
    "    \n",
    "    b[len(features)] = cov_matrix['cov:s:' + result]\n",
    "    \n",
    "    a[len(features)][len(features)] = cov_matrix['cov:c']\n",
    "#     print(a,b)\n",
    "    return np.linalg.solve(a, b)\n"
   ]
  }
 ],
 "metadata": {
  "environment": {
   "name": "common-cpu.m79",
   "type": "gcloud",
   "uri": "gcr.io/deeplearning-platform-release/base-cpu:m79"
  },
  "kernelspec": {
   "display_name": "Python 3",
   "language": "python",
   "name": "python3"
  },
  "language_info": {
   "codemirror_mode": {
    "name": "ipython",
    "version": 3
   },
   "file_extension": ".py",
   "mimetype": "text/x-python",
   "name": "python",
   "nbconvert_exporter": "python",
   "pygments_lexer": "ipython3",
   "version": "3.7.10"
  }
 },
 "nbformat": 4,
 "nbformat_minor": 5
}

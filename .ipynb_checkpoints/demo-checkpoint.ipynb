{
 "cells": [
  {
   "cell_type": "code",
   "execution_count": 1,
   "id": "6c68766b",
   "metadata": {},
   "outputs": [],
   "source": [
    "from datamarket import *"
   ]
  },
  {
   "cell_type": "markdown",
   "id": "aa11d408",
   "metadata": {},
   "source": [
    "# Read the data and train model without augmentation\n",
    "We first use factorized linear regression, then automl.\n",
    "\n",
    "In summary, R2 score for linear regression is:0.009878592245889273, for automl is: 0.5458767724247864"
   ]
  },
  {
   "cell_type": "code",
   "execution_count": 2,
   "id": "8c1e35b1",
   "metadata": {},
   "outputs": [],
   "source": [
    "# read gender from \n",
    "gender = pd.read_csv(\"gender.csv\")\n",
    "\n",
    "# train test split\n",
    "msk = split_mask(len(gender)) < 0.8\n",
    "gender_train = gender[msk].copy()\n",
    "gender_test = gender[~msk].copy()"
   ]
  },
  {
   "cell_type": "code",
   "execution_count": 3,
   "id": "9131c3b6",
   "metadata": {},
   "outputs": [],
   "source": [
    "gender_train_data = agg_dataset()\n",
    "gender_train_data.load(gender_train, [\"Number Tested\", \"Mean Scale Score\"], [\"DBN\", [\"DBN\",\"Grade\"], \"Year\", \"Category\"], \"gender\")\n",
    "gender_train_data.process_target(\"Mean Scale Score\")\n",
    "gender_train_data.to_numeric_and_impute_all()\n",
    "gender_train_data.remove_redundant_columns()\n",
    "gender_train_data.compute_agg()\n",
    "\n",
    "gender_test_data = agg_dataset()\n",
    "gender_test_data.load(gender_test, [\"Number Tested\", \"Mean Scale Score\"], [\"DBN\", [\"DBN\",\"Grade\"], \"Year\", \"Category\"], \"gender\")\n",
    "gender_test_data.process_target(\"Mean Scale Score\")\n",
    "gender_test_data.to_numeric_and_impute_all()\n",
    "gender_test_data.remove_redundant_columns()\n",
    "gender_test_data.compute_agg()"
   ]
  },
  {
   "cell_type": "code",
   "execution_count": 4,
   "id": "e7921ace",
   "metadata": {},
   "outputs": [
    {
     "name": "stdout",
     "output_type": "stream",
     "text": [
      "R2 score is:0.008218097895728915\n"
     ]
    }
   ],
   "source": [
    "# model performance before augmentation with linear regression\n",
    "train_cov = gender_train_data.covariance\n",
    "test_cov = gender_test_data.covariance\n",
    "x = ['gender:Number Tested']\n",
    "y = 'gender:Mean Scale Score'\n",
    "parameter = linear_regression(train_cov, x, y)\n",
    "print(\"R2 score is:\" + str(r2(test_cov, x, y, parameter)))"
   ]
  },
  {
   "cell_type": "code",
   "execution_count": 5,
   "id": "c992a6b1",
   "metadata": {},
   "outputs": [],
   "source": [
    "gender = gender.astype({'DBN': 'category', 'Year': 'category', \"Grade\": 'category', \"Category\": 'category'})\n",
    "gender[\"Mean Scale Score\"] = pd.to_numeric(gender[\"Mean Scale Score\"], errors='coerce')\n",
    "gender.dropna(subset=[\"Mean Scale Score\"],inplace=True)\n",
    "msk = split_mask(len(gender)) < 0.8\n",
    "gender_train = gender[msk].copy()\n",
    "gender_test = gender[~msk].copy()"
   ]
  },
  {
   "cell_type": "code",
   "execution_count": null,
   "id": "941b8ddf",
   "metadata": {},
   "outputs": [],
   "source": []
  },
  {
   "cell_type": "code",
   "execution_count": null,
   "id": "12a9a74d",
   "metadata": {},
   "outputs": [],
   "source": []
  },
  {
   "cell_type": "code",
   "execution_count": 22,
   "id": "63723f68",
   "metadata": {},
   "outputs": [
    {
     "name": "stdout",
     "output_type": "stream",
     "text": [
      "[WARNING] [2022-03-13 00:24:38,995:Client-EnsembleBuilder] No models better than random - using Dummy loss!Number of models besides current dummy model: 1. Number of dummy models: 1\n",
      "[WARNING] [2022-03-13 00:25:09,279:Client-EnsembleBuilder] No models better than random - using Dummy loss!Number of models besides current dummy model: 1. Number of dummy models: 1\n",
      "[WARNING] [2022-03-13 00:28:30,506:Client-EnsembleBuilder] No models better than random - using Dummy loss!Number of models besides current dummy model: 1. Number of dummy models: 1\n"
     ]
    },
    {
     "data": {
      "text/plain": [
       "AutoSklearnRegressor(memory_limit=6072, per_run_time_limit=200,\n",
       "                     time_left_for_this_task=600)"
      ]
     },
     "execution_count": 22,
     "metadata": {},
     "output_type": "execute_result"
    }
   ],
   "source": [
    "# model performance with autoML \n",
    "X_train = gender_train[[\"Number Tested\", \"DBN\", \"Year\", \"Grade\"]]\n",
    "y_train = gender_train[\"Mean Scale Score\"]\n",
    "X_test = gender_test[[\"Number Tested\", \"DBN\", \"Year\", \"Grade\"]]\n",
    "y_test = gender_test[\"Mean Scale Score\"]\n",
    "\n",
    "automl = autosklearn.regression.AutoSklearnRegressor(\n",
    "    time_left_for_this_task=600,\n",
    "    per_run_time_limit=200,\n",
    "    memory_limit=6072\n",
    ")\n",
    "automl.fit(X_train, y_train, X_test, y_test, dataset_name='gender')"
   ]
  },
  {
   "cell_type": "code",
   "execution_count": 23,
   "id": "331fe137",
   "metadata": {},
   "outputs": [
    {
     "name": "stdout",
     "output_type": "stream",
     "text": [
      "Current Time = 00:34:11\n"
     ]
    }
   ],
   "source": [
    "now = datetime.now()\n",
    "now_n = now\n",
    "current_time = now_n.strftime(\"%H:%M:%S\")\n",
    "print(\"Current Time =\", current_time)"
   ]
  },
  {
   "cell_type": "code",
   "execution_count": 24,
   "id": "f1963d16",
   "metadata": {},
   "outputs": [
    {
     "name": "stdout",
     "output_type": "stream",
     "text": [
      "Train R2 score: 0.6569817981796564\n",
      "Test R2 score: 0.5838708102347279\n",
      "          rank  ensemble_weight               type      cost   duration\n",
      "model_id                                                               \n",
      "10           1             0.92  gradient_boosting  0.418667   7.647412\n",
      "5            2             0.08  gradient_boosting  0.457997  22.468348\n",
      "                    Timestamp  ensemble_optimization_score  \\\n",
      "7  2022-03-13 00:24:38.000000                          NaN   \n",
      "0  2022-03-13 00:24:39.054457                    -0.000360   \n",
      "8  2022-03-13 00:28:53.000000                    -0.000360   \n",
      "9  2022-03-13 00:28:53.000000                    -0.000360   \n",
      "10 2022-03-13 00:28:53.000000                    -0.000360   \n",
      "11 2022-03-13 00:28:53.000000                    -0.000360   \n",
      "1  2022-03-13 00:28:53.159771                     0.542003   \n",
      "2  2022-03-13 00:28:53.159771                     0.542003   \n",
      "3  2022-03-13 00:28:53.159771                     0.542003   \n",
      "12 2022-03-13 00:32:55.000000                     0.542003   \n",
      "13 2022-03-13 00:32:55.000000                     0.542003   \n",
      "14 2022-03-13 00:32:55.000000                     0.542003   \n",
      "15 2022-03-13 00:32:55.000000                     0.542003   \n",
      "4  2022-03-13 00:32:55.473682                     0.581561   \n",
      "5  2022-03-13 00:32:55.473682                     0.581561   \n",
      "6  2022-03-13 00:32:55.473682                     0.581561   \n",
      "\n",
      "    ensemble_test_score  single_best_optimization_score  \\\n",
      "7                   NaN                       -0.062805   \n",
      "0             -0.000154                       -0.062805   \n",
      "8             -0.000154                        0.542003   \n",
      "9             -0.000154                        0.542003   \n",
      "10            -0.000154                        0.542003   \n",
      "11            -0.000154                        0.542003   \n",
      "1              0.544726                        0.542003   \n",
      "2              0.544726                        0.542003   \n",
      "3              0.544726                        0.542003   \n",
      "12             0.544726                        0.581333   \n",
      "13             0.544726                        0.581333   \n",
      "14             0.544726                        0.581333   \n",
      "15             0.544726                        0.581333   \n",
      "4              0.583871                        0.581333   \n",
      "5              0.583871                        0.581333   \n",
      "6              0.583871                        0.581333   \n",
      "\n",
      "    single_best_train_score  single_best_test_score  \n",
      "7                  0.296354               -0.052695  \n",
      "0                  0.296354               -0.052695  \n",
      "8                  0.743931                0.544726  \n",
      "9                  0.743931                0.544726  \n",
      "10                 0.743931                0.544726  \n",
      "11                 0.743931                0.544726  \n",
      "1                  0.743931                0.544726  \n",
      "2                  0.743931                0.544726  \n",
      "3                  0.743931                0.544726  \n",
      "12                 0.686366                0.583457  \n",
      "13                 0.686366                0.583457  \n",
      "14                 0.686366                0.583457  \n",
      "15                 0.686366                0.583457  \n",
      "4                  0.686366                0.583457  \n",
      "5                  0.686366                0.583457  \n",
      "6                  0.686366                0.583457  \n"
     ]
    },
    {
     "data": {
      "text/plain": [
       "<AxesSubplot:title={'center':'Auto-sklearn accuracy over time'}, xlabel='Timestamp'>"
      ]
     },
     "execution_count": 24,
     "metadata": {},
     "output_type": "execute_result"
    },
    {
     "data": {
      "image/png": "[encoded data removed]",
      "text/plain": [
       "<Figure size 432x288 with 1 Axes>"
      ]
     },
     "metadata": {
      "needs_background": "light"
     },
     "output_type": "display_data"
    }
   ],
   "source": [
    "train_predictions = automl.predict(X_train)\n",
    "print(\"Train R2 score:\", sklearn.metrics.r2_score(y_train, train_predictions))\n",
    "test_predictions = automl.predict(X_test)\n",
    "print(\"Test R2 score:\", sklearn.metrics.r2_score(y_test, test_predictions))\n",
    "print(automl.leaderboard())\n",
    "poT = automl.performance_over_time_\n",
    "print(poT)\n",
    "poT.plot(\n",
    "    x='Timestamp',\n",
    "    kind='line',\n",
    "    legend=True,\n",
    "    title='Auto-sklearn accuracy over time',\n",
    "    grid=True,\n",
    ")"
   ]
  },
  {
   "cell_type": "code",
   "execution_count": 26,
   "id": "0a875120",
   "metadata": {},
   "outputs": [],
   "source": [
    "poT1 = automl.performance_over_time_"
   ]
  },
  {
   "cell_type": "code",
   "execution_count": 44,
   "id": "c3cb2617",
   "metadata": {},
   "outputs": [],
   "source": [
    "poT1[\"duration\"] = [t.total_seconds() + 600 for t in(poT1[\"Timestamp\"] - now_n)]\n"
   ]
  },
  {
   "cell_type": "code",
   "execution_count": 36,
   "id": "5c215709",
   "metadata": {},
   "outputs": [
    {
     "data": {
      "text/plain": [
       "[61.01028299999996,\n",
       " 61.01028299999996,\n",
       " 61.01028299999996,\n",
       " 61.46787200000006,\n",
       " 210.03272099999998,\n",
       " 224.31375100000002,\n",
       " 293.010283,\n",
       " 293.010283,\n",
       " 293.010283,\n",
       " 294.191403,\n",
       " 294.191403,\n",
       " 294.191403]"
      ]
     },
     "execution_count": 36,
     "metadata": {},
     "output_type": "execute_result"
    }
   ],
   "source": []
  },
  {
   "cell_type": "code",
   "execution_count": 48,
   "id": "f3a2644c",
   "metadata": {},
   "outputs": [],
   "source": [
    "poT2[\"duration\"] = [t.total_seconds() + 620 for t in(poT2[\"Timestamp\"] - now_aug)]\n",
    "poT2[\"duration2\"] = [t.total_seconds() + 820 for t in(poT2[\"Timestamp\"] - now_aug)]\n",
    "poT2.fillna(0, inplace=True)"
   ]
  },
  {
   "cell_type": "code",
   "execution_count": 53,
   "id": "7e2c382c",
   "metadata": {},
   "outputs": [],
   "source": [
    "poT2[[\"ensemble_test_score\", \"duration\", \"duration2\"]].to_csv(\"automl_result.csv\",index=False)"
   ]
  },
  {
   "cell_type": "code",
   "execution_count": 52,
   "id": "50468fda",
   "metadata": {},
   "outputs": [],
   "source": [
    "poT1[[\"ensemble_test_score\", \"duration\"]].to_csv(\"automl_result2.csv\",index=False)"
   ]
  },
  {
   "cell_type": "code",
   "execution_count": 125,
   "id": "60597a2d",
   "metadata": {},
   "outputs": [
    {
     "name": "stdout",
     "output_type": "stream",
     "text": [
      "Train R2 score: 0.6760717762409097\n",
      "Test R2 score: 0.5458767724247864\n",
      "          rank  ensemble_weight               type      cost   duration\n",
      "model_id                                                               \n",
      "5            1              1.0  gradient_boosting  0.464419  22.770549\n",
      "                   Timestamp  ensemble_optimization_score  \\\n",
      "2 2022-03-10 22:13:35.000000                          NaN   \n",
      "0 2022-03-10 22:13:35.715064                    -0.000025   \n",
      "3 2022-03-10 22:15:57.000000                    -0.000025   \n",
      "1 2022-03-10 22:15:57.711512                     0.535581   \n",
      "\n",
      "   ensemble_test_score  single_best_optimization_score  \\\n",
      "2                  NaN                       -0.065672   \n",
      "0            -0.000010                       -0.065672   \n",
      "3            -0.000010                        0.535581   \n",
      "1             0.545877                        0.535581   \n",
      "\n",
      "   single_best_train_score  single_best_test_score  \n",
      "2                 0.293797               -0.055145  \n",
      "0                 0.293797               -0.055145  \n",
      "3                 0.744187                0.545877  \n",
      "1                 0.744187                0.545877  \n"
     ]
    },
    {
     "data": {
      "text/plain": [
       "<AxesSubplot:title={'center':'Auto-sklearn accuracy over time'}, xlabel='Timestamp'>"
      ]
     },
     "execution_count": 125,
     "metadata": {},
     "output_type": "execute_result"
    },
    {
     "data": {
      "image/png": "[encoded data removed]",
      "text/plain": [
       "<Figure size 432x288 with 1 Axes>"
      ]
     },
     "metadata": {
      "needs_background": "light"
     },
     "output_type": "display_data"
    }
   ],
   "source": [
    "train_predictions = automl.predict(X_train)\n",
    "print(\"Train R2 score:\", sklearn.metrics.r2_score(y_train, train_predictions))\n",
    "test_predictions = automl.predict(X_test)\n",
    "print(\"Test R2 score:\", sklearn.metrics.r2_score(y_test, test_predictions))\n",
    "print(automl.leaderboard())\n",
    "poT = automl.performance_over_time_\n",
    "print(poT)\n",
    "poT.plot(\n",
    "    x='Timestamp',\n",
    "    kind='line',\n",
    "    legend=True,\n",
    "    title='Auto-sklearn accuracy over time',\n",
    "    grid=True,\n",
    ")"
   ]
  },
  {
   "cell_type": "markdown",
   "id": "a1f28abc",
   "metadata": {},
   "source": [
    "# Load seller datasets and build market\n",
    "Currently, we need to specify the join attributes (could be joined on multiple attributes) and these attributes name have to be same across two tables.\n",
    "\n",
    "We need more data.\n",
    "\n",
    "The best data increase linear regression R2 to 0.3944023420421897\n",
    "\n",
    "This data also increase automl R2 to: 0.7970338954417067"
   ]
  },
  {
   "cell_type": "code",
   "execution_count": 152,
   "id": "0b836dc5",
   "metadata": {},
   "outputs": [
    {
     "name": "stderr",
     "output_type": "stream",
     "text": [
      "/opt/conda/lib/python3.7/site-packages/ipykernel_launcher.py:165: PerformanceWarning: DataFrame is highly fragmented.  This is usually the result of calling `frame.insert` many times, which has poor performance.  Consider joining all columns at once using pd.concat(axis=1) instead.  To get a de-fragmented frame, use `newframe = frame.copy()`\n"
     ]
    }
   ],
   "source": [
    "# read buyer dataste\n",
    "crime = pd.read_csv(\"crime.csv\")\n",
    "crimedata = agg_dataset()\n",
    "crimedata.load(crime, [], [\"DBN\"], \"crime\")\n",
    "crimedata.find_features()\n",
    "crimedata.remove_redundant_columns()\n",
    "crimedata.compute_agg(True)\n",
    "\n",
    "\n",
    "esl = pd.read_csv(\"esl.csv\")\n",
    "esldata = agg_dataset()\n",
    "esldata.load(esl, [], [[\"DBN\",\"Grade\"]], \"esl\")\n",
    "esldata.find_features()\n",
    "esldata.remove_redundant_columns()\n",
    "esldata.compute_agg(True)\n",
    "\n",
    "ap = pd.read_csv(\"ap.csv\")\n",
    "apdata = agg_dataset()\n",
    "apdata.load(ap, [], [\"DBN\"], \"ap\")\n",
    "apdata.find_features()\n",
    "apdata.remove_redundant_columns()\n",
    "apdata.compute_agg(True)\n",
    "\n",
    "survey = pd.read_csv(\"2013_NYC_School_Survey.csv\")\n",
    "surveydata = agg_dataset()\n",
    "surveydata.load(survey, [], [\"DBN\"], \"survey\")\n",
    "surveydata.find_features()\n",
    "surveydata.remove_redundant_columns()\n",
    "surveydata.compute_agg(True)\n",
    "\n",
    "base = pd.read_csv(\"base.csv\")\n",
    "basedata = agg_dataset()\n",
    "basedata.load(base, [], [\"DBN\"], \"base\")\n",
    "basedata.find_features()\n",
    "basedata.remove_redundant_columns()\n",
    "basedata.compute_agg(True)\n",
    "\n",
    "disc = pd.read_csv(\"disc.csv\")\n",
    "discdata = agg_dataset()\n",
    "discdata.load(disc, [], [\"DBN\"], \"disc\")\n",
    "discdata.find_features()\n",
    "discdata.remove_redundant_columns()\n",
    "discdata.compute_agg(True)\n",
    "\n",
    "math = pd.read_csv(\"math.csv\")\n",
    "mathdata = agg_dataset()\n",
    "mathdata.load(math, [], [[\"DBN\",\"Grade\"]], \"math\")\n",
    "mathdata.find_features()\n",
    "mathdata.remove_redundant_columns()\n",
    "mathdata.compute_agg(True)\n",
    "\n",
    "oss = pd.read_csv(\"oss.csv\")\n",
    "ossdata = agg_dataset()\n",
    "ossdata.load(oss, [], [\"DBN\"], \"oss\")\n",
    "ossdata.find_features()\n",
    "ossdata.remove_redundant_columns()\n",
    "ossdata.compute_agg(True)\n",
    "\n",
    "pe = pd.read_csv(\"pe.csv\")\n",
    "pedata = agg_dataset()\n",
    "pedata.load(pe, [], [\"DBN\"], \"pe\")\n",
    "pedata.find_features()\n",
    "pedata.remove_redundant_columns()\n",
    "pedata.compute_agg(True)\n",
    "\n",
    "s2tr = pd.read_csv(\"s2tr.csv\")\n",
    "s2trdata = agg_dataset()\n",
    "s2trdata.load(s2tr, [], [\"DBN\"], \"s2tr\")\n",
    "s2trdata.find_features()\n",
    "s2trdata.remove_redundant_columns()\n",
    "s2trdata.compute_agg(True)\n",
    "\n",
    "sat = pd.read_csv(\"sat.csv\")\n",
    "satdata = agg_dataset()\n",
    "satdata.load(sat, [], [\"DBN\"], \"sat\")\n",
    "satdata.find_features()\n",
    "satdata.remove_redundant_columns()\n",
    "satdata.compute_agg(True)\n",
    "\n",
    "pro = pd.read_csv(\"Schools_Progress_Report_2012-2013.csv\")\n",
    "prodata = agg_dataset()\n",
    "prodata.load(pro, [], [\"DBN\"], \"pro\")\n",
    "prodata.find_features()\n",
    "prodata.remove_redundant_columns()\n",
    "prodata.compute_agg(True)\n",
    "\n",
    "\n",
    "spy = pd.read_csv(\"spy.csv\")\n",
    "spydata = agg_dataset()\n",
    "spydata.load(spy, [], [\"Year\"], \"spy\")\n",
    "spydata.find_features()\n",
    "spydata.remove_redundant_columns()\n",
    "spydata.compute_agg(True)\n",
    "\n",
    "transfer = pd.read_csv(\"transfer.csv\")\n",
    "transferdata = agg_dataset()\n",
    "transferdata.load(transfer, [], [\"DBN\"], \"transfer\")\n",
    "transferdata.find_features()\n",
    "transferdata.remove_redundant_columns()\n",
    "transferdata.compute_agg(True)\n",
    "\n",
    "yabc = pd.read_csv(\"yabc.csv\")\n",
    "yabcdata = agg_dataset()\n",
    "yabcdata.load(yabc, [], [\"DBN\"], \"yabc\")\n",
    "yabcdata.find_features()\n",
    "yabcdata.remove_redundant_columns()\n",
    "yabcdata.compute_agg(True)\n",
    "\n",
    "dm1 = pd.read_csv(\"other/datamart.socrata.data-cityofnewyork-us.22rr-ujq3\")\n",
    "dm1data = agg_dataset()\n",
    "dm1data.load(dm1, [], [\"DBN\"], \"dm1\")\n",
    "dm1data.find_features()\n",
    "dm1data.remove_redundant_columns()\n",
    "dm1data.compute_agg(True)\n",
    "\n",
    "dm2 = pd.read_csv(\"other/datamart.socrata.data-cityofnewyork-us.25aa-q86c\")\n",
    "dm2data = agg_dataset()\n",
    "dm2data.load(dm2, [], [\"DBN\"], \"dm2\")\n",
    "dm2data.find_features()\n",
    "dm2data.remove_redundant_columns()\n",
    "dm2data.compute_agg(True)\n",
    "\n",
    "dm3 = pd.read_csv(\"other/datamart.socrata.data-cityofnewyork-us.29bv-qqsy\")\n",
    "dm3data = agg_dataset()\n",
    "dm3data.load(dm3, [], [\"DBN\"], \"dm3\")\n",
    "dm3data.find_features()\n",
    "dm3data.remove_redundant_columns()\n",
    "dm3data.compute_agg(True)\n",
    "\n",
    "dm4 = pd.read_csv(\"other/datamart.socrata.data-cityofnewyork-us.29ry-u5bf\")\n",
    "dm4data = agg_dataset()\n",
    "dm4data.load(dm4, [], [\"DBN\"], \"dm4\")\n",
    "dm4data.find_features()\n",
    "dm4data.remove_redundant_columns()\n",
    "dm4data.compute_agg(True)\n",
    "\n",
    "dm5 = pd.read_csv(\"other/datamart.socrata.data-cityofnewyork-us.43qc-8vv8\")\n",
    "dm5data = agg_dataset()\n",
    "dm5data.load(dm5, [], [[\"DBN\",\"Grade\"]], \"dm5\")\n",
    "dm5data.find_features()\n",
    "dm5data.remove_redundant_columns()\n",
    "dm5data.compute_agg(True)"
   ]
  },
  {
   "cell_type": "code",
   "execution_count": 6,
   "id": "4a20a20e",
   "metadata": {},
   "outputs": [],
   "source": [
    "\n",
    "math = pd.read_csv(\"math.csv\")\n",
    "mathdata = agg_dataset()\n",
    "mathdata.load(math, [], [[\"DBN\",\"Grade\"]], \"math\")\n",
    "mathdata.find_features()\n",
    "mathdata.remove_redundant_columns()\n",
    "mathdata.compute_agg(True)\n"
   ]
  },
  {
   "cell_type": "code",
   "execution_count": 7,
   "id": "c8fb15be",
   "metadata": {},
   "outputs": [
    {
     "name": "stdout",
     "output_type": "stream",
     "text": [
      "math\n"
     ]
    },
    {
     "name": "stderr",
     "output_type": "stream",
     "text": [
      "/home/jupyter/arda/arda-datasets/school/datamarket.py:319: FutureWarning: In a future version of pandas all arguments of DataFrame.drop except for the argument 'labels' will be keyword-only\n",
      "  join.drop('cov:c_y', 1, inplace=True)\n"
     ]
    },
    {
     "name": "stdout",
     "output_type": "stream",
     "text": [
      "math ['math:Level 4 %', 'math:Level 1 %', 'math:Year', 'math:Level 4 #'] 0.5117164048931732\n",
      "CPU times: user 223 ms, sys: 4.82 ms, total: 228 ms\n",
      "Wall time: 224 ms\n"
     ]
    }
   ],
   "source": [
    "%%time\n",
    "# sellers = [(crimedata, \"DBN\"), (apdata, \"DBN\"), (surveydata, \"DBN\"), \n",
    "#            (basedata, \"DBN\"), (discdata, \"DBN\"), (mathdata, (\"DBN\",\"Grade\")), \n",
    "#            (ossdata, \"DBN\"), (pedata, \"DBN\"), (s2trdata, \"DBN\"), \n",
    "#            (satdata, \"DBN\"), (prodata, \"DBN\"), (spydata, \"Year\"),\n",
    "#            (transferdata, \"DBN\"), (yabcdata, \"DBN\"), (dm1data, \"DBN\"),\n",
    "#            (dm2data, \"DBN\"), (dm3data, \"DBN\"), (dm4data, \"DBN\"), (dm5data, (\"DBN\",\"Grade\"))]\n",
    "\n",
    "sellers = [(mathdata, (\"DBN\",\"Grade\"))]\n",
    "\n",
    "\n",
    "# find m best datasets to augment\n",
    "bought = set()\n",
    "m = 1\n",
    "y = \"Mean Scale Score\"\n",
    "\n",
    "for i in range(m):\n",
    "    best_seller = None\n",
    "    best_seller_attrs = []\n",
    "    best_dimension = None\n",
    "    best_r2 = 0\n",
    "\n",
    "    for sellerdata, dimension in sellers:\n",
    "        # check if current seller has been bought\n",
    "        if sellerdata.name in bought:\n",
    "            continue\n",
    "        print(sellerdata.name)\n",
    "\n",
    "        # find the attributes and r2 of augmenting\n",
    "        cur_atts, final_r2 = select_features(gender_train_data, gender_test_data, sellerdata, dimension, 4, y)\n",
    "#         cur_atts, final_r2 = select_features(gender_train, gender_test, sellerdata, dimension,10)\n",
    "\n",
    "        if final_r2 > best_r2:\n",
    "            best_seller = sellerdata\n",
    "            best_dimension = dimension\n",
    "            best_seller_attrs = cur_atts\n",
    "            best_r2 = final_r2\n",
    "\n",
    "\n",
    "    print(best_seller.name, best_seller_attrs, best_r2)\n",
    "    \n",
    "    # absorb the best seller\n",
    "#     gender_train_data.absorb(best_seller, best_dimension, [x for x in best_seller_attrs if x in best_seller.X])\n",
    "#     gender_test_data.absorb(best_seller, best_dimension, [x for x in best_seller_attrs if x in best_seller.X])\n",
    "#     bought.add(best_seller)"
   ]
  },
  {
   "cell_type": "code",
   "execution_count": 114,
   "id": "3a9e1a18",
   "metadata": {},
   "outputs": [
    {
     "name": "stdout",
     "output_type": "stream",
     "text": [
      "CPU times: user 99.1 ms, sys: 0 ns, total: 99.1 ms\n",
      "Wall time: 97.2 ms\n"
     ]
    },
    {
     "name": "stderr",
     "output_type": "stream",
     "text": [
      "/opt/conda/lib/python3.7/site-packages/ipykernel_launcher.py:298: FutureWarning: In a future version of pandas all arguments of DataFrame.drop except for the argument 'labels' will be keyword-only\n"
     ]
    }
   ],
   "source": [
    "# %%time\n",
    "# c=connect(gender_train_data, mathdata, (\"DBN\",\"Grade\"))"
   ]
  },
  {
   "cell_type": "code",
   "execution_count": 8,
   "id": "0fb32d41",
   "metadata": {},
   "outputs": [],
   "source": [
    "# make best_dimension a list\n",
    "if isinstance(best_dimension, tuple):\n",
    "    best_dimension = list(best_dimension)\n",
    "else:\n",
    "    best_dimension = [best_dimension]\n",
    "\n",
    "# extract needed attributes\n",
    "seller_features = ['cov:s:' +  attr for attr in best_seller_attrs  if attr.startswith(best_seller.name)]\n",
    "buyer_features = ['cov:s:' +  attr for attr in best_seller_attrs  if not attr.startswith(best_seller.name)]\n",
    "target = ['cov:s:gender:' + y]\n",
    "buyer_train_data = gender_train_data.data[gender_train_data.dedup_dimensions + buyer_features + target]\n",
    "buyer_test_data = gender_test_data.data[gender_train_data.dedup_dimensions + buyer_features + target]\n",
    "seller_data = best_seller.data[best_dimension + seller_features]\n",
    "seller_data = seller_data.groupby(best_dimension).mean()\n",
    "\n",
    "# join buyer and seller\n",
    "join_train = pd.merge(buyer_train_data,seller_data,how='left', on=best_dimension)\n",
    "join_test = pd.merge(buyer_test_data,seller_data,how='left', on=best_dimension)"
   ]
  },
  {
   "cell_type": "code",
   "execution_count": null,
   "id": "b21f92f0",
   "metadata": {},
   "outputs": [],
   "source": []
  },
  {
   "cell_type": "code",
   "execution_count": null,
   "id": "bc7588d3",
   "metadata": {},
   "outputs": [],
   "source": []
  },
  {
   "cell_type": "code",
   "execution_count": 9,
   "id": "b31c49c8",
   "metadata": {},
   "outputs": [],
   "source": [
    "join_train = join_train.astype({'DBN': 'category', 'Year': 'category', \"Grade\": 'category', \"Category\": 'category'})\n",
    "join_test = join_test.astype({'DBN': 'category', 'Year': 'category', \"Grade\": 'category', \"Category\": 'category'})"
   ]
  },
  {
   "cell_type": "code",
   "execution_count": null,
   "id": "447787d4",
   "metadata": {},
   "outputs": [],
   "source": []
  },
  {
   "cell_type": "code",
   "execution_count": 10,
   "id": "b3fa3e6e",
   "metadata": {},
   "outputs": [
    {
     "name": "stdout",
     "output_type": "stream",
     "text": [
      "CPU times: user 1.54 s, sys: 3.44 s, total: 4.98 s\n",
      "Wall time: 10min\n"
     ]
    },
    {
     "data": {
      "text/plain": [
       "AutoSklearnRegressor(memory_limit=6072, per_run_time_limit=200,\n",
       "                     time_left_for_this_task=600)"
      ]
     },
     "execution_count": 10,
     "metadata": {},
     "output_type": "execute_result"
    }
   ],
   "source": [
    "%%time\n",
    "# model performance with autoML \n",
    "X_train = join_train[gender_train_data.dedup_dimensions + seller_features + buyer_features]\n",
    "y_train = join_train[target]\n",
    "X_test = join_test[gender_train_data.dedup_dimensions + seller_features + buyer_features]\n",
    "y_test = join_test[target]\n",
    "\n",
    "automl = autosklearn.regression.AutoSklearnRegressor(\n",
    "    time_left_for_this_task=600,\n",
    "    per_run_time_limit=200,\n",
    "    memory_limit=6072\n",
    ")\n",
    "automl.fit(X_train, y_train, X_test, y_test, dataset_name='gender')"
   ]
  },
  {
   "cell_type": "code",
   "execution_count": 14,
   "id": "4a547065",
   "metadata": {},
   "outputs": [
    {
     "name": "stdout",
     "output_type": "stream",
     "text": [
      "Current Time = 00:03:34\n"
     ]
    }
   ],
   "source": [
    "# now = datetime.now()\n",
    "now_aug = now\n",
    "current_time = now_aug.strftime(\"%H:%M:%S\")\n",
    "print(\"Current Time =\", current_time)"
   ]
  },
  {
   "cell_type": "code",
   "execution_count": 12,
   "id": "232b8de2",
   "metadata": {},
   "outputs": [
    {
     "name": "stdout",
     "output_type": "stream",
     "text": [
      "Train R2 score: 0.8798948139019477\n",
      "Test R2 score: 0.7699713282104882\n",
      "          rank  ensemble_weight               type      cost    duration\n",
      "model_id                                                                \n",
      "5            1             0.66        extra_trees  0.246097   69.495424\n",
      "2            2             0.04      random_forest  0.308611   58.276893\n",
      "3            3             0.30  gradient_boosting  0.323978  148.360769\n",
      "                    Timestamp  ensemble_optimization_score  \\\n",
      "6  2022-03-12 23:54:36.000000                          NaN   \n",
      "7  2022-03-12 23:54:36.000000                          NaN   \n",
      "8  2022-03-12 23:54:36.000000                          NaN   \n",
      "0  2022-03-12 23:54:36.457589                     0.691389   \n",
      "1  2022-03-12 23:57:05.022438                     0.749042   \n",
      "2  2022-03-12 23:57:19.303468                     0.749063   \n",
      "9  2022-03-12 23:58:28.000000                     0.749063   \n",
      "10 2022-03-12 23:58:28.000000                     0.749063   \n",
      "11 2022-03-12 23:58:28.000000                     0.749063   \n",
      "3  2022-03-12 23:58:29.181120                     0.773655   \n",
      "4  2022-03-12 23:58:29.181120                     0.773655   \n",
      "5  2022-03-12 23:58:29.181120                     0.773655   \n",
      "\n",
      "    ensemble_test_score  single_best_optimization_score  \\\n",
      "6                   NaN                        0.691389   \n",
      "7                   NaN                        0.691389   \n",
      "8                   NaN                        0.691389   \n",
      "0              0.690525                        0.691389   \n",
      "1              0.747895                        0.691389   \n",
      "2              0.747948                        0.691389   \n",
      "9              0.747948                        0.753903   \n",
      "10             0.747948                        0.753903   \n",
      "11             0.747948                        0.753903   \n",
      "3              0.769971                        0.753903   \n",
      "4              0.769971                        0.753903   \n",
      "5              0.769971                        0.753903   \n",
      "\n",
      "    single_best_train_score  single_best_test_score  \n",
      "6                  0.902076                0.690525  \n",
      "7                  0.902076                0.690525  \n",
      "8                  0.902076                0.690525  \n",
      "0                  0.902076                0.690525  \n",
      "1                  0.902076                0.690525  \n",
      "2                  0.902076                0.690525  \n",
      "9                  0.966461                0.749215  \n",
      "10                 0.966461                0.749215  \n",
      "11                 0.966461                0.749215  \n",
      "3                  0.966461                0.749215  \n",
      "4                  0.966461                0.749215  \n",
      "5                  0.966461                0.749215  \n"
     ]
    },
    {
     "data": {
      "text/plain": [
       "<AxesSubplot:title={'center':'Auto-sklearn accuracy over time'}, xlabel='Timestamp'>"
      ]
     },
     "execution_count": 12,
     "metadata": {},
     "output_type": "execute_result"
    },
    {
     "data": {
      "image/png": "[encoded data removed]",
      "text/plain": [
       "<Figure size 432x288 with 1 Axes>"
      ]
     },
     "metadata": {
      "needs_background": "light"
     },
     "output_type": "display_data"
    }
   ],
   "source": [
    "train_predictions = automl.predict(X_train)\n",
    "print(\"Train R2 score:\", sklearn.metrics.r2_score(y_train, train_predictions))\n",
    "test_predictions = automl.predict(X_test)\n",
    "print(\"Test R2 score:\", sklearn.metrics.r2_score(y_test, test_predictions))\n",
    "print(automl.leaderboard())\n",
    "poT = automl.performance_over_time_\n",
    "print(poT)\n",
    "poT.plot(\n",
    "    x='Timestamp',\n",
    "    kind='line',\n",
    "    legend=True,\n",
    "    title='Auto-sklearn accuracy over time',\n",
    "    grid=True,\n",
    ")"
   ]
  },
  {
   "cell_type": "code",
   "execution_count": 17,
   "id": "d3cf3036",
   "metadata": {},
   "outputs": [],
   "source": [
    "poT2 = poT "
   ]
  },
  {
   "cell_type": "code",
   "execution_count": null,
   "id": "b8fa3a3a",
   "metadata": {},
   "outputs": [],
   "source": []
  },
  {
   "cell_type": "code",
   "execution_count": 242,
   "id": "21ae0ba5",
   "metadata": {},
   "outputs": [
    {
     "name": "stdout",
     "output_type": "stream",
     "text": [
      "Train R2 score: 0.8417184044415904\n",
      "Test R2 score: 0.7970338954417067\n",
      "          rank  ensemble_weight               type      cost   duration\n",
      "model_id                                                               \n",
      "4            1              1.0  gradient_boosting  0.181931  175.89374\n",
      "                   Timestamp  ensemble_optimization_score  \\\n",
      "0 2022-03-11 00:09:47.064354                    -0.000038   \n",
      "2 2022-03-11 00:17:43.000000                    -0.000038   \n",
      "1 2022-03-11 00:17:43.318110                     0.818069   \n",
      "\n",
      "   ensemble_test_score  single_best_optimization_score  \\\n",
      "0            -0.000036                             NaN   \n",
      "2            -0.000036                        0.818069   \n",
      "1             0.797034                        0.818069   \n",
      "\n",
      "   single_best_train_score  single_best_test_score  \n",
      "0                      NaN                     NaN  \n",
      "2                 0.853446                0.797034  \n",
      "1                 0.853446                0.797034  \n"
     ]
    },
    {
     "data": {
      "text/plain": [
       "<AxesSubplot:title={'center':'Auto-sklearn accuracy over time'}, xlabel='Timestamp'>"
      ]
     },
     "execution_count": 242,
     "metadata": {},
     "output_type": "execute_result"
    },
    {
     "data": {
      "image/png": "[encoded data removed]",
      "text/plain": [
       "<Figure size 432x288 with 1 Axes>"
      ]
     },
     "metadata": {
      "needs_background": "light"
     },
     "output_type": "display_data"
    }
   ],
   "source": [
    "train_predictions = automl.predict(X_train)\n",
    "print(\"Train R2 score:\", sklearn.metrics.r2_score(y_train, train_predictions))\n",
    "test_predictions = automl.predict(X_test)\n",
    "print(\"Test R2 score:\", sklearn.metrics.r2_score(y_test, test_predictions))\n",
    "print(automl.leaderboard())\n",
    "poT = automl.performance_over_time_\n",
    "print(poT)\n",
    "poT.plot(\n",
    "    x='Timestamp',\n",
    "    kind='line',\n",
    "    legend=True,\n",
    "    title='Auto-sklearn accuracy over time',\n",
    "    grid=True,\n",
    ")"
   ]
  },
  {
   "cell_type": "code",
   "execution_count": null,
   "id": "d7abaf5a",
   "metadata": {},
   "outputs": [],
   "source": []
  },
  {
   "cell_type": "code",
   "execution_count": null,
   "id": "42a94d23",
   "metadata": {},
   "outputs": [],
   "source": []
  },
  {
   "cell_type": "code",
   "execution_count": null,
   "id": "973f6ec1",
   "metadata": {},
   "outputs": [],
   "source": []
  },
  {
   "cell_type": "code",
   "execution_count": 115,
   "id": "980d8d15",
   "metadata": {},
   "outputs": [],
   "source": [
    "poT2 = automl.performance_over_time_"
   ]
  },
  {
   "cell_type": "code",
   "execution_count": 119,
   "id": "de39d05b",
   "metadata": {},
   "outputs": [
    {
     "data": {
      "text/plain": [
       "0          0 days 00:00:00\n",
       "5   0 days 00:02:30.958160\n",
       "6   0 days 00:02:30.958160\n",
       "1   0 days 00:02:31.712754\n",
       "2   0 days 00:02:45.958601\n",
       "7   0 days 00:05:02.958160\n",
       "8   0 days 00:05:02.958160\n",
       "3   0 days 00:05:03.972905\n",
       "4   0 days 00:05:03.972905\n",
       "Name: Timestamp, dtype: timedelta64[ns]"
      ]
     },
     "execution_count": 119,
     "metadata": {},
     "output_type": "execute_result"
    }
   ],
   "source": [
    "poT2[\"Timestamp\"] - min(poT2[\"Timestamp\"])"
   ]
  },
  {
   "cell_type": "code",
   "execution_count": 120,
   "id": "97a897b9",
   "metadata": {},
   "outputs": [
    {
     "data": {
      "text/plain": [
       "'auto-sklearn results:\\n  Dataset name: gender\\n  Metric: r2\\n  Best validation score: 0.692699\\n  Number of target algorithm runs: 9\\n  Number of successful target algorithm runs: 4\\n  Number of crashed target algorithm runs: 0\\n  Number of target algorithms that exceeded the time limit: 2\\n  Number of target algorithms that exceeded the memory limit: 3\\n'"
      ]
     },
     "execution_count": 120,
     "metadata": {},
     "output_type": "execute_result"
    }
   ],
   "source": [
    "automl.sprint_statistics()"
   ]
  },
  {
   "cell_type": "code",
   "execution_count": null,
   "id": "5aebe00d",
   "metadata": {},
   "outputs": [],
   "source": []
  }
 ],
 "metadata": {
  "environment": {
   "name": "common-cpu.m79",
   "type": "gcloud",
   "uri": "gcr.io/deeplearning-platform-release/base-cpu:m79"
  },
  "kernelspec": {
   "display_name": "Python [conda env:root] *",
   "language": "python",
   "name": "conda-root-py"
  },
  "language_info": {
   "codemirror_mode": {
    "name": "ipython",
    "version": 3
   },
   "file_extension": ".py",
   "mimetype": "text/x-python",
   "name": "python",
   "nbconvert_exporter": "python",
   "pygments_lexer": "ipython3",
   "version": "3.7.10"
  }
 },
 "nbformat": 4,
 "nbformat_minor": 5
}

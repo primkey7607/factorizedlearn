{
 "cells": [
  {
   "cell_type": "code",
   "execution_count": 2,
   "id": "a46ff8d8",
   "metadata": {},
   "outputs": [],
   "source": [
    "from sklearn.ensemble import GradientBoostingClassifier\n",
    "import pandas as pd\n",
    "from datamarket import *"
   ]
  },
  {
   "cell_type": "code",
   "execution_count": 10,
   "id": "17ff632e",
   "metadata": {},
   "outputs": [],
   "source": [
    "from sklearn.datasets import make_hastie_10_2"
   ]
  },
  {
   "cell_type": "code",
   "execution_count": 33,
   "id": "fb7ea251",
   "metadata": {},
   "outputs": [],
   "source": [
    "X, y = make_hastie_10_2(n_samples=4000,random_state=0)"
   ]
  },
  {
   "cell_type": "code",
   "execution_count": 47,
   "id": "694c3e3e",
   "metadata": {},
   "outputs": [
    {
     "name": "stdout",
     "output_type": "stream",
     "text": [
      "CPU times: user 11.1 s, sys: 0 ns, total: 11.1 s\n",
      "Wall time: 11.1 s\n"
     ]
    }
   ],
   "source": [
    "%%time\n",
    "clf = GradientBoostingClassifier(n_estimators=1000).fit(X[:,:8], y)"
   ]
  },
  {
   "cell_type": "code",
   "execution_count": 43,
   "id": "6e3c7ab5",
   "metadata": {},
   "outputs": [
    {
     "data": {
      "text/plain": [
       "array([[ 1.76405235e+00,  4.00157208e-01],\n",
       "       [ 1.44043571e-01,  1.45427351e+00],\n",
       "       [-2.55298982e+00,  6.53618595e-01],\n",
       "       ...,\n",
       "       [ 4.45839768e-01,  1.60772865e+00],\n",
       "       [-1.95565166e-01, -6.49192762e-01],\n",
       "       [-2.59534011e-01, -4.23024293e-04]])"
      ]
     },
     "execution_count": 43,
     "metadata": {},
     "output_type": "execute_result"
    }
   ],
   "source": [
    "X[:,:2]"
   ]
  },
  {
   "cell_type": "code",
   "execution_count": null,
   "id": "03d99db3",
   "metadata": {},
   "outputs": [],
   "source": [
    "28s for (8000, 10)\n",
    "20s for (6000, 10)\n",
    "13s for (4000, 10)\n",
    "6.5s for (2000, 10)\n",
    "\n",
    "3.53 s for (4000,2)\n",
    "6 s for (4000,4)\n",
    "8.53 s for (4000,6)\n",
    "11.1 s for (4000,8)"
   ]
  },
  {
   "cell_type": "code",
   "execution_count": 3,
   "id": "f10db889",
   "metadata": {},
   "outputs": [],
   "source": [
    "# read gender from \n",
    "gender = pd.read_csv(\"gender.csv\")\n",
    "gender.fillna(0, inplace=True)\n",
    "target = 'Mean Scale Score'"
   ]
  },
  {
   "cell_type": "code",
   "execution_count": 5,
   "id": "582acd3e",
   "metadata": {},
   "outputs": [],
   "source": [
    "gender = gender[['DBN', 'School Name', 'Grade', 'Year', 'Category', 'Number Tested', 'Mean Scale Score']]"
   ]
  },
  {
   "cell_type": "code",
   "execution_count": 6,
   "id": "d81e0ae4",
   "metadata": {},
   "outputs": [],
   "source": [
    "gender[target] = pd.to_numeric(gender[target],errors=\"coerce\")\n",
    "gender.dropna(subset=[target],inplace=True)"
   ]
  },
  {
   "cell_type": "code",
   "execution_count": 7,
   "id": "119ffba7",
   "metadata": {},
   "outputs": [],
   "source": [
    "def one_one_encoding(relation, attributes):\n",
    "    one_hot_encoding_relations = [relation]\n",
    "    for attr in attributes:\n",
    "        one_hot_encoding_relations.append(pd.get_dummies(relation[attr], prefix=attr))\n",
    "    encoded_relation = pd.concat(one_hot_encoding_relations, axis=1)\n",
    "    encoded_relation.drop(columns=attributes, inplace=True)\n",
    "    return encoded_relation"
   ]
  },
  {
   "cell_type": "code",
   "execution_count": 8,
   "id": "1efa8bae",
   "metadata": {},
   "outputs": [],
   "source": [
    "gender = one_one_encoding(gender, ['DBN', 'School Name', 'Grade', 'Year', 'Category'])"
   ]
  },
  {
   "cell_type": "code",
   "execution_count": 9,
   "id": "c7ae4376",
   "metadata": {},
   "outputs": [],
   "source": [
    "# train test split\n",
    "msk = split_mask(len(gender)) < 0.8\n",
    "gender_train = gender[msk].copy()\n",
    "gender_test = gender[~msk].copy()"
   ]
  },
  {
   "cell_type": "code",
   "execution_count": 11,
   "id": "7d18a720",
   "metadata": {},
   "outputs": [],
   "source": [
    "from sklearn.ensemble import GradientBoostingClassifier\n",
    "from sklearn.ensemble import RandomForestClassifier"
   ]
  },
  {
   "cell_type": "code",
   "execution_count": 13,
   "id": "f862f073",
   "metadata": {},
   "outputs": [],
   "source": [
    "\n",
    "y_train = gender_train[target]\n",
    "y_test = gender_test[target]\n",
    "X_train = gender_train.drop(columns=target)\n",
    "X_test = gender_test.drop(columns=target)"
   ]
  },
  {
   "cell_type": "code",
   "execution_count": 16,
   "id": "586d92ba",
   "metadata": {},
   "outputs": [
    {
     "name": "stdout",
     "output_type": "stream",
     "text": [
      "CPU times: user 20.4 s, sys: 368 ms, total: 20.7 s\n",
      "Wall time: 20.7 s\n"
     ]
    },
    {
     "data": {
      "text/plain": [
       "RandomForestClassifier(max_depth=30, random_state=0)"
      ]
     },
     "execution_count": 16,
     "metadata": {},
     "output_type": "execute_result"
    }
   ],
   "source": [
    "%%time\n",
    "clf = RandomForestClassifier(max_depth = 30, random_state=0, n_estimators=100)\n",
    "clf.fit(X_train, y_train)"
   ]
  },
  {
   "cell_type": "code",
   "execution_count": 16,
   "id": "7dc7ac5b",
   "metadata": {},
   "outputs": [],
   "source": [
    "from sklearn.metrics import r2_score"
   ]
  },
  {
   "cell_type": "code",
   "execution_count": 18,
   "id": "df969fff",
   "metadata": {},
   "outputs": [
    {
     "data": {
      "text/plain": [
       "0.39468982545808673"
      ]
     },
     "execution_count": 18,
     "metadata": {},
     "output_type": "execute_result"
    }
   ],
   "source": [
    "r2_score(y_test, clf.predict(X_test))"
   ]
  },
  {
   "cell_type": "code",
   "execution_count": 19,
   "id": "f9c7e501",
   "metadata": {},
   "outputs": [
    {
     "data": {
      "text/plain": [
       "1        292\n",
       "9        297\n",
       "10       283\n",
       "15         s\n",
       "21       282\n",
       "        ... \n",
       "47701    276\n",
       "47715    281\n",
       "47719    285\n",
       "47723    296\n",
       "47724    287\n",
       "Name: Mean Scale Score, Length: 9533, dtype: object"
      ]
     },
     "execution_count": 19,
     "metadata": {},
     "output_type": "execute_result"
    }
   ],
   "source": [
    "y_test"
   ]
  },
  {
   "cell_type": "code",
   "execution_count": 33,
   "id": "d3efb098",
   "metadata": {},
   "outputs": [],
   "source": [
    "# join = pd.read_csv(\"math_gender_join.csv\")"
   ]
  },
  {
   "cell_type": "code",
   "execution_count": null,
   "id": "fa7708fc",
   "metadata": {},
   "outputs": [],
   "source": []
  },
  {
   "cell_type": "code",
   "execution_count": null,
   "id": "2aaa0313",
   "metadata": {},
   "outputs": [],
   "source": []
  },
  {
   "cell_type": "code",
   "execution_count": null,
   "id": "081e7832",
   "metadata": {},
   "outputs": [],
   "source": [
    "(201535, 1156)\n",
    "RandomForestClassifier(max_depth = 20,random_state=1, n_estimators=100)\n",
    "takes 60 s\n"
   ]
  },
  {
   "cell_type": "code",
   "execution_count": 34,
   "id": "f97fd456",
   "metadata": {},
   "outputs": [],
   "source": [
    "from math import log"
   ]
  },
  {
   "cell_type": "code",
   "execution_count": 35,
   "id": "bd80d2ad",
   "metadata": {},
   "outputs": [],
   "source": [
    "n = 201535\n",
    "m = 1156\n",
    "k = 60/(n * log(n) * m)"
   ]
  },
  {
   "cell_type": "code",
   "execution_count": 36,
   "id": "7ec8bbae",
   "metadata": {},
   "outputs": [
    {
     "data": {
      "text/plain": [
       "2.1086040483132026e-08"
      ]
     },
     "execution_count": 36,
     "metadata": {},
     "output_type": "execute_result"
    }
   ],
   "source": [
    "k"
   ]
  },
  {
   "cell_type": "code",
   "execution_count": 38,
   "id": "c7c71964",
   "metadata": {},
   "outputs": [],
   "source": [
    "n = 100000\n",
    "m = 1156"
   ]
  },
  {
   "cell_type": "code",
   "execution_count": 39,
   "id": "a4593134",
   "metadata": {},
   "outputs": [
    {
     "data": {
      "text/plain": [
       "28.063288637329233"
      ]
     },
     "execution_count": 39,
     "metadata": {},
     "output_type": "execute_result"
    }
   ],
   "source": [
    "k * (n * log(n) * m)"
   ]
  },
  {
   "cell_type": "code",
   "execution_count": null,
   "id": "e49421e9",
   "metadata": {},
   "outputs": [],
   "source": []
  }
 ],
 "metadata": {
  "environment": {
   "name": "common-cpu.m79",
   "type": "gcloud",
   "uri": "gcr.io/deeplearning-platform-release/base-cpu:m79"
  },
  "kernelspec": {
   "display_name": "Python [conda env:root] *",
   "language": "python",
   "name": "conda-root-py"
  },
  "language_info": {
   "codemirror_mode": {
    "name": "ipython",
    "version": 3
   },
   "file_extension": ".py",
   "mimetype": "text/x-python",
   "name": "python",
   "nbconvert_exporter": "python",
   "pygments_lexer": "ipython3",
   "version": "3.7.10"
  }
 },
 "nbformat": 4,
 "nbformat_minor": 5
}

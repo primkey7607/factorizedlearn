{
 "cells": [
  {
   "cell_type": "code",
   "execution_count": 49,
   "id": "08b2258e",
   "metadata": {},
   "outputs": [],
   "source": [
    "from datamarket import *"
   ]
  },
  {
   "cell_type": "code",
   "execution_count": 50,
   "id": "45aa1505",
   "metadata": {},
   "outputs": [],
   "source": [
    "dimensions = 4\n",
    "dimensions_size = 20"
   ]
  },
  {
   "cell_type": "code",
   "execution_count": 51,
   "id": "ea6dc4a4",
   "metadata": {},
   "outputs": [],
   "source": [
    "# 1st dimension is A, 2nd dimension is B, ...\n",
    "def get_dimension_name(d):\n",
    "    return chr(ord('A') + d)\n",
    "\n",
    "def generate_dimension_table(d):\n",
    "    name = get_dimension_name(d)\n",
    "    df = pd.DataFrame()\n",
    "    df[name] = range(dimensions_size)\n",
    "    df[name + \"_att\"] = choices(range(50), k=dimensions_size)\n",
    "    return df"
   ]
  },
  {
   "cell_type": "code",
   "execution_count": 52,
   "id": "eebf405f",
   "metadata": {},
   "outputs": [],
   "source": [
    "dimention_tables = []\n",
    "for i in range(dimensions):\n",
    "    dimention_tables.append(generate_dimension_table(i))\n",
    "\n",
    "fact_table = pd.DataFrame()\n",
    "for d in range(dimensions):\n",
    "    name = get_dimension_name(d)\n",
    "    fact_table[name] = [item for item in range(dimensions_size) for i in range(int(pow(dimensions_size,d)))] * int(pow(dimensions_size,dimensions - 1 - d))\n",
    "\n",
    "# join fact table with dimension tables\n",
    "join_result = None\n",
    "for i in range(dimensions):\n",
    "    if i == 0:\n",
    "        join_result = pd.merge(fact_table, dimention_tables[0])\n",
    "    else:\n",
    "        join_result = pd.merge(join_result, dimention_tables[i])"
   ]
  },
  {
   "cell_type": "code",
   "execution_count": 53,
   "id": "ad5a9837",
   "metadata": {},
   "outputs": [
    {
     "data": {
      "text/html": [
       "<div>\n",
       "<style scoped>\n",
       "    .dataframe tbody tr th:only-of-type {\n",
       "        vertical-align: middle;\n",
       "    }\n",
       "\n",
       "    .dataframe tbody tr th {\n",
       "        vertical-align: top;\n",
       "    }\n",
       "\n",
       "    .dataframe thead th {\n",
       "        text-align: right;\n",
       "    }\n",
       "</style>\n",
       "<table border=\"1\" class=\"dataframe\">\n",
       "  <thead>\n",
       "    <tr style=\"text-align: right;\">\n",
       "      <th></th>\n",
       "      <th>A</th>\n",
       "      <th>B</th>\n",
       "      <th>C</th>\n",
       "      <th>D</th>\n",
       "      <th>A_att</th>\n",
       "      <th>B_att</th>\n",
       "      <th>C_att</th>\n",
       "      <th>D_att</th>\n",
       "      <th>result</th>\n",
       "    </tr>\n",
       "  </thead>\n",
       "  <tbody>\n",
       "    <tr>\n",
       "      <th>0</th>\n",
       "      <td>0</td>\n",
       "      <td>0</td>\n",
       "      <td>0</td>\n",
       "      <td>0</td>\n",
       "      <td>31</td>\n",
       "      <td>4</td>\n",
       "      <td>25</td>\n",
       "      <td>40</td>\n",
       "      <td>3202</td>\n",
       "    </tr>\n",
       "    <tr>\n",
       "      <th>1</th>\n",
       "      <td>1</td>\n",
       "      <td>0</td>\n",
       "      <td>0</td>\n",
       "      <td>0</td>\n",
       "      <td>22</td>\n",
       "      <td>4</td>\n",
       "      <td>25</td>\n",
       "      <td>40</td>\n",
       "      <td>2725</td>\n",
       "    </tr>\n",
       "    <tr>\n",
       "      <th>2</th>\n",
       "      <td>2</td>\n",
       "      <td>0</td>\n",
       "      <td>0</td>\n",
       "      <td>0</td>\n",
       "      <td>21</td>\n",
       "      <td>4</td>\n",
       "      <td>25</td>\n",
       "      <td>40</td>\n",
       "      <td>2682</td>\n",
       "    </tr>\n",
       "    <tr>\n",
       "      <th>3</th>\n",
       "      <td>3</td>\n",
       "      <td>0</td>\n",
       "      <td>0</td>\n",
       "      <td>0</td>\n",
       "      <td>25</td>\n",
       "      <td>4</td>\n",
       "      <td>25</td>\n",
       "      <td>40</td>\n",
       "      <td>2866</td>\n",
       "    </tr>\n",
       "    <tr>\n",
       "      <th>4</th>\n",
       "      <td>4</td>\n",
       "      <td>0</td>\n",
       "      <td>0</td>\n",
       "      <td>0</td>\n",
       "      <td>48</td>\n",
       "      <td>4</td>\n",
       "      <td>25</td>\n",
       "      <td>40</td>\n",
       "      <td>4545</td>\n",
       "    </tr>\n",
       "    <tr>\n",
       "      <th>...</th>\n",
       "      <td>...</td>\n",
       "      <td>...</td>\n",
       "      <td>...</td>\n",
       "      <td>...</td>\n",
       "      <td>...</td>\n",
       "      <td>...</td>\n",
       "      <td>...</td>\n",
       "      <td>...</td>\n",
       "      <td>...</td>\n",
       "    </tr>\n",
       "    <tr>\n",
       "      <th>159995</th>\n",
       "      <td>15</td>\n",
       "      <td>19</td>\n",
       "      <td>19</td>\n",
       "      <td>19</td>\n",
       "      <td>31</td>\n",
       "      <td>43</td>\n",
       "      <td>20</td>\n",
       "      <td>44</td>\n",
       "      <td>5146</td>\n",
       "    </tr>\n",
       "    <tr>\n",
       "      <th>159996</th>\n",
       "      <td>16</td>\n",
       "      <td>19</td>\n",
       "      <td>19</td>\n",
       "      <td>19</td>\n",
       "      <td>8</td>\n",
       "      <td>43</td>\n",
       "      <td>20</td>\n",
       "      <td>44</td>\n",
       "      <td>4249</td>\n",
       "    </tr>\n",
       "    <tr>\n",
       "      <th>159997</th>\n",
       "      <td>17</td>\n",
       "      <td>19</td>\n",
       "      <td>19</td>\n",
       "      <td>19</td>\n",
       "      <td>38</td>\n",
       "      <td>43</td>\n",
       "      <td>20</td>\n",
       "      <td>44</td>\n",
       "      <td>5629</td>\n",
       "    </tr>\n",
       "    <tr>\n",
       "      <th>159998</th>\n",
       "      <td>18</td>\n",
       "      <td>19</td>\n",
       "      <td>19</td>\n",
       "      <td>19</td>\n",
       "      <td>33</td>\n",
       "      <td>43</td>\n",
       "      <td>20</td>\n",
       "      <td>44</td>\n",
       "      <td>5274</td>\n",
       "    </tr>\n",
       "    <tr>\n",
       "      <th>159999</th>\n",
       "      <td>19</td>\n",
       "      <td>19</td>\n",
       "      <td>19</td>\n",
       "      <td>19</td>\n",
       "      <td>11</td>\n",
       "      <td>43</td>\n",
       "      <td>20</td>\n",
       "      <td>44</td>\n",
       "      <td>4306</td>\n",
       "    </tr>\n",
       "  </tbody>\n",
       "</table>\n",
       "<p>160000 rows × 9 columns</p>\n",
       "</div>"
      ],
      "text/plain": [
       "         A   B   C   D  A_att  B_att  C_att  D_att  result\n",
       "0        0   0   0   0     31      4     25     40    3202\n",
       "1        1   0   0   0     22      4     25     40    2725\n",
       "2        2   0   0   0     21      4     25     40    2682\n",
       "3        3   0   0   0     25      4     25     40    2866\n",
       "4        4   0   0   0     48      4     25     40    4545\n",
       "...     ..  ..  ..  ..    ...    ...    ...    ...     ...\n",
       "159995  15  19  19  19     31     43     20     44    5146\n",
       "159996  16  19  19  19      8     43     20     44    4249\n",
       "159997  17  19  19  19     38     43     20     44    5629\n",
       "159998  18  19  19  19     33     43     20     44    5274\n",
       "159999  19  19  19  19     11     43     20     44    4306\n",
       "\n",
       "[160000 rows x 9 columns]"
      ]
     },
     "execution_count": 53,
     "metadata": {},
     "output_type": "execute_result"
    }
   ],
   "source": [
    "join_result[\"result\"] = 0\n",
    "for i in range(dimensions):\n",
    "    name = get_dimension_name(i)\n",
    "    join_result[\"result\"] += join_result[name + \"_att\"] * join_result[name + \"_att\"]\n",
    "join_result"
   ]
  },
  {
   "cell_type": "code",
   "execution_count": 54,
   "id": "e69d89b6",
   "metadata": {},
   "outputs": [],
   "source": [
    "# create train test imbalance\n",
    "join_train = join_result[join_result[\"A_att\"] < 10].copy()\n",
    "join_test = join_result.copy()\n",
    "horizontal_train = join_result[(join_result[\"A_att\"] >= 10)&(join_result[\"A_att\"] < 20)].copy()"
   ]
  },
  {
   "cell_type": "code",
   "execution_count": null,
   "id": "98e3f6ab",
   "metadata": {},
   "outputs": [],
   "source": []
  },
  {
   "cell_type": "code",
   "execution_count": 55,
   "id": "8ef2366a",
   "metadata": {},
   "outputs": [],
   "source": [
    "train_data = agg_dataset()\n",
    "train_data.load(join_train, [\"A_att\", \"B_att\", \"result\"], [\"A\",\"B\",\"C\",\"D\"], \"gender\")\n",
    "train_data.process_target(\"result\")\n",
    "train_data.to_numeric_and_impute_all()\n",
    "train_data.remove_redundant_columns()\n",
    "train_data.compute_agg()"
   ]
  },
  {
   "cell_type": "code",
   "execution_count": 56,
   "id": "b66b2817",
   "metadata": {},
   "outputs": [],
   "source": [
    "test_data = agg_dataset()\n",
    "test_data.load(join_test, [\"A_att\", \"B_att\", \"C_att\", \"D_att\", \"result\"], [\"A\",\"B\",\"C\",\"D\"], \"gender\")\n",
    "test_data.remove_redundant_columns()\n",
    "test_data.compute_agg()"
   ]
  },
  {
   "cell_type": "code",
   "execution_count": 57,
   "id": "7bbbb4ea",
   "metadata": {},
   "outputs": [],
   "source": [
    "horizontal_data = agg_dataset()\n",
    "horizontal_data.load(horizontal_train, [\"A_att\", \"B_att\", \"result\"], [\"A\",\"B\",\"C\",\"D\"], \"gender\")\n",
    "horizontal_data.remove_redundant_columns()\n",
    "horizontal_data.compute_agg()"
   ]
  },
  {
   "cell_type": "code",
   "execution_count": 58,
   "id": "fbae7c68",
   "metadata": {},
   "outputs": [],
   "source": [
    "vertical_data = agg_dataset()\n",
    "vertical_data.load(dimention_tables[2], [\"C_att\"], [\"C\"], \"gender\")\n",
    "vertical_data.remove_redundant_columns()\n",
    "vertical_data.compute_agg()"
   ]
  },
  {
   "cell_type": "code",
   "execution_count": 59,
   "id": "3315832c",
   "metadata": {},
   "outputs": [],
   "source": [
    "# before augmentation\n",
    "train_cov = train_data.covariance\n",
    "parameter = linear_regression(train_cov,[\"gender:A_att\", \"gender:B_att\"], \"gender:result\")\n",
    "test_cov = test_data.agg_dimensions[\"A\"].sum()\n",
    "beforer2 = r2(test_cov, [\"gender:A_att\", \"gender:B_att\"],\"gender:result\", parameter)"
   ]
  },
  {
   "cell_type": "code",
   "execution_count": 60,
   "id": "8eb39c97",
   "metadata": {},
   "outputs": [],
   "source": [
    "# horizontal augmentation\n",
    "horizontal_cov = train_cov + horizontal_data.covariance\n",
    "parameter = linear_regression(horizontal_cov,[\"gender:A_att\", \"gender:B_att\"], \"gender:result\")\n",
    "test_cov = test_data.agg_dimensions[\"A\"].sum()\n",
    "horizontalr2 = r2(test_cov, [\"gender:A_att\", \"gender:B_att\"],\"gender:result\", parameter)"
   ]
  },
  {
   "cell_type": "code",
   "execution_count": 61,
   "id": "b7f4f275",
   "metadata": {},
   "outputs": [
    {
     "name": "stderr",
     "output_type": "stream",
     "text": [
      "/home/jupyter/arda/arda-datasets/school/datamarket.py:384: FutureWarning: In a future version of pandas all arguments of DataFrame.drop except for the argument 'labels' will be keyword-only\n",
      "  join.drop('cov:c_y', 1, inplace=True)\n"
     ]
    }
   ],
   "source": [
    "# vertical augmentation\n",
    "join_cov = connect(train_data, vertical_data, \"C\").sum()\n",
    "parameter = linear_regression(join_cov,[\"gender:A_att\", \"gender:B_att\", \"gender:C_att\"], \"gender:result\")\n",
    "test_cov = test_data.agg_dimensions[\"A\"].sum()\n",
    "verticalr2 = r2(test_cov, [\"gender:A_att\", \"gender:B_att\", \"gender:C_att\"],\"gender:result\", parameter)"
   ]
  },
  {
   "cell_type": "code",
   "execution_count": 62,
   "id": "c0e5d694",
   "metadata": {},
   "outputs": [],
   "source": [
    "# to test both, we have to naively union first\n",
    "# then connects to vertical augmentation\n",
    "train_data = agg_dataset()\n",
    "train_data.load(pd.concat([join_train, horizontal_train]), [\"A_att\", \"B_att\", \"result\"], [\"A\",\"B\",\"C\",\"D\"], \"gender\")\n",
    "train_data.process_target(\"result\")\n",
    "train_data.to_numeric_and_impute_all()\n",
    "train_data.remove_redundant_columns()\n",
    "train_data.compute_agg()"
   ]
  },
  {
   "cell_type": "code",
   "execution_count": 63,
   "id": "ac169016",
   "metadata": {},
   "outputs": [],
   "source": [
    "# vertical augmentation\n",
    "join_cov = connect(train_data, vertical_data, \"C\").sum()\n",
    "parameter = linear_regression(join_cov,[\"gender:A_att\", \"gender:B_att\", \"gender:C_att\"], \"gender:result\")\n",
    "test_cov = test_data.agg_dimensions[\"A\"].sum()\n",
    "bothr2 = r2(test_cov, [\"gender:A_att\", \"gender:B_att\", \"gender:C_att\"],\"gender:result\", parameter)"
   ]
  },
  {
   "cell_type": "code",
   "execution_count": 64,
   "id": "5b42ebc2",
   "metadata": {},
   "outputs": [
    {
     "data": {
      "text/plain": [
       "Text(0, 0.5, 'R2')"
      ]
     },
     "execution_count": 64,
     "metadata": {},
     "output_type": "execute_result"
    },
    {
     "data": {
      "image/png": "[encoded data removed]",
      "text/plain": [
       "<Figure size 288x216 with 1 Axes>"
      ]
     },
     "metadata": {
      "needs_background": "light"
     },
     "output_type": "display_data"
    }
   ],
   "source": [
    "import numpy as np\n",
    "import matplotlib.pyplot as plt\n",
    "\n",
    "types = ['Before','Horizontal','Vertical','Both']\n",
    "values = [beforer2, horizontalr2, verticalr2, bothr2]\n",
    "  \n",
    "fig = plt.figure(figsize=(4, 3))\n",
    "# creating the bar plot\n",
    "plt.bar(types, values, width = 0.5)\n",
    "# plt.xlabel(\"Number of rows\")\n",
    "plt.ylabel(\"R2\")"
   ]
  },
  {
   "cell_type": "code",
   "execution_count": null,
   "id": "5e647a7f",
   "metadata": {},
   "outputs": [],
   "source": []
  },
  {
   "cell_type": "code",
   "execution_count": null,
   "id": "d7f6a48d",
   "metadata": {},
   "outputs": [],
   "source": []
  },
  {
   "cell_type": "code",
   "execution_count": null,
   "id": "5396efe8",
   "metadata": {},
   "outputs": [],
   "source": []
  },
  {
   "cell_type": "code",
   "execution_count": null,
   "id": "a25fd6ca",
   "metadata": {},
   "outputs": [],
   "source": []
  },
  {
   "cell_type": "code",
   "execution_count": null,
   "id": "833f8af5",
   "metadata": {},
   "outputs": [],
   "source": []
  },
  {
   "cell_type": "code",
   "execution_count": null,
   "id": "77f56739",
   "metadata": {},
   "outputs": [],
   "source": []
  }
 ],
 "metadata": {
  "environment": {
   "name": "common-cpu.m79",
   "type": "gcloud",
   "uri": "gcr.io/deeplearning-platform-release/base-cpu:m79"
  },
  "kernelspec": {
   "display_name": "Python 3",
   "language": "python",
   "name": "python3"
  },
  "language_info": {
   "codemirror_mode": {
    "name": "ipython",
    "version": 3
   },
   "file_extension": ".py",
   "mimetype": "text/x-python",
   "name": "python",
   "nbconvert_exporter": "python",
   "pygments_lexer": "ipython3",
   "version": "3.7.10"
  }
 },
 "nbformat": 4,
 "nbformat_minor": 5
}

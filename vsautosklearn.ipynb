{
 "cells": [
  {
   "cell_type": "code",
   "execution_count": 37,
   "id": "08bd71e5",
   "metadata": {},
   "outputs": [],
   "source": [
    "from sklearn import *\n",
    "import pandas as pd\n",
    "import numpy as np\n",
    "import autosklearn.regression"
   ]
  },
  {
   "cell_type": "code",
   "execution_count": 143,
   "id": "b7810c42",
   "metadata": {},
   "outputs": [],
   "source": [
    "# read seller dataset and split into train/test\n",
    "gender = pd.read_csv(\"gender.csv\")\n",
    "math = pd.read_csv(\"math.csv\")"
   ]
  },
  {
   "cell_type": "code",
   "execution_count": 103,
   "id": "0a24a758",
   "metadata": {},
   "outputs": [
    {
     "data": {
      "text/html": [
       "<div>\n",
       "<style scoped>\n",
       "    .dataframe tbody tr th:only-of-type {\n",
       "        vertical-align: middle;\n",
       "    }\n",
       "\n",
       "    .dataframe tbody tr th {\n",
       "        vertical-align: top;\n",
       "    }\n",
       "\n",
       "    .dataframe thead th {\n",
       "        text-align: right;\n",
       "    }\n",
       "</style>\n",
       "<table border=\"1\" class=\"dataframe\">\n",
       "  <thead>\n",
       "    <tr style=\"text-align: right;\">\n",
       "      <th></th>\n",
       "      <th>DBN</th>\n",
       "      <th>Grade</th>\n",
       "      <th>Year</th>\n",
       "      <th>Category</th>\n",
       "      <th>Number Tested</th>\n",
       "      <th>Mean Scale Score</th>\n",
       "      <th>Level 1 #</th>\n",
       "      <th>Level 1 %</th>\n",
       "      <th>Level 2 #</th>\n",
       "      <th>Level 2 %</th>\n",
       "      <th>Level 3 #</th>\n",
       "      <th>Level 3 %</th>\n",
       "      <th>Level 4 #</th>\n",
       "      <th>Level 4 %</th>\n",
       "      <th>Level 3+4 #</th>\n",
       "      <th>Level 3+4 %</th>\n",
       "    </tr>\n",
       "  </thead>\n",
       "  <tbody>\n",
       "    <tr>\n",
       "      <th>0</th>\n",
       "      <td>01M015</td>\n",
       "      <td>3</td>\n",
       "      <td>2006</td>\n",
       "      <td>All Students</td>\n",
       "      <td>39</td>\n",
       "      <td>667.0</td>\n",
       "      <td>2.0</td>\n",
       "      <td>5.1</td>\n",
       "      <td>11.0</td>\n",
       "      <td>28.2</td>\n",
       "      <td>20.0</td>\n",
       "      <td>51.3</td>\n",
       "      <td>6.0</td>\n",
       "      <td>15.4</td>\n",
       "      <td>26.0</td>\n",
       "      <td>66.7</td>\n",
       "    </tr>\n",
       "    <tr>\n",
       "      <th>1</th>\n",
       "      <td>01M015</td>\n",
       "      <td>3</td>\n",
       "      <td>2007</td>\n",
       "      <td>All Students</td>\n",
       "      <td>31</td>\n",
       "      <td>672.0</td>\n",
       "      <td>2.0</td>\n",
       "      <td>6.5</td>\n",
       "      <td>3.0</td>\n",
       "      <td>9.7</td>\n",
       "      <td>22.0</td>\n",
       "      <td>71.0</td>\n",
       "      <td>4.0</td>\n",
       "      <td>12.9</td>\n",
       "      <td>26.0</td>\n",
       "      <td>83.9</td>\n",
       "    </tr>\n",
       "    <tr>\n",
       "      <th>2</th>\n",
       "      <td>01M015</td>\n",
       "      <td>3</td>\n",
       "      <td>2008</td>\n",
       "      <td>All Students</td>\n",
       "      <td>37</td>\n",
       "      <td>668.0</td>\n",
       "      <td>0.0</td>\n",
       "      <td>0.0</td>\n",
       "      <td>6.0</td>\n",
       "      <td>16.2</td>\n",
       "      <td>29.0</td>\n",
       "      <td>78.4</td>\n",
       "      <td>2.0</td>\n",
       "      <td>5.4</td>\n",
       "      <td>31.0</td>\n",
       "      <td>83.8</td>\n",
       "    </tr>\n",
       "    <tr>\n",
       "      <th>3</th>\n",
       "      <td>01M015</td>\n",
       "      <td>3</td>\n",
       "      <td>2009</td>\n",
       "      <td>All Students</td>\n",
       "      <td>33</td>\n",
       "      <td>668.0</td>\n",
       "      <td>0.0</td>\n",
       "      <td>0.0</td>\n",
       "      <td>4.0</td>\n",
       "      <td>12.1</td>\n",
       "      <td>28.0</td>\n",
       "      <td>84.8</td>\n",
       "      <td>1.0</td>\n",
       "      <td>3.0</td>\n",
       "      <td>29.0</td>\n",
       "      <td>87.9</td>\n",
       "    </tr>\n",
       "    <tr>\n",
       "      <th>4</th>\n",
       "      <td>01M015</td>\n",
       "      <td>3</td>\n",
       "      <td>2010</td>\n",
       "      <td>All Students</td>\n",
       "      <td>26</td>\n",
       "      <td>677.0</td>\n",
       "      <td>6.0</td>\n",
       "      <td>23.1</td>\n",
       "      <td>12.0</td>\n",
       "      <td>46.2</td>\n",
       "      <td>6.0</td>\n",
       "      <td>23.1</td>\n",
       "      <td>2.0</td>\n",
       "      <td>7.7</td>\n",
       "      <td>8.0</td>\n",
       "      <td>30.8</td>\n",
       "    </tr>\n",
       "    <tr>\n",
       "      <th>...</th>\n",
       "      <td>...</td>\n",
       "      <td>...</td>\n",
       "      <td>...</td>\n",
       "      <td>...</td>\n",
       "      <td>...</td>\n",
       "      <td>...</td>\n",
       "      <td>...</td>\n",
       "      <td>...</td>\n",
       "      <td>...</td>\n",
       "      <td>...</td>\n",
       "      <td>...</td>\n",
       "      <td>...</td>\n",
       "      <td>...</td>\n",
       "      <td>...</td>\n",
       "      <td>...</td>\n",
       "      <td>...</td>\n",
       "    </tr>\n",
       "    <tr>\n",
       "      <th>28473</th>\n",
       "      <td>75X723</td>\n",
       "      <td>All Grades</td>\n",
       "      <td>2007</td>\n",
       "      <td>All Students</td>\n",
       "      <td>219</td>\n",
       "      <td>NaN</td>\n",
       "      <td>170.0</td>\n",
       "      <td>77.6</td>\n",
       "      <td>34.0</td>\n",
       "      <td>15.5</td>\n",
       "      <td>13.0</td>\n",
       "      <td>5.9</td>\n",
       "      <td>2.0</td>\n",
       "      <td>0.9</td>\n",
       "      <td>15.0</td>\n",
       "      <td>6.8</td>\n",
       "    </tr>\n",
       "    <tr>\n",
       "      <th>28474</th>\n",
       "      <td>75X723</td>\n",
       "      <td>All Grades</td>\n",
       "      <td>2008</td>\n",
       "      <td>All Students</td>\n",
       "      <td>211</td>\n",
       "      <td>NaN</td>\n",
       "      <td>139.0</td>\n",
       "      <td>65.9</td>\n",
       "      <td>46.0</td>\n",
       "      <td>21.8</td>\n",
       "      <td>26.0</td>\n",
       "      <td>12.3</td>\n",
       "      <td>0.0</td>\n",
       "      <td>0.0</td>\n",
       "      <td>26.0</td>\n",
       "      <td>12.3</td>\n",
       "    </tr>\n",
       "    <tr>\n",
       "      <th>28475</th>\n",
       "      <td>75X723</td>\n",
       "      <td>All Grades</td>\n",
       "      <td>2009</td>\n",
       "      <td>All Students</td>\n",
       "      <td>209</td>\n",
       "      <td>NaN</td>\n",
       "      <td>88.0</td>\n",
       "      <td>42.1</td>\n",
       "      <td>87.0</td>\n",
       "      <td>41.6</td>\n",
       "      <td>30.0</td>\n",
       "      <td>14.4</td>\n",
       "      <td>4.0</td>\n",
       "      <td>1.9</td>\n",
       "      <td>34.0</td>\n",
       "      <td>16.3</td>\n",
       "    </tr>\n",
       "    <tr>\n",
       "      <th>28476</th>\n",
       "      <td>75X723</td>\n",
       "      <td>All Grades</td>\n",
       "      <td>2010</td>\n",
       "      <td>All Students</td>\n",
       "      <td>242</td>\n",
       "      <td>NaN</td>\n",
       "      <td>157.0</td>\n",
       "      <td>64.9</td>\n",
       "      <td>75.0</td>\n",
       "      <td>31.0</td>\n",
       "      <td>10.0</td>\n",
       "      <td>4.1</td>\n",
       "      <td>0.0</td>\n",
       "      <td>0.0</td>\n",
       "      <td>10.0</td>\n",
       "      <td>4.1</td>\n",
       "    </tr>\n",
       "    <tr>\n",
       "      <th>28477</th>\n",
       "      <td>75X723</td>\n",
       "      <td>All Grades</td>\n",
       "      <td>2011</td>\n",
       "      <td>All Students</td>\n",
       "      <td>229</td>\n",
       "      <td>617.0</td>\n",
       "      <td>153.0</td>\n",
       "      <td>66.8</td>\n",
       "      <td>67.0</td>\n",
       "      <td>29.3</td>\n",
       "      <td>8.0</td>\n",
       "      <td>3.5</td>\n",
       "      <td>1.0</td>\n",
       "      <td>0.4</td>\n",
       "      <td>9.0</td>\n",
       "      <td>3.9</td>\n",
       "    </tr>\n",
       "  </tbody>\n",
       "</table>\n",
       "<p>28478 rows × 16 columns</p>\n",
       "</div>"
      ],
      "text/plain": [
       "          DBN       Grade  Year      Category  Number Tested  \\\n",
       "0      01M015           3  2006  All Students             39   \n",
       "1      01M015           3  2007  All Students             31   \n",
       "2      01M015           3  2008  All Students             37   \n",
       "3      01M015           3  2009  All Students             33   \n",
       "4      01M015           3  2010  All Students             26   \n",
       "...       ...         ...   ...           ...            ...   \n",
       "28473  75X723  All Grades  2007  All Students            219   \n",
       "28474  75X723  All Grades  2008  All Students            211   \n",
       "28475  75X723  All Grades  2009  All Students            209   \n",
       "28476  75X723  All Grades  2010  All Students            242   \n",
       "28477  75X723  All Grades  2011  All Students            229   \n",
       "\n",
       "       Mean Scale Score  Level 1 #  Level 1 %  Level 2 #  Level 2 %  \\\n",
       "0                 667.0        2.0        5.1       11.0       28.2   \n",
       "1                 672.0        2.0        6.5        3.0        9.7   \n",
       "2                 668.0        0.0        0.0        6.0       16.2   \n",
       "3                 668.0        0.0        0.0        4.0       12.1   \n",
       "4                 677.0        6.0       23.1       12.0       46.2   \n",
       "...                 ...        ...        ...        ...        ...   \n",
       "28473               NaN      170.0       77.6       34.0       15.5   \n",
       "28474               NaN      139.0       65.9       46.0       21.8   \n",
       "28475               NaN       88.0       42.1       87.0       41.6   \n",
       "28476               NaN      157.0       64.9       75.0       31.0   \n",
       "28477             617.0      153.0       66.8       67.0       29.3   \n",
       "\n",
       "       Level 3 #  Level 3 %  Level 4 #  Level 4 %  Level 3+4 #  Level 3+4 %  \n",
       "0           20.0       51.3        6.0       15.4         26.0         66.7  \n",
       "1           22.0       71.0        4.0       12.9         26.0         83.9  \n",
       "2           29.0       78.4        2.0        5.4         31.0         83.8  \n",
       "3           28.0       84.8        1.0        3.0         29.0         87.9  \n",
       "4            6.0       23.1        2.0        7.7          8.0         30.8  \n",
       "...          ...        ...        ...        ...          ...          ...  \n",
       "28473       13.0        5.9        2.0        0.9         15.0          6.8  \n",
       "28474       26.0       12.3        0.0        0.0         26.0         12.3  \n",
       "28475       30.0       14.4        4.0        1.9         34.0         16.3  \n",
       "28476       10.0        4.1        0.0        0.0         10.0          4.1  \n",
       "28477        8.0        3.5        1.0        0.4          9.0          3.9  \n",
       "\n",
       "[28478 rows x 16 columns]"
      ]
     },
     "execution_count": 103,
     "metadata": {},
     "output_type": "execute_result"
    }
   ],
   "source": [
    "math"
   ]
  },
  {
   "cell_type": "code",
   "execution_count": 144,
   "id": "18c09cdb",
   "metadata": {},
   "outputs": [],
   "source": [
    "gender = gender.astype({'DBN': 'category', 'Year': 'category'})\n",
    "gender[\"Mean Scale Score\"] = pd.to_numeric(gender[\"Mean Scale Score\"], errors='coerce').fillna(0)"
   ]
  },
  {
   "cell_type": "code",
   "execution_count": 98,
   "id": "9096bb7e",
   "metadata": {},
   "outputs": [],
   "source": [
    "gender = pd.merge(gender,math,how='inner', on=[\"DBN\",\"Grade\"])"
   ]
  },
  {
   "cell_type": "code",
   "execution_count": 99,
   "id": "a9803aa1",
   "metadata": {},
   "outputs": [],
   "source": [
    "gender[\"Level 4 %\"] = pd.to_numeric(gender[\"Level 4 %\"], errors='coerce').fillna(0)"
   ]
  },
  {
   "cell_type": "code",
   "execution_count": 109,
   "id": "5d70c119",
   "metadata": {},
   "outputs": [],
   "source": [
    "gender = gender.astype({'DBN': 'category'})"
   ]
  },
  {
   "cell_type": "code",
   "execution_count": 22,
   "id": "c288cbca",
   "metadata": {},
   "outputs": [],
   "source": [
    "def split_mask(length):\n",
    "    return np.random.rand(length)\n",
    "\n",
    "def cross_mask(length, classes):\n",
    "    return np.random.choice(classes, length)"
   ]
  },
  {
   "cell_type": "code",
   "execution_count": 107,
   "id": "0fb5fa0d",
   "metadata": {},
   "outputs": [
    {
     "data": {
      "text/plain": [
       "DBN                     object\n",
       "School Name             object\n",
       "Grade                   object\n",
       "Year_x                category\n",
       "Category_x              object\n",
       "Number Tested_x          int64\n",
       "Mean Scale Score_x     float64\n",
       "Level1_N                object\n",
       "Level1_%                object\n",
       "Level2_N                object\n",
       "Level2_%                object\n",
       "Level3_N                object\n",
       "Level3_%                object\n",
       "Level4_N                object\n",
       "Level4_%                object\n",
       "Level3+4_N              object\n",
       "Level3+4_%              object\n",
       "Year_y                   int64\n",
       "Category_y              object\n",
       "Number Tested_y          int64\n",
       "Mean Scale Score_y     float64\n",
       "Level 1 #              float64\n",
       "Level 1 %              float64\n",
       "Level 2 #              float64\n",
       "Level 2 %              float64\n",
       "Level 3 #              float64\n",
       "Level 3 %              float64\n",
       "Level 4 #              float64\n",
       "Level 4 %              float64\n",
       "Level 3+4 #            float64\n",
       "Level 3+4 %            float64\n",
       "dtype: object"
      ]
     },
     "execution_count": 107,
     "metadata": {},
     "output_type": "execute_result"
    }
   ],
   "source": []
  },
  {
   "cell_type": "code",
   "execution_count": 146,
   "id": "95b6961a",
   "metadata": {},
   "outputs": [],
   "source": [
    "# train test split\n",
    "msk = split_mask(len(gender)) < 0.8\n",
    "gender_train = gender[msk]\n",
    "gender_test = gender[~msk]"
   ]
  },
  {
   "cell_type": "code",
   "execution_count": 110,
   "id": "c595f498",
   "metadata": {},
   "outputs": [],
   "source": [
    "# cross validation\n",
    "classes = 5\n",
    "msk = cross_mask(len(gender), classes)\n",
    "gender_train_CVsets = []\n",
    "for i in range(classes):\n",
    "    gender_train_CV = gender[msk != i]\n",
    "    gender_test_CV = gender[msk == i]\n",
    "    gender_train_CVsets.append([gender_train_CV, gender_test_CV])"
   ]
  },
  {
   "cell_type": "code",
   "execution_count": 147,
   "id": "4cf684f9",
   "metadata": {},
   "outputs": [],
   "source": [
    "X_train = gender_train[[\"Number Tested\", \"DBN\", \"Year\"]]\n",
    "y_train = gender_train[\"Mean Scale Score\"]\n",
    "X_test = gender_test[[\"Number Tested\", \"DBN\", \"Year\"]]\n",
    "y_test = gender_test[\"Mean Scale Score\"]\n",
    "# X_train = gender_train[[\"Number Tested_x\", \"DBN\", \"Year_x\", \"Level 4 %\"]]\n",
    "# y_train = gender_train[\"Mean Scale Score_x\"]\n",
    "# X_test = gender_test[[\"Number Tested_x\", \"DBN\", \"Year_x\", \"Level 4 %\"]]\n",
    "# y_test = gender_test[\"Mean Scale Score_x\"]"
   ]
  },
  {
   "cell_type": "code",
   "execution_count": 156,
   "id": "b37a3b3f",
   "metadata": {},
   "outputs": [
    {
     "name": "stdout",
     "output_type": "stream",
     "text": [
      "CPU times: user 722 ms, sys: 366 ms, total: 1.09 s\n",
      "Wall time: 56 s\n"
     ]
    },
    {
     "data": {
      "text/plain": [
       "AutoSklearnRegressor(per_run_time_limit=20, time_left_for_this_task=60)"
      ]
     },
     "execution_count": 156,
     "metadata": {},
     "output_type": "execute_result"
    }
   ],
   "source": [
    "%%time\n",
    "automl = autosklearn.regression.AutoSklearnRegressor(\n",
    "    time_left_for_this_task=60,\n",
    "    per_run_time_limit=20,\n",
    "#     tmp_folder='./tmp/autosklearn_regression_example_tmp4',\n",
    ")\n",
    "automl.fit(X_train, y_train, X_test, y_test, dataset_name='gender')"
   ]
  },
  {
   "cell_type": "code",
   "execution_count": 72,
   "id": "383cfc35",
   "metadata": {},
   "outputs": [],
   "source": [
    "gender_train = gender_train.astype({'DBN': 'category', 'Year': 'category'})\n",
    "gender_train[\"Mean Scale Score\"] = pd.to_numeric(gender_train[\"Mean Scale Score\"], errors='coerce').fillna(0)\n",
    "gender_test = gender_test.astype({'DBN': 'category', 'Year': 'category'})\n",
    "gender_test[\"Mean Scale Score\"] = pd.to_numeric(gender_test[\"Mean Scale Score\"], errors='coerce').fillna(0)"
   ]
  },
  {
   "cell_type": "code",
   "execution_count": 128,
   "id": "19271e2b",
   "metadata": {},
   "outputs": [
    {
     "data": {
      "text/html": [
       "<div>\n",
       "<style scoped>\n",
       "    .dataframe tbody tr th:only-of-type {\n",
       "        vertical-align: middle;\n",
       "    }\n",
       "\n",
       "    .dataframe tbody tr th {\n",
       "        vertical-align: top;\n",
       "    }\n",
       "\n",
       "    .dataframe thead th {\n",
       "        text-align: right;\n",
       "    }\n",
       "</style>\n",
       "<table border=\"1\" class=\"dataframe\">\n",
       "  <thead>\n",
       "    <tr style=\"text-align: right;\">\n",
       "      <th></th>\n",
       "      <th>Number Tested_x</th>\n",
       "      <th>DBN</th>\n",
       "      <th>Year_x</th>\n",
       "      <th>Level 4 %</th>\n",
       "    </tr>\n",
       "  </thead>\n",
       "  <tbody>\n",
       "    <tr>\n",
       "      <th>0</th>\n",
       "      <td>12</td>\n",
       "      <td>01M015</td>\n",
       "      <td>2013</td>\n",
       "      <td>15.4</td>\n",
       "    </tr>\n",
       "    <tr>\n",
       "      <th>1</th>\n",
       "      <td>12</td>\n",
       "      <td>01M015</td>\n",
       "      <td>2013</td>\n",
       "      <td>12.9</td>\n",
       "    </tr>\n",
       "    <tr>\n",
       "      <th>2</th>\n",
       "      <td>12</td>\n",
       "      <td>01M015</td>\n",
       "      <td>2013</td>\n",
       "      <td>5.4</td>\n",
       "    </tr>\n",
       "    <tr>\n",
       "      <th>3</th>\n",
       "      <td>12</td>\n",
       "      <td>01M015</td>\n",
       "      <td>2013</td>\n",
       "      <td>3.0</td>\n",
       "    </tr>\n",
       "    <tr>\n",
       "      <th>4</th>\n",
       "      <td>12</td>\n",
       "      <td>01M015</td>\n",
       "      <td>2013</td>\n",
       "      <td>7.7</td>\n",
       "    </tr>\n",
       "    <tr>\n",
       "      <th>...</th>\n",
       "      <td>...</td>\n",
       "      <td>...</td>\n",
       "      <td>...</td>\n",
       "      <td>...</td>\n",
       "    </tr>\n",
       "    <tr>\n",
       "      <th>250825</th>\n",
       "      <td>70</td>\n",
       "      <td>32K554</td>\n",
       "      <td>2017</td>\n",
       "      <td>4.3</td>\n",
       "    </tr>\n",
       "    <tr>\n",
       "      <th>250826</th>\n",
       "      <td>70</td>\n",
       "      <td>32K554</td>\n",
       "      <td>2017</td>\n",
       "      <td>6.6</td>\n",
       "    </tr>\n",
       "    <tr>\n",
       "      <th>250827</th>\n",
       "      <td>70</td>\n",
       "      <td>32K554</td>\n",
       "      <td>2017</td>\n",
       "      <td>9.3</td>\n",
       "    </tr>\n",
       "    <tr>\n",
       "      <th>250828</th>\n",
       "      <td>70</td>\n",
       "      <td>32K554</td>\n",
       "      <td>2017</td>\n",
       "      <td>16.1</td>\n",
       "    </tr>\n",
       "    <tr>\n",
       "      <th>250829</th>\n",
       "      <td>70</td>\n",
       "      <td>32K554</td>\n",
       "      <td>2017</td>\n",
       "      <td>22.2</td>\n",
       "    </tr>\n",
       "  </tbody>\n",
       "</table>\n",
       "<p>200617 rows × 4 columns</p>\n",
       "</div>"
      ],
      "text/plain": [
       "        Number Tested_x     DBN Year_x  Level 4 %\n",
       "0                    12  01M015   2013       15.4\n",
       "1                    12  01M015   2013       12.9\n",
       "2                    12  01M015   2013        5.4\n",
       "3                    12  01M015   2013        3.0\n",
       "4                    12  01M015   2013        7.7\n",
       "...                 ...     ...    ...        ...\n",
       "250825               70  32K554   2017        4.3\n",
       "250826               70  32K554   2017        6.6\n",
       "250827               70  32K554   2017        9.3\n",
       "250828               70  32K554   2017       16.1\n",
       "250829               70  32K554   2017       22.2\n",
       "\n",
       "[200617 rows x 4 columns]"
      ]
     },
     "execution_count": 128,
     "metadata": {},
     "output_type": "execute_result"
    }
   ],
   "source": [
    "X_train"
   ]
  },
  {
   "cell_type": "code",
   "execution_count": 157,
   "id": "30ee9c2e",
   "metadata": {},
   "outputs": [
    {
     "name": "stdout",
     "output_type": "stream",
     "text": [
      "          rank  ensemble_weight           type      cost   duration\n",
      "model_id                                                           \n",
      "2            1              1.0  random_forest  0.508276  18.293489\n"
     ]
    }
   ],
   "source": [
    "print(automl.leaderboard())"
   ]
  },
  {
   "cell_type": "code",
   "execution_count": 158,
   "id": "c3b5424a",
   "metadata": {},
   "outputs": [
    {
     "name": "stdout",
     "output_type": "stream",
     "text": [
      "Train R2 score: 0.5272113817299908\n",
      "Test R2 score: 0.5386040145051919\n",
      "CPU times: user 3.5 s, sys: 7.95 ms, total: 3.5 s\n",
      "Wall time: 3.5 s\n"
     ]
    }
   ],
   "source": [
    "%%time\n",
    "train_predictions = automl.predict(X_train)\n",
    "print(\"Train R2 score:\", sklearn.metrics.r2_score(y_train, train_predictions))\n",
    "test_predictions = automl.predict(X_test)\n",
    "print(\"Test R2 score:\", sklearn.metrics.r2_score(y_test, test_predictions))"
   ]
  },
  {
   "cell_type": "code",
   "execution_count": 77,
   "id": "f06ed15d",
   "metadata": {},
   "outputs": [],
   "source": [
    "poT = automl.performance_over_time_"
   ]
  },
  {
   "cell_type": "code",
   "execution_count": null,
   "id": "fa267267",
   "metadata": {},
   "outputs": [],
   "source": []
  },
  {
   "cell_type": "code",
   "execution_count": null,
   "id": "b37e7213",
   "metadata": {},
   "outputs": [],
   "source": [
    "Before augmentation: 10 minutes\n",
    "Train R2 score: 0.6881535542870973\n",
    "Test R2 score: 0.6358218438158112\n",
    "\n",
    "\n",
    "Join makes automl slow?\n",
    "How to deal with missing value?\n",
    "\n",
    "After augmentation with math: 10 minutes\n",
    "Train R2 score: 0.8364053040289139\n",
    "Test R2 score: 0.796080255964835\n",
    "\n",
    "Prediction time is also larger\n",
    "user 5min 17s, Wall time: 25.4 s\n",
    "    \n"
   ]
  },
  {
   "cell_type": "code",
   "execution_count": 140,
   "id": "6fdc45f7",
   "metadata": {},
   "outputs": [
    {
     "name": "stdout",
     "output_type": "stream",
     "text": [
      "          rank  ensemble_weight               type      cost   duration\n",
      "model_id                                                               \n",
      "87           1             0.62  gradient_boosting  0.208163  82.725699\n",
      "3            2             0.22  gradient_boosting  0.211182  59.815271\n",
      "98           3             0.16  gradient_boosting  0.215184  69.606979\n"
     ]
    }
   ],
   "source": [
    "# 5 seconds to find next best augmentation\n",
    "\n",
    "\n",
    "# one hour with math\n",
    "print(automl.leaderboard())"
   ]
  },
  {
   "cell_type": "code",
   "execution_count": 142,
   "id": "fdde693c",
   "metadata": {},
   "outputs": [
    {
     "data": {
      "text/plain": [
       "<AxesSubplot:title={'center':'Auto-sklearn accuracy over time'}, xlabel='Timestamp'>"
      ]
     },
     "execution_count": 142,
     "metadata": {},
     "output_type": "execute_result"
    },
    {
     "data": {
      "image/png": "[encoded data removed]",
      "text/plain": [
       "<Figure size 432x288 with 1 Axes>"
      ]
     },
     "metadata": {
      "needs_background": "light"
     },
     "output_type": "display_data"
    }
   ],
   "source": [
    "poT = automl.performance_over_time_\n",
    "poT.plot(\n",
    "    x='Timestamp',\n",
    "    kind='line',\n",
    "    legend=True,\n",
    "    title='Auto-sklearn accuracy over time',\n",
    "    grid=True,\n",
    ")"
   ]
  },
  {
   "cell_type": "code",
   "execution_count": 151,
   "id": "bda2f722",
   "metadata": {},
   "outputs": [
    {
     "data": {
      "text/plain": [
       "<AxesSubplot:title={'center':'Auto-sklearn accuracy over time'}, xlabel='Timestamp'>"
      ]
     },
     "execution_count": 151,
     "metadata": {},
     "output_type": "execute_result"
    },
    {
     "data": {
      "image/png": "[encoded data removed]",
      "text/plain": [
       "<Figure size 432x288 with 1 Axes>"
      ]
     },
     "metadata": {
      "needs_background": "light"
     },
     "output_type": "display_data"
    }
   ],
   "source": [
    "poT = automl.performance_over_time_\n",
    "poT.plot(\n",
    "    x='Timestamp',\n",
    "    kind='line',\n",
    "    legend=True,\n",
    "    title='Auto-sklearn accuracy over time',\n",
    "    grid=True,\n",
    ")"
   ]
  },
  {
   "cell_type": "code",
   "execution_count": null,
   "id": "b27a4dde",
   "metadata": {},
   "outputs": [],
   "source": []
  }
 ],
 "metadata": {
  "environment": {
   "name": "common-cpu.m79",
   "type": "gcloud",
   "uri": "gcr.io/deeplearning-platform-release/base-cpu:m79"
  },
  "kernelspec": {
   "display_name": "Python 3",
   "language": "python",
   "name": "python3"
  },
  "language_info": {
   "codemirror_mode": {
    "name": "ipython",
    "version": 3
   },
   "file_extension": ".py",
   "mimetype": "text/x-python",
   "name": "python",
   "nbconvert_exporter": "python",
   "pygments_lexer": "ipython3",
   "version": "3.7.10"
  }
 },
 "nbformat": 4,
 "nbformat_minor": 5
}

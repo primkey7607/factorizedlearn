{
 "cells": [
  {
   "cell_type": "code",
   "execution_count": 145,
   "id": "5740bcce",
   "metadata": {},
   "outputs": [],
   "source": [
    "from datamarket import *"
   ]
  },
  {
   "cell_type": "markdown",
   "id": "cc8dea91",
   "metadata": {},
   "source": [
    "# Read the data and train model without augmentation\n",
    "We first use factorized linear regression, then automl.\n",
    "\n",
    "In summary, R2 score for linear regression is:0.009878592245889273, for automl is: 0.5458767724247864"
   ]
  },
  {
   "cell_type": "code",
   "execution_count": 146,
   "id": "b99cdfd3",
   "metadata": {},
   "outputs": [],
   "source": [
    "# read gender from \n",
    "gender = pd.read_csv(\"gender.csv\")\n",
    "\n",
    "# train test split\n",
    "msk = split_mask(len(gender)) < 0.8\n",
    "gender_train = gender[msk].copy()\n",
    "gender_test = gender[~msk].copy()\n",
    "\n",
    "gender_train_data = agg_dataset()\n",
    "gender_train_data.load(gender_train, [\"Number Tested\", \"Mean Scale Score\"], [\"DBN\", [\"DBN\",\"Grade\"], \"Year\", \"Category\"], \"gender\")\n",
    "gender_train_data.process_target(\"Mean Scale Score\")\n",
    "gender_train_data.to_numeric_and_impute_all()\n",
    "gender_train_data.remove_redundant_columns()\n",
    "gender_train_data.create_count_true()\n",
    "gender_train_data.compute_agg()\n",
    "\n",
    "gender_test_data = agg_dataset()\n",
    "gender_test_data.load(gender_test, [\"Number Tested\", \"Mean Scale Score\"], [\"DBN\", [\"DBN\",\"Grade\"], \"Year\", \"Category\"], \"gender\")\n",
    "gender_test_data.process_target(\"Mean Scale Score\")\n",
    "gender_test_data.to_numeric_and_impute_all()\n",
    "gender_test_data.remove_redundant_columns()\n",
    "gender_test_data.create_count_true()\n",
    "gender_test_data.compute_agg()"
   ]
  },
  {
   "cell_type": "code",
   "execution_count": 217,
   "id": "d74d6489",
   "metadata": {},
   "outputs": [],
   "source": []
  },
  {
   "cell_type": "code",
   "execution_count": 5,
   "id": "7c74823d",
   "metadata": {},
   "outputs": [
    {
     "name": "stdout",
     "output_type": "stream",
     "text": [
      "R2 score is:0.011683490938364849\n"
     ]
    }
   ],
   "source": [
    "# model performance before augmentation with linear regression\n",
    "train_cov = gender_train_data.covariance\n",
    "test_cov = gender_test_data.covariance\n",
    "x = ['gender:Number Tested']\n",
    "y = 'gender:Mean Scale Score'\n",
    "parameter = linear_regression(train_cov, x, y)\n",
    "print(\"R2 score is:\" + str(r2(test_cov, x, y, parameter)))"
   ]
  },
  {
   "cell_type": "code",
   "execution_count": 149,
   "id": "6db8c0cb",
   "metadata": {},
   "outputs": [],
   "source": [
    "gender = gender.astype({'DBN': 'category', 'Year': 'category', \"Grade\": 'category', \"Category\": 'category'})\n",
    "gender[\"Mean Scale Score\"] = pd.to_numeric(gender[\"Mean Scale Score\"], errors='coerce')\n",
    "gender.dropna(subset=[\"Mean Scale Score\"],inplace=True)\n",
    "msk = split_mask(len(gender)) < 0.8\n",
    "gender_train = gender[msk].copy()\n",
    "gender_test = gender[~msk].copy()"
   ]
  },
  {
   "cell_type": "code",
   "execution_count": 176,
   "id": "a9c25181",
   "metadata": {},
   "outputs": [
    {
     "data": {
      "text/plain": [
       "37774"
      ]
     },
     "execution_count": 176,
     "metadata": {},
     "output_type": "execute_result"
    }
   ],
   "source": [
    "len(X_train)"
   ]
  },
  {
   "cell_type": "code",
   "execution_count": null,
   "id": "5ceee60e",
   "metadata": {},
   "outputs": [],
   "source": []
  },
  {
   "cell_type": "code",
   "execution_count": 206,
   "id": "a6c1bf04",
   "metadata": {},
   "outputs": [
    {
     "name": "stdout",
     "output_type": "stream",
     "text": [
      "[WARNING] [2022-03-24 06:33:31,465:Client-EnsembleBuilder] No models better than random - using Dummy loss!Number of models besides current dummy model: 1. Number of dummy models: 1\n",
      "[WARNING] [2022-03-24 06:33:51,782:Client-EnsembleBuilder] No models better than random - using Dummy loss!Number of models besides current dummy model: 1. Number of dummy models: 1\n"
     ]
    },
    {
     "data": {
      "text/plain": [
       "AutoSklearnRegressor(memory_limit=6072, per_run_time_limit=100,\n",
       "                     time_left_for_this_task=300)"
      ]
     },
     "execution_count": 206,
     "metadata": {},
     "output_type": "execute_result"
    }
   ],
   "source": [
    "# model performance with autoML \n",
    "X_train = gender_train[[\"Number Tested\", \"DBN\", \"Year\", \"Grade\"]]\n",
    "y_train = gender_train[\"Mean Scale Score\"]\n",
    "X_test = gender_test[[\"Number Tested\", \"DBN\", \"Year\", \"Grade\"]]\n",
    "y_test = gender_test[\"Mean Scale Score\"]\n",
    "\n",
    "automl = autosklearn.regression.AutoSklearnRegressor(\n",
    "    time_left_for_this_task=300,\n",
    "    per_run_time_limit=100,\n",
    "    memory_limit=6072\n",
    ")\n",
    "automl.fit(X_train, y_train, X_test, y_test, dataset_name='gender')"
   ]
  },
  {
   "cell_type": "code",
   "execution_count": 207,
   "id": "53f6c864",
   "metadata": {},
   "outputs": [
    {
     "name": "stdout",
     "output_type": "stream",
     "text": [
      "Current Time = 06:38:03\n"
     ]
    }
   ],
   "source": [
    "now = datetime.now()\n",
    "now_n = now\n",
    "current_time = now_n.strftime(\"%H:%M:%S\")\n",
    "print(\"Current Time =\", current_time)"
   ]
  },
  {
   "cell_type": "code",
   "execution_count": 208,
   "id": "93d4ac47",
   "metadata": {},
   "outputs": [
    {
     "name": "stdout",
     "output_type": "stream",
     "text": [
      "Train R2 score: 0.6796685933884079\n",
      "Test R2 score: 0.5421658694690988\n",
      "          rank  ensemble_weight               type    cost   duration\n",
      "model_id                                                             \n",
      "4            1              1.0  gradient_boosting  0.4601  22.299047\n",
      "                   Timestamp  ensemble_optimization_score  \\\n",
      "3 2022-03-24 06:33:31.000000                          NaN   \n",
      "0 2022-03-24 06:33:31.537233                    -0.000206   \n",
      "4 2022-03-24 06:34:14.000000                    -0.000206   \n",
      "5 2022-03-24 06:34:14.000000                    -0.000206   \n",
      "6 2022-03-24 06:34:14.000000                    -0.000206   \n",
      "1 2022-03-24 06:34:14.300122                     0.539900   \n",
      "2 2022-03-24 06:34:14.300122                     0.539900   \n",
      "\n",
      "   ensemble_test_score  single_best_optimization_score  \\\n",
      "3                  NaN                       -0.046017   \n",
      "0            -0.000027                       -0.046017   \n",
      "4            -0.000027                        0.539900   \n",
      "5            -0.000027                        0.539900   \n",
      "6            -0.000027                        0.539900   \n",
      "1             0.542166                        0.539900   \n",
      "2             0.542166                        0.539900   \n",
      "\n",
      "   single_best_train_score  single_best_test_score  \n",
      "3                 0.297253               -0.064294  \n",
      "0                 0.297253               -0.064294  \n",
      "4                 0.747756                0.542166  \n",
      "5                 0.747756                0.542166  \n",
      "6                 0.747756                0.542166  \n",
      "1                 0.747756                0.542166  \n",
      "2                 0.747756                0.542166  \n"
     ]
    },
    {
     "data": {
      "text/plain": [
       "<AxesSubplot:title={'center':'Auto-sklearn accuracy over time'}, xlabel='Timestamp'>"
      ]
     },
     "execution_count": 208,
     "metadata": {},
     "output_type": "execute_result"
    },
    {
     "data": {
      "image/png": "[encoded data removed]",
      "text/plain": [
       "<Figure size 432x288 with 1 Axes>"
      ]
     },
     "metadata": {
      "needs_background": "light"
     },
     "output_type": "display_data"
    }
   ],
   "source": [
    "train_predictions = automl.predict(X_train)\n",
    "print(\"Train R2 score:\", sklearn.metrics.r2_score(y_train, train_predictions))\n",
    "test_predictions = automl.predict(X_test)\n",
    "print(\"Test R2 score:\", sklearn.metrics.r2_score(y_test, test_predictions))\n",
    "print(automl.leaderboard())\n",
    "poT = automl.performance_over_time_\n",
    "print(poT)\n",
    "poT.plot(\n",
    "    x='Timestamp',\n",
    "    kind='line',\n",
    "    legend=True,\n",
    "    title='Auto-sklearn accuracy over time',\n",
    "    grid=True,\n",
    ")"
   ]
  },
  {
   "cell_type": "code",
   "execution_count": 209,
   "id": "12f27954",
   "metadata": {},
   "outputs": [],
   "source": [
    "poT1 = automl.performance_over_time_"
   ]
  },
  {
   "cell_type": "code",
   "execution_count": 212,
   "id": "9de8881a",
   "metadata": {},
   "outputs": [],
   "source": [
    "poT1[\"duration\"] = [t.total_seconds() + 300 for t in(poT1[\"Timestamp\"] - now_n)]"
   ]
  },
  {
   "cell_type": "code",
   "execution_count": 213,
   "id": "ab78e1ec",
   "metadata": {},
   "outputs": [
    {
     "data": {
      "text/html": [
       "<div>\n",
       "<style scoped>\n",
       "    .dataframe tbody tr th:only-of-type {\n",
       "        vertical-align: middle;\n",
       "    }\n",
       "\n",
       "    .dataframe tbody tr th {\n",
       "        vertical-align: top;\n",
       "    }\n",
       "\n",
       "    .dataframe thead th {\n",
       "        text-align: right;\n",
       "    }\n",
       "</style>\n",
       "<table border=\"1\" class=\"dataframe\">\n",
       "  <thead>\n",
       "    <tr style=\"text-align: right;\">\n",
       "      <th></th>\n",
       "      <th>ensemble_test_score</th>\n",
       "      <th>duration</th>\n",
       "    </tr>\n",
       "  </thead>\n",
       "  <tbody>\n",
       "    <tr>\n",
       "      <th>3</th>\n",
       "      <td>NaN</td>\n",
       "      <td>27.675201</td>\n",
       "    </tr>\n",
       "    <tr>\n",
       "      <th>0</th>\n",
       "      <td>-0.000027</td>\n",
       "      <td>28.212434</td>\n",
       "    </tr>\n",
       "    <tr>\n",
       "      <th>4</th>\n",
       "      <td>-0.000027</td>\n",
       "      <td>70.675201</td>\n",
       "    </tr>\n",
       "    <tr>\n",
       "      <th>5</th>\n",
       "      <td>-0.000027</td>\n",
       "      <td>70.675201</td>\n",
       "    </tr>\n",
       "    <tr>\n",
       "      <th>6</th>\n",
       "      <td>-0.000027</td>\n",
       "      <td>70.675201</td>\n",
       "    </tr>\n",
       "    <tr>\n",
       "      <th>1</th>\n",
       "      <td>0.542166</td>\n",
       "      <td>70.975323</td>\n",
       "    </tr>\n",
       "    <tr>\n",
       "      <th>2</th>\n",
       "      <td>0.542166</td>\n",
       "      <td>70.975323</td>\n",
       "    </tr>\n",
       "  </tbody>\n",
       "</table>\n",
       "</div>"
      ],
      "text/plain": [
       "   ensemble_test_score   duration\n",
       "3                  NaN  27.675201\n",
       "0            -0.000027  28.212434\n",
       "4            -0.000027  70.675201\n",
       "5            -0.000027  70.675201\n",
       "6            -0.000027  70.675201\n",
       "1             0.542166  70.975323\n",
       "2             0.542166  70.975323"
      ]
     },
     "execution_count": 213,
     "metadata": {},
     "output_type": "execute_result"
    }
   ],
   "source": [
    "poT1[[\"ensemble_test_score\", \"duration\"]]"
   ]
  },
  {
   "cell_type": "code",
   "execution_count": 214,
   "id": "0c9fd3f7",
   "metadata": {},
   "outputs": [],
   "source": [
    "poT1[[\"ensemble_test_score\", \"duration\"]].to_csv(\"automl_naive_300_100.csv\",index=False)"
   ]
  },
  {
   "cell_type": "code",
   "execution_count": 239,
   "id": "07658edc",
   "metadata": {},
   "outputs": [],
   "source": [
    "poT2[\"duration\"] = [t.total_seconds() + 310 for t in(poT2[\"Timestamp\"] - now_aug)]\n",
    "# poT2[\"duration2\"] = [t.total_seconds() + 820 for t in(poT2[\"Timestamp\"] - now_aug)]\n",
    "poT2.fillna(0, inplace=True)"
   ]
  },
  {
   "cell_type": "code",
   "execution_count": 240,
   "id": "b7e9cb14",
   "metadata": {},
   "outputs": [
    {
     "data": {
      "text/html": [
       "<div>\n",
       "<style scoped>\n",
       "    .dataframe tbody tr th:only-of-type {\n",
       "        vertical-align: middle;\n",
       "    }\n",
       "\n",
       "    .dataframe tbody tr th {\n",
       "        vertical-align: top;\n",
       "    }\n",
       "\n",
       "    .dataframe thead th {\n",
       "        text-align: right;\n",
       "    }\n",
       "</style>\n",
       "<table border=\"1\" class=\"dataframe\">\n",
       "  <thead>\n",
       "    <tr style=\"text-align: right;\">\n",
       "      <th></th>\n",
       "      <th>ensemble_test_score</th>\n",
       "      <th>duration</th>\n",
       "    </tr>\n",
       "  </thead>\n",
       "  <tbody>\n",
       "    <tr>\n",
       "      <th>0</th>\n",
       "      <td>-9.158032e-07</td>\n",
       "      <td>57.354909</td>\n",
       "    </tr>\n",
       "    <tr>\n",
       "      <th>4</th>\n",
       "      <td>-9.158032e-07</td>\n",
       "      <td>174.615479</td>\n",
       "    </tr>\n",
       "    <tr>\n",
       "      <th>1</th>\n",
       "      <td>6.611305e-01</td>\n",
       "      <td>174.769722</td>\n",
       "    </tr>\n",
       "    <tr>\n",
       "      <th>5</th>\n",
       "      <td>6.611305e-01</td>\n",
       "      <td>294.615479</td>\n",
       "    </tr>\n",
       "    <tr>\n",
       "      <th>6</th>\n",
       "      <td>6.611305e-01</td>\n",
       "      <td>294.615479</td>\n",
       "    </tr>\n",
       "    <tr>\n",
       "      <th>2</th>\n",
       "      <td>7.476685e-01</td>\n",
       "      <td>295.862020</td>\n",
       "    </tr>\n",
       "    <tr>\n",
       "      <th>3</th>\n",
       "      <td>7.476685e-01</td>\n",
       "      <td>295.862020</td>\n",
       "    </tr>\n",
       "  </tbody>\n",
       "</table>\n",
       "</div>"
      ],
      "text/plain": [
       "   ensemble_test_score    duration\n",
       "0        -9.158032e-07   57.354909\n",
       "4        -9.158032e-07  174.615479\n",
       "1         6.611305e-01  174.769722\n",
       "5         6.611305e-01  294.615479\n",
       "6         6.611305e-01  294.615479\n",
       "2         7.476685e-01  295.862020\n",
       "3         7.476685e-01  295.862020"
      ]
     },
     "execution_count": 240,
     "metadata": {},
     "output_type": "execute_result"
    }
   ],
   "source": [
    "poT2[[\"ensemble_test_score\", \"duration\"]]"
   ]
  },
  {
   "cell_type": "code",
   "execution_count": 241,
   "id": "07a95e8b",
   "metadata": {},
   "outputs": [],
   "source": [
    "poT2[[\"ensemble_test_score\", \"duration\"]].to_csv(\"automl_result_market_300_100.csv\",index=False)"
   ]
  },
  {
   "cell_type": "code",
   "execution_count": 52,
   "id": "ada69137",
   "metadata": {},
   "outputs": [],
   "source": [
    "poT1[[\"ensemble_test_score\", \"duration\"]].to_csv(\"automl_result2.csv\",index=False)"
   ]
  },
  {
   "cell_type": "code",
   "execution_count": 125,
   "id": "59e17c52",
   "metadata": {},
   "outputs": [
    {
     "name": "stdout",
     "output_type": "stream",
     "text": [
      "Train R2 score: 0.6760717762409097\n",
      "Test R2 score: 0.5458767724247864\n",
      "          rank  ensemble_weight               type      cost   duration\n",
      "model_id                                                               \n",
      "5            1              1.0  gradient_boosting  0.464419  22.770549\n",
      "                   Timestamp  ensemble_optimization_score  \\\n",
      "2 2022-03-10 22:13:35.000000                          NaN   \n",
      "0 2022-03-10 22:13:35.715064                    -0.000025   \n",
      "3 2022-03-10 22:15:57.000000                    -0.000025   \n",
      "1 2022-03-10 22:15:57.711512                     0.535581   \n",
      "\n",
      "   ensemble_test_score  single_best_optimization_score  \\\n",
      "2                  NaN                       -0.065672   \n",
      "0            -0.000010                       -0.065672   \n",
      "3            -0.000010                        0.535581   \n",
      "1             0.545877                        0.535581   \n",
      "\n",
      "   single_best_train_score  single_best_test_score  \n",
      "2                 0.293797               -0.055145  \n",
      "0                 0.293797               -0.055145  \n",
      "3                 0.744187                0.545877  \n",
      "1                 0.744187                0.545877  \n"
     ]
    },
    {
     "data": {
      "text/plain": [
       "<AxesSubplot:title={'center':'Auto-sklearn accuracy over time'}, xlabel='Timestamp'>"
      ]
     },
     "execution_count": 125,
     "metadata": {},
     "output_type": "execute_result"
    },
    {
     "data": {
      "image/png": "[encoded data removed]",
      "text/plain": [
       "<Figure size 432x288 with 1 Axes>"
      ]
     },
     "metadata": {
      "needs_background": "light"
     },
     "output_type": "display_data"
    }
   ],
   "source": [
    "train_predictions = automl.predict(X_train)\n",
    "print(\"Train R2 score:\", sklearn.metrics.r2_score(y_train, train_predictions))\n",
    "test_predictions = automl.predict(X_test)\n",
    "print(\"Test R2 score:\", sklearn.metrics.r2_score(y_test, test_predictions))\n",
    "print(automl.leaderboard())\n",
    "poT = automl.performance_over_time_\n",
    "print(poT)\n",
    "poT.plot(\n",
    "    x='Timestamp',\n",
    "    kind='line',\n",
    "    legend=True,\n",
    "    title='Auto-sklearn accuracy over time',\n",
    "    grid=True,\n",
    ")"
   ]
  },
  {
   "cell_type": "markdown",
   "id": "24e3ad9a",
   "metadata": {},
   "source": [
    "# Load seller datasets and build market\n",
    "Currently, we need to specify the join attributes (could be joined on multiple attributes) and these attributes name have to be same across two tables.\n",
    "\n",
    "We need more data.\n",
    "\n",
    "The best data increase linear regression R2 to 0.3944023420421897\n",
    "\n",
    "This data also increase automl R2 to: 0.7970338954417067"
   ]
  },
  {
   "cell_type": "code",
   "execution_count": 153,
   "id": "c9a24dca",
   "metadata": {},
   "outputs": [
    {
     "name": "stderr",
     "output_type": "stream",
     "text": [
      "/home/jupyter/arda/arda-datasets/school/datamarket.py:201: PerformanceWarning: DataFrame is highly fragmented.  This is usually the result of calling `frame.insert` many times, which has poor performance.  Consider joining all columns at once using pd.concat(axis=1) instead.  To get a de-fragmented frame, use `newframe = frame.copy()`\n",
      "  self.data['cov:Q:' + tablename + \":\" + attributes[i] + \",\"+ tablename + \":\" + attributes[j]] = self.data[attributes[i]] * self.data[attributes[j]]\n"
     ]
    }
   ],
   "source": [
    "# read buyer dataste\n",
    "crime = pd.read_csv(\"crime.csv\")\n",
    "crimedata = agg_dataset()\n",
    "crimedata.load(crime, [], [\"DBN\"], \"crime\")\n",
    "crimedata.find_features()\n",
    "crimedata.remove_redundant_columns()\n",
    "crimedata.create_count_true()\n",
    "crimedata.compute_agg(True)\n",
    "\n",
    "\n",
    "esl = pd.read_csv(\"esl.csv\")\n",
    "esldata = agg_dataset()\n",
    "esldata.load(esl, [], [[\"DBN\",\"Grade\"]], \"esl\")\n",
    "esldata.find_features()\n",
    "esldata.remove_redundant_columns()\n",
    "esldata.create_count_true()\n",
    "esldata.compute_agg(True)\n",
    "\n",
    "ap = pd.read_csv(\"ap.csv\")\n",
    "apdata = agg_dataset()\n",
    "apdata.load(ap, [], [\"DBN\"], \"ap\")\n",
    "apdata.find_features()\n",
    "apdata.remove_redundant_columns()\n",
    "apdata.create_count_true()\n",
    "apdata.compute_agg(True)\n",
    "\n",
    "survey = pd.read_csv(\"2013_NYC_School_Survey.csv\")\n",
    "surveydata = agg_dataset()\n",
    "surveydata.load(survey, [], [\"DBN\"], \"survey\")\n",
    "surveydata.find_features()\n",
    "surveydata.remove_redundant_columns()\n",
    "surveydata.create_count_true()\n",
    "surveydata.compute_agg(True)\n",
    "\n",
    "base = pd.read_csv(\"base.csv\")\n",
    "basedata = agg_dataset()\n",
    "basedata.load(base, [], [\"DBN\"], \"base\")\n",
    "basedata.find_features()\n",
    "basedata.remove_redundant_columns()\n",
    "basedata.create_count_true()\n",
    "basedata.compute_agg(True)\n",
    "\n",
    "disc = pd.read_csv(\"disc.csv\")\n",
    "discdata = agg_dataset()\n",
    "discdata.load(disc, [], [\"DBN\"], \"disc\")\n",
    "discdata.find_features()\n",
    "discdata.remove_redundant_columns()\n",
    "discdata.create_count_true()\n",
    "discdata.compute_agg(True)\n",
    "\n",
    "math = pd.read_csv(\"math.csv\")\n",
    "mathdata = agg_dataset()\n",
    "mathdata.load(math, [], [[\"DBN\",\"Grade\"]], \"math\")\n",
    "mathdata.find_features()\n",
    "mathdata.remove_redundant_columns()\n",
    "mathdata.create_count_true()\n",
    "mathdata.compute_agg(True)\n",
    "\n",
    "oss = pd.read_csv(\"oss.csv\")\n",
    "ossdata = agg_dataset()\n",
    "ossdata.load(oss, [], [\"DBN\"], \"oss\")\n",
    "ossdata.find_features()\n",
    "ossdata.remove_redundant_columns()\n",
    "ossdata.create_count_true()\n",
    "ossdata.compute_agg(True)\n",
    "\n",
    "pe = pd.read_csv(\"pe.csv\")\n",
    "pedata = agg_dataset()\n",
    "pedata.load(pe, [], [\"DBN\"], \"pe\")\n",
    "pedata.find_features()\n",
    "pedata.remove_redundant_columns()\n",
    "pedata.create_count_true()\n",
    "pedata.compute_agg(True)\n",
    "\n",
    "s2tr = pd.read_csv(\"s2tr.csv\")\n",
    "s2trdata = agg_dataset()\n",
    "s2trdata.load(s2tr, [], [\"DBN\"], \"s2tr\")\n",
    "s2trdata.find_features()\n",
    "s2trdata.remove_redundant_columns()\n",
    "s2trdata.create_count_true()\n",
    "s2trdata.compute_agg(True)\n",
    "\n",
    "sat = pd.read_csv(\"sat.csv\")\n",
    "satdata = agg_dataset()\n",
    "satdata.load(sat, [], [\"DBN\"], \"sat\")\n",
    "satdata.find_features()\n",
    "satdata.remove_redundant_columns()\n",
    "satdata.create_count_true()\n",
    "satdata.compute_agg(True)\n",
    "\n",
    "pro = pd.read_csv(\"Schools_Progress_Report_2012-2013.csv\")\n",
    "prodata = agg_dataset()\n",
    "prodata.load(pro, [], [\"DBN\"], \"pro\")\n",
    "prodata.find_features()\n",
    "prodata.remove_redundant_columns()\n",
    "prodata.create_count_true()\n",
    "prodata.compute_agg(True)\n",
    "\n",
    "\n",
    "spy = pd.read_csv(\"spy.csv\")\n",
    "spydata = agg_dataset()\n",
    "spydata.load(spy, [], [\"Year\"], \"spy\")\n",
    "spydata.find_features()\n",
    "spydata.remove_redundant_columns()\n",
    "spydata.create_count_true()\n",
    "spydata.compute_agg(True)\n",
    "\n",
    "transfer = pd.read_csv(\"transfer.csv\")\n",
    "transferdata = agg_dataset()\n",
    "transferdata.load(transfer, [], [\"DBN\"], \"transfer\")\n",
    "transferdata.find_features()\n",
    "transferdata.remove_redundant_columns()\n",
    "transferdata.create_count_true()\n",
    "transferdata.compute_agg(True)\n",
    "\n",
    "yabc = pd.read_csv(\"yabc.csv\")\n",
    "yabcdata = agg_dataset()\n",
    "yabcdata.load(yabc, [], [\"DBN\"], \"yabc\")\n",
    "yabcdata.find_features()\n",
    "yabcdata.remove_redundant_columns()\n",
    "yabcdata.create_count_true()\n",
    "yabcdata.compute_agg(True)\n",
    "\n",
    "dm1 = pd.read_csv(\"other/datamart.socrata.data-cityofnewyork-us.22rr-ujq3\")\n",
    "dm1data = agg_dataset()\n",
    "dm1data.load(dm1, [], [\"DBN\"], \"dm1\")\n",
    "dm1data.find_features()\n",
    "dm1data.remove_redundant_columns()\n",
    "dm1data.create_count_true()\n",
    "dm1data.compute_agg(True)\n",
    "\n",
    "dm2 = pd.read_csv(\"other/datamart.socrata.data-cityofnewyork-us.25aa-q86c\")\n",
    "dm2data = agg_dataset()\n",
    "dm2data.load(dm2, [], [\"DBN\"], \"dm2\")\n",
    "dm2data.find_features()\n",
    "dm2data.remove_redundant_columns()\n",
    "dm2data.create_count_true()\n",
    "dm2data.compute_agg(True)\n",
    "\n",
    "dm3 = pd.read_csv(\"other/datamart.socrata.data-cityofnewyork-us.29bv-qqsy\")\n",
    "dm3data = agg_dataset()\n",
    "dm3data.load(dm3, [], [\"DBN\"], \"dm3\")\n",
    "dm3data.find_features()\n",
    "dm3data.remove_redundant_columns()\n",
    "dm3data.create_count_true()\n",
    "dm3data.compute_agg(True)\n",
    "\n",
    "dm4 = pd.read_csv(\"other/datamart.socrata.data-cityofnewyork-us.29ry-u5bf\")\n",
    "dm4data = agg_dataset()\n",
    "dm4data.load(dm4, [], [\"DBN\"], \"dm4\")\n",
    "dm4data.find_features()\n",
    "dm4data.remove_redundant_columns()\n",
    "dm4data.create_count_true()\n",
    "dm4data.compute_agg(True)\n",
    "\n",
    "dm5 = pd.read_csv(\"other/datamart.socrata.data-cityofnewyork-us.43qc-8vv8\")\n",
    "dm5data = agg_dataset()\n",
    "dm5data.load(dm5, [], [[\"DBN\",\"Grade\"]], \"dm5\")\n",
    "dm5data.find_features()\n",
    "dm5data.remove_redundant_columns()\n",
    "dm5data.create_count_true()\n",
    "dm5data.compute_agg(True)"
   ]
  },
  {
   "cell_type": "code",
   "execution_count": 4,
   "id": "844b85e1",
   "metadata": {},
   "outputs": [],
   "source": [
    "\n",
    "math = pd.read_csv(\"math.csv\")\n",
    "mathdata = agg_dataset()\n",
    "mathdata.load(math, [], [[\"DBN\",\"Grade\"]], \"math\")\n",
    "mathdata.find_features()\n",
    "mathdata.remove_redundant_columns()\n",
    "mathdata.compute_agg(True)\n"
   ]
  },
  {
   "cell_type": "code",
   "execution_count": 218,
   "id": "1c8b5f79",
   "metadata": {},
   "outputs": [
    {
     "name": "stdout",
     "output_type": "stream",
     "text": [
      "crime\n",
      "ap\n",
      "survey\n",
      "base\n",
      "disc\n",
      "math\n"
     ]
    },
    {
     "name": "stderr",
     "output_type": "stream",
     "text": [
      "/opt/conda/lib/python3.7/site-packages/ipykernel_launcher.py:383: FutureWarning: In a future version of pandas all arguments of DataFrame.drop except for the argument 'labels' will be keyword-only\n"
     ]
    },
    {
     "name": "stdout",
     "output_type": "stream",
     "text": [
      "oss\n",
      "pe\n",
      "s2tr\n",
      "sat\n",
      "pro\n",
      "spy\n",
      "transfer\n",
      "yabc\n",
      "dm1\n",
      "dm2\n",
      "dm3\n",
      "dm4\n",
      "dm5\n",
      "math ['math:Level 4 %', 'math:Level 1 %', 'math:Year', 'math:Mean Scale Score'] 0.3913151214912982\n"
     ]
    },
    {
     "name": "stderr",
     "output_type": "stream",
     "text": [
      "/opt/conda/lib/python3.7/site-packages/ipykernel_launcher.py:328: FutureWarning: In a future version of pandas all arguments of DataFrame.drop except for the argument 'labels' will be keyword-only\n",
      "/opt/conda/lib/python3.7/site-packages/ipykernel_launcher.py:329: FutureWarning: In a future version of pandas all arguments of DataFrame.drop except for the argument 'labels' will be keyword-only\n"
     ]
    },
    {
     "name": "stdout",
     "output_type": "stream",
     "text": [
      "beyond budget!!\n",
      "crime\n",
      "ap\n",
      "survey\n",
      "base\n",
      "disc\n",
      "oss\n",
      "pe\n",
      "s2tr\n",
      "sat\n",
      "pro\n",
      "spy\n",
      "transfer\n",
      "yabc\n",
      "dm1\n",
      "dm2\n",
      "dm3\n",
      "dm4\n",
      "dm5\n",
      "pro ['pro:2012-2013 PERFORMANCE CATEGORY SCORE', 'pro:2012-2013 ADDITIONAL CREDIT', 'pro:DISTRICT', 'pro:2012-2013 PROGRESS CATEGORY SCORE'] 0.38052262018298766\n"
     ]
    }
   ],
   "source": [
    "# %%time\n",
    "sellers = [(crimedata, \"DBN\"), (apdata, \"DBN\"), (surveydata, \"DBN\"), \n",
    "           (basedata, \"DBN\"), (discdata, \"DBN\"), (mathdata, (\"DBN\",\"Grade\")), \n",
    "           (ossdata, \"DBN\"), (pedata, \"DBN\"), (s2trdata, \"DBN\"), \n",
    "           (satdata, \"DBN\"), (prodata, \"DBN\"), (spydata, \"Year\"),\n",
    "           (transferdata, \"DBN\"), (yabcdata, \"DBN\"), (dm1data, \"DBN\"),\n",
    "           (dm2data, \"DBN\"), (dm3data, \"DBN\"), (dm4data, \"DBN\"), (dm5data, (\"DBN\",\"Grade\"))]\n",
    "\n",
    "# sellers = [(mathdata, (\"DBN\",\"Grade\"))]\n",
    "\n",
    "\n",
    "# find m best datasets to augment\n",
    "bought = set()\n",
    "cache_augs = dict()\n",
    "cache_augs[(gender_train.name, gender_train.columns)] = []\n",
    "m = 2\n",
    "y = \"Mean Scale Score\"\n",
    "\n",
    "for i in range(m):\n",
    "    best_seller = None\n",
    "    best_seller_attrs = []\n",
    "    best_dimension = None\n",
    "    best_r2 = 0\n",
    "\n",
    "    for sellerdata, dimension in sellers:\n",
    "        # check if current seller has been bought\n",
    "        if sellerdata.name in gender_train_data.datasets:\n",
    "            continue\n",
    "        print(sellerdata.name)\n",
    "\n",
    "        # find the attributes and r2 of augmenting\n",
    "        cur_atts, final_r2 = select_features(gender_train_data, gender_test_data, sellerdata, dimension, 4, y)\n",
    "#         cur_atts, final_r2 = select_features(gender_train, gender_test, sellerdata, dimension,10)\n",
    "\n",
    "        if final_r2 > best_r2:\n",
    "            best_seller = sellerdata\n",
    "            best_dimension = dimension\n",
    "            best_seller_attrs = cur_atts\n",
    "            best_r2 = final_r2\n",
    "\n",
    "\n",
    "    print(best_seller.name, best_seller_attrs, best_r2)\n",
    "    \n",
    "    true_absorb = True\n",
    "    budget = 100000\n",
    "    \n",
    "    # there is no attributes that is predictive in seller dataset\n",
    "    if len([x for x in best_seller_attrs if x in best_seller.X]) == 0:\n",
    "        true_absorb = False\n",
    "    else:\n",
    "        count_true_join = connect_count(gender_train_data, best_seller, best_dimension)\n",
    "        if count_true_join[\"cov:c\"].sum() > budget:\n",
    "            print(\"beyond budget!!\")\n",
    "            true_absorb = False\n",
    "        else:\n",
    "            gender_train_data.count_true = count_true_join\n",
    "            gender_train_data.count_true.reset_index(inplace=True)\n",
    "    \n",
    "    if not true_absorb:\n",
    "        gender_train_data.datasets.add(best_seller.name)\n",
    "        gender_test_data.datasets.add(best_seller.name)\n",
    "    else:\n",
    "        gender_train_data.absorb(best_seller, best_dimension, best_seller_attrs + [gender_train_data.name + \":\" + y])\n",
    "        gender_test_data.absorb(best_seller, best_dimension, best_seller_attrs + [gender_train_data.name + \":\" + y])\n",
    "        #I interpret this as: the market successfully used this seller, so we should add them to the cache\n",
    "        #store the buyer's schema\n",
    "        cache_augs[(gender_train.name, gender_train.columns)].append((best_seller, best_dimension, best_seller_attrs))\n",
    "        "
   ]
  },
  {
   "cell_type": "code",
   "execution_count": 155,
   "id": "789f1d32",
   "metadata": {},
   "outputs": [],
   "source": []
  },
  {
   "cell_type": "code",
   "execution_count": 216,
   "id": "38dd5f33",
   "metadata": {},
   "outputs": [
    {
     "data": {
      "text/plain": [
       "40177.0"
      ]
     },
     "execution_count": 216,
     "metadata": {},
     "output_type": "execute_result"
    }
   ],
   "source": [
    "# gender_train_data.count_true.groupby(['DBN', 'Grade']).sum()\n",
    "# connect_count(gender_train_data, mathdata, ('DBN', 'Grade'))[\"cov:c\"].sum()\n",
    "gender_train_data.count_true[\"cov:c\"].sum()"
   ]
  },
  {
   "cell_type": "code",
   "execution_count": null,
   "id": "960c364a",
   "metadata": {},
   "outputs": [],
   "source": []
  },
  {
   "cell_type": "code",
   "execution_count": 122,
   "id": "6af026f9",
   "metadata": {},
   "outputs": [],
   "source": []
  },
  {
   "cell_type": "code",
   "execution_count": null,
   "id": "64cdb637",
   "metadata": {},
   "outputs": [],
   "source": []
  },
  {
   "cell_type": "code",
   "execution_count": 58,
   "id": "76a45495",
   "metadata": {},
   "outputs": [
    {
     "name": "stdout",
     "output_type": "stream",
     "text": [
      "CPU times: user 98.2 ms, sys: 573 µs, total: 98.8 ms\n",
      "Wall time: 96.1 ms\n"
     ]
    }
   ],
   "source": [
    "%%time\n",
    "c=connect(gender_train_data, mathdata, (\"DBN\",\"Grade\"))"
   ]
  },
  {
   "cell_type": "code",
   "execution_count": 132,
   "id": "0d6e2195",
   "metadata": {},
   "outputs": [
    {
     "data": {
      "text/plain": [
       "'DBN'"
      ]
     },
     "execution_count": 132,
     "metadata": {},
     "output_type": "execute_result"
    }
   ],
   "source": [
    "best_dimension = ['DBN', 'Grade']"
   ]
  },
  {
   "cell_type": "code",
   "execution_count": 225,
   "id": "fd74338f",
   "metadata": {},
   "outputs": [],
   "source": [
    "# make best_dimension a list\n",
    "if isinstance(best_dimension, tuple):\n",
    "    best_dimension = list(best_dimension)\n",
    "else:\n",
    "    best_dimension = [best_dimension]\n",
    "\n",
    "# extract needed attributes\n",
    "seller_features = ['cov:s:' +  attr for attr in best_seller_attrs  if attr.startswith(best_seller.name)]\n",
    "buyer_features = ['cov:s:' +  attr for attr in best_seller_attrs  if not attr.startswith(best_seller.name)]\n",
    "target = ['cov:s:gender:' + y]\n",
    "buyer_train_data = gender_train_data.data[gender_train_data.dedup_dimensions + buyer_features + target]\n",
    "buyer_test_data = gender_test_data.data[gender_train_data.dedup_dimensions + buyer_features + target]\n",
    "seller_data = best_seller.data[best_dimension + seller_features]\n",
    "# seller_data = seller_data.groupby(best_dimension).mean()\n",
    "\n",
    "# join buyer and seller\n",
    "join_train = pd.merge(buyer_train_data,seller_data,how='left', on=best_dimension)\n",
    "join_test = pd.merge(buyer_test_data,seller_data,how='left', on=best_dimension)"
   ]
  },
  {
   "cell_type": "code",
   "execution_count": 159,
   "id": "8f085dad",
   "metadata": {},
   "outputs": [
    {
     "data": {
      "text/html": [
       "<div>\n",
       "<style scoped>\n",
       "    .dataframe tbody tr th:only-of-type {\n",
       "        vertical-align: middle;\n",
       "    }\n",
       "\n",
       "    .dataframe tbody tr th {\n",
       "        vertical-align: top;\n",
       "    }\n",
       "\n",
       "    .dataframe thead th {\n",
       "        text-align: right;\n",
       "    }\n",
       "</style>\n",
       "<table border=\"1\" class=\"dataframe\">\n",
       "  <thead>\n",
       "    <tr style=\"text-align: right;\">\n",
       "      <th></th>\n",
       "      <th>Grade</th>\n",
       "      <th>Year</th>\n",
       "      <th>Category</th>\n",
       "      <th>DBN</th>\n",
       "      <th>cov:s:gender:Mean Scale Score</th>\n",
       "      <th>cov:s:pro:2012-2013 PERFORMANCE CATEGORY SCORE</th>\n",
       "      <th>cov:s:pro:2012-2013 ADDITIONAL CREDIT</th>\n",
       "      <th>cov:s:pro:DISTRICT</th>\n",
       "      <th>cov:s:pro:2012-2013 PROGRESS CATEGORY SCORE</th>\n",
       "    </tr>\n",
       "  </thead>\n",
       "  <tbody>\n",
       "    <tr>\n",
       "      <th>0</th>\n",
       "      <td>3</td>\n",
       "      <td>2013</td>\n",
       "      <td>Male</td>\n",
       "      <td>01M015</td>\n",
       "      <td>292.0</td>\n",
       "      <td>6.100000</td>\n",
       "      <td>4.400000</td>\n",
       "      <td>1.0</td>\n",
       "      <td>30.300000</td>\n",
       "    </tr>\n",
       "    <tr>\n",
       "      <th>1</th>\n",
       "      <td>3</td>\n",
       "      <td>2015</td>\n",
       "      <td>Female</td>\n",
       "      <td>01M015</td>\n",
       "      <td>289.0</td>\n",
       "      <td>6.100000</td>\n",
       "      <td>4.400000</td>\n",
       "      <td>1.0</td>\n",
       "      <td>30.300000</td>\n",
       "    </tr>\n",
       "    <tr>\n",
       "      <th>2</th>\n",
       "      <td>3</td>\n",
       "      <td>2015</td>\n",
       "      <td>Male</td>\n",
       "      <td>01M015</td>\n",
       "      <td>276.0</td>\n",
       "      <td>6.100000</td>\n",
       "      <td>4.400000</td>\n",
       "      <td>1.0</td>\n",
       "      <td>30.300000</td>\n",
       "    </tr>\n",
       "    <tr>\n",
       "      <th>3</th>\n",
       "      <td>3</td>\n",
       "      <td>2017</td>\n",
       "      <td>Female</td>\n",
       "      <td>01M015</td>\n",
       "      <td>308.0</td>\n",
       "      <td>6.100000</td>\n",
       "      <td>4.400000</td>\n",
       "      <td>1.0</td>\n",
       "      <td>30.300000</td>\n",
       "    </tr>\n",
       "    <tr>\n",
       "      <th>4</th>\n",
       "      <td>3</td>\n",
       "      <td>2017</td>\n",
       "      <td>Male</td>\n",
       "      <td>01M015</td>\n",
       "      <td>297.0</td>\n",
       "      <td>6.100000</td>\n",
       "      <td>4.400000</td>\n",
       "      <td>1.0</td>\n",
       "      <td>30.300000</td>\n",
       "    </tr>\n",
       "    <tr>\n",
       "      <th>...</th>\n",
       "      <td>...</td>\n",
       "      <td>...</td>\n",
       "      <td>...</td>\n",
       "      <td>...</td>\n",
       "      <td>...</td>\n",
       "      <td>...</td>\n",
       "      <td>...</td>\n",
       "      <td>...</td>\n",
       "      <td>...</td>\n",
       "    </tr>\n",
       "    <tr>\n",
       "      <th>40172</th>\n",
       "      <td>All Grades</td>\n",
       "      <td>2015</td>\n",
       "      <td>Male</td>\n",
       "      <td>32K562</td>\n",
       "      <td>274.0</td>\n",
       "      <td>12.668492</td>\n",
       "      <td>3.915805</td>\n",
       "      <td>32.0</td>\n",
       "      <td>30.172677</td>\n",
       "    </tr>\n",
       "    <tr>\n",
       "      <th>40173</th>\n",
       "      <td>All Grades</td>\n",
       "      <td>2016</td>\n",
       "      <td>Female</td>\n",
       "      <td>32K562</td>\n",
       "      <td>286.0</td>\n",
       "      <td>12.668492</td>\n",
       "      <td>3.915805</td>\n",
       "      <td>32.0</td>\n",
       "      <td>30.172677</td>\n",
       "    </tr>\n",
       "    <tr>\n",
       "      <th>40174</th>\n",
       "      <td>All Grades</td>\n",
       "      <td>2016</td>\n",
       "      <td>Male</td>\n",
       "      <td>32K562</td>\n",
       "      <td>282.0</td>\n",
       "      <td>12.668492</td>\n",
       "      <td>3.915805</td>\n",
       "      <td>32.0</td>\n",
       "      <td>30.172677</td>\n",
       "    </tr>\n",
       "    <tr>\n",
       "      <th>40175</th>\n",
       "      <td>All Grades</td>\n",
       "      <td>2017</td>\n",
       "      <td>Female</td>\n",
       "      <td>32K562</td>\n",
       "      <td>289.0</td>\n",
       "      <td>12.668492</td>\n",
       "      <td>3.915805</td>\n",
       "      <td>32.0</td>\n",
       "      <td>30.172677</td>\n",
       "    </tr>\n",
       "    <tr>\n",
       "      <th>40176</th>\n",
       "      <td>All Grades</td>\n",
       "      <td>2017</td>\n",
       "      <td>Male</td>\n",
       "      <td>32K562</td>\n",
       "      <td>284.0</td>\n",
       "      <td>12.668492</td>\n",
       "      <td>3.915805</td>\n",
       "      <td>32.0</td>\n",
       "      <td>30.172677</td>\n",
       "    </tr>\n",
       "  </tbody>\n",
       "</table>\n",
       "<p>40177 rows × 9 columns</p>\n",
       "</div>"
      ],
      "text/plain": [
       "            Grade  Year Category     DBN  cov:s:gender:Mean Scale Score  \\\n",
       "0               3  2013     Male  01M015                          292.0   \n",
       "1               3  2015   Female  01M015                          289.0   \n",
       "2               3  2015     Male  01M015                          276.0   \n",
       "3               3  2017   Female  01M015                          308.0   \n",
       "4               3  2017     Male  01M015                          297.0   \n",
       "...           ...   ...      ...     ...                            ...   \n",
       "40172  All Grades  2015     Male  32K562                          274.0   \n",
       "40173  All Grades  2016   Female  32K562                          286.0   \n",
       "40174  All Grades  2016     Male  32K562                          282.0   \n",
       "40175  All Grades  2017   Female  32K562                          289.0   \n",
       "40176  All Grades  2017     Male  32K562                          284.0   \n",
       "\n",
       "       cov:s:pro:2012-2013 PERFORMANCE CATEGORY SCORE  \\\n",
       "0                                            6.100000   \n",
       "1                                            6.100000   \n",
       "2                                            6.100000   \n",
       "3                                            6.100000   \n",
       "4                                            6.100000   \n",
       "...                                               ...   \n",
       "40172                                       12.668492   \n",
       "40173                                       12.668492   \n",
       "40174                                       12.668492   \n",
       "40175                                       12.668492   \n",
       "40176                                       12.668492   \n",
       "\n",
       "       cov:s:pro:2012-2013 ADDITIONAL CREDIT  cov:s:pro:DISTRICT  \\\n",
       "0                                   4.400000                 1.0   \n",
       "1                                   4.400000                 1.0   \n",
       "2                                   4.400000                 1.0   \n",
       "3                                   4.400000                 1.0   \n",
       "4                                   4.400000                 1.0   \n",
       "...                                      ...                 ...   \n",
       "40172                               3.915805                32.0   \n",
       "40173                               3.915805                32.0   \n",
       "40174                               3.915805                32.0   \n",
       "40175                               3.915805                32.0   \n",
       "40176                               3.915805                32.0   \n",
       "\n",
       "       cov:s:pro:2012-2013 PROGRESS CATEGORY SCORE  \n",
       "0                                        30.300000  \n",
       "1                                        30.300000  \n",
       "2                                        30.300000  \n",
       "3                                        30.300000  \n",
       "4                                        30.300000  \n",
       "...                                            ...  \n",
       "40172                                    30.172677  \n",
       "40173                                    30.172677  \n",
       "40174                                    30.172677  \n",
       "40175                                    30.172677  \n",
       "40176                                    30.172677  \n",
       "\n",
       "[40177 rows x 9 columns]"
      ]
     },
     "execution_count": 159,
     "metadata": {},
     "output_type": "execute_result"
    }
   ],
   "source": [
    "join_train"
   ]
  },
  {
   "cell_type": "code",
   "execution_count": 9,
   "id": "7de6237b",
   "metadata": {},
   "outputs": [],
   "source": [
    "# missing value imputation\n",
    "for attr in best_seller_attrs:\n",
    "    if attr in best_seller.covariance:\n",
    "        join_train[\"cov:s:\" + attr].fillna(best_seller.covariance[\"cov:s:\" + attr], inplace=True)\n",
    "        join_test[\"cov:s:\" + attr].fillna(best_seller.covariance[\"cov:s:\" + attr], inplace=True)"
   ]
  },
  {
   "cell_type": "code",
   "execution_count": 10,
   "id": "5fbf89d2",
   "metadata": {},
   "outputs": [],
   "source": [
    "def one_one_encoding(relation, attributes):\n",
    "    one_hot_encoding_relations = [relation]\n",
    "    for attr in attributes:\n",
    "        one_hot_encoding_relations.append(pd.get_dummies(relation[attr], prefix=attr))\n",
    "    encoded_relation = pd.concat(one_hot_encoding_relations, axis=1)\n",
    "    encoded_relation.drop(columns=attributes, inplace=True)\n",
    "    return encoded_relation\n",
    "\n",
    "# join_train = one_one_encoding(join_train, gender_train_data.dedup_dimensions)\n",
    "# join_test = one_one_encoding(join_test, gender_train_data.dedup_dimensions)"
   ]
  },
  {
   "cell_type": "code",
   "execution_count": 11,
   "id": "8391fec6",
   "metadata": {},
   "outputs": [],
   "source": [
    "join_train_len = len(join_train)\n",
    "join = pd.concat([join_train, join_test])\n",
    "join = one_one_encoding(join, gender_train_data.dedup_dimensions)\n",
    "join_train = join.iloc[:join_train_len]\n",
    "join_test = join.iloc[join_train_len:]"
   ]
  },
  {
   "cell_type": "code",
   "execution_count": 13,
   "id": "c74e35ab",
   "metadata": {},
   "outputs": [],
   "source": [
    "join.to_csv(\"math_gender_join.csv\", index=False)"
   ]
  },
  {
   "cell_type": "code",
   "execution_count": 96,
   "id": "cbfef2c5",
   "metadata": {},
   "outputs": [],
   "source": [
    "# join_train = join_train[['cov:s:gender:Mean Scale Score','cov:s:math:Level 4 %', 'cov:s:math:Level 1 %', 'cov:s:math:Year','cov:s:math:Mean Scale Score']]\n",
    "# join_test = join_test[['cov:s:gender:Mean Scale Score','cov:s:math:Level 4 %', 'cov:s:math:Level 1 %', 'cov:s:math:Year','cov:s:math:Mean Scale Score']]"
   ]
  },
  {
   "cell_type": "code",
   "execution_count": 20,
   "id": "111d79d8",
   "metadata": {},
   "outputs": [],
   "source": []
  },
  {
   "cell_type": "code",
   "execution_count": 220,
   "id": "4fffbb27",
   "metadata": {},
   "outputs": [],
   "source": [
    "y_train = join_train[target]\n",
    "y_test = join_test[target]\n",
    "X_train = join_train.drop(columns=target)\n",
    "X_test = join_test.drop(columns=target)"
   ]
  },
  {
   "cell_type": "code",
   "execution_count": 16,
   "id": "cb20300e",
   "metadata": {},
   "outputs": [],
   "source": [
    "from sklearn.ensemble import GradientBoostingClassifier\n",
    "from sklearn.ensemble import RandomForestClassifier"
   ]
  },
  {
   "cell_type": "code",
   "execution_count": 119,
   "id": "b3ad5a7a",
   "metadata": {},
   "outputs": [],
   "source": [
    "for att in X_train.columns:\n",
    "    if att not in X_test.columns:\n",
    "        print(att)"
   ]
  },
  {
   "cell_type": "code",
   "execution_count": 86,
   "id": "3d3875d3",
   "metadata": {},
   "outputs": [
    {
     "name": "stderr",
     "output_type": "stream",
     "text": [
      "/opt/conda/lib/python3.7/site-packages/sklearn/utils/validation.py:63: DataConversionWarning: A column-vector y was passed when a 1d array was expected. Please change the shape of y to (n_samples, ), for example using ravel().\n",
      "  return f(*args, **kwargs)\n"
     ]
    },
    {
     "name": "stdout",
     "output_type": "stream",
     "text": [
      "CPU times: user 1min 21s, sys: 11.5 s, total: 1min 33s\n",
      "Wall time: 1min 33s\n"
     ]
    }
   ],
   "source": [
    "%%time\n",
    "clf = GradientBoostingClassifier(n_estimators=1, max_leaf_nodes=8).fit(X_train, y_train)"
   ]
  },
  {
   "cell_type": "code",
   "execution_count": 36,
   "id": "02f2387f",
   "metadata": {},
   "outputs": [
    {
     "data": {
      "text/plain": [
       "201535"
      ]
     },
     "execution_count": 36,
     "metadata": {},
     "output_type": "execute_result"
    }
   ],
   "source": [
    "len(X_train)"
   ]
  },
  {
   "cell_type": "code",
   "execution_count": 54,
   "id": "26244937",
   "metadata": {},
   "outputs": [
    {
     "name": "stderr",
     "output_type": "stream",
     "text": [
      "/opt/conda/lib/python3.7/site-packages/ipykernel_launcher.py:2: DataConversionWarning: A column-vector y was passed when a 1d array was expected. Please change the shape of y to (n_samples,), for example using ravel().\n",
      "  \n"
     ]
    },
    {
     "name": "stdout",
     "output_type": "stream",
     "text": [
      "CPU times: user 58 s, sys: 1.75 s, total: 59.7 s\n",
      "Wall time: 59.7 s\n"
     ]
    },
    {
     "data": {
      "text/plain": [
       "RandomForestClassifier(max_depth=20, random_state=1)"
      ]
     },
     "execution_count": 54,
     "metadata": {},
     "output_type": "execute_result"
    }
   ],
   "source": [
    "%%time\n",
    "clf = RandomForestClassifier(max_depth = 20,random_state=1, n_estimators=100)\n",
    "clf.fit(X_train, y_train)"
   ]
  },
  {
   "cell_type": "code",
   "execution_count": 21,
   "id": "3f471a5f",
   "metadata": {},
   "outputs": [
    {
     "data": {
      "text/plain": [
       "array([294., 294., 294., ..., 294., 294., 294.])"
      ]
     },
     "execution_count": 21,
     "metadata": {},
     "output_type": "execute_result"
    }
   ],
   "source": [
    "clf.predict(X_test)"
   ]
  },
  {
   "cell_type": "code",
   "execution_count": 22,
   "id": "c973a9c9",
   "metadata": {},
   "outputs": [],
   "source": [
    "from sklearn.metrics import r2_score"
   ]
  },
  {
   "cell_type": "code",
   "execution_count": 55,
   "id": "2bd7c300",
   "metadata": {},
   "outputs": [
    {
     "data": {
      "text/plain": [
       "0.6030808485885308"
      ]
     },
     "execution_count": 55,
     "metadata": {},
     "output_type": "execute_result"
    }
   ],
   "source": [
    "r2_score(y_test, clf.predict(X_test))"
   ]
  },
  {
   "cell_type": "code",
   "execution_count": null,
   "id": "02df2b02",
   "metadata": {},
   "outputs": [],
   "source": [
    "print(\"hi\")\n"
   ]
  },
  {
   "cell_type": "code",
   "execution_count": 41,
   "id": "d24c8779",
   "metadata": {},
   "outputs": [],
   "source": [
    "from math import log"
   ]
  },
  {
   "cell_type": "code",
   "execution_count": 57,
   "id": "b69d2bbd",
   "metadata": {},
   "outputs": [
    {
     "data": {
      "text/plain": [
       "1156"
      ]
     },
     "execution_count": 57,
     "metadata": {},
     "output_type": "execute_result"
    }
   ],
   "source": [
    "len(X_train.columns)"
   ]
  },
  {
   "cell_type": "code",
   "execution_count": 52,
   "id": "71bb2364",
   "metadata": {},
   "outputs": [
    {
     "data": {
      "text/plain": [
       "26.725306848120603"
      ]
     },
     "execution_count": 52,
     "metadata": {},
     "output_type": "execute_result"
    }
   ],
   "source": [
    "log(201535)* 201535 /log(10000)/10000"
   ]
  },
  {
   "cell_type": "code",
   "execution_count": null,
   "id": "fde7eaca",
   "metadata": {},
   "outputs": [],
   "source": []
  },
  {
   "cell_type": "code",
   "execution_count": 226,
   "id": "5d9be855",
   "metadata": {},
   "outputs": [],
   "source": [
    "join_train = join_train.astype({'DBN': 'category', 'Year': 'category', \"Grade\": 'category', \"Category\": 'category'})\n",
    "join_test = join_test.astype({'DBN': 'category', 'Year': 'category', \"Grade\": 'category', \"Category\": 'category'})"
   ]
  },
  {
   "cell_type": "code",
   "execution_count": 230,
   "id": "e568133c",
   "metadata": {},
   "outputs": [
    {
     "name": "stdout",
     "output_type": "stream",
     "text": [
      "CPU times: user 1.01 s, sys: 1.58 s, total: 2.59 s\n",
      "Wall time: 4min 57s\n"
     ]
    },
    {
     "data": {
      "text/plain": [
       "AutoSklearnRegressor(memory_limit=6072, per_run_time_limit=100,\n",
       "                     time_left_for_this_task=300)"
      ]
     },
     "execution_count": 230,
     "metadata": {},
     "output_type": "execute_result"
    }
   ],
   "source": [
    "%%time\n",
    "# model performance with autoML \n",
    "X_train = join_train[[\"Number Tested\", \"DBN\", \"Year\", \"Grade\"] + seller_features + buyer_features]\n",
    "y_train = join_train[target]\n",
    "X_test = join_test[[\"Number Tested\", \"DBN\", \"Year\", \"Grade\"] + seller_features + buyer_features]\n",
    "y_test = join_test[target]\n",
    "\n",
    "automl = autosklearn.regression.AutoSklearnRegressor(\n",
    "    time_left_for_this_task=300,\n",
    "    per_run_time_limit=100,\n",
    "    memory_limit=6072\n",
    ")\n",
    "automl.fit(X_train, y_train, X_test, y_test, dataset_name='gender')"
   ]
  },
  {
   "cell_type": "code",
   "execution_count": null,
   "id": "bed227a3",
   "metadata": {},
   "outputs": [],
   "source": []
  },
  {
   "cell_type": "code",
   "execution_count": 231,
   "id": "028d286e",
   "metadata": {},
   "outputs": [
    {
     "name": "stdout",
     "output_type": "stream",
     "text": [
      "Current Time = 06:46:50\n"
     ]
    }
   ],
   "source": [
    "now = datetime.now()\n",
    "now_aug = now\n",
    "current_time = now_aug.strftime(\"%H:%M:%S\")\n",
    "print(\"Current Time =\", current_time)"
   ]
  },
  {
   "cell_type": "code",
   "execution_count": 232,
   "id": "260337ea",
   "metadata": {},
   "outputs": [
    {
     "name": "stdout",
     "output_type": "stream",
     "text": [
      "Train R2 score: 0.83602551905231\n",
      "Test R2 score: 0.747668461987619\n",
      "          rank  ensemble_weight         type      cost   duration\n",
      "model_id                                                         \n",
      "6            1             0.84  extra_trees  0.248219  71.429998\n",
      "4            2             0.16  extra_trees  0.334160  15.901814\n",
      "                   Timestamp  ensemble_optimization_score  \\\n",
      "0 2022-03-24 06:42:37.739430                    -0.000003   \n",
      "4 2022-03-24 06:44:35.000000                    -0.000003   \n",
      "1 2022-03-24 06:44:35.154243                     0.665840   \n",
      "5 2022-03-24 06:46:35.000000                     0.665840   \n",
      "6 2022-03-24 06:46:35.000000                     0.665840   \n",
      "2 2022-03-24 06:46:36.246541                     0.755464   \n",
      "3 2022-03-24 06:46:36.246541                     0.755464   \n",
      "\n",
      "   ensemble_test_score  single_best_optimization_score  \\\n",
      "0        -9.158032e-07                             NaN   \n",
      "4        -9.158032e-07                        0.665840   \n",
      "1         6.611305e-01                        0.665840   \n",
      "5         6.611305e-01                        0.751781   \n",
      "6         6.611305e-01                        0.751781   \n",
      "2         7.476685e-01                        0.751781   \n",
      "3         7.476685e-01                        0.751781   \n",
      "\n",
      "   single_best_train_score  single_best_test_score  \n",
      "0                      NaN                     NaN  \n",
      "4                 0.714603                0.661131  \n",
      "1                 0.714603                0.661131  \n",
      "5                 0.885739                0.743838  \n",
      "6                 0.885739                0.743838  \n",
      "2                 0.885739                0.743838  \n",
      "3                 0.885739                0.743838  \n"
     ]
    },
    {
     "data": {
      "text/plain": [
       "<AxesSubplot:title={'center':'Auto-sklearn accuracy over time'}, xlabel='Timestamp'>"
      ]
     },
     "execution_count": 232,
     "metadata": {},
     "output_type": "execute_result"
    },
    {
     "data": {
      "image/png": "[encoded data removed]",
      "text/plain": [
       "<Figure size 432x288 with 1 Axes>"
      ]
     },
     "metadata": {
      "needs_background": "light"
     },
     "output_type": "display_data"
    }
   ],
   "source": [
    "train_predictions = automl.predict(X_train)\n",
    "print(\"Train R2 score:\", sklearn.metrics.r2_score(y_train, train_predictions))\n",
    "test_predictions = automl.predict(X_test)\n",
    "print(\"Test R2 score:\", sklearn.metrics.r2_score(y_test, test_predictions))\n",
    "print(automl.leaderboard())\n",
    "poT = automl.performance_over_time_\n",
    "print(poT)\n",
    "poT.plot(\n",
    "    x='Timestamp',\n",
    "    kind='line',\n",
    "    legend=True,\n",
    "    title='Auto-sklearn accuracy over time',\n",
    "    grid=True,\n",
    ")"
   ]
  },
  {
   "cell_type": "code",
   "execution_count": 234,
   "id": "4f9e3a9a",
   "metadata": {},
   "outputs": [],
   "source": [
    "poT2 = poT "
   ]
  },
  {
   "cell_type": "code",
   "execution_count": null,
   "id": "1d51c688",
   "metadata": {},
   "outputs": [],
   "source": []
  },
  {
   "cell_type": "code",
   "execution_count": 242,
   "id": "0a7dd0a5",
   "metadata": {},
   "outputs": [
    {
     "name": "stdout",
     "output_type": "stream",
     "text": [
      "Train R2 score: 0.8417184044415904\n",
      "Test R2 score: 0.7970338954417067\n",
      "          rank  ensemble_weight               type      cost   duration\n",
      "model_id                                                               \n",
      "4            1              1.0  gradient_boosting  0.181931  175.89374\n",
      "                   Timestamp  ensemble_optimization_score  \\\n",
      "0 2022-03-11 00:09:47.064354                    -0.000038   \n",
      "2 2022-03-11 00:17:43.000000                    -0.000038   \n",
      "1 2022-03-11 00:17:43.318110                     0.818069   \n",
      "\n",
      "   ensemble_test_score  single_best_optimization_score  \\\n",
      "0            -0.000036                             NaN   \n",
      "2            -0.000036                        0.818069   \n",
      "1             0.797034                        0.818069   \n",
      "\n",
      "   single_best_train_score  single_best_test_score  \n",
      "0                      NaN                     NaN  \n",
      "2                 0.853446                0.797034  \n",
      "1                 0.853446                0.797034  \n"
     ]
    },
    {
     "data": {
      "text/plain": [
       "<AxesSubplot:title={'center':'Auto-sklearn accuracy over time'}, xlabel='Timestamp'>"
      ]
     },
     "execution_count": 242,
     "metadata": {},
     "output_type": "execute_result"
    },
    {
     "data": {
      "image/png": "[encoded data removed]",
      "text/plain": [
       "<Figure size 432x288 with 1 Axes>"
      ]
     },
     "metadata": {
      "needs_background": "light"
     },
     "output_type": "display_data"
    }
   ],
   "source": [
    "train_predictions = automl.predict(X_train)\n",
    "print(\"Train R2 score:\", sklearn.metrics.r2_score(y_train, train_predictions))\n",
    "test_predictions = automl.predict(X_test)\n",
    "print(\"Test R2 score:\", sklearn.metrics.r2_score(y_test, test_predictions))\n",
    "print(automl.leaderboard())\n",
    "poT = automl.performance_over_time_\n",
    "print(poT)\n",
    "poT.plot(\n",
    "    x='Timestamp',\n",
    "    kind='line',\n",
    "    legend=True,\n",
    "    title='Auto-sklearn accuracy over time',\n",
    "    grid=True,\n",
    ")"
   ]
  },
  {
   "cell_type": "code",
   "execution_count": null,
   "id": "74fa15af",
   "metadata": {},
   "outputs": [],
   "source": []
  },
  {
   "cell_type": "code",
   "execution_count": null,
   "id": "d1562d0a",
   "metadata": {},
   "outputs": [],
   "source": []
  },
  {
   "cell_type": "code",
   "execution_count": null,
   "id": "a7b722f2",
   "metadata": {},
   "outputs": [],
   "source": []
  },
  {
   "cell_type": "code",
   "execution_count": 115,
   "id": "ec67bc51",
   "metadata": {},
   "outputs": [],
   "source": [
    "poT2 = automl.performance_over_time_"
   ]
  },
  {
   "cell_type": "code",
   "execution_count": 119,
   "id": "410a1c53",
   "metadata": {},
   "outputs": [
    {
     "data": {
      "text/plain": [
       "0          0 days 00:00:00\n",
       "5   0 days 00:02:30.958160\n",
       "6   0 days 00:02:30.958160\n",
       "1   0 days 00:02:31.712754\n",
       "2   0 days 00:02:45.958601\n",
       "7   0 days 00:05:02.958160\n",
       "8   0 days 00:05:02.958160\n",
       "3   0 days 00:05:03.972905\n",
       "4   0 days 00:05:03.972905\n",
       "Name: Timestamp, dtype: timedelta64[ns]"
      ]
     },
     "execution_count": 119,
     "metadata": {},
     "output_type": "execute_result"
    }
   ],
   "source": [
    "poT2[\"Timestamp\"] - min(poT2[\"Timestamp\"])"
   ]
  },
  {
   "cell_type": "code",
   "execution_count": 120,
   "id": "c54bab10",
   "metadata": {},
   "outputs": [
    {
     "data": {
      "text/plain": [
       "'auto-sklearn results:\\n  Dataset name: gender\\n  Metric: r2\\n  Best validation score: 0.692699\\n  Number of target algorithm runs: 9\\n  Number of successful target algorithm runs: 4\\n  Number of crashed target algorithm runs: 0\\n  Number of target algorithms that exceeded the time limit: 2\\n  Number of target algorithms that exceeded the memory limit: 3\\n'"
      ]
     },
     "execution_count": 120,
     "metadata": {},
     "output_type": "execute_result"
    }
   ],
   "source": [
    "automl.sprint_statistics()"
   ]
  },
  {
   "cell_type": "code",
   "execution_count": 17,
   "id": "1292ceed",
   "metadata": {},
   "outputs": [],
   "source": []
  },
  {
   "cell_type": "code",
   "execution_count": null,
   "id": "67046182",
   "metadata": {},
   "outputs": [],
   "source": []
  }
 ],
 "metadata": {
  "environment": {
   "name": "common-cpu.m79",
   "type": "gcloud",
   "uri": "gcr.io/deeplearning-platform-release/base-cpu:m79"
  },
  "kernelspec": {
   "display_name": "Python 3 (ipykernel)",
   "language": "python",
   "name": "python3"
  },
  "language_info": {
   "codemirror_mode": {
    "name": "ipython",
    "version": 3
   },
   "file_extension": ".py",
   "mimetype": "text/x-python",
   "name": "python",
   "nbconvert_exporter": "python",
   "pygments_lexer": "ipython3",
   "version": "3.9.7"
  }
 },
 "nbformat": 4,
 "nbformat_minor": 5
}

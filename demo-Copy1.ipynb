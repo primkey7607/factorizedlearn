{
 "cells": [
  {
   "cell_type": "code",
   "execution_count": 2,
   "id": "9d9c55d8",
   "metadata": {},
   "outputs": [],
   "source": [
    "from datamarket import *"
   ]
  },
  {
   "cell_type": "markdown",
   "id": "59611e89",
   "metadata": {},
   "source": [
    "# Read the data and train model without augmentation\n",
    "We first use factorized linear regression, then automl.\n",
    "\n",
    "In summary, R2 score for linear regression is:0.009878592245889273, for automl is: 0.5458767724247864"
   ]
  },
  {
   "cell_type": "code",
   "execution_count": 3,
   "id": "d9e41a57",
   "metadata": {},
   "outputs": [],
   "source": [
    "# read gender from \n",
    "gender = pd.read_csv(\"gender.csv\")\n",
    "\n",
    "# train test split\n",
    "msk = split_mask(len(gender)) < 0.8\n",
    "gender_train = gender[msk].copy()\n",
    "gender_test = gender[~msk].copy()"
   ]
  },
  {
   "cell_type": "code",
   "execution_count": 4,
   "id": "23ab47c8",
   "metadata": {},
   "outputs": [],
   "source": [
    "gender_train_data = agg_dataset()\n",
    "gender_train_data.load(gender_train, [\"Number Tested\", \"Mean Scale Score\"], [\"DBN\", [\"DBN\",\"Grade\"], \"Year\", \"Category\"], \"gender\")\n",
    "gender_train_data.process_target(\"Mean Scale Score\")\n",
    "gender_train_data.to_numeric_and_impute_all()\n",
    "gender_train_data.remove_redundant_columns()\n",
    "gender_train_data.compute_agg()\n",
    "\n",
    "gender_test_data = agg_dataset()\n",
    "gender_test_data.load(gender_test, [\"Number Tested\", \"Mean Scale Score\"], [\"DBN\", [\"DBN\",\"Grade\"], \"Year\", \"Category\"], \"gender\")\n",
    "gender_test_data.process_target(\"Mean Scale Score\")\n",
    "gender_test_data.to_numeric_and_impute_all()\n",
    "gender_test_data.remove_redundant_columns()\n",
    "gender_test_data.compute_agg()"
   ]
  },
  {
   "cell_type": "code",
   "execution_count": 5,
   "id": "49e1e453",
   "metadata": {},
   "outputs": [
    {
     "name": "stdout",
     "output_type": "stream",
     "text": [
      "R2 score is:0.011683490938364849\n"
     ]
    }
   ],
   "source": [
    "# model performance before augmentation with linear regression\n",
    "train_cov = gender_train_data.covariance\n",
    "test_cov = gender_test_data.covariance\n",
    "x = ['gender:Number Tested']\n",
    "y = 'gender:Mean Scale Score'\n",
    "parameter = linear_regression(train_cov, x, y)\n",
    "print(\"R2 score is:\" + str(r2(test_cov, x, y, parameter)))"
   ]
  },
  {
   "cell_type": "code",
   "execution_count": 6,
   "id": "d9deb837",
   "metadata": {},
   "outputs": [],
   "source": [
    "gender = gender.astype({'DBN': 'category', 'Year': 'category', \"Grade\": 'category', \"Category\": 'category'})\n",
    "gender[\"Mean Scale Score\"] = pd.to_numeric(gender[\"Mean Scale Score\"], errors='coerce')\n",
    "gender.dropna(subset=[\"Mean Scale Score\"],inplace=True)\n",
    "msk = split_mask(len(gender)) < 0.8\n",
    "gender_train = gender[msk].copy()\n",
    "gender_test = gender[~msk].copy()"
   ]
  },
  {
   "cell_type": "code",
   "execution_count": null,
   "id": "93aea984",
   "metadata": {},
   "outputs": [],
   "source": []
  },
  {
   "cell_type": "code",
   "execution_count": null,
   "id": "784d7124",
   "metadata": {},
   "outputs": [],
   "source": []
  },
  {
   "cell_type": "code",
   "execution_count": null,
   "id": "315c2521",
   "metadata": {},
   "outputs": [
    {
     "name": "stdout",
     "output_type": "stream",
     "text": [
      "[WARNING] [2022-03-24 02:18:14,037:Client-EnsembleBuilder] No models better than random - using Dummy loss!Number of models besides current dummy model: 1. Number of dummy models: 1\n"
     ]
    }
   ],
   "source": [
    "# model performance with autoML \n",
    "X_train = gender_train[[\"Number Tested\", \"DBN\", \"Year\", \"Grade\"]]\n",
    "y_train = gender_train[\"Mean Scale Score\"]\n",
    "X_test = gender_test[[\"Number Tested\", \"DBN\", \"Year\", \"Grade\"]]\n",
    "y_test = gender_test[\"Mean Scale Score\"]\n",
    "\n",
    "automl = autosklearn.regression.AutoSklearnRegressor(\n",
    "    time_left_for_this_task=300,\n",
    "    per_run_time_limit=100,\n",
    "    memory_limit=6072\n",
    ")\n",
    "automl.fit(X_train, y_train, X_test, y_test, dataset_name='gender')"
   ]
  },
  {
   "cell_type": "code",
   "execution_count": null,
   "id": "5b1b3082",
   "metadata": {},
   "outputs": [],
   "source": [
    "now = datetime.now()\n",
    "now_n = now\n",
    "current_time = now_n.strftime(\"%H:%M:%S\")\n",
    "print(\"Current Time =\", current_time)"
   ]
  },
  {
   "cell_type": "code",
   "execution_count": null,
   "id": "b85bbcd3",
   "metadata": {},
   "outputs": [],
   "source": [
    "train_predictions = automl.predict(X_train)\n",
    "print(\"Train R2 score:\", sklearn.metrics.r2_score(y_train, train_predictions))\n",
    "test_predictions = automl.predict(X_test)\n",
    "print(\"Test R2 score:\", sklearn.metrics.r2_score(y_test, test_predictions))\n",
    "print(automl.leaderboard())\n",
    "poT = automl.performance_over_time_\n",
    "print(poT)\n",
    "poT.plot(\n",
    "    x='Timestamp',\n",
    "    kind='line',\n",
    "    legend=True,\n",
    "    title='Auto-sklearn accuracy over time',\n",
    "    grid=True,\n",
    ")"
   ]
  },
  {
   "cell_type": "code",
   "execution_count": 26,
   "id": "a2b5cee1",
   "metadata": {},
   "outputs": [],
   "source": [
    "poT1 = automl.performance_over_time_"
   ]
  },
  {
   "cell_type": "code",
   "execution_count": 44,
   "id": "e58291dc",
   "metadata": {},
   "outputs": [],
   "source": [
    "poT1[\"duration\"] = [t.total_seconds() + 600 for t in(poT1[\"Timestamp\"] - now_n)]\n"
   ]
  },
  {
   "cell_type": "code",
   "execution_count": 36,
   "id": "50c72215",
   "metadata": {},
   "outputs": [
    {
     "data": {
      "text/plain": [
       "[61.01028299999996,\n",
       " 61.01028299999996,\n",
       " 61.01028299999996,\n",
       " 61.46787200000006,\n",
       " 210.03272099999998,\n",
       " 224.31375100000002,\n",
       " 293.010283,\n",
       " 293.010283,\n",
       " 293.010283,\n",
       " 294.191403,\n",
       " 294.191403,\n",
       " 294.191403]"
      ]
     },
     "execution_count": 36,
     "metadata": {},
     "output_type": "execute_result"
    }
   ],
   "source": []
  },
  {
   "cell_type": "code",
   "execution_count": 65,
   "id": "23b568f1",
   "metadata": {},
   "outputs": [],
   "source": [
    "poT2[\"duration\"] = [t.total_seconds() + 620 for t in(poT2[\"Timestamp\"] - now_aug)]\n",
    "poT2[\"duration2\"] = [t.total_seconds() + 820 for t in(poT2[\"Timestamp\"] - now_aug)]\n",
    "poT2.fillna(0, inplace=True)"
   ]
  },
  {
   "cell_type": "code",
   "execution_count": 66,
   "id": "d917b5e0",
   "metadata": {},
   "outputs": [],
   "source": [
    "poT2[[\"ensemble_test_score\", \"duration\", \"duration2\"]].to_csv(\"automl_result3.csv\",index=False)"
   ]
  },
  {
   "cell_type": "code",
   "execution_count": 52,
   "id": "5ad02749",
   "metadata": {},
   "outputs": [],
   "source": [
    "poT1[[\"ensemble_test_score\", \"duration\"]].to_csv(\"automl_result2.csv\",index=False)"
   ]
  },
  {
   "cell_type": "code",
   "execution_count": 125,
   "id": "cc70ce49",
   "metadata": {},
   "outputs": [
    {
     "name": "stdout",
     "output_type": "stream",
     "text": [
      "Train R2 score: 0.6760717762409097\n",
      "Test R2 score: 0.5458767724247864\n",
      "          rank  ensemble_weight               type      cost   duration\n",
      "model_id                                                               \n",
      "5            1              1.0  gradient_boosting  0.464419  22.770549\n",
      "                   Timestamp  ensemble_optimization_score  \\\n",
      "2 2022-03-10 22:13:35.000000                          NaN   \n",
      "0 2022-03-10 22:13:35.715064                    -0.000025   \n",
      "3 2022-03-10 22:15:57.000000                    -0.000025   \n",
      "1 2022-03-10 22:15:57.711512                     0.535581   \n",
      "\n",
      "   ensemble_test_score  single_best_optimization_score  \\\n",
      "2                  NaN                       -0.065672   \n",
      "0            -0.000010                       -0.065672   \n",
      "3            -0.000010                        0.535581   \n",
      "1             0.545877                        0.535581   \n",
      "\n",
      "   single_best_train_score  single_best_test_score  \n",
      "2                 0.293797               -0.055145  \n",
      "0                 0.293797               -0.055145  \n",
      "3                 0.744187                0.545877  \n",
      "1                 0.744187                0.545877  \n"
     ]
    },
    {
     "data": {
      "text/plain": [
       "<AxesSubplot:title={'center':'Auto-sklearn accuracy over time'}, xlabel='Timestamp'>"
      ]
     },
     "execution_count": 125,
     "metadata": {},
     "output_type": "execute_result"
    },
    {
     "data": {
      "image/png": "[encoded data removed]",
      "text/plain": [
       "<Figure size 432x288 with 1 Axes>"
      ]
     },
     "metadata": {
      "needs_background": "light"
     },
     "output_type": "display_data"
    }
   ],
   "source": [
    "train_predictions = automl.predict(X_train)\n",
    "print(\"Train R2 score:\", sklearn.metrics.r2_score(y_train, train_predictions))\n",
    "test_predictions = automl.predict(X_test)\n",
    "print(\"Test R2 score:\", sklearn.metrics.r2_score(y_test, test_predictions))\n",
    "print(automl.leaderboard())\n",
    "poT = automl.performance_over_time_\n",
    "print(poT)\n",
    "poT.plot(\n",
    "    x='Timestamp',\n",
    "    kind='line',\n",
    "    legend=True,\n",
    "    title='Auto-sklearn accuracy over time',\n",
    "    grid=True,\n",
    ")"
   ]
  },
  {
   "cell_type": "markdown",
   "id": "ee9c0a2b",
   "metadata": {},
   "source": [
    "# Load seller datasets and build market\n",
    "Currently, we need to specify the join attributes (could be joined on multiple attributes) and these attributes name have to be same across two tables.\n",
    "\n",
    "We need more data.\n",
    "\n",
    "The best data increase linear regression R2 to 0.3944023420421897\n",
    "\n",
    "This data also increase automl R2 to: 0.7970338954417067"
   ]
  },
  {
   "cell_type": "code",
   "execution_count": 4,
   "id": "b860db7e",
   "metadata": {},
   "outputs": [
    {
     "name": "stderr",
     "output_type": "stream",
     "text": [
      "/home/jupyter/arda/arda-datasets/school/datamarket.py:196: PerformanceWarning: DataFrame is highly fragmented.  This is usually the result of calling `frame.insert` many times, which has poor performance.  Consider joining all columns at once using pd.concat(axis=1) instead.  To get a de-fragmented frame, use `newframe = frame.copy()`\n",
      "  self.data['cov:Q:' + tablename + \":\" + attributes[i] + \",\"+ tablename + \":\" + attributes[j]] = self.data[attributes[i]] * self.data[attributes[j]]\n"
     ]
    }
   ],
   "source": [
    "# read buyer dataste\n",
    "crime = pd.read_csv(\"crime.csv\")\n",
    "crimedata = agg_dataset()\n",
    "crimedata.load(crime, [], [\"DBN\"], \"crime\")\n",
    "crimedata.find_features()\n",
    "crimedata.remove_redundant_columns()\n",
    "crimedata.compute_agg(True)\n",
    "\n",
    "\n",
    "esl = pd.read_csv(\"esl.csv\")\n",
    "esldata = agg_dataset()\n",
    "esldata.load(esl, [], [[\"DBN\",\"Grade\"]], \"esl\")\n",
    "esldata.find_features()\n",
    "esldata.remove_redundant_columns()\n",
    "esldata.compute_agg(True)\n",
    "\n",
    "ap = pd.read_csv(\"ap.csv\")\n",
    "apdata = agg_dataset()\n",
    "apdata.load(ap, [], [\"DBN\"], \"ap\")\n",
    "apdata.find_features()\n",
    "apdata.remove_redundant_columns()\n",
    "apdata.compute_agg(True)\n",
    "\n",
    "survey = pd.read_csv(\"2013_NYC_School_Survey.csv\")\n",
    "surveydata = agg_dataset()\n",
    "surveydata.load(survey, [], [\"DBN\"], \"survey\")\n",
    "surveydata.find_features()\n",
    "surveydata.remove_redundant_columns()\n",
    "surveydata.compute_agg(True)\n",
    "\n",
    "base = pd.read_csv(\"base.csv\")\n",
    "basedata = agg_dataset()\n",
    "basedata.load(base, [], [\"DBN\"], \"base\")\n",
    "basedata.find_features()\n",
    "basedata.remove_redundant_columns()\n",
    "basedata.compute_agg(True)\n",
    "\n",
    "disc = pd.read_csv(\"disc.csv\")\n",
    "discdata = agg_dataset()\n",
    "discdata.load(disc, [], [\"DBN\"], \"disc\")\n",
    "discdata.find_features()\n",
    "discdata.remove_redundant_columns()\n",
    "discdata.compute_agg(True)\n",
    "\n",
    "math = pd.read_csv(\"math.csv\")\n",
    "mathdata = agg_dataset()\n",
    "mathdata.load(math, [], [[\"DBN\",\"Grade\"]], \"math\")\n",
    "mathdata.find_features()\n",
    "mathdata.remove_redundant_columns()\n",
    "mathdata.compute_agg(True)\n",
    "\n",
    "oss = pd.read_csv(\"oss.csv\")\n",
    "ossdata = agg_dataset()\n",
    "ossdata.load(oss, [], [\"DBN\"], \"oss\")\n",
    "ossdata.find_features()\n",
    "ossdata.remove_redundant_columns()\n",
    "ossdata.compute_agg(True)\n",
    "\n",
    "pe = pd.read_csv(\"pe.csv\")\n",
    "pedata = agg_dataset()\n",
    "pedata.load(pe, [], [\"DBN\"], \"pe\")\n",
    "pedata.find_features()\n",
    "pedata.remove_redundant_columns()\n",
    "pedata.compute_agg(True)\n",
    "\n",
    "s2tr = pd.read_csv(\"s2tr.csv\")\n",
    "s2trdata = agg_dataset()\n",
    "s2trdata.load(s2tr, [], [\"DBN\"], \"s2tr\")\n",
    "s2trdata.find_features()\n",
    "s2trdata.remove_redundant_columns()\n",
    "s2trdata.compute_agg(True)\n",
    "\n",
    "sat = pd.read_csv(\"sat.csv\")\n",
    "satdata = agg_dataset()\n",
    "satdata.load(sat, [], [\"DBN\"], \"sat\")\n",
    "satdata.find_features()\n",
    "satdata.remove_redundant_columns()\n",
    "satdata.compute_agg(True)\n",
    "\n",
    "pro = pd.read_csv(\"Schools_Progress_Report_2012-2013.csv\")\n",
    "prodata = agg_dataset()\n",
    "prodata.load(pro, [], [\"DBN\"], \"pro\")\n",
    "prodata.find_features()\n",
    "prodata.remove_redundant_columns()\n",
    "prodata.compute_agg(True)\n",
    "\n",
    "\n",
    "spy = pd.read_csv(\"spy.csv\")\n",
    "spydata = agg_dataset()\n",
    "spydata.load(spy, [], [\"Year\"], \"spy\")\n",
    "spydata.find_features()\n",
    "spydata.remove_redundant_columns()\n",
    "spydata.compute_agg(True)\n",
    "\n",
    "transfer = pd.read_csv(\"transfer.csv\")\n",
    "transferdata = agg_dataset()\n",
    "transferdata.load(transfer, [], [\"DBN\"], \"transfer\")\n",
    "transferdata.find_features()\n",
    "transferdata.remove_redundant_columns()\n",
    "transferdata.compute_agg(True)\n",
    "\n",
    "yabc = pd.read_csv(\"yabc.csv\")\n",
    "yabcdata = agg_dataset()\n",
    "yabcdata.load(yabc, [], [\"DBN\"], \"yabc\")\n",
    "yabcdata.find_features()\n",
    "yabcdata.remove_redundant_columns()\n",
    "yabcdata.compute_agg(True)\n",
    "\n",
    "dm1 = pd.read_csv(\"other/datamart.socrata.data-cityofnewyork-us.22rr-ujq3\")\n",
    "dm1data = agg_dataset()\n",
    "dm1data.load(dm1, [], [\"DBN\"], \"dm1\")\n",
    "dm1data.find_features()\n",
    "dm1data.remove_redundant_columns()\n",
    "dm1data.compute_agg(True)\n",
    "\n",
    "dm2 = pd.read_csv(\"other/datamart.socrata.data-cityofnewyork-us.25aa-q86c\")\n",
    "dm2data = agg_dataset()\n",
    "dm2data.load(dm2, [], [\"DBN\"], \"dm2\")\n",
    "dm2data.find_features()\n",
    "dm2data.remove_redundant_columns()\n",
    "dm2data.compute_agg(True)\n",
    "\n",
    "dm3 = pd.read_csv(\"other/datamart.socrata.data-cityofnewyork-us.29bv-qqsy\")\n",
    "dm3data = agg_dataset()\n",
    "dm3data.load(dm3, [], [\"DBN\"], \"dm3\")\n",
    "dm3data.find_features()\n",
    "dm3data.remove_redundant_columns()\n",
    "dm3data.compute_agg(True)\n",
    "\n",
    "dm4 = pd.read_csv(\"other/datamart.socrata.data-cityofnewyork-us.29ry-u5bf\")\n",
    "dm4data = agg_dataset()\n",
    "dm4data.load(dm4, [], [\"DBN\"], \"dm4\")\n",
    "dm4data.find_features()\n",
    "dm4data.remove_redundant_columns()\n",
    "dm4data.compute_agg(True)\n",
    "\n",
    "dm5 = pd.read_csv(\"other/datamart.socrata.data-cityofnewyork-us.43qc-8vv8\")\n",
    "dm5data = agg_dataset()\n",
    "dm5data.load(dm5, [], [[\"DBN\",\"Grade\"]], \"dm5\")\n",
    "dm5data.find_features()\n",
    "dm5data.remove_redundant_columns()\n",
    "dm5data.compute_agg(True)"
   ]
  },
  {
   "cell_type": "code",
   "execution_count": 6,
   "id": "3e83a9a8",
   "metadata": {},
   "outputs": [],
   "source": [
    "\n",
    "math = pd.read_csv(\"math.csv\")\n",
    "mathdata = agg_dataset()\n",
    "mathdata.load(math, [], [[\"DBN\",\"Grade\"]], \"math\")\n",
    "mathdata.find_features()\n",
    "mathdata.remove_redundant_columns()\n",
    "mathdata.compute_agg(True)\n"
   ]
  },
  {
   "cell_type": "code",
   "execution_count": 5,
   "id": "d11b3ae5",
   "metadata": {},
   "outputs": [
    {
     "name": "stdout",
     "output_type": "stream",
     "text": [
      "crime\n",
      "ap\n",
      "survey\n"
     ]
    },
    {
     "name": "stderr",
     "output_type": "stream",
     "text": [
      "/home/jupyter/arda/arda-datasets/school/datamarket.py:350: FutureWarning: In a future version of pandas all arguments of DataFrame.drop except for the argument 'labels' will be keyword-only\n",
      "  join.drop('cov:c_y', 1, inplace=True)\n"
     ]
    },
    {
     "name": "stdout",
     "output_type": "stream",
     "text": [
      "base\n",
      "disc\n",
      "math\n",
      "oss\n",
      "pe\n",
      "s2tr\n",
      "sat\n",
      "pro\n",
      "spy\n",
      "transfer\n",
      "yabc\n",
      "dm1\n",
      "dm2\n",
      "dm3\n",
      "dm4\n",
      "dm5\n",
      "math ['math:Level 4 %', 'math:Level 1 %', 'math:Year', 'gender:Number Tested'] 0.39912150991381046\n",
      "CPU times: user 2.23 s, sys: 29.1 ms, total: 2.26 s\n",
      "Wall time: 2.25 s\n"
     ]
    }
   ],
   "source": [
    "%%time\n",
    "sellers = [(crimedata, \"DBN\"), (apdata, \"DBN\"), (surveydata, \"DBN\"), \n",
    "           (basedata, \"DBN\"), (discdata, \"DBN\"), (mathdata, (\"DBN\",\"Grade\")), \n",
    "           (ossdata, \"DBN\"), (pedata, \"DBN\"), (s2trdata, \"DBN\"), \n",
    "           (satdata, \"DBN\"), (prodata, \"DBN\"), (spydata, \"Year\"),\n",
    "           (transferdata, \"DBN\"), (yabcdata, \"DBN\"), (dm1data, \"DBN\"),\n",
    "           (dm2data, \"DBN\"), (dm3data, \"DBN\"), (dm4data, \"DBN\"), (dm5data, (\"DBN\",\"Grade\"))]\n",
    "\n",
    "# sellers = [(mathdata, (\"DBN\",\"Grade\"))]\n",
    "\n",
    "\n",
    "# find m best datasets to augment\n",
    "bought = set()\n",
    "m = 1\n",
    "y = \"Mean Scale Score\"\n",
    "\n",
    "for i in range(m):\n",
    "    best_seller = None\n",
    "    best_seller_attrs = []\n",
    "    best_dimension = None\n",
    "    best_r2 = 0\n",
    "\n",
    "    for sellerdata, dimension in sellers:\n",
    "        # check if current seller has been bought\n",
    "        if sellerdata.name in bought:\n",
    "            continue\n",
    "        print(sellerdata.name)\n",
    "\n",
    "        # find the attributes and r2 of augmenting\n",
    "        cur_atts, final_r2 = select_features(gender_train_data, gender_test_data, sellerdata, dimension, 4, y)\n",
    "#         cur_atts, final_r2 = select_features(gender_train, gender_test, sellerdata, dimension,10)\n",
    "\n",
    "        if final_r2 > best_r2:\n",
    "            best_seller = sellerdata\n",
    "            best_dimension = dimension\n",
    "            best_seller_attrs = cur_atts\n",
    "            best_r2 = final_r2\n",
    "\n",
    "\n",
    "    print(best_seller.name, best_seller_attrs, best_r2)\n",
    "    \n",
    "    if len([x for x in best_seller_attrs if x in best_seller.X]) == 0:\n",
    "        gender_train_data.datasets.add(best_seller)\n",
    "        gender_test_data.datasets.add(best_seller)\n",
    "    else:\n",
    "        gender_train_data.absorb(best_seller, best_dimension, best_seller_attrs + [gender_train_data.name + \":\" + y])\n",
    "        gender_test_data.absorb(best_seller, best_dimension, best_seller_attrs + [gender_train_data.name + \":\" + y])"
   ]
  },
  {
   "cell_type": "code",
   "execution_count": null,
   "id": "a6ee8eb7",
   "metadata": {},
   "outputs": [],
   "source": []
  },
  {
   "cell_type": "code",
   "execution_count": 14,
   "id": "0fb3e260",
   "metadata": {},
   "outputs": [
    {
     "data": {
      "text/html": [
       "<div>\n",
       "<style scoped>\n",
       "    .dataframe tbody tr th:only-of-type {\n",
       "        vertical-align: middle;\n",
       "    }\n",
       "\n",
       "    .dataframe tbody tr th {\n",
       "        vertical-align: top;\n",
       "    }\n",
       "\n",
       "    .dataframe thead th {\n",
       "        text-align: right;\n",
       "    }\n",
       "</style>\n",
       "<table border=\"1\" class=\"dataframe\">\n",
       "  <thead>\n",
       "    <tr style=\"text-align: right;\">\n",
       "      <th></th>\n",
       "      <th></th>\n",
       "      <th>cov:s:gender:Mean Scale Score</th>\n",
       "      <th>cov:Q:gender:Mean Scale Score,gender:Mean Scale Score</th>\n",
       "      <th>cov:c</th>\n",
       "      <th>Category</th>\n",
       "      <th>Year</th>\n",
       "    </tr>\n",
       "    <tr>\n",
       "      <th>DBN</th>\n",
       "      <th>Grade</th>\n",
       "      <th></th>\n",
       "      <th></th>\n",
       "      <th></th>\n",
       "      <th></th>\n",
       "      <th></th>\n",
       "    </tr>\n",
       "  </thead>\n",
       "  <tbody>\n",
       "    <tr>\n",
       "      <th rowspan=\"5\" valign=\"top\">01M015</th>\n",
       "      <th>3</th>\n",
       "      <td>285.0</td>\n",
       "      <td>81225.0</td>\n",
       "      <td>1</td>\n",
       "      <td>Female</td>\n",
       "      <td>2013</td>\n",
       "    </tr>\n",
       "    <tr>\n",
       "      <th>3</th>\n",
       "      <td>289.0</td>\n",
       "      <td>83521.0</td>\n",
       "      <td>1</td>\n",
       "      <td>Female</td>\n",
       "      <td>2015</td>\n",
       "    </tr>\n",
       "    <tr>\n",
       "      <th>3</th>\n",
       "      <td>276.0</td>\n",
       "      <td>76176.0</td>\n",
       "      <td>1</td>\n",
       "      <td>Male</td>\n",
       "      <td>2015</td>\n",
       "    </tr>\n",
       "    <tr>\n",
       "      <th>3</th>\n",
       "      <td>308.0</td>\n",
       "      <td>94864.0</td>\n",
       "      <td>1</td>\n",
       "      <td>Female</td>\n",
       "      <td>2017</td>\n",
       "    </tr>\n",
       "    <tr>\n",
       "      <th>3</th>\n",
       "      <td>297.0</td>\n",
       "      <td>88209.0</td>\n",
       "      <td>1</td>\n",
       "      <td>Male</td>\n",
       "      <td>2017</td>\n",
       "    </tr>\n",
       "    <tr>\n",
       "      <th>...</th>\n",
       "      <th>...</th>\n",
       "      <td>...</td>\n",
       "      <td>...</td>\n",
       "      <td>...</td>\n",
       "      <td>...</td>\n",
       "      <td>...</td>\n",
       "    </tr>\n",
       "    <tr>\n",
       "      <th rowspan=\"5\" valign=\"top\">32K562</th>\n",
       "      <th>All Grades</th>\n",
       "      <td>280.0</td>\n",
       "      <td>78400.0</td>\n",
       "      <td>1</td>\n",
       "      <td>Female</td>\n",
       "      <td>2015</td>\n",
       "    </tr>\n",
       "    <tr>\n",
       "      <th>All Grades</th>\n",
       "      <td>274.0</td>\n",
       "      <td>75076.0</td>\n",
       "      <td>1</td>\n",
       "      <td>Male</td>\n",
       "      <td>2015</td>\n",
       "    </tr>\n",
       "    <tr>\n",
       "      <th>All Grades</th>\n",
       "      <td>286.0</td>\n",
       "      <td>81796.0</td>\n",
       "      <td>1</td>\n",
       "      <td>Female</td>\n",
       "      <td>2016</td>\n",
       "    </tr>\n",
       "    <tr>\n",
       "      <th>All Grades</th>\n",
       "      <td>282.0</td>\n",
       "      <td>79524.0</td>\n",
       "      <td>1</td>\n",
       "      <td>Male</td>\n",
       "      <td>2016</td>\n",
       "    </tr>\n",
       "    <tr>\n",
       "      <th>All Grades</th>\n",
       "      <td>284.0</td>\n",
       "      <td>80656.0</td>\n",
       "      <td>1</td>\n",
       "      <td>Male</td>\n",
       "      <td>2017</td>\n",
       "    </tr>\n",
       "  </tbody>\n",
       "</table>\n",
       "<p>37918 rows × 5 columns</p>\n",
       "</div>"
      ],
      "text/plain": [
       "                   cov:s:gender:Mean Scale Score  \\\n",
       "DBN    Grade                                       \n",
       "01M015 3                                   285.0   \n",
       "       3                                   289.0   \n",
       "       3                                   276.0   \n",
       "       3                                   308.0   \n",
       "       3                                   297.0   \n",
       "...                                          ...   \n",
       "32K562 All Grades                          280.0   \n",
       "       All Grades                          274.0   \n",
       "       All Grades                          286.0   \n",
       "       All Grades                          282.0   \n",
       "       All Grades                          284.0   \n",
       "\n",
       "                   cov:Q:gender:Mean Scale Score,gender:Mean Scale Score  \\\n",
       "DBN    Grade                                                               \n",
       "01M015 3                                                     81225.0       \n",
       "       3                                                     83521.0       \n",
       "       3                                                     76176.0       \n",
       "       3                                                     94864.0       \n",
       "       3                                                     88209.0       \n",
       "...                                                              ...       \n",
       "32K562 All Grades                                            78400.0       \n",
       "       All Grades                                            75076.0       \n",
       "       All Grades                                            81796.0       \n",
       "       All Grades                                            79524.0       \n",
       "       All Grades                                            80656.0       \n",
       "\n",
       "                   cov:c Category  Year  \n",
       "DBN    Grade                             \n",
       "01M015 3               1   Female  2013  \n",
       "       3               1   Female  2015  \n",
       "       3               1     Male  2015  \n",
       "       3               1   Female  2017  \n",
       "       3               1     Male  2017  \n",
       "...                  ...      ...   ...  \n",
       "32K562 All Grades      1   Female  2015  \n",
       "       All Grades      1     Male  2015  \n",
       "       All Grades      1   Female  2016  \n",
       "       All Grades      1     Male  2016  \n",
       "       All Grades      1     Male  2017  \n",
       "\n",
       "[37918 rows x 5 columns]"
      ]
     },
     "execution_count": 14,
     "metadata": {},
     "output_type": "execute_result"
    }
   ],
   "source": [
    "gender_train_data.data.set_index(list(('DBN', 'Grade')))"
   ]
  },
  {
   "cell_type": "code",
   "execution_count": 114,
   "id": "4711b1b7",
   "metadata": {},
   "outputs": [
    {
     "name": "stdout",
     "output_type": "stream",
     "text": [
      "CPU times: user 99.1 ms, sys: 0 ns, total: 99.1 ms\n",
      "Wall time: 97.2 ms\n"
     ]
    },
    {
     "name": "stderr",
     "output_type": "stream",
     "text": [
      "/opt/conda/lib/python3.7/site-packages/ipykernel_launcher.py:298: FutureWarning: In a future version of pandas all arguments of DataFrame.drop except for the argument 'labels' will be keyword-only\n"
     ]
    }
   ],
   "source": [
    "# %%time\n",
    "# c=connect(gender_train_data, mathdata, (\"DBN\",\"Grade\"))"
   ]
  },
  {
   "cell_type": "code",
   "execution_count": 55,
   "id": "09f47782",
   "metadata": {},
   "outputs": [],
   "source": [
    "best_dimension = ['DBN', 'Grade']"
   ]
  },
  {
   "cell_type": "code",
   "execution_count": 6,
   "id": "20d09e70",
   "metadata": {},
   "outputs": [],
   "source": [
    "# make best_dimension a list\n",
    "if isinstance(best_dimension, tuple):\n",
    "    best_dimension = list(best_dimension)\n",
    "else:\n",
    "    best_dimension = [best_dimension]\n",
    "\n",
    "# extract needed attributes\n",
    "seller_features = ['cov:s:' +  attr for attr in best_seller_attrs  if attr.startswith(best_seller.name)]\n",
    "buyer_features = ['cov:s:' +  attr for attr in best_seller_attrs  if not attr.startswith(best_seller.name)]\n",
    "target = ['cov:s:gender:' + y]\n",
    "buyer_train_data = gender_train_data.data[gender_train_data.dedup_dimensions + buyer_features + target]\n",
    "buyer_test_data = gender_test_data.data[gender_train_data.dedup_dimensions + buyer_features + target]\n",
    "seller_data = best_seller.data[best_dimension + seller_features]\n",
    "# seller_data = seller_data.groupby(best_dimension).mean()\n",
    "\n",
    "# join buyer and seller\n",
    "join_train = pd.merge(buyer_train_data,seller_data,how='left', on=best_dimension)\n",
    "join_test = pd.merge(buyer_test_data,seller_data,how='left', on=best_dimension)"
   ]
  },
  {
   "cell_type": "code",
   "execution_count": 8,
   "id": "1cfe337e",
   "metadata": {},
   "outputs": [
    {
     "data": {
      "text/html": [
       "<div>\n",
       "<style scoped>\n",
       "    .dataframe tbody tr th:only-of-type {\n",
       "        vertical-align: middle;\n",
       "    }\n",
       "\n",
       "    .dataframe tbody tr th {\n",
       "        vertical-align: top;\n",
       "    }\n",
       "\n",
       "    .dataframe thead th {\n",
       "        text-align: right;\n",
       "    }\n",
       "</style>\n",
       "<table border=\"1\" class=\"dataframe\">\n",
       "  <thead>\n",
       "    <tr style=\"text-align: right;\">\n",
       "      <th></th>\n",
       "      <th>DBN</th>\n",
       "      <th>Category</th>\n",
       "      <th>Grade</th>\n",
       "      <th>Year</th>\n",
       "      <th>cov:s:gender:Number Tested</th>\n",
       "      <th>cov:s:gender:Mean Scale Score</th>\n",
       "      <th>cov:s:math:Level 4 %</th>\n",
       "      <th>cov:s:math:Level 1 %</th>\n",
       "      <th>cov:s:math:Year</th>\n",
       "    </tr>\n",
       "  </thead>\n",
       "  <tbody>\n",
       "    <tr>\n",
       "      <th>0</th>\n",
       "      <td>01M015</td>\n",
       "      <td>Female</td>\n",
       "      <td>3</td>\n",
       "      <td>2013</td>\n",
       "      <td>12</td>\n",
       "      <td>285.0</td>\n",
       "      <td>15.400000</td>\n",
       "      <td>5.100000</td>\n",
       "      <td>2006.000000</td>\n",
       "    </tr>\n",
       "    <tr>\n",
       "      <th>1</th>\n",
       "      <td>01M015</td>\n",
       "      <td>Female</td>\n",
       "      <td>3</td>\n",
       "      <td>2013</td>\n",
       "      <td>12</td>\n",
       "      <td>285.0</td>\n",
       "      <td>12.900000</td>\n",
       "      <td>6.500000</td>\n",
       "      <td>2007.000000</td>\n",
       "    </tr>\n",
       "    <tr>\n",
       "      <th>2</th>\n",
       "      <td>01M015</td>\n",
       "      <td>Female</td>\n",
       "      <td>3</td>\n",
       "      <td>2013</td>\n",
       "      <td>12</td>\n",
       "      <td>285.0</td>\n",
       "      <td>5.400000</td>\n",
       "      <td>0.000000</td>\n",
       "      <td>2008.000000</td>\n",
       "    </tr>\n",
       "    <tr>\n",
       "      <th>3</th>\n",
       "      <td>01M015</td>\n",
       "      <td>Female</td>\n",
       "      <td>3</td>\n",
       "      <td>2013</td>\n",
       "      <td>12</td>\n",
       "      <td>285.0</td>\n",
       "      <td>3.000000</td>\n",
       "      <td>0.000000</td>\n",
       "      <td>2009.000000</td>\n",
       "    </tr>\n",
       "    <tr>\n",
       "      <th>4</th>\n",
       "      <td>01M015</td>\n",
       "      <td>Female</td>\n",
       "      <td>3</td>\n",
       "      <td>2013</td>\n",
       "      <td>12</td>\n",
       "      <td>285.0</td>\n",
       "      <td>7.700000</td>\n",
       "      <td>23.100000</td>\n",
       "      <td>2010.000000</td>\n",
       "    </tr>\n",
       "    <tr>\n",
       "      <th>...</th>\n",
       "      <td>...</td>\n",
       "      <td>...</td>\n",
       "      <td>...</td>\n",
       "      <td>...</td>\n",
       "      <td>...</td>\n",
       "      <td>...</td>\n",
       "      <td>...</td>\n",
       "      <td>...</td>\n",
       "      <td>...</td>\n",
       "    </tr>\n",
       "    <tr>\n",
       "      <th>201530</th>\n",
       "      <td>32K562</td>\n",
       "      <td>Female</td>\n",
       "      <td>All Grades</td>\n",
       "      <td>2015</td>\n",
       "      <td>148</td>\n",
       "      <td>280.0</td>\n",
       "      <td>20.322622</td>\n",
       "      <td>9.732634</td>\n",
       "      <td>2008.556781</td>\n",
       "    </tr>\n",
       "    <tr>\n",
       "      <th>201531</th>\n",
       "      <td>32K562</td>\n",
       "      <td>Male</td>\n",
       "      <td>All Grades</td>\n",
       "      <td>2015</td>\n",
       "      <td>161</td>\n",
       "      <td>274.0</td>\n",
       "      <td>20.322622</td>\n",
       "      <td>9.732634</td>\n",
       "      <td>2008.556781</td>\n",
       "    </tr>\n",
       "    <tr>\n",
       "      <th>201532</th>\n",
       "      <td>32K562</td>\n",
       "      <td>Female</td>\n",
       "      <td>All Grades</td>\n",
       "      <td>2016</td>\n",
       "      <td>125</td>\n",
       "      <td>286.0</td>\n",
       "      <td>20.322622</td>\n",
       "      <td>9.732634</td>\n",
       "      <td>2008.556781</td>\n",
       "    </tr>\n",
       "    <tr>\n",
       "      <th>201533</th>\n",
       "      <td>32K562</td>\n",
       "      <td>Male</td>\n",
       "      <td>All Grades</td>\n",
       "      <td>2016</td>\n",
       "      <td>141</td>\n",
       "      <td>282.0</td>\n",
       "      <td>20.322622</td>\n",
       "      <td>9.732634</td>\n",
       "      <td>2008.556781</td>\n",
       "    </tr>\n",
       "    <tr>\n",
       "      <th>201534</th>\n",
       "      <td>32K562</td>\n",
       "      <td>Male</td>\n",
       "      <td>All Grades</td>\n",
       "      <td>2017</td>\n",
       "      <td>144</td>\n",
       "      <td>284.0</td>\n",
       "      <td>20.322622</td>\n",
       "      <td>9.732634</td>\n",
       "      <td>2008.556781</td>\n",
       "    </tr>\n",
       "  </tbody>\n",
       "</table>\n",
       "<p>201535 rows × 9 columns</p>\n",
       "</div>"
      ],
      "text/plain": [
       "           DBN Category       Grade  Year  cov:s:gender:Number Tested  \\\n",
       "0       01M015   Female           3  2013                          12   \n",
       "1       01M015   Female           3  2013                          12   \n",
       "2       01M015   Female           3  2013                          12   \n",
       "3       01M015   Female           3  2013                          12   \n",
       "4       01M015   Female           3  2013                          12   \n",
       "...        ...      ...         ...   ...                         ...   \n",
       "201530  32K562   Female  All Grades  2015                         148   \n",
       "201531  32K562     Male  All Grades  2015                         161   \n",
       "201532  32K562   Female  All Grades  2016                         125   \n",
       "201533  32K562     Male  All Grades  2016                         141   \n",
       "201534  32K562     Male  All Grades  2017                         144   \n",
       "\n",
       "        cov:s:gender:Mean Scale Score  cov:s:math:Level 4 %  \\\n",
       "0                               285.0             15.400000   \n",
       "1                               285.0             12.900000   \n",
       "2                               285.0              5.400000   \n",
       "3                               285.0              3.000000   \n",
       "4                               285.0              7.700000   \n",
       "...                               ...                   ...   \n",
       "201530                          280.0             20.322622   \n",
       "201531                          274.0             20.322622   \n",
       "201532                          286.0             20.322622   \n",
       "201533                          282.0             20.322622   \n",
       "201534                          284.0             20.322622   \n",
       "\n",
       "        cov:s:math:Level 1 %  cov:s:math:Year  \n",
       "0                   5.100000      2006.000000  \n",
       "1                   6.500000      2007.000000  \n",
       "2                   0.000000      2008.000000  \n",
       "3                   0.000000      2009.000000  \n",
       "4                  23.100000      2010.000000  \n",
       "...                      ...              ...  \n",
       "201530              9.732634      2008.556781  \n",
       "201531              9.732634      2008.556781  \n",
       "201532              9.732634      2008.556781  \n",
       "201533              9.732634      2008.556781  \n",
       "201534              9.732634      2008.556781  \n",
       "\n",
       "[201535 rows x 9 columns]"
      ]
     },
     "execution_count": 8,
     "metadata": {},
     "output_type": "execute_result"
    }
   ],
   "source": [
    "join_train"
   ]
  },
  {
   "cell_type": "code",
   "execution_count": 9,
   "id": "5dbd5389",
   "metadata": {},
   "outputs": [],
   "source": [
    "# missing value imputation\n",
    "for attr in best_seller_attrs:\n",
    "    if attr in best_seller.covariance:\n",
    "        join_train[\"cov:s:\" + attr].fillna(best_seller.covariance[\"cov:s:\" + attr], inplace=True)\n",
    "        join_test[\"cov:s:\" + attr].fillna(best_seller.covariance[\"cov:s:\" + attr], inplace=True)"
   ]
  },
  {
   "cell_type": "code",
   "execution_count": 10,
   "id": "59eabe34",
   "metadata": {},
   "outputs": [],
   "source": [
    "def one_one_encoding(relation, attributes):\n",
    "    one_hot_encoding_relations = [relation]\n",
    "    for attr in attributes:\n",
    "        one_hot_encoding_relations.append(pd.get_dummies(relation[attr], prefix=attr))\n",
    "    encoded_relation = pd.concat(one_hot_encoding_relations, axis=1)\n",
    "    encoded_relation.drop(columns=attributes, inplace=True)\n",
    "    return encoded_relation\n",
    "\n",
    "# join_train = one_one_encoding(join_train, gender_train_data.dedup_dimensions)\n",
    "# join_test = one_one_encoding(join_test, gender_train_data.dedup_dimensions)"
   ]
  },
  {
   "cell_type": "code",
   "execution_count": 11,
   "id": "26e96d1f",
   "metadata": {},
   "outputs": [],
   "source": [
    "join_train_len = len(join_train)\n",
    "join = pd.concat([join_train, join_test])\n",
    "join = one_one_encoding(join, gender_train_data.dedup_dimensions)\n",
    "join_train = join.iloc[:join_train_len]\n",
    "join_test = join.iloc[join_train_len:]"
   ]
  },
  {
   "cell_type": "code",
   "execution_count": 13,
   "id": "f6eb8595",
   "metadata": {},
   "outputs": [],
   "source": [
    "join.to_csv(\"math_gender_join.csv\", index=False)"
   ]
  },
  {
   "cell_type": "code",
   "execution_count": 96,
   "id": "19369800",
   "metadata": {},
   "outputs": [],
   "source": [
    "# join_train = join_train[['cov:s:gender:Mean Scale Score','cov:s:math:Level 4 %', 'cov:s:math:Level 1 %', 'cov:s:math:Year','cov:s:math:Mean Scale Score']]\n",
    "# join_test = join_test[['cov:s:gender:Mean Scale Score','cov:s:math:Level 4 %', 'cov:s:math:Level 1 %', 'cov:s:math:Year','cov:s:math:Mean Scale Score']]"
   ]
  },
  {
   "cell_type": "code",
   "execution_count": 20,
   "id": "bb2cce7b",
   "metadata": {},
   "outputs": [],
   "source": [
    "# join_train = join_train.astype({'DBN': 'category', 'Year': 'category', \"Grade\": 'category', \"Category\": 'category'})\n",
    "# join_test = join_test.astype({'DBN': 'category', 'Year': 'category', \"Grade\": 'category', \"Category\": 'category'})"
   ]
  },
  {
   "cell_type": "code",
   "execution_count": 14,
   "id": "de076aac",
   "metadata": {},
   "outputs": [],
   "source": [
    "y_train = join_train[target]\n",
    "y_test = join_test[target]\n",
    "X_train = join_train.drop(columns=target)\n",
    "X_test = join_test.drop(columns=target)"
   ]
  },
  {
   "cell_type": "code",
   "execution_count": 16,
   "id": "1f33fc42",
   "metadata": {},
   "outputs": [],
   "source": [
    "from sklearn.ensemble import GradientBoostingClassifier\n",
    "from sklearn.ensemble import RandomForestClassifier"
   ]
  },
  {
   "cell_type": "code",
   "execution_count": 119,
   "id": "a425ec59",
   "metadata": {},
   "outputs": [],
   "source": [
    "for att in X_train.columns:\n",
    "    if att not in X_test.columns:\n",
    "        print(att)"
   ]
  },
  {
   "cell_type": "code",
   "execution_count": 86,
   "id": "6a92ad7c",
   "metadata": {},
   "outputs": [
    {
     "name": "stderr",
     "output_type": "stream",
     "text": [
      "/opt/conda/lib/python3.7/site-packages/sklearn/utils/validation.py:63: DataConversionWarning: A column-vector y was passed when a 1d array was expected. Please change the shape of y to (n_samples, ), for example using ravel().\n",
      "  return f(*args, **kwargs)\n"
     ]
    },
    {
     "name": "stdout",
     "output_type": "stream",
     "text": [
      "CPU times: user 1min 21s, sys: 11.5 s, total: 1min 33s\n",
      "Wall time: 1min 33s\n"
     ]
    }
   ],
   "source": [
    "%%time\n",
    "clf = GradientBoostingClassifier(n_estimators=1, max_leaf_nodes=8).fit(X_train, y_train)"
   ]
  },
  {
   "cell_type": "code",
   "execution_count": 36,
   "id": "7df1dcc2",
   "metadata": {},
   "outputs": [
    {
     "data": {
      "text/plain": [
       "201535"
      ]
     },
     "execution_count": 36,
     "metadata": {},
     "output_type": "execute_result"
    }
   ],
   "source": [
    "len(X_train)"
   ]
  },
  {
   "cell_type": "code",
   "execution_count": 54,
   "id": "54a75e79",
   "metadata": {},
   "outputs": [
    {
     "name": "stderr",
     "output_type": "stream",
     "text": [
      "/opt/conda/lib/python3.7/site-packages/ipykernel_launcher.py:2: DataConversionWarning: A column-vector y was passed when a 1d array was expected. Please change the shape of y to (n_samples,), for example using ravel().\n",
      "  \n"
     ]
    },
    {
     "name": "stdout",
     "output_type": "stream",
     "text": [
      "CPU times: user 58 s, sys: 1.75 s, total: 59.7 s\n",
      "Wall time: 59.7 s\n"
     ]
    },
    {
     "data": {
      "text/plain": [
       "RandomForestClassifier(max_depth=20, random_state=1)"
      ]
     },
     "execution_count": 54,
     "metadata": {},
     "output_type": "execute_result"
    }
   ],
   "source": [
    "%%time\n",
    "clf = RandomForestClassifier(max_depth = 20,random_state=1, n_estimators=100)\n",
    "clf.fit(X_train, y_train)"
   ]
  },
  {
   "cell_type": "code",
   "execution_count": 21,
   "id": "230c80b7",
   "metadata": {},
   "outputs": [
    {
     "data": {
      "text/plain": [
       "array([294., 294., 294., ..., 294., 294., 294.])"
      ]
     },
     "execution_count": 21,
     "metadata": {},
     "output_type": "execute_result"
    }
   ],
   "source": [
    "clf.predict(X_test)"
   ]
  },
  {
   "cell_type": "code",
   "execution_count": 22,
   "id": "84a4b551",
   "metadata": {},
   "outputs": [],
   "source": [
    "from sklearn.metrics import r2_score"
   ]
  },
  {
   "cell_type": "code",
   "execution_count": 55,
   "id": "04489c27",
   "metadata": {},
   "outputs": [
    {
     "data": {
      "text/plain": [
       "0.6030808485885308"
      ]
     },
     "execution_count": 55,
     "metadata": {},
     "output_type": "execute_result"
    }
   ],
   "source": [
    "r2_score(y_test, clf.predict(X_test))"
   ]
  },
  {
   "cell_type": "code",
   "execution_count": null,
   "id": "baf965dd",
   "metadata": {},
   "outputs": [],
   "source": [
    "print(\"hi\")\n"
   ]
  },
  {
   "cell_type": "code",
   "execution_count": 41,
   "id": "68dfdafa",
   "metadata": {},
   "outputs": [],
   "source": [
    "from math import log"
   ]
  },
  {
   "cell_type": "code",
   "execution_count": 57,
   "id": "f710184d",
   "metadata": {},
   "outputs": [
    {
     "data": {
      "text/plain": [
       "1156"
      ]
     },
     "execution_count": 57,
     "metadata": {},
     "output_type": "execute_result"
    }
   ],
   "source": [
    "len(X_train.columns)"
   ]
  },
  {
   "cell_type": "code",
   "execution_count": 52,
   "id": "70a607fd",
   "metadata": {},
   "outputs": [
    {
     "data": {
      "text/plain": [
       "26.725306848120603"
      ]
     },
     "execution_count": 52,
     "metadata": {},
     "output_type": "execute_result"
    }
   ],
   "source": [
    "log(201535)* 201535 /log(10000)/10000"
   ]
  },
  {
   "cell_type": "code",
   "execution_count": 61,
   "id": "1e49c607",
   "metadata": {},
   "outputs": [
    {
     "name": "stdout",
     "output_type": "stream",
     "text": [
      "CPU times: user 869 ms, sys: 783 ms, total: 1.65 s\n",
      "Wall time: 9min 55s\n"
     ]
    },
    {
     "data": {
      "text/plain": [
       "AutoSklearnRegressor(memory_limit=6072, per_run_time_limit=200,\n",
       "                     time_left_for_this_task=600)"
      ]
     },
     "execution_count": 61,
     "metadata": {},
     "output_type": "execute_result"
    }
   ],
   "source": [
    "%%time\n",
    "# model performance with autoML \n",
    "X_train = join_train[gender_train_data.dedup_dimensions + seller_features + buyer_features]\n",
    "y_train = join_train[target]\n",
    "X_test = join_test[gender_train_data.dedup_dimensions + seller_features + buyer_features]\n",
    "y_test = join_test[target]\n",
    "\n",
    "automl = autosklearn.regression.AutoSklearnRegressor(\n",
    "    time_left_for_this_task=600,\n",
    "    per_run_time_limit=200,\n",
    "    memory_limit=6072\n",
    ")\n",
    "automl.fit(X_train, y_train, X_test, y_test, dataset_name='gender')"
   ]
  },
  {
   "cell_type": "code",
   "execution_count": 62,
   "id": "15d4199f",
   "metadata": {},
   "outputs": [
    {
     "name": "stdout",
     "output_type": "stream",
     "text": [
      "Current Time = 03:27:21\n"
     ]
    }
   ],
   "source": [
    "now = datetime.now()\n",
    "now_aug = now\n",
    "current_time = now_aug.strftime(\"%H:%M:%S\")\n",
    "print(\"Current Time =\", current_time)"
   ]
  },
  {
   "cell_type": "code",
   "execution_count": 63,
   "id": "99ba20f3",
   "metadata": {},
   "outputs": [
    {
     "name": "stdout",
     "output_type": "stream",
     "text": [
      "Train R2 score: 0.8435963958321469\n",
      "Test R2 score: 0.801552346515525\n",
      "          rank  ensemble_weight               type     cost    duration\n",
      "model_id                                                               \n",
      "4            1              1.0  gradient_boosting  0.18139  166.533375\n",
      "                   Timestamp  ensemble_optimization_score  \\\n",
      "0 2022-03-13 03:18:33.486294                    -0.000003   \n",
      "3 2022-03-13 03:24:41.000000                    -0.000003   \n",
      "4 2022-03-13 03:24:41.000000                    -0.000003   \n",
      "1 2022-03-13 03:24:41.668849                     0.818610   \n",
      "2 2022-03-13 03:24:41.668849                     0.818610   \n",
      "\n",
      "   ensemble_test_score  single_best_optimization_score  \\\n",
      "0            -0.000112                             NaN   \n",
      "3            -0.000112                         0.81861   \n",
      "4            -0.000112                         0.81861   \n",
      "1             0.801552                         0.81861   \n",
      "2             0.801552                         0.81861   \n",
      "\n",
      "   single_best_train_score  single_best_test_score  \n",
      "0                      NaN                     NaN  \n",
      "3                 0.856032                0.801552  \n",
      "4                 0.856032                0.801552  \n",
      "1                 0.856032                0.801552  \n",
      "2                 0.856032                0.801552  \n"
     ]
    },
    {
     "data": {
      "text/plain": [
       "<AxesSubplot:title={'center':'Auto-sklearn accuracy over time'}, xlabel='Timestamp'>"
      ]
     },
     "execution_count": 63,
     "metadata": {},
     "output_type": "execute_result"
    },
    {
     "data": {
      "image/png": "[encoded data removed]",
      "text/plain": [
       "<Figure size 432x288 with 1 Axes>"
      ]
     },
     "metadata": {
      "needs_background": "light"
     },
     "output_type": "display_data"
    }
   ],
   "source": [
    "train_predictions = automl.predict(X_train)\n",
    "print(\"Train R2 score:\", sklearn.metrics.r2_score(y_train, train_predictions))\n",
    "test_predictions = automl.predict(X_test)\n",
    "print(\"Test R2 score:\", sklearn.metrics.r2_score(y_test, test_predictions))\n",
    "print(automl.leaderboard())\n",
    "poT = automl.performance_over_time_\n",
    "print(poT)\n",
    "poT.plot(\n",
    "    x='Timestamp',\n",
    "    kind='line',\n",
    "    legend=True,\n",
    "    title='Auto-sklearn accuracy over time',\n",
    "    grid=True,\n",
    ")"
   ]
  },
  {
   "cell_type": "code",
   "execution_count": 64,
   "id": "db2b1374",
   "metadata": {},
   "outputs": [],
   "source": [
    "poT2 = poT "
   ]
  },
  {
   "cell_type": "code",
   "execution_count": null,
   "id": "c5242cef",
   "metadata": {},
   "outputs": [],
   "source": []
  },
  {
   "cell_type": "code",
   "execution_count": 242,
   "id": "cde69418",
   "metadata": {},
   "outputs": [
    {
     "name": "stdout",
     "output_type": "stream",
     "text": [
      "Train R2 score: 0.8417184044415904\n",
      "Test R2 score: 0.7970338954417067\n",
      "          rank  ensemble_weight               type      cost   duration\n",
      "model_id                                                               \n",
      "4            1              1.0  gradient_boosting  0.181931  175.89374\n",
      "                   Timestamp  ensemble_optimization_score  \\\n",
      "0 2022-03-11 00:09:47.064354                    -0.000038   \n",
      "2 2022-03-11 00:17:43.000000                    -0.000038   \n",
      "1 2022-03-11 00:17:43.318110                     0.818069   \n",
      "\n",
      "   ensemble_test_score  single_best_optimization_score  \\\n",
      "0            -0.000036                             NaN   \n",
      "2            -0.000036                        0.818069   \n",
      "1             0.797034                        0.818069   \n",
      "\n",
      "   single_best_train_score  single_best_test_score  \n",
      "0                      NaN                     NaN  \n",
      "2                 0.853446                0.797034  \n",
      "1                 0.853446                0.797034  \n"
     ]
    },
    {
     "data": {
      "text/plain": [
       "<AxesSubplot:title={'center':'Auto-sklearn accuracy over time'}, xlabel='Timestamp'>"
      ]
     },
     "execution_count": 242,
     "metadata": {},
     "output_type": "execute_result"
    },
    {
     "data": {
      "image/png": "[encoded data removed]",
      "text/plain": [
       "<Figure size 432x288 with 1 Axes>"
      ]
     },
     "metadata": {
      "needs_background": "light"
     },
     "output_type": "display_data"
    }
   ],
   "source": [
    "train_predictions = automl.predict(X_train)\n",
    "print(\"Train R2 score:\", sklearn.metrics.r2_score(y_train, train_predictions))\n",
    "test_predictions = automl.predict(X_test)\n",
    "print(\"Test R2 score:\", sklearn.metrics.r2_score(y_test, test_predictions))\n",
    "print(automl.leaderboard())\n",
    "poT = automl.performance_over_time_\n",
    "print(poT)\n",
    "poT.plot(\n",
    "    x='Timestamp',\n",
    "    kind='line',\n",
    "    legend=True,\n",
    "    title='Auto-sklearn accuracy over time',\n",
    "    grid=True,\n",
    ")"
   ]
  },
  {
   "cell_type": "code",
   "execution_count": null,
   "id": "c6364225",
   "metadata": {},
   "outputs": [],
   "source": []
  },
  {
   "cell_type": "code",
   "execution_count": null,
   "id": "6fbcc221",
   "metadata": {},
   "outputs": [],
   "source": []
  },
  {
   "cell_type": "code",
   "execution_count": null,
   "id": "d15a00f9",
   "metadata": {},
   "outputs": [],
   "source": []
  },
  {
   "cell_type": "code",
   "execution_count": 115,
   "id": "b9d9b249",
   "metadata": {},
   "outputs": [],
   "source": [
    "poT2 = automl.performance_over_time_"
   ]
  },
  {
   "cell_type": "code",
   "execution_count": 119,
   "id": "d77db155",
   "metadata": {},
   "outputs": [
    {
     "data": {
      "text/plain": [
       "0          0 days 00:00:00\n",
       "5   0 days 00:02:30.958160\n",
       "6   0 days 00:02:30.958160\n",
       "1   0 days 00:02:31.712754\n",
       "2   0 days 00:02:45.958601\n",
       "7   0 days 00:05:02.958160\n",
       "8   0 days 00:05:02.958160\n",
       "3   0 days 00:05:03.972905\n",
       "4   0 days 00:05:03.972905\n",
       "Name: Timestamp, dtype: timedelta64[ns]"
      ]
     },
     "execution_count": 119,
     "metadata": {},
     "output_type": "execute_result"
    }
   ],
   "source": [
    "poT2[\"Timestamp\"] - min(poT2[\"Timestamp\"])"
   ]
  },
  {
   "cell_type": "code",
   "execution_count": 120,
   "id": "31c63fcb",
   "metadata": {},
   "outputs": [
    {
     "data": {
      "text/plain": [
       "'auto-sklearn results:\\n  Dataset name: gender\\n  Metric: r2\\n  Best validation score: 0.692699\\n  Number of target algorithm runs: 9\\n  Number of successful target algorithm runs: 4\\n  Number of crashed target algorithm runs: 0\\n  Number of target algorithms that exceeded the time limit: 2\\n  Number of target algorithms that exceeded the memory limit: 3\\n'"
      ]
     },
     "execution_count": 120,
     "metadata": {},
     "output_type": "execute_result"
    }
   ],
   "source": [
    "automl.sprint_statistics()"
   ]
  },
  {
   "cell_type": "code",
   "execution_count": 17,
   "id": "dc537eb1",
   "metadata": {},
   "outputs": [],
   "source": []
  },
  {
   "cell_type": "code",
   "execution_count": null,
   "id": "f7afc2f9",
   "metadata": {},
   "outputs": [],
   "source": []
  }
 ],
 "metadata": {
  "environment": {
   "name": "common-cpu.m79",
   "type": "gcloud",
   "uri": "gcr.io/deeplearning-platform-release/base-cpu:m79"
  },
  "kernelspec": {
   "display_name": "Python [conda env:root] *",
   "language": "python",
   "name": "conda-root-py"
  },
  "language_info": {
   "codemirror_mode": {
    "name": "ipython",
    "version": 3
   },
   "file_extension": ".py",
   "mimetype": "text/x-python",
   "name": "python",
   "nbconvert_exporter": "python",
   "pygments_lexer": "ipython3",
   "version": "3.7.10"
  }
 },
 "nbformat": 4,
 "nbformat_minor": 5
}

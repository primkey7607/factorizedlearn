{
 "cells": [
  {
   "cell_type": "code",
   "execution_count": 1,
   "id": "99261065",
   "metadata": {},
   "outputs": [],
   "source": [
    "from datamarket import *"
   ]
  },
  {
   "cell_type": "code",
   "execution_count": 2,
   "id": "dc97ca93",
   "metadata": {},
   "outputs": [
    {
     "name": "stderr",
     "output_type": "stream",
     "text": [
      "/home/jupyter/arda/arda-datasets/school/datamarket.py:143: SettingWithCopyWarning: \n",
      "A value is trying to be set on a copy of a slice from a DataFrame.\n",
      "Try using .loc[row_indexer,col_indexer] = value instead\n",
      "\n",
      "See the caveats in the documentation: https://pandas.pydata.org/pandas-docs/stable/user_guide/indexing.html#returning-a-view-versus-a-copy\n",
      "  self.data[att] = pd.to_numeric(self.data[att],errors=\"coerce\")\n"
     ]
    }
   ],
   "source": [
    "# read seller dataset and split into train/test\n",
    "gender = pd.read_csv(\"gender.csv\")\n",
    "gender_train = agg_dataset()\n",
    "gender_train.load_buyer(gender, [\"Number Tested\"], \"Mean Scale Score\", [\"DBN\", [\"DBN\",\"Grade\"], \"School Name\", \"Year\", \"Category\"], \"gender\")\n",
    "gender_train.compute_agg()"
   ]
  },
  {
   "cell_type": "code",
   "execution_count": 3,
   "id": "ad56bde8",
   "metadata": {},
   "outputs": [
    {
     "name": "stderr",
     "output_type": "stream",
     "text": [
      "/home/jupyter/arda/arda-datasets/school/datamarket.py:160: SettingWithCopyWarning: \n",
      "A value is trying to be set on a copy of a slice from a DataFrame.\n",
      "Try using .loc[row_indexer,col_indexer] = value instead\n",
      "\n",
      "See the caveats in the documentation: https://pandas.pydata.org/pandas-docs/stable/user_guide/indexing.html#returning-a-view-versus-a-copy\n",
      "  self.data['cov:c'] = 1\n",
      "/home/jupyter/arda/arda-datasets/school/datamarket.py:164: SettingWithCopyWarning: \n",
      "A value is trying to be set on a copy of a slice from a DataFrame.\n",
      "Try using .loc[row_indexer,col_indexer] = value instead\n",
      "\n",
      "See the caveats in the documentation: https://pandas.pydata.org/pandas-docs/stable/user_guide/indexing.html#returning-a-view-versus-a-copy\n",
      "  self.data['cov:Q:' + tablename + \":\" + attributes[i] + \",\"+ tablename + \":\" + attributes[j]] = self.data[attributes[i]] * self.data[attributes[j]]\n",
      "/home/jupyter/arda/arda-datasets/school/datamarket.py:160: SettingWithCopyWarning: \n",
      "A value is trying to be set on a copy of a slice from a DataFrame.\n",
      "Try using .loc[row_indexer,col_indexer] = value instead\n",
      "\n",
      "See the caveats in the documentation: https://pandas.pydata.org/pandas-docs/stable/user_guide/indexing.html#returning-a-view-versus-a-copy\n",
      "  self.data['cov:c'] = 1\n",
      "/home/jupyter/arda/arda-datasets/school/datamarket.py:164: SettingWithCopyWarning: \n",
      "A value is trying to be set on a copy of a slice from a DataFrame.\n",
      "Try using .loc[row_indexer,col_indexer] = value instead\n",
      "\n",
      "See the caveats in the documentation: https://pandas.pydata.org/pandas-docs/stable/user_guide/indexing.html#returning-a-view-versus-a-copy\n",
      "  self.data['cov:Q:' + tablename + \":\" + attributes[i] + \",\"+ tablename + \":\" + attributes[j]] = self.data[attributes[i]] * self.data[attributes[j]]\n"
     ]
    }
   ],
   "source": [
    "# if want transform, need to standardize the transformed\n",
    "crime = pd.read_csv(\"crime.csv\")\n",
    "crimedata = agg_dataset()\n",
    "crimedata.load_seller(crime, [\"DBN\"], \"crime\", feature_transform = False, standardize = True)\n",
    "crimedata.compute_agg(True)\n",
    "\n",
    "ap = pd.read_csv(\"ap.csv\")\n",
    "apdata = agg_dataset()\n",
    "apdata.load_seller(ap, [\"DBN\"], \"ap\", feature_transform = False, standardize = True)\n",
    "apdata.compute_agg(True)\n",
    "\n",
    "survey = pd.read_csv(\"2013_NYC_School_Survey.csv\")\n",
    "surveydata = agg_dataset()\n",
    "surveydata.load_seller(survey, [\"DBN\"], \"survey\", feature_transform = False, standardize = True)\n",
    "surveydata.compute_agg(True)\n",
    "\n",
    "base = pd.read_csv(\"base.csv\")\n",
    "basedata = agg_dataset()\n",
    "basedata.load_seller(base, [\"DBN\"], \"base\", feature_transform = False, standardize = True)\n",
    "basedata.compute_agg(True)\n",
    "\n",
    "disc = pd.read_csv(\"disc.csv\")\n",
    "discdata = agg_dataset()\n",
    "discdata.load_seller(disc, [\"DBN\"], \"disc\", feature_transform = False, standardize = True)\n",
    "discdata.compute_agg(True)\n",
    "\n",
    "oss = pd.read_csv(\"oss.csv\")\n",
    "ossdata = agg_dataset()\n",
    "ossdata.load_seller(oss, [\"DBN\"], \"oss\", feature_transform = False, standardize = True)\n",
    "ossdata.compute_agg(True)\n",
    "\n",
    "pe = pd.read_csv(\"pe.csv\")\n",
    "pedata = agg_dataset()\n",
    "pedata.load_seller(pe, [\"DBN\"], \"pe\", feature_transform = False, standardize = True)\n",
    "pedata.compute_agg(True)\n",
    "\n",
    "s2tr = pd.read_csv(\"s2tr.csv\")\n",
    "s2trdata = agg_dataset()\n",
    "s2trdata.load_seller(s2tr, [\"DBN\"], \"s2tr\", feature_transform = False, standardize = True)\n",
    "s2trdata.compute_agg(True)\n",
    "\n",
    "sat = pd.read_csv(\"sat.csv\")\n",
    "satdata = agg_dataset()\n",
    "satdata.load_seller(sat, [\"DBN\"], \"sat\", feature_transform = False, standardize = True)\n",
    "satdata.compute_agg(True)\n",
    "\n",
    "pro = pd.read_csv(\"Schools_Progress_Report_2012-2013.csv\")\n",
    "prodata = agg_dataset()\n",
    "prodata.load_seller(pro, [\"DBN\"], \"pro\", feature_transform = False, standardize = True)\n",
    "prodata.compute_agg(True)"
   ]
  },
  {
   "cell_type": "code",
   "execution_count": 4,
   "id": "62f2b874",
   "metadata": {},
   "outputs": [],
   "source": [
    "def connect_outer(aggdata1, aggdata2, dimension, left_inp = False, right_attrs = []):\n",
    "    \n",
    "    if isinstance(dimension, list):\n",
    "        dimension = tuple(dimension)\n",
    "    \n",
    "    if left_inp:\n",
    "        agg1 = aggdata1.data\n",
    "    else:\n",
    "        agg1 = aggdata1.agg_dimensions[dimension]\n",
    "        \n",
    "    agg2 = aggdata2.agg_dimensions[dimension]\n",
    "    \n",
    "    left_attributes = aggdata1.X\n",
    "    left_tablename = aggdata1.name\n",
    "    right_attributes = aggdata2.X\n",
    "    right_tablename = aggdata2.name\n",
    "    \n",
    "    # if you only want to augment part of attributes (that are predictive)\n",
    "    if len(right_attrs) > 0:\n",
    "        kept_cols = []\n",
    "        for col in agg2.columns:\n",
    "            names = col[6:].split(\",\")\n",
    "            match = True\n",
    "            for name in names:\n",
    "                if name not in right_attrs:\n",
    "                    match = False\n",
    "            if match:\n",
    "                kept_cols.append(col)\n",
    "        agg2 = agg2[kept_cols + ['cov:c']]\n",
    "        right_attributes = right_attrs\n",
    "    \n",
    "    # wheter join on index\n",
    "    if left_inp:\n",
    "        join = pd.merge(agg1, agg2, how='outer', left_on=dimension, right_index=True)\n",
    "    else:\n",
    "        join = pd.merge(agg1, agg2, how='outer', left_index=True, right_index=True)\n",
    "#         join = pd.merge(agg1, agg2, how='inner', left_index=True, right_index=True)\n",
    "    join = join.drop('cov:c_y', 1)\n",
    "    join = join.rename(columns = {'cov:c_x':'cov:c'})\n",
    "    join['cov:c'] = 1\n",
    "    \n",
    "    left_cov = aggdata1.covariance\n",
    "    right_cov = aggdata2.covariance\n",
    "\n",
    "    \n",
    "    # fill in nan\n",
    "    for att2 in right_attributes:\n",
    "        join['cov:s:' + att2].fillna(value=right_cov['cov:s:' + att2], inplace=True)\n",
    "        join['cov:s:' + att2] *= join['cov:c']\n",
    "    \n",
    "    for i in range(len(right_attributes)):\n",
    "        for j in range(i, len(right_attributes)):\n",
    "            if 'cov:Q:' + right_attributes[i] + \",\" + right_attributes[j] in join:\n",
    "                join['cov:Q:' + right_attributes[i] + \",\" + right_attributes[j]].fillna(value=right_cov['cov:Q:' + right_attributes[i] + \",\" + right_attributes[j]], inplace=True)\n",
    "                join['cov:Q:' + right_attributes[i] + \",\" + right_attributes[j]] *= join['cov:c']\n",
    "            else:\n",
    "                join['cov:Q:' + right_attributes[j] + \",\" + right_attributes[i]].fillna(value=right_cov['cov:Q:' + right_attributes[j] + \",\" + right_attributes[i]], inplace=True)\n",
    "                join['cov:Q:' + right_attributes[j] + \",\" + right_attributes[i]] *= join['cov:c']\n",
    "            \n",
    "    for att2 in left_attributes:\n",
    "        join['cov:s:' + att2].fillna(value=left_cov['cov:s:' + att2], inplace=True)\n",
    "        join['cov:s:' + att2] *= join['cov:c']\n",
    "    \n",
    "    for i in range(len(left_attributes)):\n",
    "        for j in range(i, len(left_attributes)):\n",
    "            if 'cov:Q:' + left_attributes[i] + \",\" + left_attributes[j] in join:\n",
    "                join['cov:Q:' + left_attributes[i] + \",\" + left_attributes[j]].fillna(value=left_cov['cov:Q:' + left_attributes[i] + \",\" + left_attributes[j]], inplace=True)\n",
    "                join['cov:Q:' + left_attributes[i] + \",\" + left_attributes[j]] *= join['cov:c']\n",
    "            else:\n",
    "                join['cov:Q:' + left_attributes[j] + \",\" + left_attributes[i]].fillna(value=left_cov['cov:Q:' + left_attributes[j] + \",\" + left_attributes[i]], inplace=True)\n",
    "                join['cov:Q:' + left_attributes[j] + \",\" + left_attributes[i]] *= join['cov:c']\n",
    "    \n",
    "    for att1 in left_attributes:\n",
    "        for att2 in right_attributes:\n",
    "            if 'cov:Q:' + att1 + \",\" + att2 in join:\n",
    "                join['cov:Q:' + att1 + \",\" + att2] = join['cov:s:' + att1] * join['cov:s:' + att2]/join['cov:c']\n",
    "            else:\n",
    "                join['cov:Q:' + att2 + \",\" + att1] = join['cov:s:' + att2] * join['cov:s:' + att1]/join['cov:c']\n",
    "    \n",
    "    \n",
    "    return join"
   ]
  },
  {
   "cell_type": "code",
   "execution_count": 86,
   "id": "f6c2cea8",
   "metadata": {},
   "outputs": [],
   "source": [
    "cur_atts, final_r2 = select_features(gender_train, gender_train, dim_idx, \"DBN\",1)"
   ]
  },
  {
   "cell_type": "code",
   "execution_count": 87,
   "id": "394b0288",
   "metadata": {},
   "outputs": [
    {
     "data": {
      "text/plain": [
       "['f0']"
      ]
     },
     "execution_count": 87,
     "metadata": {},
     "output_type": "execute_result"
    }
   ],
   "source": [
    "cur_atts"
   ]
  },
  {
   "cell_type": "code",
   "execution_count": 88,
   "id": "55b551a0",
   "metadata": {},
   "outputs": [
    {
     "data": {
      "text/plain": [
       "0.1520549692436607"
      ]
     },
     "execution_count": 88,
     "metadata": {},
     "output_type": "execute_result"
    }
   ],
   "source": [
    "final_r2"
   ]
  },
  {
   "cell_type": "code",
   "execution_count": 91,
   "id": "39216bbf",
   "metadata": {},
   "outputs": [],
   "source": [
    "class index:\n",
    "    def __init__(self, dim):\n",
    "        self.dim = dim\n",
    "        self.X = []\n",
    "        self.name = \"index\"\n",
    "        self.agg_dimensions = dict()\n",
    "        self.datasets = []\n",
    "        self.feature_sizes = []\n",
    "        \n",
    "    def absorb(self, agg_data):\n",
    "        if agg_data.name in self.datasets:\n",
    "            print(\"already absorbed this data\")\n",
    "            return\n",
    "        \n",
    "        if self.dim not in self.agg_dimensions:\n",
    "            self.data = agg_data.data\n",
    "            self.agg_dimensions[self.dim] = agg_data.agg_dimensions[self.dim]\n",
    "        else:\n",
    "            self.data = connect_outer(self, agg_data, self.dim, True)\n",
    "            self.agg_dimensions[self.dim] = self.data[list(filter(lambda col: col.startswith(\"cov:\"), self.data.columns)) + [self.dim]].groupby(self.dim).sum()\n",
    "        \n",
    "        self.covariance = normalize(self.agg_dimensions[self.dim][list(filter(lambda col: col.startswith(\"cov:\"), self.data.columns))].sum())\n",
    "        \n",
    "        self.X = self.X + agg_data.X\n",
    "        self.datasets.append(agg_data.name)\n",
    "        self.feature_sizes.append(len(agg_data.X))\n",
    "    \n",
    "    def get_covariance_matrix(self):\n",
    "        # don't need to miuse the mean because all zero during standardization\n",
    "        \n",
    "        a = np.empty([len(self.X), len(self.X)])\n",
    "    \n",
    "        for i in range(len(self.X)):\n",
    "            for j in range(len(self.X)):\n",
    "                if 'cov:Q:' + self.X[i] + \",\"+ self.X[j] in self.covariance:\n",
    "                    a[i][j] = self.covariance['cov:Q:' + self.X[i] + \",\"+ self.X[j]]\n",
    "                else:\n",
    "                    a[i][j] = self.covariance['cov:Q:' + self.X[j] + \",\"+ self.X[i]]\n",
    "        return a"
   ]
  },
  {
   "cell_type": "code",
   "execution_count": 15,
   "id": "db558292",
   "metadata": {},
   "outputs": [
    {
     "data": {
      "text/plain": [
       "cov:s:ap:AP Test Takers                            2.478637e-16\n",
       "cov:s:ap:Total Exams Taken                         2.616340e-16\n",
       "cov:c                                              1.000000e+00\n",
       "cov:Q:ap:AP Test Takers ,ap:AP Test Takers         9.961240e-01\n",
       "cov:Q:ap:AP Test Takers ,ap:Total Exams Taken      9.883566e-01\n",
       "cov:Q:ap:Total Exams Taken,ap:Total Exams Taken    9.961240e-01\n",
       "dtype: float64"
      ]
     },
     "execution_count": 15,
     "metadata": {},
     "output_type": "execute_result"
    }
   ],
   "source": [
    "apdata.covariance"
   ]
  },
  {
   "cell_type": "code",
   "execution_count": 216,
   "id": "944b4a5b",
   "metadata": {},
   "outputs": [],
   "source": [
    "dim_idx = index(\"DBN\") \n",
    "dim_idx.absorb(crimedata)"
   ]
  },
  {
   "cell_type": "code",
   "execution_count": 74,
   "id": "8c4381f3",
   "metadata": {},
   "outputs": [
    {
     "name": "stdout",
     "output_type": "stream",
     "text": [
      "already absorbed this data\n"
     ]
    }
   ],
   "source": [
    "dim_idx.absorb(apdata)\n",
    "# dim_idx.absorb(surveydata)\n",
    "# dim_idx.absorb(basedata)\n",
    "# dim_idx.absorb(discdata)\n",
    "# dim_idx.absorb(ossdata)\n",
    "# dim_idx.absorb(pedata)\n",
    "# dim_idx.absorb(s2trdata)\n",
    "# dim_idx.absorb(satdata)\n",
    "# dim_idx.absorb(prodata)"
   ]
  },
  {
   "cell_type": "code",
   "execution_count": 92,
   "id": "a9cc7768",
   "metadata": {},
   "outputs": [
    {
     "name": "stderr",
     "output_type": "stream",
     "text": [
      "/opt/conda/lib/python3.7/site-packages/ipykernel_launcher.py:38: FutureWarning: In a future version of pandas all arguments of DataFrame.drop except for the argument 'labels' will be keyword-only\n"
     ]
    }
   ],
   "source": [
    "# care about left/right ojoin\n",
    "dim_idx = index(\"DBN\")\n",
    "dim_idx.absorb(apdata)\n",
    "dim_idx.absorb(surveydata)\n",
    "dim_idx.absorb(prodata)\n",
    "\n"
   ]
  },
  {
   "cell_type": "code",
   "execution_count": 93,
   "id": "90ec4222",
   "metadata": {},
   "outputs": [
    {
     "data": {
      "text/plain": [
       "['ap:AP Test Takers ',\n",
       " 'ap:Total Exams Taken',\n",
       " 'survey:Total Parent Response Rate (%)',\n",
       " 'survey:Total Teacher Response Rate (%)',\n",
       " 'survey:Total Academic Expectations Score',\n",
       " 'survey:Total Communication Score',\n",
       " 'survey:Total Engagement Score',\n",
       " 'survey:Total Safety and Respect Score',\n",
       " 'pro:DISTRICT',\n",
       " 'pro:2012-2013 OVERALL SCORE',\n",
       " 'pro:2012-13 OVERALL PERCENTILE',\n",
       " 'pro:2012-2013 PROGRESS CATEGORY SCORE',\n",
       " 'pro:2012-2013 PERFORMANCE CATEGORY SCORE',\n",
       " 'pro:2012-2013 ENVIRONMENT CATEGORY SCORE',\n",
       " 'pro:2012-2013 ADDITIONAL CREDIT']"
      ]
     },
     "execution_count": 93,
     "metadata": {},
     "output_type": "execute_result"
    }
   ],
   "source": [
    "dim_idx.X"
   ]
  },
  {
   "cell_type": "code",
   "execution_count": 71,
   "id": "2732f24a",
   "metadata": {},
   "outputs": [
    {
     "data": {
      "text/plain": [
       "cov:s:ap:AP Test Takers                                                                 0.000615\n",
       "cov:s:ap:Total Exams Taken                                                              0.000563\n",
       "cov:c                                                                                   1.000000\n",
       "cov:Q:ap:AP Test Takers ,ap:AP Test Takers                                              0.999211\n",
       "cov:Q:ap:AP Test Takers ,ap:Total Exams Taken                                           0.991437\n",
       "                                                                                          ...   \n",
       "cov:Q:pro:2012-13 OVERALL PERCENTILE,survey:Total Safety and Respect Score              0.335698\n",
       "cov:Q:pro:2012-2013 PROGRESS CATEGORY SCORE,survey:Total Safety and Respect Score       0.138684\n",
       "cov:Q:pro:2012-2013 PERFORMANCE CATEGORY SCORE,survey:Total Safety and Respect Score    0.287223\n",
       "cov:Q:pro:2012-2013 ENVIRONMENT CATEGORY SCORE,survey:Total Safety and Respect Score    0.398561\n",
       "cov:Q:pro:2012-2013 ADDITIONAL CREDIT,survey:Total Safety and Respect Score            -0.087707\n",
       "Length: 136, dtype: float64"
      ]
     },
     "execution_count": 71,
     "metadata": {},
     "output_type": "execute_result"
    }
   ],
   "source": [
    "# the original data will have sum be 0\n",
    "# the normalized one won't\n",
    "# shall we standardize original data? which sounds straightforard\n",
    "# or standardize the aggregated?\n",
    "\n",
    "dim_idx.covariance"
   ]
  },
  {
   "cell_type": "code",
   "execution_count": 72,
   "id": "133b1e91",
   "metadata": {},
   "outputs": [
    {
     "name": "stdout",
     "output_type": "stream",
     "text": [
      "Eigenvector: \n",
      " [[-1.20035580e-02 -4.08954871e-02  7.00879009e-01  7.67467917e-02\n",
      "  -6.59523744e-03  1.51515428e-02  2.06141496e-02 -1.51853925e-02\n",
      "  -4.31773143e-03 -4.15242824e-03  7.06763604e-01  2.27950685e-02\n",
      "  -3.45936036e-03  6.97488139e-03 -1.58275076e-03]\n",
      " [-1.20912860e-02 -4.08920358e-02  7.00879701e-01  7.62677029e-02\n",
      "  -8.51116210e-03  1.51958636e-02  2.17233154e-02 -1.83083148e-02\n",
      "  -2.11723587e-03 -5.17868533e-03 -7.06239797e-01 -3.06830692e-02\n",
      "   1.00787141e-03 -1.54100712e-02 -6.01529878e-03]\n",
      " [-1.74070316e-01  2.17202746e-01  2.91187850e-02 -4.41863756e-01\n",
      "  -3.83994739e-01  1.18261603e-01  4.82795141e-01 -3.83737692e-01\n",
      "   4.23305177e-01 -4.77781989e-02  1.50247532e-03  4.01794474e-02\n",
      "   2.46523988e-02 -1.61694044e-02 -2.62985678e-02]\n",
      " [-1.52387582e-01  1.22155733e-01 -7.51213513e-03  3.91098945e-02\n",
      "  -4.93368335e-01  7.33748244e-01 -3.12031387e-01  1.87187995e-01\n",
      "  -2.00462348e-01  7.01512624e-02 -1.40305151e-05 -1.84464469e-02\n",
      "  -3.91126335e-03  2.41182262e-02 -4.96421252e-03]\n",
      " [-3.85409313e-01  2.46419968e-01  2.60655544e-03  1.01866614e-01\n",
      "   3.33986860e-02 -1.02609367e-01 -3.18475082e-03  6.48360788e-02\n",
      "  -4.07684721e-02 -1.73431115e-01  1.72416811e-03 -6.84311385e-03\n",
      "   9.90860546e-02 -2.43000075e-01  8.14762506e-01]\n",
      " [-3.66359189e-01  2.65345262e-01 -1.17476650e-02  1.54627025e-01\n",
      "   8.16998527e-02 -5.36789321e-02 -1.17747343e-02  1.09335370e-01\n",
      "  -2.69691896e-02 -5.09772139e-01  7.08375484e-03  3.38423129e-02\n",
      "  -1.09918759e-01 -4.50558402e-01 -5.22303256e-01]\n",
      " [-3.67363556e-01  2.90882546e-01  9.85841675e-03  7.93781794e-02\n",
      "  -2.96915324e-03 -1.83909633e-01  4.06003874e-02  8.39944194e-02\n",
      "  -1.32350982e-01 -1.45486307e-01 -1.51095072e-02  5.08587794e-02\n",
      "  -4.07746549e-02  8.25047287e-01 -8.73767533e-02]\n",
      " [-3.55010868e-01  2.48871535e-01  1.91658788e-02 -5.33499704e-02\n",
      "   1.02448798e-02 -2.20122465e-01  6.30870519e-02  1.71022855e-02\n",
      "  -2.54774998e-01  7.62728456e-01  5.40454470e-03 -4.94947646e-02\n",
      "   1.51130791e-01 -2.11526097e-01 -1.98135377e-01]\n",
      " [-3.69067608e-02  8.92830344e-02  3.14964867e-02 -3.26571792e-01\n",
      "   6.75028809e-01  5.02955626e-01  3.34820698e-01  2.08613847e-01\n",
      "  -1.24274833e-01  7.30093603e-03 -2.65328375e-03  2.05662449e-02\n",
      "   2.12361035e-02  4.34305858e-02  2.25308522e-02]\n",
      " [-2.97596863e-01 -4.37345177e-01 -2.53170544e-02  8.01348492e-03\n",
      "  -1.85598326e-03  2.88196261e-02 -1.75300286e-02  5.12663804e-02\n",
      "   7.39291191e-02  5.84228510e-03 -2.74642410e-02  7.58556610e-01\n",
      "   3.63674277e-01  2.42802478e-03 -4.19956839e-02]\n",
      " [-3.13628400e-01 -3.69785288e-01 -5.96901967e-03 -1.67762440e-01\n",
      "  -3.96874902e-02 -5.24557885e-02  2.97009072e-02  1.19141821e-01\n",
      "  -1.07449381e-04  1.26092323e-01 -4.93548036e-03  6.16086339e-02\n",
      "  -8.29863493e-01 -3.17520911e-02  8.89477286e-02]\n",
      " [-2.25847489e-01 -4.21531757e-01 -3.14401927e-03 -1.82259328e-01\n",
      "  -1.61385950e-01 -1.10673094e-01  1.48104184e-01  5.00068332e-01\n",
      "   1.18892225e-01 -1.02967538e-01  2.05335376e-02 -5.32397761e-01\n",
      "   3.39434914e-01  2.70519088e-02 -5.67789911e-02]\n",
      " [-2.56251068e-01 -2.69048960e-01  7.82076058e-03 -3.28086826e-01\n",
      "   1.31755459e-01  2.08923602e-02 -3.26257966e-01 -6.11824918e-01\n",
      "  -3.84484608e-01 -1.79066407e-01  9.86219771e-03 -2.41803758e-01\n",
      "   1.27440309e-01  2.14279393e-02 -2.27207686e-02]\n",
      " [-3.04322819e-01 -5.83029717e-02 -4.34456222e-02  3.60392461e-01\n",
      "   3.06483072e-01  2.26069555e-01 -2.52309461e-01 -2.02403729e-01\n",
      "   6.47929836e-01  2.03036164e-01  8.06184106e-03 -2.28808714e-01\n",
      "   7.38152653e-03  8.53292121e-02 -4.19612736e-02]\n",
      " [-6.97590203e-02 -2.59647288e-01 -1.11334723e-01  5.85223739e-01\n",
      "  -8.08482800e-02  1.76469406e-01  5.97944601e-01 -2.60627451e-01\n",
      "  -3.05125144e-01 -2.74741152e-03  5.29861631e-03 -1.28293455e-01\n",
      "  -8.10938164e-03  4.17130737e-04  5.50320037e-03]] \n",
      "\n",
      "Eigenvalues: \n",
      " [5.0528377  2.76680185 1.99809661 1.32321407 1.08582382 0.89418009\n",
      " 0.6130645  0.5240747  0.34590027 0.1911842  0.00776841 0.01331475\n",
      " 0.10713191 0.04218924 0.06717412] \n",
      "\n"
     ]
    }
   ],
   "source": [
    "# The eigenvalues returned by linalg.eig are columns vectors, so you need to iterate over the transpose of e_vecs (since iteration over a 2D array returns row vectors by default)!!\n",
    "# https://stackoverflow.com/questions/18771486/incorrect-eigenvalues-vectors-with-numpy\n",
    "eigen_values, eigen_vectors = np.linalg.eig(dim_idx.get_covariance_matrix())\n",
    "print(\"Eigenvector: \\n\",eigen_vectors,\"\\n\")\n",
    "print(\"Eigenvalues: \\n\", eigen_values, \"\\n\")\n",
    "eigen_vectors = np.transpose(eigen_vectors)\n",
    "\n",
    "# how much to pick depends on how much variance want to explain\n",
    "variance_explained = []\n",
    "for i in eigen_values:\n",
    "     variance_explained.append((i/sum(eigen_values))*100)\n",
    "        \n",
    "# print(variance_explained)\n",
    "# find top n PC explains > 95 % of variance\n",
    "variance_explained.sort(reverse=True)\n",
    "csum = np.cumsum(variance_explained)\n",
    "topn = 0\n",
    "for i in range(len(csum)):\n",
    "    if csum[i] > 95:\n",
    "        topn = i + 1\n",
    "        break\n",
    "        \n",
    "idx = (-eigen_values).argsort()[:topn]\n",
    "eigen_vectors = eigen_vectors[idx]\n",
    "eigen_values = eigen_values[idx]"
   ]
  },
  {
   "cell_type": "code",
   "execution_count": 73,
   "id": "7db350fc",
   "metadata": {},
   "outputs": [
    {
     "name": "stderr",
     "output_type": "stream",
     "text": [
      "/opt/conda/lib/python3.7/site-packages/ipykernel_launcher.py:13: PerformanceWarning: DataFrame is highly fragmented.  This is usually the result of calling `frame.insert` many times, which has poor performance.  Consider joining all columns at once using pd.concat(axis=1) instead.  To get a de-fragmented frame, use `newframe = frame.copy()`\n",
      "  del sys.path[0]\n",
      "/opt/conda/lib/python3.7/site-packages/ipykernel_launcher.py:4: PerformanceWarning: DataFrame is highly fragmented.  This is usually the result of calling `frame.insert` many times, which has poor performance.  Consider joining all columns at once using pd.concat(axis=1) instead.  To get a de-fragmented frame, use `newframe = frame.copy()`\n",
      "  after removing the cwd from sys.path.\n",
      "/opt/conda/lib/python3.7/site-packages/ipykernel_launcher.py:27: PerformanceWarning: DataFrame is highly fragmented.  This is usually the result of calling `frame.insert` many times, which has poor performance.  Consider joining all columns at once using pd.concat(axis=1) instead.  To get a de-fragmented frame, use `newframe = frame.copy()`\n"
     ]
    }
   ],
   "source": [
    "kept_attrs = [\"cov:c\"]\n",
    "for i in range(len(eigen_vectors)):\n",
    "    eigen_vector = eigen_vectors[i]\n",
    "    dim_idx.agg_dimensions[\"DBN\"][\"cov:s:f\" + str(i)] = 0\n",
    "    kept_attrs.append(\"cov:s:f\" + str(i))\n",
    "    \n",
    "    for k in range(len(dim_idx.X)):\n",
    "        x2 = dim_idx.X[k]\n",
    "        dim_idx.agg_dimensions[\"DBN\"][\"cov:s:f\" + str(i)] += eigen_vector[k] * dim_idx.agg_dimensions[\"DBN\"]['cov:s:' + x2]\n",
    "    \n",
    "    for j in range(len(dim_idx.X)):\n",
    "        x1 = dim_idx.X[j]\n",
    "        dim_idx.agg_dimensions[\"DBN\"][\"pca:f\" + str(i) + \",\" + x1] = 0\n",
    "        \n",
    "        for k in range(len(dim_idx.X)):\n",
    "            x2 = dim_idx.X[k]\n",
    "            if 'cov:Q:' + x1 + \",\"+ x2 in dim_idx.agg_dimensions[\"DBN\"]:\n",
    "                dim_idx.agg_dimensions[\"DBN\"][\"pca:f\" + str(i) + \",\" + x1] += eigen_vector[k] * dim_idx.agg_dimensions[\"DBN\"]['cov:Q:' + x1 + \",\"+ x2] \n",
    "            else:\n",
    "                dim_idx.agg_dimensions[\"DBN\"][\"pca:f\" + str(i) + \",\" + x1] += eigen_vector[k] * dim_idx.agg_dimensions[\"DBN\"]['cov:Q:' + x2 + \",\"+ x1]\n",
    "                \n",
    "        \n",
    "for i in range(len(eigen_vectors)):\n",
    "    eigen_vector = eigen_vectors[i]\n",
    "    \n",
    "    for j in range(i, len(eigen_vectors)):\n",
    "        dim_idx.agg_dimensions[\"DBN\"][\"cov:Q:f\" + str(i) + \",f\" + str(j)] = 0\n",
    "        kept_attrs.append(\"cov:Q:f\" + str(i) + \",f\" + str(j))\n",
    "        for k in range(len(dim_idx.X)):\n",
    "            x = dim_idx.X[k]\n",
    "            dim_idx.agg_dimensions[\"DBN\"][\"cov:Q:f\" + str(i) + \",f\" + str(j)] += eigen_vector[k] * dim_idx.agg_dimensions[\"DBN\"][\"pca:f\" + str(j) + \",\" + x] "
   ]
  },
  {
   "cell_type": "code",
   "execution_count": 74,
   "id": "d27fbfe2",
   "metadata": {},
   "outputs": [],
   "source": [
    "dim_idx.X_back = dim_idx.X\n",
    "dim_idx.X = [\"f\" + str(i) for i in range(len(eigen_vectors))]"
   ]
  },
  {
   "cell_type": "code",
   "execution_count": 75,
   "id": "e9978ac0",
   "metadata": {},
   "outputs": [],
   "source": [
    "dim_idx.agg_dimensions[\"DBN\"] = dim_idx.agg_dimensions[\"DBN\"][kept_attrs]"
   ]
  },
  {
   "cell_type": "code",
   "execution_count": 76,
   "id": "91eb3be9",
   "metadata": {},
   "outputs": [],
   "source": [
    "dim_idx.covariance = normalize(dim_idx.agg_dimensions[dim_idx.dim][kept_attrs].sum())"
   ]
  },
  {
   "cell_type": "code",
   "execution_count": 77,
   "id": "b89472f1",
   "metadata": {},
   "outputs": [
    {
     "data": {
      "text/plain": [
       "cov:c          1.000000e+00\n",
       "cov:s:f0       3.269593e-03\n",
       "cov:s:f1       1.828737e-03\n",
       "cov:s:f2       1.866690e-03\n",
       "cov:s:f3      -7.075713e-03\n",
       "cov:s:f4      -5.436487e-03\n",
       "cov:s:f5      -4.449903e-03\n",
       "cov:s:f6       3.343064e-03\n",
       "cov:s:f7       9.132753e-03\n",
       "cov:s:f8      -5.548126e-03\n",
       "cov:Q:f0,f0    5.052838e+00\n",
       "cov:Q:f0,f1    1.485428e-15\n",
       "cov:Q:f0,f2   -2.008207e-15\n",
       "cov:Q:f0,f3   -7.665441e-16\n",
       "cov:Q:f0,f4    3.177385e-17\n",
       "cov:Q:f0,f5    1.056481e-15\n",
       "cov:Q:f0,f6    2.363180e-16\n",
       "cov:Q:f0,f7   -4.567491e-17\n",
       "cov:Q:f0,f8   -1.233223e-15\n",
       "cov:Q:f1,f1    2.766802e+00\n",
       "cov:Q:f1,f2    7.347703e-16\n",
       "cov:Q:f1,f3   -2.859647e-16\n",
       "cov:Q:f1,f4    8.479646e-16\n",
       "cov:Q:f1,f5   -1.000876e-15\n",
       "cov:Q:f1,f6    5.163251e-17\n",
       "cov:Q:f1,f7   -8.340636e-16\n",
       "cov:Q:f1,f8   -2.710707e-16\n",
       "cov:Q:f2,f2    1.998097e+00\n",
       "cov:Q:f2,f3    9.929328e-17\n",
       "cov:Q:f2,f4    9.929328e-17\n",
       "cov:Q:f2,f5   -1.012791e-16\n",
       "cov:Q:f2,f6    2.780212e-16\n",
       "cov:Q:f2,f7   -2.867094e-16\n",
       "cov:Q:f2,f8   -1.474505e-16\n",
       "cov:Q:f3,f3    1.323214e+00\n",
       "cov:Q:f3,f4   -7.943463e-16\n",
       "cov:Q:f3,f5    5.401555e-16\n",
       "cov:Q:f3,f6    3.058233e-16\n",
       "cov:Q:f3,f7   -3.653993e-16\n",
       "cov:Q:f3,f8    2.819929e-16\n",
       "cov:Q:f4,f4    1.085824e+00\n",
       "cov:Q:f4,f5    1.588693e-16\n",
       "cov:Q:f4,f6    6.593074e-16\n",
       "cov:Q:f4,f7   -1.588693e-16\n",
       "cov:Q:f4,f8   -5.461131e-16\n",
       "cov:Q:f5,f5    8.941801e-01\n",
       "cov:Q:f5,f6   -1.032650e-16\n",
       "cov:Q:f5,f7   -4.031307e-16\n",
       "cov:Q:f5,f8   -9.929328e-18\n",
       "cov:Q:f6,f6    6.130645e-01\n",
       "cov:Q:f6,f7   -1.322587e-15\n",
       "cov:Q:f6,f8    1.722738e-16\n",
       "cov:Q:f7,f7    5.240747e-01\n",
       "cov:Q:f7,f8    5.902986e-16\n",
       "cov:Q:f8,f8    3.459003e-01\n",
       "dtype: float64"
      ]
     },
     "execution_count": 77,
     "metadata": {},
     "output_type": "execute_result"
    }
   ],
   "source": [
    "dim_idx.covariance"
   ]
  },
  {
   "cell_type": "code",
   "execution_count": 199,
   "id": "fe4ea564",
   "metadata": {},
   "outputs": [
    {
     "name": "stdout",
     "output_type": "stream",
     "text": [
      "crime:ID -1.184855004915227e-16\n",
      "crime:Geographical District Code -6.525959206759648e-17\n",
      "crime:Register 1.484771428034394e-15\n",
      "crime:# Schools 1.3699885994332312e-16\n",
      "crime:Zip Codes 1.4810687561440336e-17\n",
      "ap:AP Test Takers  0.0031043779688705343\n",
      "ap:Total Exams Taken 0.0031168624917957462\n",
      "survey:Total Parent Response Rate (%) 0.028376441717918588\n",
      "survey:Total Teacher Response Rate (%) 0.012175660329668596\n",
      "survey:Total Academic Expectations Score 0.014959271039631938\n",
      "survey:Total Communication Score -0.005598800214319946\n",
      "survey:Total Engagement Score 0.01568739164276488\n",
      "survey:Total Safety and Respect Score 0.00797988222257123\n"
     ]
    }
   ],
   "source": [
    "for x in dim_idx.X:\n",
    "    print(x, dim_idx.covariance[\"cov:s:\" + x])"
   ]
  },
  {
   "cell_type": "code",
   "execution_count": 101,
   "id": "d92d92ab",
   "metadata": {},
   "outputs": [
    {
     "data": {
      "text/plain": [
       "array([[ 3.89006788e+00,  2.82759927e-16,  4.02455846e-16,\n",
       "         9.71445147e-17, -5.55111512e-17,  3.33066907e-16,\n",
       "        -9.71445147e-17,  4.02455846e-16, -1.66533454e-16,\n",
       "        -2.22044605e-16, -5.55111512e-17, -3.33066907e-16,\n",
       "        -1.02348685e-16],\n",
       "       [ 2.85362012e-16,  2.05225767e+00, -7.57044167e-16,\n",
       "        -1.40566812e-16, -1.50487262e-16, -5.20417043e-18,\n",
       "         9.75781955e-18,  6.33933010e-16,  5.94142791e-17,\n",
       "         2.41126563e-16, -2.50667542e-16,  2.27248775e-16,\n",
       "        -1.36304542e-16],\n",
       "       [ 3.45209972e-16, -6.92967819e-16,  1.36480071e+00,\n",
       "        -3.56323044e-16, -1.07552856e-16,  2.19876201e-16,\n",
       "         7.32486988e-16,  1.39515136e-15,  5.46221054e-16,\n",
       "        -3.20923843e-16,  1.56125113e-16, -1.04950770e-16,\n",
       "         6.42864126e-17],\n",
       "       [ 1.12757026e-16, -1.67942917e-16, -3.76868675e-16,\n",
       "         1.16391821e+00,  9.43255890e-17,  3.03576608e-17,\n",
       "         1.90602742e-16, -1.18199721e-15, -4.70760583e-16,\n",
       "         3.12250226e-17, -6.93889390e-18,  9.19403442e-17,\n",
       "        -4.16062584e-17],\n",
       "       [-4.16333634e-17, -2.33211887e-16, -1.76291273e-16,\n",
       "         2.42861287e-16,  9.38330716e-01,  1.65492620e-15,\n",
       "        -4.68375339e-16, -3.87710697e-16, -4.93528829e-16,\n",
       "        -1.52655666e-16, -9.88792381e-17,  1.45716772e-16,\n",
       "        -1.18178037e-17],\n",
       "       [ 4.16333634e-16, -8.67361738e-18,  1.20129601e-16,\n",
       "        -3.94649591e-17,  1.64278313e-15,  9.07734682e-01,\n",
       "         1.02782366e-15,  2.02962647e-16, -4.47558657e-16,\n",
       "        -8.32667268e-17, -6.93889390e-18,  9.02056208e-17,\n",
       "         8.80914265e-17],\n",
       "       [-1.82145965e-16, -3.33934269e-17,  7.19042881e-16,\n",
       "         1.19804340e-16, -4.53630189e-16,  9.73179870e-16,\n",
       "         8.15254443e-01,  9.46508497e-16, -5.22585447e-16,\n",
       "         2.15105711e-16, -2.68882139e-17, -1.28369537e-16,\n",
       "        -8.98803601e-17],\n",
       "       [ 3.98986399e-16,  6.65781449e-16,  1.37579835e-15,\n",
       "        -8.82432148e-16, -3.53883589e-16,  1.21430643e-16,\n",
       "         9.53230550e-16,  7.58561757e-01, -2.77555756e-17,\n",
       "         2.63677968e-16, -4.94396191e-17, -1.04083409e-17,\n",
       "         1.03947883e-17],\n",
       "       [-2.22044605e-16,  4.62954328e-17,  4.94721451e-16,\n",
       "        -3.51173084e-16, -4.91794105e-16, -3.53016227e-16,\n",
       "        -5.38414799e-16, -3.25260652e-18,  5.78475121e-01,\n",
       "         9.71445147e-17, -4.33680869e-17,  9.19403442e-17,\n",
       "        -8.87012902e-17],\n",
       "       [-1.52655666e-16,  2.45680212e-16, -2.88831459e-16,\n",
       "         4.94396191e-17, -1.57859836e-16, -6.93889390e-17,\n",
       "         2.44596010e-16,  2.62810607e-16,  5.37764278e-17,\n",
       "         2.00338658e-01,  9.36750677e-17,  1.66533454e-16,\n",
       "         2.78097857e-17],\n",
       "       [-2.34187669e-17, -2.53730413e-16,  1.32896081e-16,\n",
       "        -7.48099499e-18, -1.06685494e-16, -2.68882139e-17,\n",
       "        -2.25514052e-17, -5.45353693e-17, -3.33934269e-17,\n",
       "         1.90819582e-16,  6.50419968e-02, -5.74193471e-16,\n",
       "         4.77624938e-17],\n",
       "       [-4.28476699e-16,  2.29119024e-16, -8.73866951e-17,\n",
       "         8.73053799e-17,  1.41596804e-16,  8.60856525e-17,\n",
       "        -1.35091591e-16, -1.16551734e-17,  7.61109925e-17,\n",
       "         2.25514052e-16, -4.85505733e-16,  4.58408129e-02,\n",
       "         4.43201519e-17],\n",
       "       [-1.02326662e-16, -3.25003577e-16,  2.32346167e-17,\n",
       "        -3.28057978e-17, -1.47157152e-17,  8.58201077e-17,\n",
       "        -9.75014332e-17,  1.66075632e-17, -8.99347820e-17,\n",
       "         2.69339537e-17,  4.93943028e-17,  4.23313186e-17,\n",
       "         7.80305061e-03]])"
      ]
     },
     "execution_count": 101,
     "metadata": {},
     "output_type": "execute_result"
    }
   ],
   "source": [
    "np.matmul(np.matmul(eigen_vectors, dim_idx.get_covariance_matrix()), np.transpose(eigen_vectors))"
   ]
  },
  {
   "cell_type": "code",
   "execution_count": null,
   "id": "ebd511b4",
   "metadata": {},
   "outputs": [],
   "source": []
  },
  {
   "cell_type": "code",
   "execution_count": 68,
   "id": "99c94b2d",
   "metadata": {},
   "outputs": [
    {
     "data": {
      "text/plain": [
       "(13,)"
      ]
     },
     "execution_count": 68,
     "metadata": {},
     "output_type": "execute_result"
    }
   ],
   "source": [
    "np.matmul(np.matmul(eigen_vectors, dim_idx.get_covariance_matrix()), np.transpose(eigen_vectors))"
   ]
  },
  {
   "cell_type": "code",
   "execution_count": 142,
   "id": "3c6be551",
   "metadata": {},
   "outputs": [
    {
     "name": "stdout",
     "output_type": "stream",
     "text": [
      "Eigenvector: \n",
      " [[ 0.95709203  0.28978415]\n",
      " [-0.28978415  0.95709203]] \n",
      "\n",
      "Eigenvalues: \n",
      " [4.30277564 0.69722436] \n",
      "\n"
     ]
    },
    {
     "data": {
      "text/plain": [
       "array([[ 4.30277564e+00, -2.22044605e-16],\n",
       "       [ 2.22044605e-16,  6.97224362e-01]])"
      ]
     },
     "execution_count": 142,
     "metadata": {},
     "output_type": "execute_result"
    }
   ],
   "source": [
    "matrix = np.array([[4, -1], [-1, 1]])\n",
    "eigen_values, eigen_vectors = np.linalg.eig(matrix)\n",
    "print(\"Eigenvector: \\n\",eigen_vectors,\"\\n\")\n",
    "print(\"Eigenvalues: \\n\", eigen_values, \"\\n\")\n",
    "eigen_vectors = np.transpose(eigen_vectors)\n",
    "\n",
    "m1 = np.array([[2, 1], [1, 0]])\n",
    "m2 = np.array([[2, -2], [-2, 1]])\n",
    "np.matmul(np.matmul(eigen_vectors, m1), np.transpose(eigen_vectors)) + np.matmul(np.matmul(eigen_vectors, m2), np.transpose(eigen_vectors))"
   ]
  },
  {
   "cell_type": "code",
   "execution_count": 8,
   "id": "5dde0cb3",
   "metadata": {},
   "outputs": [
    {
     "name": "stdout",
     "output_type": "stream",
     "text": [
      "Eigenvector: \n",
      " [[-3.37080684e-03 -7.06999746e-01 -5.95482750e-03 -1.83758696e-03\n",
      "   6.91089647e-03 -7.07114978e-01  5.42439017e-03 -3.51907383e-03]\n",
      " [-3.50408020e-03 -7.06999882e-01 -7.69333080e-03  5.84580731e-04\n",
      "   8.42847584e-03  7.06963425e-01 -1.38137293e-02 -4.49631624e-03]\n",
      " [-2.66840288e-01  7.93065788e-03 -5.35914921e-01  7.80601852e-01\n",
      "   1.75726381e-01 -2.69777854e-03 -3.55658237e-02 -6.11108891e-03]\n",
      " [-2.03309296e-01  7.60321918e-03 -7.80881289e-01 -5.76402193e-01\n",
      "  -1.25183273e-01  4.94466483e-04  2.66147596e-02 -1.45946334e-02]\n",
      " [-4.79467385e-01 -1.16125475e-03  1.50199945e-01 -9.68170916e-02\n",
      "   1.59997023e-01 -1.24333834e-03 -1.43466703e-01  8.31861056e-01]\n",
      " [-4.66291042e-01  1.18652295e-02  1.68708555e-01 -1.82355091e-01\n",
      "   5.03876962e-01 -6.77221877e-03 -4.67714305e-01 -4.98017467e-01]\n",
      " [-4.83862521e-01 -2.30798020e-03  1.68135309e-01 -3.08731732e-02\n",
      "   7.79729578e-02  1.13583138e-02  8.34643476e-01 -1.83876518e-01]\n",
      " [-4.53870799e-01 -5.86202424e-03  1.53729894e-01  1.21809117e-01\n",
      "  -8.17165690e-01 -2.67974807e-03 -2.48671240e-01 -1.60910726e-01]] \n",
      "\n",
      "Eigenvalues: \n",
      " [3.98362116 1.99105478 0.98178995 0.70014024 0.21003852 0.00778102\n",
      " 0.04925685 0.07038147] \n",
      "\n"
     ]
    }
   ],
   "source": []
  },
  {
   "cell_type": "code",
   "execution_count": 43,
   "id": "926a4e27",
   "metadata": {},
   "outputs": [],
   "source": []
  },
  {
   "cell_type": "code",
   "execution_count": 41,
   "id": "65f4d449",
   "metadata": {},
   "outputs": [
    {
     "data": {
      "text/plain": [
       "array([3.98362116, 1.99105478, 0.98178995, 0.70014024, 0.21003852,\n",
       "       0.07038147, 0.04925685])"
      ]
     },
     "execution_count": 41,
     "metadata": {},
     "output_type": "execute_result"
    }
   ],
   "source": [
    "eigen_values[idx]"
   ]
  },
  {
   "cell_type": "code",
   "execution_count": 47,
   "id": "64a30a5e",
   "metadata": {},
   "outputs": [
    {
     "data": {
      "text/plain": [
       "1.0000000000000002"
      ]
     },
     "execution_count": 47,
     "metadata": {},
     "output_type": "execute_result"
    }
   ],
   "source": [
    "s = 0\n",
    "for i in range(len(eigen_vectors[0])):\n",
    "    s += eigen_vectors[0][i] *eigen_vectors[0][i]\n",
    "#     s += eigen_vectors[i][0] *eigen_vectors[i][0]\n",
    "#     s += eigen_vectors[0][i] *eigen_vectors[1][i]\n",
    "s"
   ]
  },
  {
   "cell_type": "code",
   "execution_count": 78,
   "id": "4bc31c32",
   "metadata": {},
   "outputs": [
    {
     "data": {
      "image/png": "[encoded data removed]",
      "text/plain": [
       "<Figure size 432x288 with 2 Axes>"
      ]
     },
     "metadata": {
      "needs_background": "light"
     },
     "output_type": "display_data"
    }
   ],
   "source": [
    "#### import numpy as np\n",
    "import matplotlib.pyplot as plt\n",
    "\n",
    "plt.imshow(eigen_vectors)\n",
    "plt.colorbar()\n",
    "plt.show()"
   ]
  },
  {
   "cell_type": "code",
   "execution_count": 34,
   "id": "fa961285",
   "metadata": {},
   "outputs": [],
   "source": []
  },
  {
   "cell_type": "code",
   "execution_count": 3,
   "id": "26d18380",
   "metadata": {},
   "outputs": [
    {
     "name": "stderr",
     "output_type": "stream",
     "text": [
      "/home/jupyter/arda/arda-datasets/school/datamarket.py:157: SettingWithCopyWarning: \n",
      "A value is trying to be set on a copy of a slice from a DataFrame.\n",
      "Try using .loc[row_indexer,col_indexer] = value instead\n",
      "\n",
      "See the caveats in the documentation: https://pandas.pydata.org/pandas-docs/stable/user_guide/indexing.html#returning-a-view-versus-a-copy\n",
      "  self.data['cov:c'] = 1\n",
      "/home/jupyter/arda/arda-datasets/school/datamarket.py:161: SettingWithCopyWarning: \n",
      "A value is trying to be set on a copy of a slice from a DataFrame.\n",
      "Try using .loc[row_indexer,col_indexer] = value instead\n",
      "\n",
      "See the caveats in the documentation: https://pandas.pydata.org/pandas-docs/stable/user_guide/indexing.html#returning-a-view-versus-a-copy\n",
      "  self.data['cov:Q:' + tablename + \":\" + attributes[i] + \",\"+ tablename + \":\" + attributes[j]] = self.data[attributes[i]] * self.data[attributes[j]]\n",
      "/home/jupyter/arda/arda-datasets/school/datamarket.py:161: PerformanceWarning: DataFrame is highly fragmented.  This is usually the result of calling `frame.insert` many times, which has poor performance.  Consider joining all columns at once using pd.concat(axis=1) instead.  To get a de-fragmented frame, use `newframe = frame.copy()`\n",
      "  self.data['cov:Q:' + tablename + \":\" + attributes[i] + \",\"+ tablename + \":\" + attributes[j]] = self.data[attributes[i]] * self.data[attributes[j]]\n",
      "/opt/conda/lib/python3.7/site-packages/pandas/core/arraylike.py:364: RuntimeWarning: divide by zero encountered in log\n",
      "  result = getattr(ufunc, method)(*inputs, **kwargs)\n"
     ]
    }
   ],
   "source": [
    "# read buyer dataste\n",
    "crime = pd.read_csv(\"crime.csv\")\n",
    "crimedata = agg_dataset()\n",
    "crimedata.load_seller(crime, [\"DBN\"], \"crime\")\n",
    "crimedata.compute_agg(True)\n",
    "\n",
    "esl = pd.read_csv(\"esl.csv\")\n",
    "esldata = agg_dataset()\n",
    "esldata.load_seller(esl, [[\"DBN\",\"Grade\"]], \"esl\")\n",
    "esldata.compute_agg(True)\n",
    "\n",
    "ap = pd.read_csv(\"ap.csv\")\n",
    "apdata = agg_dataset()\n",
    "apdata.load_seller(ap, [\"DBN\"], \"ap\")\n",
    "apdata.compute_agg(True)\n",
    "\n",
    "survey = pd.read_csv(\"2013_NYC_School_Survey.csv\")\n",
    "surveydata = agg_dataset()\n",
    "surveydata.load_seller(survey, [\"DBN\"], \"survey\")\n",
    "surveydata.compute_agg(True)\n",
    "\n",
    "base = pd.read_csv(\"base.csv\")\n",
    "basedata = agg_dataset()\n",
    "basedata.load_seller(base, [\"DBN\"], \"base\")\n",
    "basedata.compute_agg(True)\n",
    "\n",
    "disc = pd.read_csv(\"disc.csv\")\n",
    "discdata = agg_dataset()\n",
    "discdata.load_seller(disc, [\"DBN\"], \"disc\")\n",
    "discdata.compute_agg(True)\n",
    "\n",
    "math = pd.read_csv(\"math.csv\")\n",
    "mathdata = agg_dataset()\n",
    "mathdata.load_seller(math, [[\"DBN\",\"Grade\"]], \"math\")\n",
    "mathdata.compute_agg(True)\n",
    "\n",
    "oss = pd.read_csv(\"oss.csv\")\n",
    "ossdata = agg_dataset()\n",
    "ossdata.load_seller(oss, [\"DBN\"], \"oss\")\n",
    "ossdata.compute_agg(True)\n",
    "\n",
    "pe = pd.read_csv(\"pe.csv\")\n",
    "pedata = agg_dataset()\n",
    "pedata.load_seller(pe, [\"DBN\"], \"pe\")\n",
    "pedata.compute_agg(True)\n",
    "\n",
    "s2tr = pd.read_csv(\"s2tr.csv\")\n",
    "s2trdata = agg_dataset()\n",
    "s2trdata.load_seller(s2tr, [\"DBN\"], \"s2tr\")\n",
    "s2trdata.compute_agg(True)\n",
    "\n",
    "sat = pd.read_csv(\"sat.csv\")\n",
    "satdata = agg_dataset()\n",
    "satdata.load_seller(sat, [\"DBN\"], \"sat\")\n",
    "satdata.compute_agg(True)\n",
    "\n",
    "pro = pd.read_csv(\"Schools_Progress_Report_2012-2013.csv\")\n",
    "prodata = agg_dataset()\n",
    "prodata.load_seller(pro, [\"DBN\"], \"pro\")\n",
    "prodata.compute_agg(True)\n",
    "\n",
    "\n",
    "spy = pd.read_csv(\"spy.csv\")\n",
    "spydata = agg_dataset()\n",
    "spydata.load_seller(spy, [\"Year\"], \"spy\")\n",
    "spydata.compute_agg(True)\n",
    "\n",
    "transfer = pd.read_csv(\"transfer.csv\")\n",
    "transferdata = agg_dataset()\n",
    "transferdata.load_seller(transfer, [\"DBN\"], \"transfer\")\n",
    "transferdata.compute_agg(True)\n",
    "\n",
    "yabc = pd.read_csv(\"yabc.csv\")\n",
    "yabcdata = agg_dataset()\n",
    "yabcdata.load_seller(yabc, [\"DBN\"], \"yabc\")\n",
    "yabcdata.compute_agg(True)\n",
    "\n",
    "dm1 = pd.read_csv(\"other/datamart.socrata.data-cityofnewyork-us.22rr-ujq3\")\n",
    "dm1data = agg_dataset()\n",
    "dm1data.load_seller(dm1, [\"DBN\"], \"dm1\")\n",
    "dm1data.compute_agg(True)\n",
    "\n",
    "dm2 = pd.read_csv(\"other/datamart.socrata.data-cityofnewyork-us.25aa-q86c\")\n",
    "dm2data = agg_dataset()\n",
    "dm2data.load_seller(dm2, [\"DBN\"], \"dm2\")\n",
    "dm2data.compute_agg(True)\n",
    "\n",
    "dm3 = pd.read_csv(\"other/datamart.socrata.data-cityofnewyork-us.29bv-qqsy\")\n",
    "dm3data = agg_dataset()\n",
    "dm3data.load_seller(dm3, [\"DBN\"], \"dm3\")\n",
    "dm3data.compute_agg(True)\n",
    "\n",
    "dm4 = pd.read_csv(\"other/datamart.socrata.data-cityofnewyork-us.29ry-u5bf\")\n",
    "dm4data = agg_dataset()\n",
    "dm4data.load_seller(dm4, [\"DBN\"], \"dm4\")\n",
    "dm4data.compute_agg(True)\n",
    "\n",
    "dm5 = pd.read_csv(\"other/datamart.socrata.data-cityofnewyork-us.43qc-8vv8\")\n",
    "dm5data = agg_dataset()\n",
    "dm5data.load_seller(dm5, [[\"DBN\",\"Grade\"]], \"dm5\")\n",
    "dm5data.compute_agg(True)"
   ]
  },
  {
   "cell_type": "code",
   "execution_count": 5,
   "id": "b490bfca",
   "metadata": {},
   "outputs": [
    {
     "name": "stderr",
     "output_type": "stream",
     "text": [
      "/home/jupyter/arda/arda-datasets/school/datamarket.py:290: FutureWarning: In a future version of pandas all arguments of DataFrame.drop except for the argument 'labels' will be keyword-only\n",
      "  join = join.drop('cov:c_y', 1)\n",
      "/home/jupyter/arda/arda-datasets/school/datamarket.py:317: PerformanceWarning: DataFrame is highly fragmented.  This is usually the result of calling `frame.insert` many times, which has poor performance.  Consider joining all columns at once using pd.concat(axis=1) instead.  To get a de-fragmented frame, use `newframe = frame.copy()`\n",
      "  join['cov:Q:' + att2 + \",\" + att1] = join['cov:s:' + att2] * join['cov:s:' + att1]/join['cov:c']\n"
     ]
    },
    {
     "name": "stdout",
     "output_type": "stream",
     "text": [
      "math ['math:Level 4 %', 'math:cbrLevel 1 %', 'math:logYear', 'math:cbrYear', 'math:cbrNumber Tested'] 0.6217600975927439\n",
      "dm5 ['math:Level 4 %', 'math:cbrLevel 1 %', 'math:logYear', 'math:cbrYear', 'math:cbrNumber Tested', 'dm5:sqNum Level 4', 'dm5:cbrPct Level 3 and 4', 'dm5:Number Tested'] 0.7810190038694833\n",
      "sat ['math:Level 4 %', 'math:cbrLevel 1 %', 'math:logYear', 'math:cbrYear', 'sat:logWriting Mean', 'sat:Mathematics Mean', 'sat:cbrNumber of Test Takers', 'sat:cbrCritical Reading Mean', 'sat:logCritical Reading Mean', 'dm5:cbrPct Level 3 and 4'] 0.7412042773002985\n",
      "ap ['math:Level 4 %', 'math:cbrLevel 1 %', 'math:logYear', 'math:cbrYear', 'ap:sqTotal Exams Taken', 'gender:Number Tested', 'sat:cbrNumber of Test Takers'] 0.7611116405848909\n",
      "yabc ['math:Level 4 %', 'math:cbrLevel 1 %', 'math:logYear', 'math:cbrYear', 'ap:sqTotal Exams Taken', 'gender:Number Tested', 'sat:cbrNumber of Test Takers', 'yabc:sq% Overage', 'yabc:cbrClosing the Achievement Gap Points', 'yabc:Average Math Proficiency'] 0.8805558202924454\n",
      "transfer ['math:Level 4 %', 'math:cbrLevel 1 %', 'math:logYear', 'math:cbrYear', 'ap:sqTotal Exams Taken', 'gender:Number Tested', 'sat:cbrNumber of Test Takers', 'yabc:sq% Overage', 'transfer:logAverage English Proficiency'] 0.8407410937232606\n",
      "CPU times: user 2min 11s, sys: 2.29 s, total: 2min 13s\n",
      "Wall time: 2min 12s\n"
     ]
    }
   ],
   "source": [
    "%%time\n",
    "sellers = [(crimedata, \"DBN\"), (apdata, \"DBN\"), (surveydata, \"DBN\"), \n",
    "           (basedata, \"DBN\"), (discdata, \"DBN\"), (mathdata, (\"DBN\",\"Grade\")), \n",
    "           (ossdata, \"DBN\"), (pedata, \"DBN\"), (s2trdata, \"DBN\"), \n",
    "           (satdata, \"DBN\"), (prodata, \"DBN\"), (spydata, \"Year\"),\n",
    "           (transferdata, \"DBN\"), (yabcdata, \"DBN\"), (dm1data, \"DBN\"),\n",
    "           (dm2data, \"DBN\"), (dm3data, \"DBN\"), (dm4data, \"DBN\"), (dm5data, (\"DBN\",\"Grade\"))]\n",
    "\n",
    "# find m best datasets to augment\n",
    "bought = set()\n",
    "m = 6\n",
    "\n",
    "for i in range(m):\n",
    "    best_seller = None\n",
    "    best_seller_attrs = []\n",
    "    best_dimension = None\n",
    "    best_r2 = 0\n",
    "\n",
    "    for sellerdata, dimension in sellers:\n",
    "        # check if current seller has been bought\n",
    "        if sellerdata.name in bought:\n",
    "            continue\n",
    "\n",
    "        # find the attributes and r2 of augmenting\n",
    "        cur_atts, final_r2 = select_features(gender_train, gender_test, sellerdata, dimension,10)\n",
    "\n",
    "        if final_r2 > best_r2:\n",
    "            best_seller = sellerdata\n",
    "            best_dimension = dimension\n",
    "            best_seller_attrs = cur_atts\n",
    "            best_r2 = final_r2\n",
    "\n",
    "\n",
    "    print(best_seller.name, best_seller_attrs, best_r2)\n",
    "    \n",
    "    # absorb the best seller\n",
    "    gender_train.absorb(best_seller, best_dimension, [x for x in best_seller_attrs if x in best_seller.X])\n",
    "    gender_test.absorb(best_seller, best_dimension, [x for x in best_seller_attrs if x in best_seller.X])\n",
    "    bought.add(best_seller.name)"
   ]
  },
  {
   "cell_type": "code",
   "execution_count": 7,
   "id": "f344bba7",
   "metadata": {},
   "outputs": [
    {
     "data": {
      "text/plain": [
       "['gender:Mean Scale Score',\n",
       " 'gender:Number Tested',\n",
       " 'math:Level 4 %',\n",
       " 'math:cbrLevel 1 %',\n",
       " 'math:logYear',\n",
       " 'math:cbrYear',\n",
       " 'math:cbrNumber Tested',\n",
       " 'dm5:sqNum Level 4',\n",
       " 'dm5:cbrPct Level 3 and 4',\n",
       " 'dm5:Number Tested',\n",
       " 'sat:logWriting Mean',\n",
       " 'sat:Mathematics Mean',\n",
       " 'sat:cbrNumber of Test Takers',\n",
       " 'sat:cbrCritical Reading Mean',\n",
       " 'sat:logCritical Reading Mean',\n",
       " 'ap:sqTotal Exams Taken',\n",
       " 'yabc:sq% Overage',\n",
       " 'yabc:cbrClosing the Achievement Gap Points',\n",
       " 'yabc:Average Math Proficiency',\n",
       " 'transfer:logAverage English Proficiency']"
      ]
     },
     "execution_count": 7,
     "metadata": {},
     "output_type": "execute_result"
    }
   ],
   "source": [
    "gender_train.X"
   ]
  },
  {
   "cell_type": "code",
   "execution_count": null,
   "id": "884f5144",
   "metadata": {},
   "outputs": [],
   "source": []
  }
 ],
 "metadata": {
  "environment": {
   "name": "common-cpu.m79",
   "type": "gcloud",
   "uri": "gcr.io/deeplearning-platform-release/base-cpu:m79"
  },
  "kernelspec": {
   "display_name": "Python 3",
   "language": "python",
   "name": "python3"
  },
  "language_info": {
   "codemirror_mode": {
    "name": "ipython",
    "version": 3
   },
   "file_extension": ".py",
   "mimetype": "text/x-python",
   "name": "python",
   "nbconvert_exporter": "python",
   "pygments_lexer": "ipython3",
   "version": "3.7.10"
  }
 },
 "nbformat": 4,
 "nbformat_minor": 5
}
